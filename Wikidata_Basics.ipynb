{
 "cells": [
  {
   "cell_type": "markdown",
   "id": "66a68c11",
   "metadata": {},
   "source": [
    "## Wikidata \n",
    "\n",
    "Wikidata offers access to many of the facts that are listed on Wikipedia as RDF triplets. In other words, Wikidata presents the contents of Wikipedia as structured data. WikiData’s SPARQL Endpoint can be found at https://query.wikidata.org/sparql  \n",
    "\n",
    "Wikidata does not make use of human-understandable labels. Objects, subjects and predicated are all represented as numeric codes, following either the letter ‘P’ or ‘W’. Named entities such as people, places, organizations and works of art have mostly been assigned a code starting with the letter ‘Q’. The properties all start with a ‘P’.  \n",
    "\n",
    "You can see an example below.  "
   ]
  },
  {
   "cell_type": "code",
   "execution_count": null,
   "id": "7d968746",
   "metadata": {},
   "outputs": [],
   "source": [
    "SELECT ?work  \n",
    "\n",
    "WHERE {  \n",
    "?work wdt:P170 wd:Q151803 . \n",
    "} "
   ]
  },
  {
   "cell_type": "markdown",
   "id": "4e20546b",
   "metadata": {},
   "source": [
    "The property wdt:P170 was created to describe a “maker of this creative work or other object”. wd:Q151803 is the identifier that was assigned to Piet Mondriaan. The query shown in this example requests all the works of art created by the painter Piet Mondriaan. As you can see, the subject is represented as a variable named ?work.  \n",
    "\n",
    "When you run the code in Wikidata’s SPARQL endpoint, the result will initially consist of numbers only, so this may look slightly disappointing. The identifiers, consisting of random codes, are not highly informative in themselves. Wikidata offers a useful service, however, which you can use to generate human-readable labels for the codes assigned by Wikidata.  \n",
    "\n",
    "First, you need to add the following line to the query.  \n",
    "\n",
    " "
   ]
  },
  {
   "cell_type": "code",
   "execution_count": null,
   "id": "27d94e36",
   "metadata": {},
   "outputs": [],
   "source": [
    "SERVICE wikibase:label { bd:serviceParam wikibase:language \"en\" . } "
   ]
  },
  {
   "cell_type": "markdown",
   "id": "d0db4330",
   "metadata": {},
   "source": [
    "After wikibase:language, you can specify the language of the label. Next to “en”, which stands for English, you can also request labels in Dutch (“nl”), German (‘de”’) or French (“fr”). \n",
    "\n",
    "Once you have added this specific SERVICE clause, Wikidata creates a second version of all the variables you specify in the WHERE section of the query. The name of this second version of the query will be the name you assigned yourself, with the suffix ‘Label’ as an addition. If you created a variable named ?place, for example, the Wikibase Label service will create a ?placeLabel variable. This variable will contain a textual label associated with the Wikidata identifier.  \n",
    "\n",
    " "
   ]
  },
  {
   "cell_type": "code",
   "execution_count": null,
   "id": "f8442633",
   "metadata": {},
   "outputs": [],
   "source": [
    "SELECT ?work  ?workLabel \n",
    "\n",
    "WHERE  \n",
    "{   \n",
    "?work wdt:P170 wd:Q151803 .  \n",
    "SERVICE wikibase:label { bd:serviceParam wikibase:language \"en\" . }  \n",
    "} "
   ]
  },
  {
   "cell_type": "markdown",
   "id": "7106b3ce",
   "metadata": {},
   "source": [
    "## Wiki query services \n",
    "\n",
    "Since 2015, Wikidata has provided services that can help you build SPARQL queries. One service is called the **query builder**. It can be accessed via https://query.wikidata.org/querybuilder/. This tool offers a visual interface that can be used to build simple SPARQL queries. Although this service is limited in making SPARQL queries, it can be helpful if you do not have a lot of experience yet with building SPARQL queries. \n",
    "\n",
    "Another service offered by WikiData is the **query service** accessible via https://query.wikidata.org/. The Wikidata Query Service offers opportunities for building SPARQL queries and downloading the requested data in various file formats (including JSON and CSV). It is also possible to view the data in different data visualizations, like a table, a bar chart or a timeline.  \n",
    "\n",
    "\n",
    "# Exercises\n",
    " \n",
    "## Exercise 3.1.\n",
    "\n",
    "Use the [WikiData Query Builder](https://query.wikidata.org/querybuilder/) to find artworks made by Leonardo da Vinci created after 1495. \n",
    "\n",
    "Tip: Type in 'Creator' under property, and 'Leonardo da Vinci' under 'value'. Next, click on \"Add condition\". In a new condition type in \"inception\" under property and '1495' under 'value'. Next, run the query.  \n",
    "\n",
    "\n",
    "## Exercise 3.2.\n",
    " \n",
    "If you cannot manage to build the query using the [WikiData Query Builder](https://query.wikidata.org/querybuilder/), you can open the [Query Service](https://query.wikidata.org/) and copy and paste [the query below](https://query.wikidata.org/#SELECT%20%3Fwork%20%3Fdate%20%3FworkLabel%20%0A%0AWHERE%20%20%0A%7B%20%20%20%0A%3Fwork%20wdt%3AP170%20wd%3AQ762%20.%20%20%0A%3Fwork%20wdt%3AP571%20%3Fdate%20%0AFILTER%28%3Fdate%20%3E%3D%20%22%2B1496-00-00T00%3A00%3A00Z%22%5E%5Exsd%3AdateTime%29%0ASERVICE%20wikibase%3Alabel%20%7B%20bd%3AserviceParam%20wikibase%3Alanguage%20%22en%22%20.%20%7D%20%20%0A%7D%20) in the central text field. "
   ]
  },
  {
   "cell_type": "code",
   "execution_count": null,
   "id": "8f0f96be",
   "metadata": {},
   "outputs": [],
   "source": [
    "SELECT ?work ?date ?workLabel \n",
    "\n",
    "WHERE  \n",
    "{   \n",
    "?work wdt:P170 wd:Q762 .  \n",
    "?work wdt:P571 ?date \n",
    "FILTER(?date >= \"+1496-00-00T00:00:00Z\"^^xsd:dateTime)\n",
    "SERVICE wikibase:label { bd:serviceParam wikibase:language \"en\" . }  \n",
    "} "
   ]
  },
  {
   "cell_type": "markdown",
   "id": "0eff7acf",
   "metadata": {},
   "source": [
    "Next, try to artist in this query to Michelangelo, who is identified on Wikidata as `'wd:Q5592'`, and also try to change the year into 1505. \n",
    "\n",
    "Finally, find the \"Download\" button at the top right of the results screen and download the results of the query as a CSV file.\n",
    "\n",
    "This new query should have the following form.  "
   ]
  },
  {
   "cell_type": "code",
   "execution_count": null,
   "id": "1540b7da",
   "metadata": {},
   "outputs": [],
   "source": [
    "SELECT DISTINCT ?work ?date ?workLabel \n",
    "\n",
    "WHERE  \n",
    "{   \n",
    "?work wdt:P170 wd:Q5592 .  \n",
    "?work wdt:P571 ?date \n",
    "FILTER(?date >= \"+1505-00-00T00:00:00Z\"^^xsd:dateTime)\n",
    "LIMIT 1000\n",
    "SERVICE wikibase:label { bd:serviceParam wikibase:language \"en\" . }  \n",
    "} "
   ]
  }
 ],
 "metadata": {
  "kernelspec": {
   "display_name": "SPARQL",
   "language": "sparql",
   "name": "sparql"
  },
  "language_info": {
   "codemirror_mode": {
    "name": "sparql"
   },
   "mimetype": "application/sparql-query",
   "name": "sparql",
   "pygments_lexer": "sparql-nb"
  }
 },
 "nbformat": 4,
 "nbformat_minor": 5
}
