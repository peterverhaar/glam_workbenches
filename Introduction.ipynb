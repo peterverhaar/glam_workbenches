{
 "cells": [
  {
   "cell_type": "markdown",
   "id": "c3245b77",
   "metadata": {},
   "source": [
    "# Introduction\n",
    "\n",
    "This part of the course will explain how you can interact with the LOD made available by a number of institutions, including Europeana, WikiData and the RKD. The lessons in this section discuss SPARQL queries that can help you to extract relevant data from these collections. \n",
    "\n",
    "Underneath each query, you will find a link to an API which was created using the CLARIAH tool [grlc](https://github.com/CLARIAH/grlc) so that you can see what type of data is returned. \n"
   ]
  },
  {
   "cell_type": "markdown",
   "id": "64aa9667",
   "metadata": {},
   "source": [
    "# Jupyter Notebooks\n",
    "\n",
    "If you want to edit the SPARQL queries, you are advised to [install Jupyter Notebook](https://jupyter.org/install) and to download all the notebooks that have been developed for this course from the following URL:\n",
    "\n",
    "https://github.com/peterverhaar/network-cultural-heritage/archive/refs/heads/main.zip\n",
    "\n",
    "# Binder\n",
    "\n",
    "Alternatively, you can also work with these notebooks online, by making use of Binderr. To do this, open the URL below (or click on 'Launch Binder').\n",
    "\n",
    "<div align=\"center\">\n",
    "\n",
    "[https://mybinder.org/v2/gh/peterverhaar/network-cultural-heritage/main](https://mybinder.org/v2/gh/peterverhaar/network-cultural-heritage/main)\n",
    "\n",
    "</div>\n",
    "\n",
    "\n",
    "\n",
    "[![Binder](https://mybinder.org/badge_logo.svg)](https://mybinder.org/v2/gh/peterverhaar/network-cultural-heritage/main)"
   ]
  },
  {
   "cell_type": "markdown",
   "id": "41012647",
   "metadata": {},
   "source": [
    "The very first time you open this link, the site may take some time to load. The workbenches are published via [mybinder.org](mybinder.org), and this environment needs to build a new computational environment containing everything that is needed to run the Notebook."
   ]
  },
  {
   "cell_type": "markdown",
   "id": "af05a09f",
   "metadata": {},
   "source": [
    "The link will open a number of workbenches in an online application named Jupyter Lab. You can open one of the files in the menu on the left.\n",
    "\n",
    "- You can run all of the code by choosing \"Run\" > \"Run all cells\" from the menu at the top. \n",
    "- You can also run individual cells by placing your cursor in one of the cells and by choosing [Shift] + [Enter] or by clicking on the 'Run the selected cells' icon (i.e. the small triangular button )"
   ]
  },
  {
   "cell_type": "markdown",
   "id": "fde0e7ac",
   "metadata": {},
   "source": [
    "## Funding\n",
    "\n",
    "The research for this tutorial was made possible by the CLARIAH-PLUS project financed by NWO (Grant 184.034.023)"
   ]
  },
  {
   "cell_type": "code",
   "execution_count": null,
   "id": "5d543dee",
   "metadata": {},
   "outputs": [],
   "source": []
  }
 ],
 "metadata": {
  "kernelspec": {
   "display_name": "Python 3 (ipykernel)",
   "language": "python",
   "name": "python3"
  },
  "language_info": {
   "codemirror_mode": {
    "name": "ipython",
    "version": 3
   },
   "file_extension": ".py",
   "mimetype": "text/x-python",
   "name": "python",
   "nbconvert_exporter": "python",
   "pygments_lexer": "ipython3",
   "version": "3.7.9"
  }
 },
 "nbformat": 4,
 "nbformat_minor": 5
}
