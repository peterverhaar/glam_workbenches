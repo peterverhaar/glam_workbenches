{
 "cells": [
  {
   "cell_type": "markdown",
   "metadata": {},
   "source": [
    "# RKD Artists"
   ]
  },
  {
   "cell_type": "markdown",
   "metadata": {},
   "source": [
    "## Number of female artists"
   ]
  },
  {
   "cell_type": "markdown",
   "metadata": {},
   "source": [
    "The cell below firstly defined a number of functions that can be used to run SPAQRL queries and to analyse the results in Python. "
   ]
  },
  {
   "cell_type": "code",
   "execution_count": 1,
   "metadata": {},
   "outputs": [],
   "source": [
    "from SPARQLWrapper import SPARQLWrapper, JSON\n",
    "from IPython.core.display import display, HTML\n",
    "import pandas as pd\n",
    "import re\n",
    "from IPython.core.display import display, HTML\n",
    "\n",
    "import ssl\n",
    "\n",
    "try:\n",
    "    _create_unverified_https_context = ssl._create_unverified_context\n",
    "except AttributeError:\n",
    "    pass\n",
    "else:\n",
    "    ssl._create_default_https_context = _create_unverified_https_context\n",
    "\n",
    "endpoint = 'https://api.data.netwerkdigitaalerfgoed.nl/datasets/rkd/rkdartists/services/rkdartists-jena/sparql'\n",
    "sparql = SPARQLWrapper(endpoint)\n",
    "\n",
    "def run_query(sparql_query):\n",
    "    sparql.setQuery(sparql_query)\n",
    "    sparql.setReturnFormat(JSON)\n",
    "    data = sparql.query().convert()\n",
    "    df = pd.json_normalize(data['results']['bindings'])  \n",
    "    return df\n",
    "\n",
    "def print_results(df):\n",
    "    for i,row in df.iterrows():\n",
    "        for column in df.columns:\n",
    "            if re.search('value$' , column):\n",
    "                print( f'{column} => {row[column]}' )\n",
    "        print('-------')"
   ]
  },
  {
   "cell_type": "code",
   "execution_count": 2,
   "metadata": {},
   "outputs": [],
   "source": [
    "query = \"\"\"\n",
    "PREFIX rdf: <http://www.w3.org/1999/02/22-rdf-syntax-ns#>\n",
    "PREFIX rdfs: <http://www.w3.org/2000/01/rdf-schema#>\n",
    "PREFIX rkdo: <http://data.rkd.nl/def#>\n",
    "PREFIX schema: <http://schema.org/>\n",
    "PREFIX xsd: <http://www.w3.org/2001/XMLSchema#>\n",
    "\n",
    "SELECT DISTINCT ?id\n",
    "\n",
    "WHERE {\n",
    "?id a schema:Person .\n",
    "}\n",
    "\"\"\"\n",
    "\n",
    "df = run_query(query)"
   ]
  },
  {
   "cell_type": "markdown",
   "metadata": {},
   "source": [
    "The RKD database contains descriptions of more than 220,000 people. "
   ]
  },
  {
   "cell_type": "code",
   "execution_count": 4,
   "metadata": {},
   "outputs": [
    {
     "name": "stdout",
     "output_type": "stream",
     "text": [
      "220793\n"
     ]
    }
   ],
   "source": [
    "print( df.shape[0] )"
   ]
  },
  {
   "cell_type": "markdown",
   "metadata": {},
   "source": [
    "The RKD Sparql endpoint offers access to an impressive amount of information about artists. The query below requests information about the painter Piet Mondriaan. "
   ]
  },
  {
   "cell_type": "code",
   "execution_count": 5,
   "metadata": {},
   "outputs": [],
   "source": [
    "from SPARQLWrapper import SPARQLWrapper, JSON\n",
    "\n",
    "endpoint = 'https://api.data.netwerkdigitaalerfgoed.nl/datasets/rkd/rkdartists/services/rkdartists-jena/sparql'\n",
    "query = \"\"\"\n",
    "PREFIX rdf: <http://www.w3.org/1999/02/22-rdf-syntax-ns#>\n",
    "PREFIX rdfs: <http://www.w3.org/2000/01/rdf-schema#>\n",
    "PREFIX rkdo: <http://data.rkd.nl/def#>\n",
    "PREFIX schema: <http://schema.org/>\n",
    "prefix wd: <http://www.wikidata.org/entity/>\n",
    "prefix wdt: <http://www.wikidata.org/prop/direct/>\n",
    "\n",
    "SELECT ?name ?gender ?nationality ?id ?add ?alternate ?pob ?birth_date \n",
    "?pod ?death_date ?edu_name  ?title ?image ?event ?event_desc ?event_location ?event_lat  ?event_long  ?event_date \n",
    "\n",
    "WHERE {\n",
    "\n",
    "?artist schema:identifier '56854' .\n",
    "?artist schema:name ?name .\n",
    "OPTIONAL { ?artist schema:gender ?gender . } .\n",
    "OPTIONAL { ?artist schema:nationality ?nationality . } .\n",
    "OPTIONAL { ?artist schema:identifier ?id . } .\n",
    "OPTIONAL { ?artist schema:additionalType ?add . } .\n",
    "OPTIONAL { ?artist schema:alternateName ?alternate . } .\n",
    "\n",
    "?artist rkdo:Birth ?birth .\n",
    "OPTIONAL { ?birth schema:location ?pob . } .\n",
    "OPTIONAL { ?birth schema:startDate ?birth_date  . } .\n",
    "\n",
    "  \n",
    "?artist rkdo:Death ?death .\n",
    "OPTIONAL { ?death schema:location ?pod . } .\n",
    "OPTIONAL { ?death schema:startDate ?death_date . } .\n",
    "  \n",
    "?artist rkdo:Education ?edu .\n",
    "OPTIONAL { ?edu schema:name ?edu_name. } .\n",
    "  \n",
    "?artist schema:event ?event.\n",
    "OPTIONAL { ?event schema:description ?event_desc . } .\n",
    "OPTIONAL { ?event schema:location ?event_location . } .\n",
    "OPTIONAL { ?event schema:latitude ?event_lat . } .\n",
    "OPTIONAL { ?event schema:longitude ?event_long . } .\n",
    "OPTIONAL { ?event schema:startDate ?event_date .} .\n",
    "\n",
    "service <https://query.wikidata.org/bigdata/namespace/wdq/sparql> {\n",
    "\n",
    "?work wdt:P31 wd:Q3305213;\n",
    "    wdt:P170 wd:Q151803;\n",
    "    wdt:P18 ?image;\n",
    "    wdt:P1476 ?title;\n",
    "}\n",
    "  \n",
    "FILTER (lang(?name) = 'nl')\n",
    "}\n",
    "\n",
    "\"\"\"\n",
    "\n",
    "df = run_query(query)\n"
   ]
  },
  {
   "cell_type": "code",
   "execution_count": 6,
   "metadata": {},
   "outputs": [
    {
     "name": "stdout",
     "output_type": "stream",
     "text": [
      "Name: Mondriaan, Piet\n",
      "https://rkd.nl/nl/explore/artists/56854\n",
      "\n",
      "Gender: Male\n",
      "Date of birth: 1872-03-07\n",
      "Date of death: 1944-02-01\n",
      "\n",
      "Alternative names:\n",
      "Mondrian, Piet\n",
      "Mondriaan, Pieter Cornelis\n",
      "\n",
      "Education:\n",
      "Rijksakademie van beeldende kunsten (Amsterdam)\n",
      "\n",
      "Events:\n",
      "1908\n",
      "nan \n",
      "1909\n",
      "also West-Kapelle \n",
      "1911\n",
      "visits Paris for ten days in mid-June (Bois 1994) \n",
      "1912-03\n",
      "lives at avenue du Maine 33 (Bois 1994) \n",
      "1912-05\n",
      "lives at rue du Départ 26 (Bois 1994) \n",
      "1919-06-22\n",
      "due to finding his old studio at 26 rue du Départ occupied by Tour Dones, moves into the vacant studio Kickert had occupied briefly in 1912 in the same building (Bois 1994) \n",
      "1919-11-01\n",
      "moves to a new studio at rue de Coulmiers 5 (Bois 1994) \n",
      "1921-10-22\n",
      "returns to rue du Départ, where he occupies the larger studio of the Stieltjes (Bois 1994) \n",
      "1936-03-20\n",
      "moves into new quarters in the studio building at boulevard Raspail 278 (Bois 1994) \n",
      "\n",
      "Works:\n",
      "Composition C\n",
      "\n"
     ]
    },
    {
     "data": {
      "text/html": [
       "<img src=\"http://commons.wikimedia.org/wiki/Special:FilePath/Composition%20C%20by%20Piet%20Mondrian%20Museum%20of%20Modern%20Art%20257.1948.jpg\" style=\"width: 200px; \" />"
      ],
      "text/plain": [
       "<IPython.core.display.HTML object>"
      ]
     },
     "metadata": {},
     "output_type": "display_data"
    },
    {
     "name": "stdout",
     "output_type": "stream",
     "text": [
      "Composition with red, blue, black, yellow and gray\n",
      "\n"
     ]
    },
    {
     "data": {
      "text/html": [
       "<img src=\"http://commons.wikimedia.org/wiki/Special:FilePath/Piet%20Mondriaan%20-%20Composition%20with%20red%2C%20blue%2C%20black%2C%20yellow%20and%20gray%20-%20154.1957%20-%20Museum%20of%20Modern%20Art.jpg\" style=\"width: 200px; \" />"
      ],
      "text/plain": [
       "<IPython.core.display.HTML object>"
      ]
     },
     "metadata": {},
     "output_type": "display_data"
    },
    {
     "name": "stdout",
     "output_type": "stream",
     "text": [
      "Tableau I\n",
      "\n"
     ]
    },
    {
     "data": {
      "text/html": [
       "<img src=\"http://commons.wikimedia.org/wiki/Special:FilePath/Piet%20Mondriaan%20-%20Tableau%20I%20-%20179.1953%20-%20Museum%20of%20Modern%20Art.jpg\" style=\"width: 200px; \" />"
      ],
      "text/plain": [
       "<IPython.core.display.HTML object>"
      ]
     },
     "metadata": {},
     "output_type": "display_data"
    },
    {
     "name": "stdout",
     "output_type": "stream",
     "text": [
      "Trafalgar Square\n",
      "\n"
     ]
    },
    {
     "data": {
      "text/html": [
       "<img src=\"http://commons.wikimedia.org/wiki/Special:FilePath/Mondrian%20-%20Trafalgar%20Square%2C%201939-43.jpg\" style=\"width: 200px; \" />"
      ],
      "text/plain": [
       "<IPython.core.display.HTML object>"
      ]
     },
     "metadata": {},
     "output_type": "display_data"
    },
    {
     "name": "stdout",
     "output_type": "stream",
     "text": [
      "Windmill with Summerhouse II\n",
      "\n"
     ]
    },
    {
     "data": {
      "text/html": [
       "<img src=\"http://commons.wikimedia.org/wiki/Special:FilePath/Windmill%20with%20Summerhouse%20II%2C%20Piet%20Mondriaan.jpg\" style=\"width: 200px; \" />"
      ],
      "text/plain": [
       "<IPython.core.display.HTML object>"
      ]
     },
     "metadata": {},
     "output_type": "display_data"
    },
    {
     "name": "stdout",
     "output_type": "stream",
     "text": [
      "Composition with color planes 2\n",
      "\n"
     ]
    },
    {
     "data": {
      "text/html": [
       "<img src=\"http://commons.wikimedia.org/wiki/Special:FilePath/Composition%20with%20Color%20Fields%20by%20Piet%20Mondrian.jpg\" style=\"width: 200px; \" />"
      ],
      "text/plain": [
       "<IPython.core.display.HTML object>"
      ]
     },
     "metadata": {},
     "output_type": "display_data"
    },
    {
     "name": "stdout",
     "output_type": "stream",
     "text": [
      "Grazende kalfjes\n",
      "\n"
     ]
    },
    {
     "data": {
      "text/html": [
       "<img src=\"http://commons.wikimedia.org/wiki/Special:FilePath/Mondriaan%20-%20grazende%20kalfjes.jpg\" style=\"width: 200px; \" />"
      ],
      "text/plain": [
       "<IPython.core.display.HTML object>"
      ]
     },
     "metadata": {},
     "output_type": "display_data"
    },
    {
     "name": "stdout",
     "output_type": "stream",
     "text": [
      "Zomernacht\n",
      "\n"
     ]
    },
    {
     "data": {
      "text/html": [
       "<img src=\"http://commons.wikimedia.org/wiki/Special:FilePath/Landscape%20by%20Night%20by%20Piet%20Mondrian.jpg\" style=\"width: 200px; \" />"
      ],
      "text/plain": [
       "<IPython.core.display.HTML object>"
      ]
     },
     "metadata": {},
     "output_type": "display_data"
    },
    {
     "name": "stdout",
     "output_type": "stream",
     "text": [
      "Oostzijdse molen in maanlicht\n",
      "\n"
     ]
    },
    {
     "data": {
      "text/html": [
       "<img src=\"http://commons.wikimedia.org/wiki/Special:FilePath/Piet%20Mondriaan%20-%20Moulin%202.jpg\" style=\"width: 200px; \" />"
      ],
      "text/plain": [
       "<IPython.core.display.HTML object>"
      ]
     },
     "metadata": {},
     "output_type": "display_data"
    },
    {
     "name": "stdout",
     "output_type": "stream",
     "text": [
      "Composition\n",
      "\n"
     ]
    },
    {
     "data": {
      "text/html": [
       "<img src=\"http://commons.wikimedia.org/wiki/Special:FilePath/Composition%20MET%20DT4479.jpg\" style=\"width: 200px; \" />"
      ],
      "text/plain": [
       "<IPython.core.display.HTML object>"
      ]
     },
     "metadata": {},
     "output_type": "display_data"
    },
    {
     "name": "stdout",
     "output_type": "stream",
     "text": [
      "Tableau No. IV; Lozenge Composition with Red, Gray, Blue, Yellow, and Black\n",
      "\n"
     ]
    },
    {
     "data": {
      "text/html": [
       "<img src=\"http://commons.wikimedia.org/wiki/Special:FilePath/Tableay%20no%2C%20iv%3B%20lozenge%20composition.png\" style=\"width: 200px; \" />"
      ],
      "text/plain": [
       "<IPython.core.display.HTML object>"
      ]
     },
     "metadata": {},
     "output_type": "display_data"
    },
    {
     "name": "stdout",
     "output_type": "stream",
     "text": [
      "Farm near Duivendrecht\n",
      "\n"
     ]
    },
    {
     "data": {
      "text/html": [
       "<img src=\"http://commons.wikimedia.org/wiki/Special:FilePath/Piet%20Mondrian%20-%20Farm%20near%20Duivendrecht%20-%202001.479%20-%20Art%20Institute%20of%20Chicago.jpg\" style=\"width: 200px; \" />"
      ],
      "text/plain": [
       "<IPython.core.display.HTML object>"
      ]
     },
     "metadata": {},
     "output_type": "display_data"
    },
    {
     "name": "stdout",
     "output_type": "stream",
     "text": [
      "Composition (No. 1) Gray-Red\n",
      "\n"
     ]
    },
    {
     "data": {
      "text/html": [
       "<img src=\"http://commons.wikimedia.org/wiki/Special:FilePath/Mondrian%2C%20Compositie%20met%20rood%20en%20grijs.jpg\" style=\"width: 200px; \" />"
      ],
      "text/plain": [
       "<IPython.core.display.HTML object>"
      ]
     },
     "metadata": {},
     "output_type": "display_data"
    },
    {
     "name": "stdout",
     "output_type": "stream",
     "text": [
      "Composition with Blue, Yellow, and Red\n",
      "\n"
     ]
    },
    {
     "data": {
      "text/html": [
       "<img src=\"http://commons.wikimedia.org/wiki/Special:FilePath/Mondrian%20-%20Composition%20with%20Blue%2C%20Yellow%2C%20and%20Red%2C%201927.jpg\" style=\"width: 200px; \" />"
      ],
      "text/plain": [
       "<IPython.core.display.HTML object>"
      ]
     },
     "metadata": {},
     "output_type": "display_data"
    },
    {
     "name": "stdout",
     "output_type": "stream",
     "text": [
      "Schilderij No. 1\n",
      "\n"
     ]
    },
    {
     "data": {
      "text/html": [
       "<img src=\"http://commons.wikimedia.org/wiki/Special:FilePath/Mondrian%20-%20Composition%20with%20Blue%2C%201926.jpg\" style=\"width: 200px; \" />"
      ],
      "text/plain": [
       "<IPython.core.display.HTML object>"
      ]
     },
     "metadata": {},
     "output_type": "display_data"
    },
    {
     "name": "stdout",
     "output_type": "stream",
     "text": [
      "Composition - blanc, rouge et jaune: A\n",
      "\n"
     ]
    },
    {
     "data": {
      "text/html": [
       "<img src=\"http://commons.wikimedia.org/wiki/Special:FilePath/Mondrian%20-%20Composition%20in%20White%2C%20Red%2C%20and%20Yellow%2C%201936.jpg\" style=\"width: 200px; \" />"
      ],
      "text/plain": [
       "<IPython.core.display.HTML object>"
      ]
     },
     "metadata": {},
     "output_type": "display_data"
    },
    {
     "name": "stdout",
     "output_type": "stream",
     "text": [
      "Composition with Blue, Red, Yellow, and Black\n",
      "\n"
     ]
    },
    {
     "data": {
      "text/html": [
       "<img src=\"http://commons.wikimedia.org/wiki/Special:FilePath/Piet%20Mondrian%20-%20Composition%20with%20Blue%2C%20Red%2C%20Yellow%2C%20and%20Black%20-%2065.5%20-%20Minneapolis%20Institute%20of%20Arts.jpg\" style=\"width: 200px; \" />"
      ],
      "text/plain": [
       "<IPython.core.display.HTML object>"
      ]
     },
     "metadata": {},
     "output_type": "display_data"
    },
    {
     "name": "stdout",
     "output_type": "stream",
     "text": [
      "Composition with Blue and Red\n",
      "\n"
     ]
    },
    {
     "data": {
      "text/html": [
       "<img src=\"http://commons.wikimedia.org/wiki/Special:FilePath/Piet%20Mondrian%20-%20Composition%20with%20Blue%20and%20Red%20-%2075.83%20-%20Minneapolis%20Institute%20of%20Arts.jpg\" style=\"width: 200px; \" />"
      ],
      "text/plain": [
       "<IPython.core.display.HTML object>"
      ]
     },
     "metadata": {},
     "output_type": "display_data"
    },
    {
     "name": "stdout",
     "output_type": "stream",
     "text": [
      "Red Gladioli\n",
      "\n"
     ]
    },
    {
     "data": {
      "text/html": [
       "<img src=\"http://commons.wikimedia.org/wiki/Special:FilePath/Piet%20Mondrian%20-%20Red%20Gladioli%20-%2091.148.4%20-%20Minneapolis%20Institute%20of%20Arts.jpg\" style=\"width: 200px; \" />"
      ],
      "text/plain": [
       "<IPython.core.display.HTML object>"
      ]
     },
     "metadata": {},
     "output_type": "display_data"
    },
    {
     "name": "stdout",
     "output_type": "stream",
     "text": [
      "Irises\n",
      "\n"
     ]
    },
    {
     "data": {
      "text/html": [
       "<img src=\"http://commons.wikimedia.org/wiki/Special:FilePath/Piet%20Mondrian%20-%20Irises%20-%2092.85.3%20-%20Minneapolis%20Institute%20of%20Arts.jpg\" style=\"width: 200px; \" />"
      ],
      "text/plain": [
       "<IPython.core.display.HTML object>"
      ]
     },
     "metadata": {},
     "output_type": "display_data"
    },
    {
     "name": "stdout",
     "output_type": "stream",
     "text": [
      "Geschoten haas\n",
      "\n"
     ]
    },
    {
     "data": {
      "text/html": [
       "<img src=\"http://commons.wikimedia.org/wiki/Special:FilePath/Dead%20Hare%20by%20Piet%20Mondrian.jpg\" style=\"width: 200px; \" />"
      ],
      "text/plain": [
       "<IPython.core.display.HTML object>"
      ]
     },
     "metadata": {},
     "output_type": "display_data"
    },
    {
     "name": "stdout",
     "output_type": "stream",
     "text": [
      "Composition no.XIII (authentic)\n",
      "\n"
     ]
    },
    {
     "data": {
      "text/html": [
       "<img src=\"http://commons.wikimedia.org/wiki/Special:FilePath/Composition%20No%20XIII%20-%20Composition%202%2C%20Piet%20Mondrian%2C%201913.jpg\" style=\"width: 200px; \" />"
      ],
      "text/plain": [
       "<IPython.core.display.HTML object>"
      ]
     },
     "metadata": {},
     "output_type": "display_data"
    },
    {
     "name": "stdout",
     "output_type": "stream",
     "text": [
      "Composition en couleurs\n",
      "\n"
     ]
    },
    {
     "data": {
      "text/html": [
       "<img src=\"http://commons.wikimedia.org/wiki/Special:FilePath/Mondrian%20-%20Composition%20in%20Colours%20Composition%20No.%20I%20with%20Red%20and%20Blue%2C%201931.jpg\" style=\"width: 200px; \" />"
      ],
      "text/plain": [
       "<IPython.core.display.HTML object>"
      ]
     },
     "metadata": {},
     "output_type": "display_data"
    },
    {
     "name": "stdout",
     "output_type": "stream",
     "text": [
      "Three chrysanthemum blossoms\n",
      "\n"
     ]
    },
    {
     "data": {
      "text/html": [
       "<img src=\"http://commons.wikimedia.org/wiki/Special:FilePath/Piet%20Mondriaan%20-%20Three%20chrysanthemum%20blossoms%20-%20A107%20-%20Piet%20Mondrian%2C%20catalogue%20raisonn%C3%A9.jpg\" style=\"width: 200px; \" />"
      ],
      "text/plain": [
       "<IPython.core.display.HTML object>"
      ]
     },
     "metadata": {},
     "output_type": "display_data"
    },
    {
     "name": "stdout",
     "output_type": "stream",
     "text": [
      "Portrait of Egbert Kuipers (1828-1892)\n",
      "\n"
     ]
    },
    {
     "data": {
      "text/html": [
       "<img src=\"http://commons.wikimedia.org/wiki/Special:FilePath/Piet%20Mondriaan%20-%20Portret%20van%20Egbert%20Kuipers%20%281828-1892%29%20-%20A113%20-%20Piet%20Mondrian%2C%20catalogue%20raisonn%C3%A9.jpg\" style=\"width: 200px; \" />"
      ],
      "text/plain": [
       "<IPython.core.display.HTML object>"
      ]
     },
     "metadata": {},
     "output_type": "display_data"
    },
    {
     "name": "stdout",
     "output_type": "stream",
     "text": [
      "Portret van Egbert Kuipers (1828-1892)\n",
      "\n"
     ]
    },
    {
     "data": {
      "text/html": [
       "<img src=\"http://commons.wikimedia.org/wiki/Special:FilePath/Piet%20Mondriaan%20-%20Portret%20van%20Egbert%20Kuipers%20%281828-1892%29%20-%20A113%20-%20Piet%20Mondrian%2C%20catalogue%20raisonn%C3%A9.jpg\" style=\"width: 200px; \" />"
      ],
      "text/plain": [
       "<IPython.core.display.HTML object>"
      ]
     },
     "metadata": {},
     "output_type": "display_data"
    },
    {
     "name": "stdout",
     "output_type": "stream",
     "text": [
      "Portrait of Egbert Kuipers (1828-1892) and Jantje Wiegersma (1828-...)\n",
      "\n"
     ]
    },
    {
     "data": {
      "text/html": [
       "<img src=\"http://commons.wikimedia.org/wiki/Special:FilePath/Piet%20Mondriaan%20-%20Portret%20van%20Egbert%20Kuipers%20%281828-1892%29%20en%20Jantje%20Wiegersma%20%281828...%29%20-%20A114%20-%20Piet%20Mondrian%2C%20catalogue%20raisonn%C3%A9.jpg\" style=\"width: 200px; \" />"
      ],
      "text/plain": [
       "<IPython.core.display.HTML object>"
      ]
     },
     "metadata": {},
     "output_type": "display_data"
    },
    {
     "name": "stdout",
     "output_type": "stream",
     "text": [
      "Portret van Egbert Kuipers (1828-1892) en Jantje Wiegersma (1828-...)\n",
      "\n"
     ]
    },
    {
     "data": {
      "text/html": [
       "<img src=\"http://commons.wikimedia.org/wiki/Special:FilePath/Piet%20Mondriaan%20-%20Portret%20van%20Egbert%20Kuipers%20%281828-1892%29%20en%20Jantje%20Wiegersma%20%281828...%29%20-%20A114%20-%20Piet%20Mondrian%2C%20catalogue%20raisonn%C3%A9.jpg\" style=\"width: 200px; \" />"
      ],
      "text/plain": [
       "<IPython.core.display.HTML object>"
      ]
     },
     "metadata": {},
     "output_type": "display_data"
    },
    {
     "name": "stdout",
     "output_type": "stream",
     "text": [
      "Female head in profile\n",
      "\n"
     ]
    },
    {
     "data": {
      "text/html": [
       "<img src=\"http://commons.wikimedia.org/wiki/Special:FilePath/Piet%20Mondriaan%20-%20Female%20head%20in%20profile%20-%20A128%20-%20Piet%20Mondrian%2C%20catalogue%20raisonn%C3%A9.jpg\" style=\"width: 200px; \" />"
      ],
      "text/plain": [
       "<IPython.core.display.HTML object>"
      ]
     },
     "metadata": {},
     "output_type": "display_data"
    },
    {
     "name": "stdout",
     "output_type": "stream",
     "text": [
      "The four seasons\n",
      "\n"
     ]
    },
    {
     "data": {
      "text/html": [
       "<img src=\"http://commons.wikimedia.org/wiki/Special:FilePath/Piet%20Mondriaan%20-%20The%20four%20seasons%20-%20A133%20-%20Piet%20Mondrian%2C%20catalogue%20raisonn%C3%A9.jpg\" style=\"width: 200px; \" />"
      ],
      "text/plain": [
       "<IPython.core.display.HTML object>"
      ]
     },
     "metadata": {},
     "output_type": "display_data"
    },
    {
     "name": "stdout",
     "output_type": "stream",
     "text": [
      "Girl looking to her left\n",
      "\n"
     ]
    },
    {
     "data": {
      "text/html": [
       "<img src=\"http://commons.wikimedia.org/wiki/Special:FilePath/Piet%20Mondriaan%20-%20Girl%20looking%20to%20her%20left%20-%20A139%20-%20Piet%20Mondrian%2C%20catalogue%20raisonn%C3%A9.jpg\" style=\"width: 200px; \" />"
      ],
      "text/plain": [
       "<IPython.core.display.HTML object>"
      ]
     },
     "metadata": {},
     "output_type": "display_data"
    },
    {
     "name": "stdout",
     "output_type": "stream",
     "text": [
      "Farm interior with woman peeling potatoes\n",
      "\n"
     ]
    },
    {
     "data": {
      "text/html": [
       "<img src=\"http://commons.wikimedia.org/wiki/Special:FilePath/Piet%20Mondriaan%20-%20Farm%20interior%20with%20woman%20peeling%20potatoes%20-%20A146%20-%20Piet%20Mondrian%2C%20catalogue%20raisonn%C3%A9.jpg\" style=\"width: 200px; \" />"
      ],
      "text/plain": [
       "<IPython.core.display.HTML object>"
      ]
     },
     "metadata": {},
     "output_type": "display_data"
    },
    {
     "name": "stdout",
     "output_type": "stream",
     "text": [
      "Windmill in sunlight near a stream\n",
      "\n"
     ]
    },
    {
     "data": {
      "text/html": [
       "<img src=\"http://commons.wikimedia.org/wiki/Special:FilePath/Piet%20Mondriaan%20-%20Windmill%20in%20sunlight%20near%20a%20stream%20-%20A147%20-%20Piet%20Mondrian%2C%20catalogue%20raisonn%C3%A9.jpg\" style=\"width: 200px; \" />"
      ],
      "text/plain": [
       "<IPython.core.display.HTML object>"
      ]
     },
     "metadata": {},
     "output_type": "display_data"
    },
    {
     "name": "stdout",
     "output_type": "stream",
     "text": [
      "Haystack and farm sheds in a field\n",
      "\n"
     ]
    },
    {
     "data": {
      "text/html": [
       "<img src=\"http://commons.wikimedia.org/wiki/Special:FilePath/Piet%20Mondriaan%20-%20Haystack%20and%20farm%20sheds%20in%20a%20field%20-%20A148%20-%20Piet%20Mondrian%2C%20catalogue%20raisonn%C3%A9.jpg\" style=\"width: 200px; \" />"
      ],
      "text/plain": [
       "<IPython.core.display.HTML object>"
      ]
     },
     "metadata": {},
     "output_type": "display_data"
    },
    {
     "name": "stdout",
     "output_type": "stream",
     "text": [
      "Haystack with willow trees\n",
      "\n"
     ]
    },
    {
     "data": {
      "text/html": [
       "<img src=\"http://commons.wikimedia.org/wiki/Special:FilePath/Piet%20Mondriaan%20-%20Haystack%20with%20willow%20trees%20-%20A151%20-%20Piet%20Mondrian%2C%20catalogue%20raisonn%C3%A9.jpg\" style=\"width: 200px; \" />"
      ],
      "text/plain": [
       "<IPython.core.display.HTML object>"
      ]
     },
     "metadata": {},
     "output_type": "display_data"
    },
    {
     "name": "stdout",
     "output_type": "stream",
     "text": [
      "Small house along a canal\n",
      "\n"
     ]
    },
    {
     "data": {
      "text/html": [
       "<img src=\"http://commons.wikimedia.org/wiki/Special:FilePath/Piet%20Mondriaan%20-%20Small%20house%20along%20a%20canal%20-%20A154a%20-%20Piet%20Mondrian%2C%20catalogue%20raisonn%C3%A9.jpg\" style=\"width: 200px; \" />"
      ],
      "text/plain": [
       "<IPython.core.display.HTML object>"
      ]
     },
     "metadata": {},
     "output_type": "display_data"
    },
    {
     "name": "stdout",
     "output_type": "stream",
     "text": [
      "Three Italian poplars and buildings\n",
      "\n"
     ]
    },
    {
     "data": {
      "text/html": [
       "<img src=\"http://commons.wikimedia.org/wiki/Special:FilePath/Piet%20Mondriaan%20-%20Three%20Italian%20poplars%20and%20buildings%20-%20A156%20-%20Piet%20Mondrian%2C%20catalogue%20raisonn%C3%A9.jpg\" style=\"width: 200px; \" />"
      ],
      "text/plain": [
       "<IPython.core.display.HTML object>"
      ]
     },
     "metadata": {},
     "output_type": "display_data"
    },
    {
     "name": "stdout",
     "output_type": "stream",
     "text": [
      "Goats grazing near buildings\n",
      "\n"
     ]
    },
    {
     "data": {
      "text/html": [
       "<img src=\"http://commons.wikimedia.org/wiki/Special:FilePath/Piet%20Mondriaan%20-%20Goats%20grazing%20near%20buildings%20-%20A157%20-%20Piet%20Mondrian%2C%20catalogue%20raisonn%C3%A9.jpg\" style=\"width: 200px; \" />"
      ],
      "text/plain": [
       "<IPython.core.display.HTML object>"
      ]
     },
     "metadata": {},
     "output_type": "display_data"
    },
    {
     "name": "stdout",
     "output_type": "stream",
     "text": [
      "House in the countryside\n",
      "\n"
     ]
    },
    {
     "data": {
      "text/html": [
       "<img src=\"http://commons.wikimedia.org/wiki/Special:FilePath/Piet%20Mondriaan%20-%20House%20in%20the%20countryside%20-%20A161%20-%20Piet%20Mondrian%2C%20catalogue%20raisonn%C3%A9.jpg\" style=\"width: 200px; \" />"
      ],
      "text/plain": [
       "<IPython.core.display.HTML object>"
      ]
     },
     "metadata": {},
     "output_type": "display_data"
    },
    {
     "name": "stdout",
     "output_type": "stream",
     "text": [
      "Farm sheds and haystacks in the dunes\n",
      "\n"
     ]
    },
    {
     "data": {
      "text/html": [
       "<img src=\"http://commons.wikimedia.org/wiki/Special:FilePath/Piet%20Mondriaan%20-%20Farm%20sheds%20and%20haystacks%20in%20the%20dunes%20-%20A163%20-%20Piet%20Mondrian%2C%20catalogue%20raisonn%C3%A9.jpg\" style=\"width: 200px; \" />"
      ],
      "text/plain": [
       "<IPython.core.display.HTML object>"
      ]
     },
     "metadata": {},
     "output_type": "display_data"
    },
    {
     "name": "stdout",
     "output_type": "stream",
     "text": [
      "Farm building near Laren\n",
      "\n"
     ]
    },
    {
     "data": {
      "text/html": [
       "<img src=\"http://commons.wikimedia.org/wiki/Special:FilePath/Piet%20Mondriaan%20-%20Farm%20building%20near%20Laren%20-%20A165%20-%20Piet%20Mondrian%2C%20catalogue%20raisonn%C3%A9.jpg\" style=\"width: 200px; \" />"
      ],
      "text/plain": [
       "<IPython.core.display.HTML object>"
      ]
     },
     "metadata": {},
     "output_type": "display_data"
    },
    {
     "name": "stdout",
     "output_type": "stream",
     "text": [
      "Farmstead in Het Gooi with three buildings\n",
      "\n"
     ]
    },
    {
     "data": {
      "text/html": [
       "<img src=\"http://commons.wikimedia.org/wiki/Special:FilePath/Piet%20Mondriaan%20-%20Farmstead%20in%20Het%20Gooi%20with%20three%20buildings%20-%20A167%20-%20Piet%20Mondrian%2C%20catalogue%20raisonn%C3%A9.jpg\" style=\"width: 200px; \" />"
      ],
      "text/plain": [
       "<IPython.core.display.HTML object>"
      ]
     },
     "metadata": {},
     "output_type": "display_data"
    },
    {
     "name": "stdout",
     "output_type": "stream",
     "text": [
      "Small farm buildings in Het Gooi\n",
      "\n"
     ]
    },
    {
     "data": {
      "text/html": [
       "<img src=\"http://commons.wikimedia.org/wiki/Special:FilePath/Piet%20Mondriaan%20-%20Small%20farm%20buildings%20in%20Het%20Gooi%20-%20A168%20-%20Piet%20Mondrian%2C%20catalogue%20raisonn%C3%A9.jpg\" style=\"width: 200px; \" />"
      ],
      "text/plain": [
       "<IPython.core.display.HTML object>"
      ]
     },
     "metadata": {},
     "output_type": "display_data"
    },
    {
     "name": "stdout",
     "output_type": "stream",
     "text": [
      "Farm building in Het Gooi, viewed from a field\n",
      "\n"
     ]
    },
    {
     "data": {
      "text/html": [
       "<img src=\"http://commons.wikimedia.org/wiki/Special:FilePath/Piet%20Mondriaan%20-%20Farm%20building%20in%20Het%20Gooi%2C%20viewed%20from%20a%20field%20-%20A170%20-%20Piet%20Mondrian%2C%20catalogue%20raisonn%C3%A9.jpg\" style=\"width: 200px; \" />"
      ],
      "text/plain": [
       "<IPython.core.display.HTML object>"
      ]
     },
     "metadata": {},
     "output_type": "display_data"
    },
    {
     "name": "stdout",
     "output_type": "stream",
     "text": [
      "Farm buildings in Het Gooi, veiled by trees\n",
      "\n"
     ]
    },
    {
     "data": {
      "text/html": [
       "<img src=\"http://commons.wikimedia.org/wiki/Special:FilePath/Piet%20Mondriaan%20-%20Farm%20buildings%20in%20Het%20Gooi%2C%20veiled%20by%20trees%20-%20A175%20-%20Piet%20Mondrian%2C%20catalogue%20raisonn%C3%A9.jpg\" style=\"width: 200px; \" />"
      ],
      "text/plain": [
       "<IPython.core.display.HTML object>"
      ]
     },
     "metadata": {},
     "output_type": "display_data"
    },
    {
     "name": "stdout",
     "output_type": "stream",
     "text": [
      "Farmyard in Het Gooi flanked by saplings\n",
      "\n"
     ]
    },
    {
     "data": {
      "text/html": [
       "<img src=\"http://commons.wikimedia.org/wiki/Special:FilePath/Piet%20Mondriaan%20-%20Farmyard%20in%20Het%20Gooi%20flanked%20by%20saplings%20-%20A176%20-%20Piet%20Mondrian%2C%20catalogue%20raisonn%C3%A9.jpg\" style=\"width: 200px; \" />"
      ],
      "text/plain": [
       "<IPython.core.display.HTML object>"
      ]
     },
     "metadata": {},
     "output_type": "display_data"
    },
    {
     "name": "stdout",
     "output_type": "stream",
     "text": [
      "Shipworks\n",
      "\n"
     ]
    },
    {
     "data": {
      "text/html": [
       "<img src=\"http://commons.wikimedia.org/wiki/Special:FilePath/Piet%20Mondriaan%20-%20Scheepstimmerwerf%20%28authentiek%29%20-%20A177%20-%20Piet%20Mondrian%2C%20catalogue%20raisonn%C3%A9.jpg\" style=\"width: 200px; \" />"
      ],
      "text/plain": [
       "<IPython.core.display.HTML object>"
      ]
     },
     "metadata": {},
     "output_type": "display_data"
    },
    {
     "name": "stdout",
     "output_type": "stream",
     "text": [
      "Scheepstimmerwerf (authentiek)\n",
      "\n"
     ]
    },
    {
     "data": {
      "text/html": [
       "<img src=\"http://commons.wikimedia.org/wiki/Special:FilePath/Piet%20Mondriaan%20-%20Scheepstimmerwerf%20%28authentiek%29%20-%20A177%20-%20Piet%20Mondrian%2C%20catalogue%20raisonn%C3%A9.jpg\" style=\"width: 200px; \" />"
      ],
      "text/plain": [
       "<IPython.core.display.HTML object>"
      ]
     },
     "metadata": {},
     "output_type": "display_data"
    },
    {
     "name": "stdout",
     "output_type": "stream",
     "text": [
      "Lange Bleekerssloot with tower of the West Church\n",
      "\n"
     ]
    },
    {
     "data": {
      "text/html": [
       "<img src=\"http://commons.wikimedia.org/wiki/Special:FilePath/Piet%20Mondriaan%20-%20Lange%20Bleekerssloot%20with%20tower%20of%20the%20West%20Church%20-%20A179%20-%20Piet%20Mondrian%2C%20catalogue%20raisonn%C3%A9.jpg\" style=\"width: 200px; \" />"
      ],
      "text/plain": [
       "<IPython.core.display.HTML object>"
      ]
     },
     "metadata": {},
     "output_type": "display_data"
    },
    {
     "name": "stdout",
     "output_type": "stream",
     "text": [
      "Lange Bleekerssloot with barge\n",
      "\n"
     ]
    },
    {
     "data": {
      "text/html": [
       "<img src=\"http://commons.wikimedia.org/wiki/Special:FilePath/Piet%20Mondriaan%20-%20Lange%20Bleekerssloot%20with%20barge%20-%20A180%20-%20Piet%20Mondrian%2C%20catalogue%20raisonn%C3%A9.jpg\" style=\"width: 200px; \" />"
      ],
      "text/plain": [
       "<IPython.core.display.HTML object>"
      ]
     },
     "metadata": {},
     "output_type": "display_data"
    },
    {
     "name": "stdout",
     "output_type": "stream",
     "text": [
      "Lange Bleekerssloot: view toward the Kostverlorenvaart\n",
      "\n"
     ]
    },
    {
     "data": {
      "text/html": [
       "<img src=\"http://commons.wikimedia.org/wiki/Special:FilePath/Piet%20Mondriaan%20-%20Lange%20Bleekerssloot%2C%20view%20toward%20the%20Kostverlorenvaart%20-%20A181%20-%20Piet%20Mondrian%2C%20catalogue%20raisonn%C3%A9.jpg\" style=\"width: 200px; \" />"
      ],
      "text/plain": [
       "<IPython.core.display.HTML object>"
      ]
     },
     "metadata": {},
     "output_type": "display_data"
    },
    {
     "name": "stdout",
     "output_type": "stream",
     "text": [
      "Houses and paltrok mill on the Voorweg\n",
      "\n"
     ]
    },
    {
     "data": {
      "text/html": [
       "<img src=\"http://commons.wikimedia.org/wiki/Special:FilePath/Piet%20Mondriaan%20-%20Houses%20and%20paltrok%20mill%20on%20the%20Voorweg%20-%20A185%20-%20Piet%20Mondrian%2C%20catalogue%20raisonn%C3%A9.jpg\" style=\"width: 200px; \" />"
      ],
      "text/plain": [
       "<IPython.core.display.HTML object>"
      ]
     },
     "metadata": {},
     "output_type": "display_data"
    },
    {
     "name": "stdout",
     "output_type": "stream",
     "text": [
      "Footbridge in the Schinkelbuurt\n",
      "\n"
     ]
    },
    {
     "data": {
      "text/html": [
       "<img src=\"http://commons.wikimedia.org/wiki/Special:FilePath/Piet%20Mondriaan%20-%20Footbridge%20in%20the%20Schinkelbuurt%20-%20A187%20-%20Piet%20Mondrian%2C%20catalogue%20raisonn%C3%A9.jpg\" style=\"width: 200px; \" />"
      ],
      "text/plain": [
       "<IPython.core.display.HTML object>"
      ]
     },
     "metadata": {},
     "output_type": "display_data"
    },
    {
     "name": "stdout",
     "output_type": "stream",
     "text": [
      "Factory district near the Boerenwetering\n",
      "\n"
     ]
    },
    {
     "data": {
      "text/html": [
       "<img src=\"http://commons.wikimedia.org/wiki/Special:FilePath/Piet%20Mondriaan%20-%20Factory%20district%20near%20the%20Boerenwetering%20-%20A193%20-%20Piet%20Mondrian%2C%20catalogue%20raisonn%C3%A9.jpg\" style=\"width: 200px; \" />"
      ],
      "text/plain": [
       "<IPython.core.display.HTML object>"
      ]
     },
     "metadata": {},
     "output_type": "display_data"
    },
    {
     "name": "stdout",
     "output_type": "stream",
     "text": [
      "U\n",
      "\n"
     ]
    },
    {
     "data": {
      "text/html": [
       "<img src=\"http://commons.wikimedia.org/wiki/Special:FilePath/Piet%20Mondriaan%20-%20Unloading%20a%20sand%20barge%20-%20A199%20-%20Piet%20Mondrian%2C%20catalogue%20raisonn%C3%A9.jpg\" style=\"width: 200px; \" />"
      ],
      "text/plain": [
       "<IPython.core.display.HTML object>"
      ]
     },
     "metadata": {},
     "output_type": "display_data"
    },
    {
     "name": "stdout",
     "output_type": "stream",
     "text": [
      "Unloading a sand barge\n",
      "\n"
     ]
    },
    {
     "data": {
      "text/html": [
       "<img src=\"http://commons.wikimedia.org/wiki/Special:FilePath/Piet%20Mondriaan%20-%20Unloading%20a%20sand%20barge%20-%20A199%20-%20Piet%20Mondrian%2C%20catalogue%20raisonn%C3%A9.jpg\" style=\"width: 200px; \" />"
      ],
      "text/plain": [
       "<IPython.core.display.HTML object>"
      ]
     },
     "metadata": {},
     "output_type": "display_data"
    },
    {
     "name": "stdout",
     "output_type": "stream",
     "text": [
      "Moored barge with horses\n",
      "\n"
     ]
    },
    {
     "data": {
      "text/html": [
       "<img src=\"http://commons.wikimedia.org/wiki/Special:FilePath/Piet%20Mondriaan%20-%20Moored%20barge%20with%20horses%20-%20A201%20-%20Piet%20Mondrian%2C%20catalogue%20raisonn%C3%A9.jpg\" style=\"width: 200px; \" />"
      ],
      "text/plain": [
       "<IPython.core.display.HTML object>"
      ]
     },
     "metadata": {},
     "output_type": "display_data"
    },
    {
     "name": "stdout",
     "output_type": "stream",
     "text": [
      "Irrigation ditch with mature willow\n",
      "\n"
     ]
    },
    {
     "data": {
      "text/html": [
       "<img src=\"http://commons.wikimedia.org/wiki/Special:FilePath/Piet%20Mondriaan%20-%20Irrigation%20ditch%20with%20mature%20willow%20-%20A218%20-%20Piet%20Mondrian%2C%20catalogue%20raisonn%C3%A9.jpg\" style=\"width: 200px; \" />"
      ],
      "text/plain": [
       "<IPython.core.display.HTML object>"
      ]
     },
     "metadata": {},
     "output_type": "display_data"
    },
    {
     "name": "stdout",
     "output_type": "stream",
     "text": [
      "Polder landscape with irrigation ditch\n",
      "\n"
     ]
    },
    {
     "data": {
      "text/html": [
       "<img src=\"http://commons.wikimedia.org/wiki/Special:FilePath/Piet%20Mondriaan%20-%20Polder%20landscape%20with%20irrigation%20ditch%20-%20A219%20-%20Piet%20Mondrian%2C%20catalogue%20raisonn%C3%A9.jpg\" style=\"width: 200px; \" />"
      ],
      "text/plain": [
       "<IPython.core.display.HTML object>"
      ]
     },
     "metadata": {},
     "output_type": "display_data"
    },
    {
     "name": "stdout",
     "output_type": "stream",
     "text": [
      "Polder landscape with irrigation ditch and fence\n",
      "\n"
     ]
    },
    {
     "data": {
      "text/html": [
       "<img src=\"http://commons.wikimedia.org/wiki/Special:FilePath/Piet%20Mondriaan%20-%20Polder%20landscape%20with%20irrigation%20ditch%20and%20fence%20-%20A220%20-%20Piet%20Mondrian%2C%20catalogue%20raisonn%C3%A9.jpg\" style=\"width: 200px; \" />"
      ],
      "text/plain": [
       "<IPython.core.display.HTML object>"
      ]
     },
     "metadata": {},
     "output_type": "display_data"
    },
    {
     "name": "stdout",
     "output_type": "stream",
     "text": [
      "Polder landscape with irrigation ditch and five cows\n",
      "\n"
     ]
    },
    {
     "data": {
      "text/html": [
       "<img src=\"http://commons.wikimedia.org/wiki/Special:FilePath/Piet%20Mondriaan%20-%20Polder%20landscape%20with%20irrigation%20ditch%20and%20five%20cows%20-%20A224%20-%20Piet%20Mondrian%2C%20catalogue%20raisonn%C3%A9.jpg\" style=\"width: 200px; \" />"
      ],
      "text/plain": [
       "<IPython.core.display.HTML object>"
      ]
     },
     "metadata": {},
     "output_type": "display_data"
    },
    {
     "name": "stdout",
     "output_type": "stream",
     "text": [
      "Fox Trot A\n",
      "\n"
     ]
    },
    {
     "data": {
      "text/html": [
       "<img src=\"http://commons.wikimedia.org/wiki/Special:FilePath/Mondrian%20-%20Fox%20Trot%20A%2C%201930.tif\" style=\"width: 200px; \" />"
      ],
      "text/plain": [
       "<IPython.core.display.HTML object>"
      ]
     },
     "metadata": {},
     "output_type": "display_data"
    },
    {
     "name": "stdout",
     "output_type": "stream",
     "text": [
      "By the Sea\n",
      "\n"
     ]
    },
    {
     "data": {
      "text/html": [
       "<img src=\"http://commons.wikimedia.org/wiki/Special:FilePath/By%20the%20Sea%2C%20Piet%20Mondrian%2C%201909.jpg\" style=\"width: 200px; \" />"
      ],
      "text/plain": [
       "<IPython.core.display.HTML object>"
      ]
     },
     "metadata": {},
     "output_type": "display_data"
    },
    {
     "name": "stdout",
     "output_type": "stream",
     "text": [
      "Composition (no. III) blanc-jaune\n",
      "\n"
     ]
    },
    {
     "data": {
      "text/html": [
       "<img src=\"http://commons.wikimedia.org/wiki/Special:FilePath/Mondrian%20-%20Composition%20%28no.%20III%29%20blanc-jaune%20Composition%20with%20Red%2C%20Yellow%2C%20and%20Blue%2C%201935-1942.jpg\" style=\"width: 200px; \" />"
      ],
      "text/plain": [
       "<IPython.core.display.HTML object>"
      ]
     },
     "metadata": {},
     "output_type": "display_data"
    },
    {
     "name": "stdout",
     "output_type": "stream",
     "text": [
      "New York City 2 (unfinished)\n",
      "\n"
     ]
    },
    {
     "data": {
      "text/html": [
       "<img src=\"http://commons.wikimedia.org/wiki/Special:FilePath/Mondrian%20-%20New%20York%20City%202%20%28unfinished%2C%20formerly%20New%20York%20City%20III%29%2C%201941.jpg\" style=\"width: 200px; \" />"
      ],
      "text/plain": [
       "<IPython.core.display.HTML object>"
      ]
     },
     "metadata": {},
     "output_type": "display_data"
    },
    {
     "name": "stdout",
     "output_type": "stream",
     "text": [
      "Church at Zoutelande, three-quarter view\n",
      "\n"
     ]
    },
    {
     "data": {
      "text/html": [
       "<img src=\"http://commons.wikimedia.org/wiki/Special:FilePath/Kerk%20te%20Zoutelande%2C%20Mondriaan%2C%201909.jpg\" style=\"width: 200px; \" />"
      ],
      "text/plain": [
       "<IPython.core.display.HTML object>"
      ]
     },
     "metadata": {},
     "output_type": "display_data"
    },
    {
     "name": "stdout",
     "output_type": "stream",
     "text": [
      "Beach with five piers at Domburg\n",
      "\n"
     ]
    },
    {
     "data": {
      "text/html": [
       "<img src=\"http://commons.wikimedia.org/wiki/Special:FilePath/Beach%20with%20Five%20Piers%20at%20Domburg.jpg\" style=\"width: 200px; \" />"
      ],
      "text/plain": [
       "<IPython.core.display.HTML object>"
      ]
     },
     "metadata": {},
     "output_type": "display_data"
    },
    {
     "name": "stdout",
     "output_type": "stream",
     "text": [
      "Rear gable of an Achterhoek farm building\n",
      "\n"
     ]
    },
    {
     "data": {
      "text/html": [
       "<img src=\"http://commons.wikimedia.org/wiki/Special:FilePath/Piet%20Mondriaan%20-%20Rear%20gable%20of%20an%20Achterhoek%20farm%20building%20-%20989.6.1%20-%20Mus%C3%A9e%20Sainte-Croix.jpg\" style=\"width: 200px; \" />"
      ],
      "text/plain": [
       "<IPython.core.display.HTML object>"
      ]
     },
     "metadata": {},
     "output_type": "display_data"
    },
    {
     "name": "stdout",
     "output_type": "stream",
     "text": [
      "Willow suspended over the water before farm building and church tower\n",
      "\n"
     ]
    },
    {
     "data": {
      "text/html": [
       "<img src=\"http://commons.wikimedia.org/wiki/Special:FilePath/Piet%20Mondriaan%20-%20Willow%20suspended%20over%20the%20water%20before%20farm%20building%20and%20church%20tower%20-%20R.1966%2CI%20-%20Dallas%20Museum%20of%20Art.jpg\" style=\"width: 200px; \" />"
      ],
      "text/plain": [
       "<IPython.core.display.HTML object>"
      ]
     },
     "metadata": {},
     "output_type": "display_data"
    },
    {
     "name": "stdout",
     "output_type": "stream",
     "text": [
      "Composition II ; Composition 2 avec rouge et bleu\n",
      "\n"
     ]
    },
    {
     "data": {
      "text/html": [
       "<img src=\"http://commons.wikimedia.org/wiki/Special:FilePath/Piet%20mondrian%2C%20compoisizione%20in%20rosso%2C%20blu%20e%20bianco%20II%2C%201937%2C%2001.JPG\" style=\"width: 200px; \" />"
      ],
      "text/plain": [
       "<IPython.core.display.HTML object>"
      ]
     },
     "metadata": {},
     "output_type": "display_data"
    },
    {
     "name": "stdout",
     "output_type": "stream",
     "text": [
      "Composition en rouge, bleu et blanc II\n",
      "\n"
     ]
    },
    {
     "data": {
      "text/html": [
       "<img src=\"http://commons.wikimedia.org/wiki/Special:FilePath/Piet%20mondrian%2C%20compoisizione%20in%20rosso%2C%20blu%20e%20bianco%20II%2C%201937%2C%2001.JPG\" style=\"width: 200px; \" />"
      ],
      "text/plain": [
       "<IPython.core.display.HTML object>"
      ]
     },
     "metadata": {},
     "output_type": "display_data"
    },
    {
     "name": "stdout",
     "output_type": "stream",
     "text": [
      "Field with Young Trees in the Foreground\n",
      "\n"
     ]
    },
    {
     "data": {
      "text/html": [
       "<img src=\"http://commons.wikimedia.org/wiki/Special:FilePath/Piet%20Mondriaan%20-%20Field%20with%20young%20trees%20in%20the%20foreground%20-%20A584%20-%20Piet%20Mondrian%2C%20catalogue%20raisonn%C3%A9%20-%20color.jpg\" style=\"width: 200px; \" />"
      ],
      "text/plain": [
       "<IPython.core.display.HTML object>"
      ]
     },
     "metadata": {},
     "output_type": "display_data"
    },
    {
     "name": "stdout",
     "output_type": "stream",
     "text": [
      "Victory Boogie Woogie\n",
      "\n"
     ]
    },
    {
     "data": {
      "text/html": [
       "<img src=\"http://commons.wikimedia.org/wiki/Special:FilePath/Piet%20Mondriaan%20Victory%20Boogie%20Woogie.jpg\" style=\"width: 200px; \" />"
      ],
      "text/plain": [
       "<IPython.core.display.HTML object>"
      ]
     },
     "metadata": {},
     "output_type": "display_data"
    },
    {
     "name": "stdout",
     "output_type": "stream",
     "text": [
      "Compositie in lijn\n",
      "\n"
     ]
    },
    {
     "data": {
      "text/html": [
       "<img src=\"http://commons.wikimedia.org/wiki/Special:FilePath/Mondriaan%20Compositie%20in%20lijn.jpg\" style=\"width: 200px; \" />"
      ],
      "text/plain": [
       "<IPython.core.display.HTML object>"
      ]
     },
     "metadata": {},
     "output_type": "display_data"
    },
    {
     "name": "stdout",
     "output_type": "stream",
     "text": [
      "Gemälde no.I\n",
      "\n"
     ]
    },
    {
     "data": {
      "text/html": [
       "<img src=\"http://commons.wikimedia.org/wiki/Special:FilePath/Mondriaan%20Compositie%20XIV.jpg\" style=\"width: 200px; \" />"
      ],
      "text/plain": [
       "<IPython.core.display.HTML object>"
      ]
     },
     "metadata": {},
     "output_type": "display_data"
    },
    {
     "name": "stdout",
     "output_type": "stream",
     "text": [
      "Molen aan 't Gein\n",
      "\n"
     ]
    },
    {
     "data": {
      "text/html": [
       "<img src=\"http://commons.wikimedia.org/wiki/Special:FilePath/Mondriaan%20Molen%20aan%20t%20Gein.jpg\" style=\"width: 200px; \" />"
      ],
      "text/plain": [
       "<IPython.core.display.HTML object>"
      ]
     },
     "metadata": {},
     "output_type": "display_data"
    },
    {
     "name": "stdout",
     "output_type": "stream",
     "text": [
      "Broadway Boogie Woogie\n",
      "\n"
     ]
    },
    {
     "data": {
      "text/html": [
       "<img src=\"http://commons.wikimedia.org/wiki/Special:FilePath/Piet%20Mondrian%2C%201942%20-%20Broadway%20Boogie%20Woogie.jpg\" style=\"width: 200px; \" />"
      ],
      "text/plain": [
       "<IPython.core.display.HTML object>"
      ]
     },
     "metadata": {},
     "output_type": "display_data"
    },
    {
     "name": "stdout",
     "output_type": "stream",
     "text": [
      "grande composizione A con nero, rosso, grigio, giallo e blu\n",
      "\n"
     ]
    },
    {
     "data": {
      "text/html": [
       "<img src=\"http://commons.wikimedia.org/wiki/Special:FilePath/Composition%20A%20by%20Piet%20Mondrian%20Galleria%20Nazionale%20d%27Arte%20Moderna%20e%20Contemporanea.jpg\" style=\"width: 200px; \" />"
      ],
      "text/plain": [
       "<IPython.core.display.HTML object>"
      ]
     },
     "metadata": {},
     "output_type": "display_data"
    },
    {
     "name": "stdout",
     "output_type": "stream",
     "text": [
      "De rode boom\n",
      "\n"
     ]
    },
    {
     "data": {
      "text/html": [
       "<img src=\"http://commons.wikimedia.org/wiki/Special:FilePath/Piet%20Mondrian%2C%201908-10%2C%20Evening%3B%20Red%20Tree%20%28Avond%3B%20De%20rode%20boom%29%2C%20oil%20on%20canvas%2C%2070%20x%2099%20cm%2C%20Gemeentemuseum%20Den%20Haag.jpg\" style=\"width: 200px; \" />"
      ],
      "text/plain": [
       "<IPython.core.display.HTML object>"
      ]
     },
     "metadata": {},
     "output_type": "display_data"
    },
    {
     "name": "stdout",
     "output_type": "stream",
     "text": [
      "De grijze boom\n",
      "\n"
     ]
    },
    {
     "data": {
      "text/html": [
       "<img src=\"http://commons.wikimedia.org/wiki/Special:FilePath/Gray%20Tree%201911.jpg\" style=\"width: 200px; \" />"
      ],
      "text/plain": [
       "<IPython.core.display.HTML object>"
      ]
     },
     "metadata": {},
     "output_type": "display_data"
    },
    {
     "name": "stdout",
     "output_type": "stream",
     "text": [
      "Tableau I (Schilderij I)\n",
      "\n"
     ]
    },
    {
     "data": {
      "text/html": [
       "<img src=\"http://commons.wikimedia.org/wiki/Special:FilePath/Tableau%20I%2C%20by%20Piet%20Mondriaan.jpg\" style=\"width: 200px; \" />"
      ],
      "text/plain": [
       "<IPython.core.display.HTML object>"
      ]
     },
     "metadata": {},
     "output_type": "display_data"
    },
    {
     "name": "stdout",
     "output_type": "stream",
     "text": [
      "Composition with Yellow, Blue and Red\n",
      "\n"
     ]
    },
    {
     "data": {
      "text/html": [
       "<img src=\"http://commons.wikimedia.org/wiki/Special:FilePath/Composition-with-red-yellow-and-blue.jpg\" style=\"width: 200px; \" />"
      ],
      "text/plain": [
       "<IPython.core.display.HTML object>"
      ]
     },
     "metadata": {},
     "output_type": "display_data"
    },
    {
     "name": "stdout",
     "output_type": "stream",
     "text": [
      "Composition with yellow, black, blue, red, and gray\n",
      "\n"
     ]
    },
    {
     "data": {
      "text/html": [
       "<img src=\"http://commons.wikimedia.org/wiki/Special:FilePath/Piet%20Mondriaan%20-%20Composition%20with%20yellow%2C%20black%2C%20blue%2C%20red%2C%20and%20gray%20-%20RF%202000%2045%20-%20Mus%C3%A9e%20d%27Orsay.jpg\" style=\"width: 200px; \" />"
      ],
      "text/plain": [
       "<IPython.core.display.HTML object>"
      ]
     },
     "metadata": {},
     "output_type": "display_data"
    },
    {
     "name": "stdout",
     "output_type": "stream",
     "text": [
      "Open landscape, train along the horizon\n",
      "\n"
     ]
    },
    {
     "data": {
      "text/html": [
       "<img src=\"http://commons.wikimedia.org/wiki/Special:FilePath/Polder%20Landscape%20with%20a%20Train%20and%20a%20Small%20Windmill%20on%20the%20Horizon.jpg\" style=\"width: 200px; \" />"
      ],
      "text/plain": [
       "<IPython.core.display.HTML object>"
      ]
     },
     "metadata": {},
     "output_type": "display_data"
    },
    {
     "name": "stdout",
     "output_type": "stream",
     "text": [
      "Oostzijdse Mill along the River Gein by Moonlight\n",
      "\n"
     ]
    },
    {
     "data": {
      "text/html": [
       "<img src=\"http://commons.wikimedia.org/wiki/Special:FilePath/Oostzijdse%20molen%20aan%20het%20Gein%20bij%20maanlicht.jpg\" style=\"width: 200px; \" />"
      ],
      "text/plain": [
       "<IPython.core.display.HTML object>"
      ]
     },
     "metadata": {},
     "output_type": "display_data"
    },
    {
     "name": "stdout",
     "output_type": "stream",
     "text": [
      "Oostzijdse molen aan het Gein bij maanlicht\n",
      "\n"
     ]
    },
    {
     "data": {
      "text/html": [
       "<img src=\"http://commons.wikimedia.org/wiki/Special:FilePath/Oostzijdse%20molen%20aan%20het%20Gein%20bij%20maanlicht.jpg\" style=\"width: 200px; \" />"
      ],
      "text/plain": [
       "<IPython.core.display.HTML object>"
      ]
     },
     "metadata": {},
     "output_type": "display_data"
    },
    {
     "name": "stdout",
     "output_type": "stream",
     "text": [
      "Composition: No. III, with Red, Yellow, and Blue\n",
      "\n"
     ]
    },
    {
     "data": {
      "text/html": [
       "<img src=\"http://commons.wikimedia.org/wiki/Special:FilePath/Composition%20no.%20III%20with%20red%2C%20yellow%2C%20and%20blue%20by%20Piet%20Mondrian.jpg\" style=\"width: 200px; \" />"
      ],
      "text/plain": [
       "<IPython.core.display.HTML object>"
      ]
     },
     "metadata": {},
     "output_type": "display_data"
    },
    {
     "name": "stdout",
     "output_type": "stream",
     "text": [
      "Compositie: no. III, met rood, geel en blauw\n",
      "\n"
     ]
    },
    {
     "data": {
      "text/html": [
       "<img src=\"http://commons.wikimedia.org/wiki/Special:FilePath/Composition%20no.%20III%20with%20red%2C%20yellow%2C%20and%20blue%20by%20Piet%20Mondrian.jpg\" style=\"width: 200px; \" />"
      ],
      "text/plain": [
       "<IPython.core.display.HTML object>"
      ]
     },
     "metadata": {},
     "output_type": "display_data"
    },
    {
     "name": "stdout",
     "output_type": "stream",
     "text": [
      "Apple Tree, Pointillist Version\n",
      "\n"
     ]
    },
    {
     "data": {
      "text/html": [
       "<img src=\"http://commons.wikimedia.org/wiki/Special:FilePath/Piet%20Mondrian%20-%20Apple%20Tree%2C%20Pointillist%20Version%20-%201982.26.FA%20-%20Dallas%20Museum%20of%20Art.jpg\" style=\"width: 200px; \" />"
      ],
      "text/plain": [
       "<IPython.core.display.HTML object>"
      ]
     },
     "metadata": {},
     "output_type": "display_data"
    },
    {
     "name": "stdout",
     "output_type": "stream",
     "text": [
      "Composition with Large Blue Plane, Red, Black, Yellow, and Gray\n",
      "\n"
     ]
    },
    {
     "data": {
      "text/html": [
       "<img src=\"http://commons.wikimedia.org/wiki/Special:FilePath/Piet%20Mondrian%20-%20Composition%20with%20Large%20Blue%20Plane%2C%20Red%2C%20Black%2C%20Yellow%2C%20and%20Gray%20-%201984.200.FA%20-%20Dallas%20Museum%20of%20Art.jpg\" style=\"width: 200px; \" />"
      ],
      "text/plain": [
       "<IPython.core.display.HTML object>"
      ]
     },
     "metadata": {},
     "output_type": "display_data"
    },
    {
     "name": "stdout",
     "output_type": "stream",
     "text": [
      "Windmill\n",
      "\n"
     ]
    },
    {
     "data": {
      "text/html": [
       "<img src=\"http://commons.wikimedia.org/wiki/Special:FilePath/Piet%20Mondrian%20-%20Windmill%20-%201989.142%20-%20Dallas%20Museum%20of%20Art.jpg\" style=\"width: 200px; \" />"
      ],
      "text/plain": [
       "<IPython.core.display.HTML object>"
      ]
     },
     "metadata": {},
     "output_type": "display_data"
    },
    {
     "name": "stdout",
     "output_type": "stream",
     "text": [
      "Farm Near Duivendrecht, in the Evening\n",
      "\n"
     ]
    },
    {
     "data": {
      "text/html": [
       "<img src=\"http://commons.wikimedia.org/wiki/Special:FilePath/Piet%20Mondrian%20-%20Farm%20Near%20Duivendrecht%2C%20in%20the%20Evening%20-%201987.359%20-%20Dallas%20Museum%20of%20Art.jpg\" style=\"width: 200px; \" />"
      ],
      "text/plain": [
       "<IPython.core.display.HTML object>"
      ]
     },
     "metadata": {},
     "output_type": "display_data"
    },
    {
     "name": "stdout",
     "output_type": "stream",
     "text": [
      "Composition no. XVI (authentic)\n",
      "\n"
     ]
    },
    {
     "data": {
      "text/html": [
       "<img src=\"http://commons.wikimedia.org/wiki/Special:FilePath/Piet%20Mondriaan%20-%20Composition%20No.%20XVI%2C%20Compositie%201%20%28Arbres%29%2C%201912%20-%201913%20-%20Fondation%20Beyeler.jpg\" style=\"width: 200px; \" />"
      ],
      "text/plain": [
       "<IPython.core.display.HTML object>"
      ]
     },
     "metadata": {},
     "output_type": "display_data"
    },
    {
     "name": "stdout",
     "output_type": "stream",
     "text": [
      "Vuurtoren bij Westkapelle\n",
      "\n"
     ]
    },
    {
     "data": {
      "text/html": [
       "<img src=\"http://commons.wikimedia.org/wiki/Special:FilePath/Vuurtoren%20bij%20Westkapelle%2C%201908.jpg\" style=\"width: 200px; \" />"
      ],
      "text/plain": [
       "<IPython.core.display.HTML object>"
      ]
     },
     "metadata": {},
     "output_type": "display_data"
    },
    {
     "name": "stdout",
     "output_type": "stream",
     "text": [
      "Evolutie\n",
      "\n"
     ]
    },
    {
     "data": {
      "text/html": [
       "<img src=\"http://commons.wikimedia.org/wiki/Special:FilePath/Mondrian%2C%20Evolution%20%28Triptychon%29%2C%201911.jpg\" style=\"width: 200px; \" />"
      ],
      "text/plain": [
       "<IPython.core.display.HTML object>"
      ]
     },
     "metadata": {},
     "output_type": "display_data"
    },
    {
     "name": "stdout",
     "output_type": "stream",
     "text": [
      "Stilleven met gemberpot 2\n",
      "\n"
     ]
    },
    {
     "data": {
      "text/html": [
       "<img src=\"http://commons.wikimedia.org/wiki/Special:FilePath/Mondrian%2C%20Still%20Life%20with%20Gingerpot%20II.jpg\" style=\"width: 200px; \" />"
      ],
      "text/plain": [
       "<IPython.core.display.HTML object>"
      ]
     },
     "metadata": {},
     "output_type": "display_data"
    },
    {
     "name": "stdout",
     "output_type": "stream",
     "text": [
      "Molen; Molen bij zonlicht\n",
      "\n"
     ]
    },
    {
     "data": {
      "text/html": [
       "<img src=\"http://commons.wikimedia.org/wiki/Special:FilePath/Mondriaan%20Molen%20bij%20zonlicht.jpg\" style=\"width: 200px; \" />"
      ],
      "text/plain": [
       "<IPython.core.display.HTML object>"
      ]
     },
     "metadata": {},
     "output_type": "display_data"
    },
    {
     "name": "stdout",
     "output_type": "stream",
     "text": [
      "Molen bij Domburg\n",
      "\n"
     ]
    },
    {
     "data": {
      "text/html": [
       "<img src=\"http://commons.wikimedia.org/wiki/Special:FilePath/Mondriaan%20Molen%20bij%20Domburg.jpg\" style=\"width: 200px; \" />"
      ],
      "text/plain": [
       "<IPython.core.display.HTML object>"
      ]
     },
     "metadata": {},
     "output_type": "display_data"
    },
    {
     "name": "stdout",
     "output_type": "stream",
     "text": [
      "Molen; De rode molen\n",
      "\n"
     ]
    },
    {
     "data": {
      "text/html": [
       "<img src=\"http://commons.wikimedia.org/wiki/Special:FilePath/Mondriaan%20Rode%20Molen.jpg\" style=\"width: 200px; \" />"
      ],
      "text/plain": [
       "<IPython.core.display.HTML object>"
      ]
     },
     "metadata": {},
     "output_type": "display_data"
    },
    {
     "name": "stdout",
     "output_type": "stream",
     "text": [
      "Bomen aan het Gein: opkomende maan\n",
      "\n"
     ]
    },
    {
     "data": {
      "text/html": [
       "<img src=\"http://commons.wikimedia.org/wiki/Special:FilePath/Piet%20Mondriaan%20-%20Paysage%201.jpg\" style=\"width: 200px; \" />"
      ],
      "text/plain": [
       "<IPython.core.display.HTML object>"
      ]
     },
     "metadata": {},
     "output_type": "display_data"
    },
    {
     "name": "stdout",
     "output_type": "stream",
     "text": [
      "Devotie\n",
      "\n"
     ]
    },
    {
     "data": {
      "text/html": [
       "<img src=\"http://commons.wikimedia.org/wiki/Special:FilePath/Devotion%2C%20by%20Piet%20Mondriaan.jpg\" style=\"width: 200px; \" />"
      ],
      "text/plain": [
       "<IPython.core.display.HTML object>"
      ]
     },
     "metadata": {},
     "output_type": "display_data"
    },
    {
     "name": "stdout",
     "output_type": "stream",
     "text": [
      "Bosch; Bos bij Oele\n",
      "\n"
     ]
    },
    {
     "data": {
      "text/html": [
       "<img src=\"http://commons.wikimedia.org/wiki/Special:FilePath/Piet%20Mondriaan%20-%20Forest.jpg\" style=\"width: 200px; \" />"
      ],
      "text/plain": [
       "<IPython.core.display.HTML object>"
      ]
     },
     "metadata": {},
     "output_type": "display_data"
    },
    {
     "name": "stdout",
     "output_type": "stream",
     "text": [
      "Kerk te Domburg\n",
      "\n"
     ]
    },
    {
     "data": {
      "text/html": [
       "<img src=\"http://commons.wikimedia.org/wiki/Special:FilePath/Kerk%20te%20Domburg%2C%20Mondriaan%2C%201909%2001.jpg\" style=\"width: 200px; \" />"
      ],
      "text/plain": [
       "<IPython.core.display.HTML object>"
      ]
     },
     "metadata": {},
     "output_type": "display_data"
    },
    {
     "name": "stdout",
     "output_type": "stream",
     "text": [
      "Zeeuwsche kerktoren\n",
      "\n"
     ]
    },
    {
     "data": {
      "text/html": [
       "<img src=\"http://commons.wikimedia.org/wiki/Special:FilePath/Zeeuwsche%20kerktoren%2C%20Mondriaan%2C%201911.jpg\" style=\"width: 200px; \" />"
      ],
      "text/plain": [
       "<IPython.core.display.HTML object>"
      ]
     },
     "metadata": {},
     "output_type": "display_data"
    },
    {
     "name": "stdout",
     "output_type": "stream",
     "text": [
      "Metamorfose\n",
      "\n"
     ]
    },
    {
     "data": {
      "text/html": [
       "<img src=\"http://commons.wikimedia.org/wiki/Special:FilePath/Metamorfose%2C%20Mondriaan.jpg\" style=\"width: 200px; \" />"
      ],
      "text/plain": [
       "<IPython.core.display.HTML object>"
      ]
     },
     "metadata": {},
     "output_type": "display_data"
    },
    {
     "name": "stdout",
     "output_type": "stream",
     "text": [
      "Compositie met groot rood vlak, geel, zwart, grijs en blauw\n",
      "\n"
     ]
    },
    {
     "data": {
      "text/html": [
       "<img src=\"http://commons.wikimedia.org/wiki/Special:FilePath/Piet%20Mondriaan%2C%201921%20-%20Composition%20en%20rouge%2C%20jaune%2C%20bleu%20et%20noir.jpg\" style=\"width: 200px; \" />"
      ],
      "text/plain": [
       "<IPython.core.display.HTML object>"
      ]
     },
     "metadata": {},
     "output_type": "display_data"
    },
    {
     "name": "stdout",
     "output_type": "stream",
     "text": [
      "Tableau no. 2\n",
      "\n"
     ]
    },
    {
     "data": {
      "text/html": [
       "<img src=\"http://commons.wikimedia.org/wiki/Special:FilePath/Piet%20Mondriaan%20-%20Cubisme.jpg\" style=\"width: 200px; \" />"
      ],
      "text/plain": [
       "<IPython.core.display.HTML object>"
      ]
     },
     "metadata": {},
     "output_type": "display_data"
    },
    {
     "name": "stdout",
     "output_type": "stream",
     "text": [
      "New York City\n",
      "\n"
     ]
    },
    {
     "data": {
      "text/html": [
       "<img src=\"http://commons.wikimedia.org/wiki/Special:FilePath/Piet%20Mondriaan%2C%201942%20-%20New%20York%20City%20I.jpg\" style=\"width: 200px; \" />"
      ],
      "text/plain": [
       "<IPython.core.display.HTML object>"
      ]
     },
     "metadata": {},
     "output_type": "display_data"
    },
    {
     "name": "stdout",
     "output_type": "stream",
     "text": [
      "Composition with grid 1\n",
      "\n"
     ]
    },
    {
     "data": {
      "text/html": [
       "<img src=\"http://commons.wikimedia.org/wiki/Special:FilePath/Piet%20Mondrian%20-%20Composition%20with%20Grid%20%5E1%20-%2063.16%20-%20Museum%20of%20Fine%20Arts%2C%20Houston.jpg\" style=\"width: 200px; \" />"
      ],
      "text/plain": [
       "<IPython.core.display.HTML object>"
      ]
     },
     "metadata": {},
     "output_type": "display_data"
    },
    {
     "name": "stdout",
     "output_type": "stream",
     "text": [
      "Composition in oval with color planes 1\n",
      "\n"
     ]
    },
    {
     "data": {
      "text/html": [
       "<img src=\"http://commons.wikimedia.org/wiki/Special:FilePath/Piet%20Mondrian%20%281872-1944%29-%20Composition%20in%20Oval%20with%20Color%20Planes%201%2C%20oil%20on%20canvas%2C%201914%2C%20Museum%20of%20Modern%20Art.JPG\" style=\"width: 200px; \" />"
      ],
      "text/plain": [
       "<IPython.core.display.HTML object>"
      ]
     },
     "metadata": {},
     "output_type": "display_data"
    },
    {
     "name": "stdout",
     "output_type": "stream",
     "text": [
      "View from the dunes with beach and piers, Domburg\n",
      "\n"
     ]
    },
    {
     "data": {
      "text/html": [
       "<img src=\"http://commons.wikimedia.org/wiki/Special:FilePath/Piet%20Mondrian%2C%201909%2C%20View%20from%20the%20Dunes%20with%20Beach%20and%20Piers%2C%20Domburg%2C%20MoMA.jpg\" style=\"width: 200px; \" />"
      ],
      "text/plain": [
       "<IPython.core.display.HTML object>"
      ]
     },
     "metadata": {},
     "output_type": "display_data"
    },
    {
     "name": "stdout",
     "output_type": "stream",
     "text": [
      "Post mill at Heeswijk, rear view\n",
      "\n"
     ]
    },
    {
     "data": {
      "text/html": [
       "<img src=\"http://commons.wikimedia.org/wiki/Special:FilePath/Mill-of-heeswijk-sun.jpg\" style=\"width: 200px; \" />"
      ],
      "text/plain": [
       "<IPython.core.display.HTML object>"
      ]
     },
     "metadata": {},
     "output_type": "display_data"
    },
    {
     "name": "stdout",
     "output_type": "stream",
     "text": [
      "Composition - blanc et rouge: B\n",
      "\n"
     ]
    },
    {
     "data": {
      "text/html": [
       "<img src=\"http://commons.wikimedia.org/wiki/Special:FilePath/Piet%20mondrian%2C%20composizione%20con%20bianco%20e%20rosso%2C%201936.JPG\" style=\"width: 200px; \" />"
      ],
      "text/plain": [
       "<IPython.core.display.HTML object>"
      ]
     },
     "metadata": {},
     "output_type": "display_data"
    },
    {
     "name": "stdout",
     "output_type": "stream",
     "text": [
      "Composition with grid 4\n",
      "\n"
     ]
    },
    {
     "data": {
      "text/html": [
       "<img src=\"http://commons.wikimedia.org/wiki/Special:FilePath/Piet%20mondrian%2C%20composizione%20con%20griglia%204%20%28losanga%29%2C%201919.JPG\" style=\"width: 200px; \" />"
      ],
      "text/plain": [
       "<IPython.core.display.HTML object>"
      ]
     },
     "metadata": {},
     "output_type": "display_data"
    },
    {
     "name": "stdout",
     "output_type": "stream",
     "text": [
      "Composition no. 10\n",
      "\n"
     ]
    },
    {
     "data": {
      "text/html": [
       "<img src=\"http://commons.wikimedia.org/wiki/Special:FilePath/Piet%20Mondriaan%2C%201939-1942%20-%20Composition%2010.jpg\" style=\"width: 200px; \" />"
      ],
      "text/plain": [
       "<IPython.core.display.HTML object>"
      ]
     },
     "metadata": {},
     "output_type": "display_data"
    },
    {
     "name": "stdout",
     "output_type": "stream",
     "text": [
      "Composition with color planes and gray lines 1\n",
      "\n"
     ]
    },
    {
     "data": {
      "text/html": [
       "<img src=\"http://commons.wikimedia.org/wiki/Special:FilePath/Mondrian%2C%20Composition%20with%20color%20planes%20and%20gray%20lines%2C%201918.jpg\" style=\"width: 200px; \" />"
      ],
      "text/plain": [
       "<IPython.core.display.HTML object>"
      ]
     },
     "metadata": {},
     "output_type": "display_data"
    },
    {
     "name": "stdout",
     "output_type": "stream",
     "text": [
      "Oostzijdse mill with panoramic sunset and brightly reflected colors\n",
      "\n"
     ]
    },
    {
     "data": {
      "text/html": [
       "<img src=\"http://commons.wikimedia.org/wiki/Special:FilePath/Mondriaan%20Windmill-in-the-gein-1907.jpg\" style=\"width: 200px; \" />"
      ],
      "text/plain": [
       "<IPython.core.display.HTML object>"
      ]
     },
     "metadata": {},
     "output_type": "display_data"
    },
    {
     "name": "stdout",
     "output_type": "stream",
     "text": [
      "Lozenge Composition with Yellow, Black, Blue, Red, and Gray\n",
      "\n"
     ]
    },
    {
     "data": {
      "text/html": [
       "<img src=\"http://commons.wikimedia.org/wiki/Special:FilePath/Piet%20Mondrian%20-%20Lozenge%20Composition%20with%20Yellow%2C%20Black%2C%20Blue%2C%20Red%2C%20and%20Gray%20-%201957.307%20-%20Art%20Institute%20of%20Chicago.jpg\" style=\"width: 200px; \" />"
      ],
      "text/plain": [
       "<IPython.core.display.HTML object>"
      ]
     },
     "metadata": {},
     "output_type": "display_data"
    },
    {
     "name": "stdout",
     "output_type": "stream",
     "text": [
      "Windmolen\n",
      "\n"
     ]
    },
    {
     "data": {
      "text/html": [
       "<img src=\"http://commons.wikimedia.org/wiki/Special:FilePath/Mondriaan%20De%20Molen.jpg\" style=\"width: 200px; \" />"
      ],
      "text/plain": [
       "<IPython.core.display.HTML object>"
      ]
     },
     "metadata": {},
     "output_type": "display_data"
    },
    {
     "name": "stdout",
     "output_type": "stream",
     "text": [
      "Stammer Mill with Streaked Sky\n",
      "\n"
     ]
    },
    {
     "data": {
      "text/html": [
       "<img src=\"http://commons.wikimedia.org/wiki/Special:FilePath/Mondrian%20-%20Stammer%20Mill%20with%20Streaked%20Sky%2C%201905-1907.png\" style=\"width: 200px; \" />"
      ],
      "text/plain": [
       "<IPython.core.display.HTML object>"
      ]
     },
     "metadata": {},
     "output_type": "display_data"
    },
    {
     "name": "stdout",
     "output_type": "stream",
     "text": [
      "Portret van Pieter Cornelis Mondriaan (1872-1944)\n",
      "\n"
     ]
    },
    {
     "data": {
      "text/html": [
       "<img src=\"http://commons.wikimedia.org/wiki/Special:FilePath/Mondrian%20Zelfportret.jpg\" style=\"width: 200px; \" />"
      ],
      "text/plain": [
       "<IPython.core.display.HTML object>"
      ]
     },
     "metadata": {},
     "output_type": "display_data"
    },
    {
     "name": "stdout",
     "output_type": "stream",
     "text": [
      "Portrait of Pieter Cornelis Mondriaan (1872-1944)\n",
      "\n"
     ]
    },
    {
     "data": {
      "text/html": [
       "<img src=\"http://commons.wikimedia.org/wiki/Special:FilePath/Mondrian%20Zelfportret.jpg\" style=\"width: 200px; \" />"
      ],
      "text/plain": [
       "<IPython.core.display.HTML object>"
      ]
     },
     "metadata": {},
     "output_type": "display_data"
    },
    {
     "name": "stdout",
     "output_type": "stream",
     "text": [
      "Zelfportret\n",
      "\n"
     ]
    },
    {
     "data": {
      "text/html": [
       "<img src=\"http://commons.wikimedia.org/wiki/Special:FilePath/Mondrian%20Zelfportret%201918.jpg\" style=\"width: 200px; \" />"
      ],
      "text/plain": [
       "<IPython.core.display.HTML object>"
      ]
     },
     "metadata": {},
     "output_type": "display_data"
    },
    {
     "name": "stdout",
     "output_type": "stream",
     "text": [
      "Rastercompositie 9: dambordcompositie heldere kleuren\n",
      "\n"
     ]
    },
    {
     "data": {
      "text/html": [
       "<img src=\"http://commons.wikimedia.org/wiki/Special:FilePath/Mondrian%20Rastercompositie%209.jpg\" style=\"width: 200px; \" />"
      ],
      "text/plain": [
       "<IPython.core.display.HTML object>"
      ]
     },
     "metadata": {},
     "output_type": "display_data"
    },
    {
     "name": "stdout",
     "output_type": "stream",
     "text": [
      "Composition with red, blue and yellow\n",
      "\n"
     ]
    },
    {
     "data": {
      "text/html": [
       "<img src=\"http://commons.wikimedia.org/wiki/Special:FilePath/Piet%20Mondriaan%2C%201930%20-%20Mondrian%20Composition%20II%20in%20Red%2C%20Blue%2C%20and%20Yellow.jpg\" style=\"width: 200px; \" />"
      ],
      "text/plain": [
       "<IPython.core.display.HTML object>"
      ]
     },
     "metadata": {},
     "output_type": "display_data"
    },
    {
     "name": "stdout",
     "output_type": "stream",
     "text": [
      "Compositie 10 in zwart wit\n",
      "\n"
     ]
    },
    {
     "data": {
      "text/html": [
       "<img src=\"http://commons.wikimedia.org/wiki/Special:FilePath/Otterloo%20kroller%20muller%20mondrian%20composition%2010%20noir%20et%20blanc.jpg\" style=\"width: 200px; \" />"
      ],
      "text/plain": [
       "<IPython.core.display.HTML object>"
      ]
     },
     "metadata": {},
     "output_type": "display_data"
    },
    {
     "name": "stdout",
     "output_type": "stream",
     "text": [
      "Duin III\n",
      "\n"
     ]
    },
    {
     "data": {
      "text/html": [
       "<img src=\"http://commons.wikimedia.org/wiki/Special:FilePath/Dune%20III%2C%20by%20Piet%20Mondriaan.jpg\" style=\"width: 200px; \" />"
      ],
      "text/plain": [
       "<IPython.core.display.HTML object>"
      ]
     },
     "metadata": {},
     "output_type": "display_data"
    },
    {
     "name": "stdout",
     "output_type": "stream",
     "text": [
      "Brabant farm building and shed\n",
      "\n"
     ]
    },
    {
     "data": {
      "text/html": [
       "<img src=\"http://commons.wikimedia.org/wiki/Special:FilePath/Brabant%20Farmyard%20by%20Piet%20Mondrian.jpg\" style=\"width: 200px; \" />"
      ],
      "text/plain": [
       "<IPython.core.display.HTML object>"
      ]
     },
     "metadata": {},
     "output_type": "display_data"
    },
    {
     "name": "stdout",
     "output_type": "stream",
     "text": [
      "Zomer, duin in Zeeland\n",
      "\n"
     ]
    },
    {
     "data": {
      "text/html": [
       "<img src=\"http://commons.wikimedia.org/wiki/Special:FilePath/Summer%2C%20Dune%20in%20Zeeland%2C%20Piet%20Mondrian%2C%201910.jpg\" style=\"width: 200px; \" />"
      ],
      "text/plain": [
       "<IPython.core.display.HTML object>"
      ]
     },
     "metadata": {},
     "output_type": "display_data"
    },
    {
     "name": "stdout",
     "output_type": "stream",
     "text": [
      "Stilleven met gemberpot 1\n",
      "\n"
     ]
    },
    {
     "data": {
      "text/html": [
       "<img src=\"http://commons.wikimedia.org/wiki/Special:FilePath/Mondrian%2C%20Still%20Life%20with%20Gingerpot%20I.jpg\" style=\"width: 200px; \" />"
      ],
      "text/plain": [
       "<IPython.core.display.HTML object>"
      ]
     },
     "metadata": {},
     "output_type": "display_data"
    },
    {
     "name": "stdout",
     "output_type": "stream",
     "text": [
      "Composition no. III\n",
      "\n"
     ]
    },
    {
     "data": {
      "text/html": [
       "<img src=\"http://commons.wikimedia.org/wiki/Special:FilePath/Composition%208%2C%20Piet%20Mondrian%2C%201914.jpg\" style=\"width: 200px; \" />"
      ],
      "text/plain": [
       "<IPython.core.display.HTML object>"
      ]
     },
     "metadata": {},
     "output_type": "display_data"
    },
    {
     "name": "stdout",
     "output_type": "stream",
     "text": [
      "Compositie\n",
      "\n"
     ]
    },
    {
     "data": {
      "text/html": [
       "<img src=\"http://commons.wikimedia.org/wiki/Special:FilePath/Composition%2C%20Piet%20Mondrian%2C%201916.jpg\" style=\"width: 200px; \" />"
      ],
      "text/plain": [
       "<IPython.core.display.HTML object>"
      ]
     },
     "metadata": {},
     "output_type": "display_data"
    },
    {
     "name": "stdout",
     "output_type": "stream",
     "text": [
      "Tableau 2\n",
      "\n"
     ]
    },
    {
     "data": {
      "text/html": [
       "<img src=\"http://commons.wikimedia.org/wiki/Special:FilePath/Piet%20Mondriaan%20-%20Tableau%202%20-%2051.1309%20-%20Solomon%20R.%20Guggenheim%20Museum.jpg\" style=\"width: 200px; \" />"
      ],
      "text/plain": [
       "<IPython.core.display.HTML object>"
      ]
     },
     "metadata": {},
     "output_type": "display_data"
    },
    {
     "name": "stdout",
     "output_type": "stream",
     "text": [
      "Composition no. I\n",
      "\n"
     ]
    },
    {
     "data": {
      "text/html": [
       "<img src=\"http://commons.wikimedia.org/wiki/Special:FilePath/Mondrian%20-%20Composition%20No.%201%20Lozenge%20with%20Four%20Lines.jpg\" style=\"width: 200px; \" />"
      ],
      "text/plain": [
       "<IPython.core.display.HTML object>"
      ]
     },
     "metadata": {},
     "output_type": "display_data"
    },
    {
     "name": "stdout",
     "output_type": "stream",
     "text": [
      "Composition no. 1\n",
      "\n"
     ]
    },
    {
     "data": {
      "text/html": [
       "<img src=\"http://commons.wikimedia.org/wiki/Special:FilePath/Mondrian%20-%20Composition%20No.%201%20with%20Grey%20and%20Red%201938%20Composition%20with%20Red%201939%2C%201938%E2%80%9339.jpg\" style=\"width: 200px; \" />"
      ],
      "text/plain": [
       "<IPython.core.display.HTML object>"
      ]
     },
     "metadata": {},
     "output_type": "display_data"
    },
    {
     "name": "stdout",
     "output_type": "stream",
     "text": [
      "Truncated view of the Broekzijder mill on the Gein, wings facing west\n",
      "\n"
     ]
    },
    {
     "data": {
      "text/html": [
       "<img src=\"http://commons.wikimedia.org/wiki/Special:FilePath/Truncated%20View%20of%20the%20Broekzijdse%20Molen%20on%20the%20Gein%20by%20Piet%20Mondrian.jpg\" style=\"width: 200px; \" />"
      ],
      "text/plain": [
       "<IPython.core.display.HTML object>"
      ]
     },
     "metadata": {},
     "output_type": "display_data"
    },
    {
     "name": "stdout",
     "output_type": "stream",
     "text": [
      "Gemälde no. II\n",
      "\n"
     ]
    },
    {
     "data": {
      "text/html": [
       "<img src=\"http://commons.wikimedia.org/wiki/Special:FilePath/Composition%20in%20Brown%20and%20Gray%2C%20Piet%20Mondrian%2C%201913.jpg\" style=\"width: 200px; \" />"
      ],
      "text/plain": [
       "<IPython.core.display.HTML object>"
      ]
     },
     "metadata": {},
     "output_type": "display_data"
    },
    {
     "name": "stdout",
     "output_type": "stream",
     "text": [
      "Compositie no.5\n",
      "\n"
     ]
    },
    {
     "data": {
      "text/html": [
       "<img src=\"http://commons.wikimedia.org/wiki/Special:FilePath/Piet%20Mondriaan%20-%20Compositie%20no.5%20-%201774.1967%20-%20Museum%20of%20Modern%20Art.jpg\" style=\"width: 200px; \" />"
      ],
      "text/plain": [
       "<IPython.core.display.HTML object>"
      ]
     },
     "metadata": {},
     "output_type": "display_data"
    },
    {
     "name": "stdout",
     "output_type": "stream",
     "text": [
      "Compositie met rood, blauw, zwart, geel en grijs\n",
      "\n"
     ]
    },
    {
     "data": {
      "text/html": [
       "<img src=\"http://commons.wikimedia.org/wiki/Special:FilePath/Piet%20Mondriaan%20-%20Compositie%20met%20rood%2C%20blauw%2C%20zwart%2C%20geel%20en%20grijs%20-%200334328%20-%20Kunstmuseum%20Den%20Haag.jpg\" style=\"width: 200px; \" />"
      ],
      "text/plain": [
       "<IPython.core.display.HTML object>"
      ]
     },
     "metadata": {},
     "output_type": "display_data"
    },
    {
     "name": "stdout",
     "output_type": "stream",
     "text": [
      "Boerderij\n",
      "\n"
     ]
    },
    {
     "data": {
      "text/html": [
       "<img src=\"http://commons.wikimedia.org/wiki/Special:FilePath/Boerderij%2C%20Piet%20Mondriaan%2C%201895.jpg\" style=\"width: 200px; \" />"
      ],
      "text/plain": [
       "<IPython.core.display.HTML object>"
      ]
     },
     "metadata": {},
     "output_type": "display_data"
    },
    {
     "name": "stdout",
     "output_type": "stream",
     "text": [
      "Kopie naar de Pietà van Villeneuve-Lès-Avignon door Enguerrand Quarton\n",
      "\n"
     ]
    },
    {
     "data": {
      "text/html": [
       "<img src=\"http://commons.wikimedia.org/wiki/Special:FilePath/Piet%20Mondriaan%20-%20Piet%C3%A0%20de%20Villeneuve-L%C3%A9s-Avignon%20-%200335094%20-%20Kunstmuseum%20Den%20Haag.jpg\" style=\"width: 200px; \" />"
      ],
      "text/plain": [
       "<IPython.core.display.HTML object>"
      ]
     },
     "metadata": {},
     "output_type": "display_data"
    },
    {
     "name": "stdout",
     "output_type": "stream",
     "text": [
      "Oostzijdse molen\n",
      "\n"
     ]
    },
    {
     "data": {
      "text/html": [
       "<img src=\"http://commons.wikimedia.org/wiki/Special:FilePath/Piet%20Mondriaan%20-%20Mill%20near%20tall%20trees%20with%20bright%20color%20reflections%20-%200334871%20-%20Kunstmuseum%20Den%20Haag.jpg\" style=\"width: 200px; \" />"
      ],
      "text/plain": [
       "<IPython.core.display.HTML object>"
      ]
     },
     "metadata": {},
     "output_type": "display_data"
    },
    {
     "name": "stdout",
     "output_type": "stream",
     "text": [
      "Boerderij Landzicht\n",
      "\n"
     ]
    },
    {
     "data": {
      "text/html": [
       "<img src=\"http://commons.wikimedia.org/wiki/Special:FilePath/Piet%20Mondriaan%20-%20The%20Landzicht%20farm%20with%20fence%20and%20gateposts%20-%200333166%20-%20Kunstmuseum%20Den%20Haag.jpg\" style=\"width: 200px; \" />"
      ],
      "text/plain": [
       "<IPython.core.display.HTML object>"
      ]
     },
     "metadata": {},
     "output_type": "display_data"
    },
    {
     "name": "stdout",
     "output_type": "stream",
     "text": [
      "Duinen bij Domburg\n",
      "\n"
     ]
    },
    {
     "data": {
      "text/html": [
       "<img src=\"http://commons.wikimedia.org/wiki/Special:FilePath/Piet%20Mondriaan%20-%20Duinen%20bij%20Domburg%20%28authentiek%29%20-%200333338%20-%20Kunstmuseum%20Den%20Haag.jpg\" style=\"width: 200px; \" />"
      ],
      "text/plain": [
       "<IPython.core.display.HTML object>"
      ]
     },
     "metadata": {},
     "output_type": "display_data"
    },
    {
     "name": "stdout",
     "output_type": "stream",
     "text": [
      "Compositie met rood, zwart, geel, blauw en grijs\n",
      "\n"
     ]
    },
    {
     "data": {
      "text/html": [
       "<img src=\"http://commons.wikimedia.org/wiki/Special:FilePath/Piet%20Mondriaan%20-%20Composition%20with%20red%2C%20black%2C%20yellow%2C%20blue%20and%20grey%20-%200333163%20-%20Kunstmuseum%20Den%20Haag.jpg\" style=\"width: 200px; \" />"
      ],
      "text/plain": [
       "<IPython.core.display.HTML object>"
      ]
     },
     "metadata": {},
     "output_type": "display_data"
    },
    {
     "name": "stdout",
     "output_type": "stream",
     "text": [
      "Zee na zonsondergang\n",
      "\n"
     ]
    },
    {
     "data": {
      "text/html": [
       "<img src=\"http://commons.wikimedia.org/wiki/Special:FilePath/Piet%20mondrian%2C%20il%20mare%20dopo%20il%20tramonto%2C%201909.jpg\" style=\"width: 200px; \" />"
      ],
      "text/plain": [
       "<IPython.core.display.HTML object>"
      ]
     },
     "metadata": {},
     "output_type": "display_data"
    },
    {
     "name": "stdout",
     "output_type": "stream",
     "text": [
      "Huisje bij zon\n",
      "\n"
     ]
    },
    {
     "data": {
      "text/html": [
       "<img src=\"http://commons.wikimedia.org/wiki/Special:FilePath/Piet%20Mondriaan%20-%20Huisje%20bij%20zon%20%28authentiek%29%20-%200333033%20-%20Kunstmuseum%20Den%20Haag.jpg\" style=\"width: 200px; \" />"
      ],
      "text/plain": [
       "<IPython.core.display.HTML object>"
      ]
     },
     "metadata": {},
     "output_type": "display_data"
    },
    {
     "name": "stdout",
     "output_type": "stream",
     "text": [
      "De rode wolk\n",
      "\n"
     ]
    },
    {
     "data": {
      "text/html": [
       "<img src=\"http://commons.wikimedia.org/wiki/Special:FilePath/Piet%20Mondriaan%20-%20De%20rode%20wolk%20%28authentiek%29%20-%200333219%20-%20Kunstmuseum%20Den%20Haag.jpg\" style=\"width: 200px; \" />"
      ],
      "text/plain": [
       "<IPython.core.display.HTML object>"
      ]
     },
     "metadata": {},
     "output_type": "display_data"
    },
    {
     "name": "stdout",
     "output_type": "stream",
     "text": [
      "Slootje bij boerderij Landzicht\n",
      "\n"
     ]
    },
    {
     "data": {
      "text/html": [
       "<img src=\"http://commons.wikimedia.org/wiki/Special:FilePath/Piet%20Mondriaan%20-%20Irrigation%20ditch%20with%20young%20pollarded%20willow%20II%20-%200333221%20-%20Kunstmuseum%20Den%20Haag.jpg\" style=\"width: 200px; \" />"
      ],
      "text/plain": [
       "<IPython.core.display.HTML object>"
      ]
     },
     "metadata": {},
     "output_type": "display_data"
    },
    {
     "name": "stdout",
     "output_type": "stream",
     "text": [
      "Op het land\n",
      "\n"
     ]
    },
    {
     "data": {
      "text/html": [
       "<img src=\"http://commons.wikimedia.org/wiki/Special:FilePath/Piet%20Mondriaan%20-%20Op%20het%20land%20%28authentiek%29%20-%20A278%20-%20Piet%20Mondrian%2C%20catalogue%20raisonn%C3%A9.jpg\" style=\"width: 200px; \" />"
      ],
      "text/plain": [
       "<IPython.core.display.HTML object>"
      ]
     },
     "metadata": {},
     "output_type": "display_data"
    },
    {
     "name": "stdout",
     "output_type": "stream",
     "text": [
      "Avond aan het Gein\n",
      "\n"
     ]
    },
    {
     "data": {
      "text/html": [
       "<img src=\"http://commons.wikimedia.org/wiki/Special:FilePath/Piet%20Mondriaan%20-%20Isolated%20tree%20on%20the%20Gein%20in%20late%20evening%20-%200333224%20-%20Kunstmuseum%20Den%20Haag.jpg\" style=\"width: 200px; \" />"
      ],
      "text/plain": [
       "<IPython.core.display.HTML object>"
      ]
     },
     "metadata": {},
     "output_type": "display_data"
    },
    {
     "name": "stdout",
     "output_type": "stream",
     "text": [
      "Portret van D.J. Hulshoff Pol\n",
      "\n"
     ]
    },
    {
     "data": {
      "text/html": [
       "<img src=\"http://commons.wikimedia.org/wiki/Special:FilePath/Piet%20Mondriaan%20-%20Portret%20van%20Dirk%20Johan%20Hulshoff%20Pol%20%281894-1972%29%20-%200333461%20-%20Kunstmuseum%20Den%20Haag.jpg\" style=\"width: 200px; \" />"
      ],
      "text/plain": [
       "<IPython.core.display.HTML object>"
      ]
     },
     "metadata": {},
     "output_type": "display_data"
    },
    {
     "name": "stdout",
     "output_type": "stream",
     "text": [
      "Portret van J.P.G. Hulshoff Pol\n",
      "\n"
     ]
    },
    {
     "data": {
      "text/html": [
       "<img src=\"http://commons.wikimedia.org/wiki/Special:FilePath/Piet%20Mondriaan%20-%20Portret%20van%20Jan%20Pieter%20Geres%20Hulshoff%20Pol%20%281896-1928%29%20-%200333462%20-%20Kunstmuseum%20Den%20Haag.jpg\" style=\"width: 200px; \" />"
      ],
      "text/plain": [
       "<IPython.core.display.HTML object>"
      ]
     },
     "metadata": {},
     "output_type": "display_data"
    },
    {
     "name": "stdout",
     "output_type": "stream",
     "text": [
      "Avondlandschap\n",
      "\n"
     ]
    },
    {
     "data": {
      "text/html": [
       "<img src=\"http://commons.wikimedia.org/wiki/Special:FilePath/Piet%20Mondriaan%20-%20Night%20landscape%20II%20-%200332112%20-%20Kunstmuseum%20Den%20Haag.jpg\" style=\"width: 200px; \" />"
      ],
      "text/plain": [
       "<IPython.core.display.HTML object>"
      ]
     },
     "metadata": {},
     "output_type": "display_data"
    },
    {
     "name": "stdout",
     "output_type": "stream",
     "text": [
      "Boerderij met boerin aan de was\n",
      "\n"
     ]
    },
    {
     "data": {
      "text/html": [
       "<img src=\"http://commons.wikimedia.org/wiki/Special:FilePath/Piet%20Mondriaan%20-%20Haystacks%2C%20farm%20building%20and%20farm%20woman%20with%20the%20wash%20-%200334259%20-%20Kunstmuseum%20Den%20Haag.jpg\" style=\"width: 200px; \" />"
      ],
      "text/plain": [
       "<IPython.core.display.HTML object>"
      ]
     },
     "metadata": {},
     "output_type": "display_data"
    },
    {
     "name": "stdout",
     "output_type": "stream",
     "text": [
      "Knotwilgenbosje langs het Gein\n",
      "\n"
     ]
    },
    {
     "data": {
      "text/html": [
       "<img src=\"http://commons.wikimedia.org/wiki/Special:FilePath/Piet%20Mondriaan%20-%20Willow%20grove%20near%20the%20water%2C%20prominent%20tree%20at%20right%20-%200334263%20-%20Kunstmuseum%20Den%20Haag.jpg\" style=\"width: 200px; \" />"
      ],
      "text/plain": [
       "<IPython.core.display.HTML object>"
      ]
     },
     "metadata": {},
     "output_type": "display_data"
    },
    {
     "name": "stdout",
     "output_type": "stream",
     "text": [
      "Eenzame boom aan het Gein\n",
      "\n"
     ]
    },
    {
     "data": {
      "text/html": [
       "<img src=\"http://commons.wikimedia.org/wiki/Special:FilePath/Piet%20Mondriaan%20-%20Isolated%20tree%20on%20the%20Gein%20with%20streaked%20sky%20-%200334277%20-%20Kunstmuseum%20Den%20Haag.jpg\" style=\"width: 200px; \" />"
      ],
      "text/plain": [
       "<IPython.core.display.HTML object>"
      ]
     },
     "metadata": {},
     "output_type": "display_data"
    },
    {
     "name": "stdout",
     "output_type": "stream",
     "text": [
      "Compositie no. 3 met kleurvakjes\n",
      "\n"
     ]
    },
    {
     "data": {
      "text/html": [
       "<img src=\"http://commons.wikimedia.org/wiki/Special:FilePath/Piet%20mondrian%2C%20composizione%20n.%203%20con%20colori%20piatti%2C%201917.jpg\" style=\"width: 200px; \" />"
      ],
      "text/plain": [
       "<IPython.core.display.HTML object>"
      ]
     },
     "metadata": {},
     "output_type": "display_data"
    },
    {
     "name": "stdout",
     "output_type": "stream",
     "text": [
      "Boerderij aan een sloot met bomen\n",
      "\n"
     ]
    },
    {
     "data": {
      "text/html": [
       "<img src=\"http://commons.wikimedia.org/wiki/Special:FilePath/Piet%20Mondriaan%20-%20Curved%20canal%20with%20farm%20building%20at%20right%20-%200334211%20-%20Kunstmuseum%20Den%20Haag.jpg\" style=\"width: 200px; \" />"
      ],
      "text/plain": [
       "<IPython.core.display.HTML object>"
      ]
     },
     "metadata": {},
     "output_type": "display_data"
    },
    {
     "name": "stdout",
     "output_type": "stream",
     "text": [
      "Compositie met gele lijnen\n",
      "\n"
     ]
    },
    {
     "data": {
      "text/html": [
       "<img src=\"http://commons.wikimedia.org/wiki/Special:FilePath/Piet%20mondrian%2C%20composizione%20a%20losanga%20con%20linee%20gialle%2C%201933.jpg\" style=\"width: 200px; \" />"
      ],
      "text/plain": [
       "<IPython.core.display.HTML object>"
      ]
     },
     "metadata": {},
     "output_type": "display_data"
    },
    {
     "name": "stdout",
     "output_type": "stream",
     "text": [
      "Boomgaard met kippen\n",
      "\n"
     ]
    },
    {
     "data": {
      "text/html": [
       "<img src=\"http://commons.wikimedia.org/wiki/Special:FilePath/Boomgaard%20met%20kippen%2C%20Piet%20Mondriaan%2C%201901.jpg\" style=\"width: 200px; \" />"
      ],
      "text/plain": [
       "<IPython.core.display.HTML object>"
      ]
     },
     "metadata": {},
     "output_type": "display_data"
    },
    {
     "name": "stdout",
     "output_type": "stream",
     "text": [
      "Groot landschap\n",
      "\n"
     ]
    },
    {
     "data": {
      "text/html": [
       "<img src=\"http://commons.wikimedia.org/wiki/Special:FilePath/Piet%20Mondriaan%20-%20Riverscape%20with%20row%20of%20trees%20at%20left%2C%20sky%20with%20pink%20and%20yellow-green%20bands%2C%20farmstead%20on%20the%20Gein%20screened%20by%20tall%20trees%20-%200334269%20-%20Kunstmuseum%20Den%20Haag.jpg\" style=\"width: 200px; \" />"
      ],
      "text/plain": [
       "<IPython.core.display.HTML object>"
      ]
     },
     "metadata": {},
     "output_type": "display_data"
    },
    {
     "name": "stdout",
     "output_type": "stream",
     "text": [
      "Avondlandschap aan het Gein\n",
      "\n"
     ]
    },
    {
     "data": {
      "text/html": [
       "<img src=\"http://commons.wikimedia.org/wiki/Special:FilePath/Piet%20Mondriaan%20-%20Farmstead%20on%20the%20Gein%20screened%20by%20tall%20trees%2C%20greenish%20streaks%20sky%20with%20crescent%20moon%20-%200334251%20-%20Kunstmuseum%20Den%20Haag.jpg\" style=\"width: 200px; \" />"
      ],
      "text/plain": [
       "<IPython.core.display.HTML object>"
      ]
     },
     "metadata": {},
     "output_type": "display_data"
    },
    {
     "name": "stdout",
     "output_type": "stream",
     "text": [
      "Landschap met bomen aan het Gein\n",
      "\n"
     ]
    },
    {
     "data": {
      "text/html": [
       "<img src=\"http://commons.wikimedia.org/wiki/Special:FilePath/Piet%20Mondriaan%20-%20Bend%20in%20the%20Gein%20with%20poplars%2C%20three%20isolated%2C%20and%20farm%20woman%20with%20cows%20-%200334231%20-%20Kunstmuseum%20Den%20Haag.jpg\" style=\"width: 200px; \" />"
      ],
      "text/plain": [
       "<IPython.core.display.HTML object>"
      ]
     },
     "metadata": {},
     "output_type": "display_data"
    },
    {
     "name": "stdout",
     "output_type": "stream",
     "text": [
      "Molen achter hoge bomen\n",
      "\n"
     ]
    },
    {
     "data": {
      "text/html": [
       "<img src=\"http://commons.wikimedia.org/wiki/Special:FilePath/Piet%20Mondriaan%20-%20Windmill%20near%20tall%20trees%20-%200334252%20-%20Kunstmuseum%20Den%20Haag.jpg\" style=\"width: 200px; \" />"
      ],
      "text/plain": [
       "<IPython.core.display.HTML object>"
      ]
     },
     "metadata": {},
     "output_type": "display_data"
    },
    {
     "name": "stdout",
     "output_type": "stream",
     "text": [
      "Gezicht op de Schinkelbuurt\n",
      "\n"
     ]
    },
    {
     "data": {
      "text/html": [
       "<img src=\"http://commons.wikimedia.org/wiki/Special:FilePath/Gezicht%20op%20de%20Schinkelbuurt.jpg\" style=\"width: 200px; \" />"
      ],
      "text/plain": [
       "<IPython.core.display.HTML object>"
      ]
     },
     "metadata": {},
     "output_type": "display_data"
    },
    {
     "name": "stdout",
     "output_type": "stream",
     "text": [
      "Het Gein: Bomen aan het water\n",
      "\n"
     ]
    },
    {
     "data": {
      "text/html": [
       "<img src=\"http://commons.wikimedia.org/wiki/Special:FilePath/Piet%20Mondriaan%20-%20Bend%20in%20the%20Gein%20with%20row%20of%20eleven%20poplars%20IV%20-%200334267%20-%20Kunstmuseum%20Den%20Haag.jpg\" style=\"width: 200px; \" />"
      ],
      "text/plain": [
       "<IPython.core.display.HTML object>"
      ]
     },
     "metadata": {},
     "output_type": "display_data"
    },
    {
     "name": "stdout",
     "output_type": "stream",
     "text": [
      "Duin IV\n",
      "\n"
     ]
    },
    {
     "data": {
      "text/html": [
       "<img src=\"http://commons.wikimedia.org/wiki/Special:FilePath/Piet%20Mondriaan%20-%20Dune%20sketch%20in%20orange%2C%20pink%20and%20blue%20-%200334302%20-%20Kunstmuseum%20Den%20Haag.jpg\" style=\"width: 200px; \" />"
      ],
      "text/plain": [
       "<IPython.core.display.HTML object>"
      ]
     },
     "metadata": {},
     "output_type": "display_data"
    },
    {
     "name": "stdout",
     "output_type": "stream",
     "text": [
      "Compositie met rood, geel, zwart, blauw en grijs\n",
      "\n"
     ]
    },
    {
     "data": {
      "text/html": [
       "<img src=\"http://commons.wikimedia.org/wiki/Special:FilePath/Piet%20Mondriaan%20-%20Composition%20with%20red%2C%20yellow%2C%20black%2C%20blue%2C%20and%20gray%20-%201038646%20-%20Kunstmuseum%20Den%20Haag.jpg\" style=\"width: 200px; \" />"
      ],
      "text/plain": [
       "<IPython.core.display.HTML object>"
      ]
     },
     "metadata": {},
     "output_type": "display_data"
    },
    {
     "name": "stdout",
     "output_type": "stream",
     "text": [
      "Boerderij met bomen\n",
      "\n"
     ]
    },
    {
     "data": {
      "text/html": [
       "<img src=\"http://commons.wikimedia.org/wiki/Special:FilePath/Piet%20Mondriaan%20-%20Sheltered%20farmhouse%20with%20tall%20manicured%20trees%20at%20left%20-%200334235%20-%20Kunstmuseum%20Den%20Haag.jpg\" style=\"width: 200px; \" />"
      ],
      "text/plain": [
       "<IPython.core.display.HTML object>"
      ]
     },
     "metadata": {},
     "output_type": "display_data"
    },
    {
     "name": "stdout",
     "output_type": "stream",
     "text": [
      "Weidelandschap met koeien\n",
      "\n"
     ]
    },
    {
     "data": {
      "text/html": [
       "<img src=\"http://commons.wikimedia.org/wiki/Special:FilePath/Piet%20Mondriaan%20-%20Landscape%20with%20four%20cows%20in%20profile%20-%200334242%20-%20Kunstmuseum%20Den%20Haag.jpg\" style=\"width: 200px; \" />"
      ],
      "text/plain": [
       "<IPython.core.display.HTML object>"
      ]
     },
     "metadata": {},
     "output_type": "display_data"
    },
    {
     "name": "stdout",
     "output_type": "stream",
     "text": [
      "Boerderij, Brabant\n",
      "\n"
     ]
    },
    {
     "data": {
      "text/html": [
       "<img src=\"http://commons.wikimedia.org/wiki/Special:FilePath/Piet%20Mondriaan%20-%20Truncated%20farm%20building%20in%20Brabant%20-%200334243%20-%20Kunstmuseum%20Den%20Haag.jpg\" style=\"width: 200px; \" />"
      ],
      "text/plain": [
       "<IPython.core.display.HTML object>"
      ]
     },
     "metadata": {},
     "output_type": "display_data"
    },
    {
     "name": "stdout",
     "output_type": "stream",
     "text": [
      "Dorpsgezicht\n",
      "\n"
     ]
    },
    {
     "data": {
      "text/html": [
       "<img src=\"http://commons.wikimedia.org/wiki/Special:FilePath/Piet%20Mondriaan%20-%20Farm%20buildings%20in%20an%20Achterhoek%20village%20-%200334246%20-%20Kunstmuseum%20Den%20Haag.jpg\" style=\"width: 200px; \" />"
      ],
      "text/plain": [
       "<IPython.core.display.HTML object>"
      ]
     },
     "metadata": {},
     "output_type": "display_data"
    },
    {
     "name": "stdout",
     "output_type": "stream",
     "text": [
      "Avond\n",
      "\n"
     ]
    },
    {
     "data": {
      "text/html": [
       "<img src=\"http://commons.wikimedia.org/wiki/Special:FilePath/Piet%20Mondriaan%20-%20Riverscape%20in%20the%20evening%2C%20buildings%20at%20right%20-%200334250%20-%20Kunstmuseum%20Den%20Haag.jpg\" style=\"width: 200px; \" />"
      ],
      "text/plain": [
       "<IPython.core.display.HTML object>"
      ]
     },
     "metadata": {},
     "output_type": "display_data"
    },
    {
     "name": "stdout",
     "output_type": "stream",
     "text": [
      "De Kostverlorenvaart\n",
      "\n"
     ]
    },
    {
     "data": {
      "text/html": [
       "<img src=\"http://commons.wikimedia.org/wiki/Special:FilePath/Piet%20Mondriaan%20-%20The%20Kostverlorenvaart%20-%200334261%20-%20Kunstmuseum%20Den%20Haag.jpg\" style=\"width: 200px; \" />"
      ],
      "text/plain": [
       "<IPython.core.display.HTML object>"
      ]
     },
     "metadata": {},
     "output_type": "display_data"
    },
    {
     "name": "stdout",
     "output_type": "stream",
     "text": [
      "Twee chrysanten\n",
      "\n"
     ]
    },
    {
     "data": {
      "text/html": [
       "<img src=\"http://commons.wikimedia.org/wiki/Special:FilePath/Piet%20Mondriaan%20-%20Two%20chrysanthemum%20blossoms%20-%200334265%20-%20Kunstmuseum%20Den%20Haag.jpg\" style=\"width: 200px; \" />"
      ],
      "text/plain": [
       "<IPython.core.display.HTML object>"
      ]
     },
     "metadata": {},
     "output_type": "display_data"
    },
    {
     "name": "stdout",
     "output_type": "stream",
     "text": [
      "Wilgen aan het Gein\n",
      "\n"
     ]
    },
    {
     "data": {
      "text/html": [
       "<img src=\"http://commons.wikimedia.org/wiki/Special:FilePath/Piet%20Mondriaan%20-%20Willows%20bordering%20an%20irrigation%20ditch%20near%20a%20farm%20building%20-%200334266%20-%20Kunstmuseum%20Den%20Haag.jpg\" style=\"width: 200px; \" />"
      ],
      "text/plain": [
       "<IPython.core.display.HTML object>"
      ]
     },
     "metadata": {},
     "output_type": "display_data"
    },
    {
     "name": "stdout",
     "output_type": "stream",
     "text": [
      "Baggermolen\n",
      "\n"
     ]
    },
    {
     "data": {
      "text/html": [
       "<img src=\"http://commons.wikimedia.org/wiki/Special:FilePath/Piet%20Mondriaan%20-%20Dredge%20II%20-%200334271%20-%20Kunstmuseum%20Den%20Haag.jpg\" style=\"width: 200px; \" />"
      ],
      "text/plain": [
       "<IPython.core.display.HTML object>"
      ]
     },
     "metadata": {},
     "output_type": "display_data"
    },
    {
     "name": "stdout",
     "output_type": "stream",
     "text": [
      "Weide met koeien\n",
      "\n"
     ]
    },
    {
     "data": {
      "text/html": [
       "<img src=\"http://commons.wikimedia.org/wiki/Special:FilePath/Piet%20Mondriaan%20-%20Watercourse%2C%20field%20with%20cows%20and%20sky%20with%20cloud%20-%200334221%20-%20Kunstmuseum%20Den%20Haag.jpg\" style=\"width: 200px; \" />"
      ],
      "text/plain": [
       "<IPython.core.display.HTML object>"
      ]
     },
     "metadata": {},
     "output_type": "display_data"
    },
    {
     "name": "stdout",
     "output_type": "stream",
     "text": [
      "Bos\n",
      "\n"
     ]
    },
    {
     "data": {
      "text/html": [
       "<img src=\"http://commons.wikimedia.org/wiki/Special:FilePath/Piet%20Mondriaan%20-%20Woods%20-%200334223%20-%20Kunstmuseum%20Den%20Haag.jpg\" style=\"width: 200px; \" />"
      ],
      "text/plain": [
       "<IPython.core.display.HTML object>"
      ]
     },
     "metadata": {},
     "output_type": "display_data"
    },
    {
     "name": "stdout",
     "output_type": "stream",
     "text": [
      "Bloeiende bomen\n",
      "\n"
     ]
    },
    {
     "data": {
      "text/html": [
       "<img src=\"http://commons.wikimedia.org/wiki/Special:FilePath/Piet%20Mondriaan%20-%20Blossoming%20trees%20before%20a%20haystack%20-%200334226%20-%20Kunstmuseum%20Den%20Haag.jpg\" style=\"width: 200px; \" />"
      ],
      "text/plain": [
       "<IPython.core.display.HTML object>"
      ]
     },
     "metadata": {},
     "output_type": "display_data"
    },
    {
     "name": "stdout",
     "output_type": "stream",
     "text": [
      "Landweg met huizen\n",
      "\n"
     ]
    },
    {
     "data": {
      "text/html": [
       "<img src=\"http://commons.wikimedia.org/wiki/Special:FilePath/Piet%20Mondriaan%20-%20Country%20lane%20with%20houses%20-%200334227%20-%20Kunstmuseum%20Den%20Haag.jpg\" style=\"width: 200px; \" />"
      ],
      "text/plain": [
       "<IPython.core.display.HTML object>"
      ]
     },
     "metadata": {},
     "output_type": "display_data"
    },
    {
     "name": "stdout",
     "output_type": "stream",
     "text": [
      "Studie naar twee koeien\n",
      "\n"
     ]
    },
    {
     "data": {
      "text/html": [
       "<img src=\"http://commons.wikimedia.org/wiki/Special:FilePath/Piet%20Mondriaan%20-%20Study%20of%20two%20cows%20-%200334273%20-%20Kunstmuseum%20Den%20Haag.jpg\" style=\"width: 200px; \" />"
      ],
      "text/plain": [
       "<IPython.core.display.HTML object>"
      ]
     },
     "metadata": {},
     "output_type": "display_data"
    },
    {
     "name": "stdout",
     "output_type": "stream",
     "text": [
      "Mijmering\n",
      "\n"
     ]
    },
    {
     "data": {
      "text/html": [
       "<img src=\"http://commons.wikimedia.org/wiki/Special:FilePath/Piet%20Mondriaan%20-%20Portrait%20of%20a%20girl%20in%20red%20-%200334287%20-%20Kunstmuseum%20Den%20Haag.jpg\" style=\"width: 200px; \" />"
      ],
      "text/plain": [
       "<IPython.core.display.HTML object>"
      ]
     },
     "metadata": {},
     "output_type": "display_data"
    },
    {
     "name": "stdout",
     "output_type": "stream",
     "text": [
      "Roodbonte vaars in de weide\n",
      "\n"
     ]
    },
    {
     "data": {
      "text/html": [
       "<img src=\"http://commons.wikimedia.org/wiki/Special:FilePath/Piet%20Mondriaan%20-%20Brown%20and%20white%20heifer%20-%200334212%20-%20Kunstmuseum%20Den%20Haag.jpg\" style=\"width: 200px; \" />"
      ],
      "text/plain": [
       "<IPython.core.display.HTML object>"
      ]
     },
     "metadata": {},
     "output_type": "display_data"
    },
    {
     "name": "stdout",
     "output_type": "stream",
     "text": [
      "Twee figuren\n",
      "\n"
     ]
    },
    {
     "data": {
      "text/html": [
       "<img src=\"http://commons.wikimedia.org/wiki/Special:FilePath/Piet%20Mondriaan%20-%20Images%20of%20torsos%20-%200334213%20-%20Kunstmuseum%20Den%20Haag.jpg\" style=\"width: 200px; \" />"
      ],
      "text/plain": [
       "<IPython.core.display.HTML object>"
      ]
     },
     "metadata": {},
     "output_type": "display_data"
    },
    {
     "name": "stdout",
     "output_type": "stream",
     "text": [
      "Vrouwen met kind voor boerderij\n",
      "\n"
     ]
    },
    {
     "data": {
      "text/html": [
       "<img src=\"http://commons.wikimedia.org/wiki/Special:FilePath/Piet%20Mondriaan%20-%20Rear%20gables%20of%20farm%20buildings%20with%20figures%20-%201001562%20-%20Kunstmuseum%20Den%20Haag.jpg\" style=\"width: 200px; \" />"
      ],
      "text/plain": [
       "<IPython.core.display.HTML object>"
      ]
     },
     "metadata": {},
     "output_type": "display_data"
    },
    {
     "name": "stdout",
     "output_type": "stream",
     "text": [
      "Sloot met twee wilgen\n",
      "\n"
     ]
    },
    {
     "data": {
      "text/html": [
       "<img src=\"http://commons.wikimedia.org/wiki/Special:FilePath/Piet%20Mondriaan%20-%20Irrigation%20ditch%20with%20two%20willows%20-%200333295%20-%20Kunstmuseum%20Den%20Haag.jpg\" style=\"width: 200px; \" />"
      ],
      "text/plain": [
       "<IPython.core.display.HTML object>"
      ]
     },
     "metadata": {},
     "output_type": "display_data"
    },
    {
     "name": "stdout",
     "output_type": "stream",
     "text": [
      "Boerenhoeve aan een sloot\n",
      "\n"
     ]
    },
    {
     "data": {
      "text/html": [
       "<img src=\"http://commons.wikimedia.org/wiki/Special:FilePath/Piet%20Mondriaan%20-%20Farmstead%20and%20irrigation%20ditch%20with%20prow%20of%20rowboat%20-%200333234%20-%20Kunstmuseum%20Den%20Haag.jpg\" style=\"width: 200px; \" />"
      ],
      "text/plain": [
       "<IPython.core.display.HTML object>"
      ]
     },
     "metadata": {},
     "output_type": "display_data"
    },
    {
     "name": "stdout",
     "output_type": "stream",
     "text": [
      "Bij de ossenstal\n",
      "\n"
     ]
    },
    {
     "data": {
      "text/html": [
       "<img src=\"http://commons.wikimedia.org/wiki/Special:FilePath/Piet%20Mondriaan%20-%20Near%20the%20ox%20stall%2C%20Hilvarenbeek%20-%200333223%20-%20Kunstmuseum%20Den%20Haag.jpg\" style=\"width: 200px; \" />"
      ],
      "text/plain": [
       "<IPython.core.display.HTML object>"
      ]
     },
     "metadata": {},
     "output_type": "display_data"
    },
    {
     "name": "stdout",
     "output_type": "stream",
     "text": [
      "Schuur te Nistelrode\n",
      "\n"
     ]
    },
    {
     "data": {
      "text/html": [
       "<img src=\"http://commons.wikimedia.org/wiki/Special:FilePath/Piet%20Mondriaan%20-%20Barn%20doors%20of%20a%20Brabant%20farm%20building%20-%200333225%20-%20Kunstmuseum%20Den%20Haag.jpg\" style=\"width: 200px; \" />"
      ],
      "text/plain": [
       "<IPython.core.display.HTML object>"
      ]
     },
     "metadata": {},
     "output_type": "display_data"
    },
    {
     "name": "stdout",
     "output_type": "stream",
     "text": [
      "Het Gein: bomen aan het water\n",
      "\n"
     ]
    },
    {
     "data": {
      "text/html": [
       "<img src=\"http://commons.wikimedia.org/wiki/Special:FilePath/Piet%20Mondriaan%20-%20Bend%20in%20the%20Gein%2C%20detail%20study%20-%200333467%20-%20Kunstmuseum%20Den%20Haag.jpg\" style=\"width: 200px; \" />"
      ],
      "text/plain": [
       "<IPython.core.display.HTML object>"
      ]
     },
     "metadata": {},
     "output_type": "display_data"
    },
    {
     "name": "stdout",
     "output_type": "stream",
     "text": [
      "Boerderijen met op de voorgrond een hek\n",
      "\n"
     ]
    },
    {
     "data": {
      "text/html": [
       "<img src=\"http://commons.wikimedia.org/wiki/Special:FilePath/Piet%20Mondriaan%20-%20Farm%20buildings%20with%20fence%20in%20foreground%20-%200333469%20-%20Kunstmuseum%20Den%20Haag.jpg\" style=\"width: 200px; \" />"
      ],
      "text/plain": [
       "<IPython.core.display.HTML object>"
      ]
     },
     "metadata": {},
     "output_type": "display_data"
    },
    {
     "name": "stdout",
     "output_type": "stream",
     "text": [
      "Huis aan het water met vrouw aan de was\n",
      "\n"
     ]
    },
    {
     "data": {
      "text/html": [
       "<img src=\"http://commons.wikimedia.org/wiki/Special:FilePath/Piet%20Mondriaan%20-%20House%20fa%C3%A7ade%20on%20the%20water%20with%20woman%20washing%20-%200333470%20-%20Kunstmuseum%20Den%20Haag.jpg\" style=\"width: 200px; \" />"
      ],
      "text/plain": [
       "<IPython.core.display.HTML object>"
      ]
     },
     "metadata": {},
     "output_type": "display_data"
    },
    {
     "name": "stdout",
     "output_type": "stream",
     "text": [
      "Avondlandschap met koeien\n",
      "\n"
     ]
    },
    {
     "data": {
      "text/html": [
       "<img src=\"http://commons.wikimedia.org/wiki/Special:FilePath/Piet%20Mondriaan%20-%20Evening%20landscape%20with%20cows%20-%200333471%20-%20Kunstmuseum%20Den%20Haag.jpg\" style=\"width: 200px; \" />"
      ],
      "text/plain": [
       "<IPython.core.display.HTML object>"
      ]
     },
     "metadata": {},
     "output_type": "display_data"
    },
    {
     "name": "stdout",
     "output_type": "stream",
     "text": [
      "De Koninklijke Waskaarsenfabriek\n",
      "\n"
     ]
    },
    {
     "data": {
      "text/html": [
       "<img src=\"http://commons.wikimedia.org/wiki/Special:FilePath/Piet%20Mondriaan%20-%20The%20royal%20wax%20candle%20factory%2C%20oil%20sketch%20-%200333845%20-%20Kunstmuseum%20Den%20Haag.jpg\" style=\"width: 200px; \" />"
      ],
      "text/plain": [
       "<IPython.core.display.HTML object>"
      ]
     },
     "metadata": {},
     "output_type": "display_data"
    },
    {
     "name": "stdout",
     "output_type": "stream",
     "text": [
      "De Boerenwetering\n",
      "\n"
     ]
    },
    {
     "data": {
      "text/html": [
       "<img src=\"http://commons.wikimedia.org/wiki/Special:FilePath/Piet%20Mondriaan%20-%20The%20Boerenwetering%20with%20shed%20of%20the%20royal%20wax%20candle%20factory%20-%200334244%20-%20Kunstmuseum%20Den%20Haag.jpg\" style=\"width: 200px; \" />"
      ],
      "text/plain": [
       "<IPython.core.display.HTML object>"
      ]
     },
     "metadata": {},
     "output_type": "display_data"
    },
    {
     "name": "stdout",
     "output_type": "stream",
     "text": [
      "Boerderij met wilgen aan het Gein\n",
      "\n"
     ]
    },
    {
     "data": {
      "text/html": [
       "<img src=\"http://commons.wikimedia.org/wiki/Special:FilePath/Piet%20Mondriaan%20-%20Farmstead%20with%20willows%20on%20the%20water%20II%20-%200333472%20-%20Kunstmuseum%20Den%20Haag.jpg\" style=\"width: 200px; \" />"
      ],
      "text/plain": [
       "<IPython.core.display.HTML object>"
      ]
     },
     "metadata": {},
     "output_type": "display_data"
    },
    {
     "name": "stdout",
     "output_type": "stream",
     "text": [
      "Bleekerij aan het Gein\n",
      "\n"
     ]
    },
    {
     "data": {
      "text/html": [
       "<img src=\"http://commons.wikimedia.org/wiki/Special:FilePath/Piet%20Mondriaan%20-%20Narrow%20farm%20building%20and%20trees%20along%20the%20water%20-%200334272%20-%20Kunstmuseum%20Den%20Haag.jpg\" style=\"width: 200px; \" />"
      ],
      "text/plain": [
       "<IPython.core.display.HTML object>"
      ]
     },
     "metadata": {},
     "output_type": "display_data"
    },
    {
     "name": "stdout",
     "output_type": "stream",
     "text": [
      "Boerderij tussen eikenbomen\n",
      "\n"
     ]
    },
    {
     "data": {
      "text/html": [
       "<img src=\"http://commons.wikimedia.org/wiki/Special:FilePath/Piet%20Mondriaan%20-%20Farmstead%20under%20oak%20trees%20I%20-%200334279%20-%20Kunstmuseum%20Den%20Haag.jpg\" style=\"width: 200px; \" />"
      ],
      "text/plain": [
       "<IPython.core.display.HTML object>"
      ]
     },
     "metadata": {},
     "output_type": "display_data"
    },
    {
     "name": "stdout",
     "output_type": "stream",
     "text": [
      "Wilgenbosje\n",
      "\n"
     ]
    },
    {
     "data": {
      "text/html": [
       "<img src=\"http://commons.wikimedia.org/wiki/Special:FilePath/Piet%20Mondriaan%20-%20Willow%20grove%20with%20flattened%20images%20-%200334245%20-%20Kunstmuseum%20Den%20Haag.jpg\" style=\"width: 200px; \" />"
      ],
      "text/plain": [
       "<IPython.core.display.HTML object>"
      ]
     },
     "metadata": {},
     "output_type": "display_data"
    },
    {
     "name": "stdout",
     "output_type": "stream",
     "text": [
      "Tableau No. 3: Composition in Oval\n",
      "\n"
     ]
    },
    {
     "data": {
      "text/html": [
       "<img src=\"http://commons.wikimedia.org/wiki/Special:FilePath/Tableau%20no%203%20compositie%20in%20ovaal%2C%20Piet%20Mondrian%2C%201913.jpg\" style=\"width: 200px; \" />"
      ],
      "text/plain": [
       "<IPython.core.display.HTML object>"
      ]
     },
     "metadata": {},
     "output_type": "display_data"
    },
    {
     "name": "stdout",
     "output_type": "stream",
     "text": [
      "Tableau no. 3: compositie in ovaal\n",
      "\n"
     ]
    },
    {
     "data": {
      "text/html": [
       "<img src=\"http://commons.wikimedia.org/wiki/Special:FilePath/Tableau%20no%203%20compositie%20in%20ovaal%2C%20Piet%20Mondrian%2C%201913.jpg\" style=\"width: 200px; \" />"
      ],
      "text/plain": [
       "<IPython.core.display.HTML object>"
      ]
     },
     "metadata": {},
     "output_type": "display_data"
    },
    {
     "name": "stdout",
     "output_type": "stream",
     "text": [
      "Stilleven met haringen\n",
      "\n"
     ]
    },
    {
     "data": {
      "text/html": [
       "<img src=\"http://commons.wikimedia.org/wiki/Special:FilePath/Stilleven%20met%20haringen.jpg\" style=\"width: 200px; \" />"
      ],
      "text/plain": [
       "<IPython.core.display.HTML object>"
      ]
     },
     "metadata": {},
     "output_type": "display_data"
    },
    {
     "name": "stdout",
     "output_type": "stream",
     "text": [
      "Still Life with Herrings\n",
      "\n"
     ]
    },
    {
     "data": {
      "text/html": [
       "<img src=\"http://commons.wikimedia.org/wiki/Special:FilePath/Stilleven%20met%20haringen.jpg\" style=\"width: 200px; \" />"
      ],
      "text/plain": [
       "<IPython.core.display.HTML object>"
      ]
     },
     "metadata": {},
     "output_type": "display_data"
    },
    {
     "name": "stdout",
     "output_type": "stream",
     "text": [
      "Painting No. II / Composition No. XV / Composition 4\n",
      "\n"
     ]
    },
    {
     "data": {
      "text/html": [
       "<img src=\"http://commons.wikimedia.org/wiki/Special:FilePath/Schilderij%20no.%20II.jpg\" style=\"width: 200px; \" />"
      ],
      "text/plain": [
       "<IPython.core.display.HTML object>"
      ]
     },
     "metadata": {},
     "output_type": "display_data"
    },
    {
     "name": "stdout",
     "output_type": "stream",
     "text": [
      "Schilderij no. II / Compositie no. XV / Compositie 4\n",
      "\n"
     ]
    },
    {
     "data": {
      "text/html": [
       "<img src=\"http://commons.wikimedia.org/wiki/Special:FilePath/Schilderij%20no.%20II.jpg\" style=\"width: 200px; \" />"
      ],
      "text/plain": [
       "<IPython.core.display.HTML object>"
      ]
     },
     "metadata": {},
     "output_type": "display_data"
    },
    {
     "name": "stdout",
     "output_type": "stream",
     "text": [
      "Composition with Yellow, Red, Black, Blue, and Gray\n",
      "\n"
     ]
    },
    {
     "data": {
      "text/html": [
       "<img src=\"http://commons.wikimedia.org/wiki/Special:FilePath/Piet%20Mondriaan%20-%20Composition%20with%20yellow%2C%20red%2C%20black%2C%20blue%20and%20gray%20-%20A%209864%20-%20Stedelijk%20Museum%20Amsterdam.jpg\" style=\"width: 200px; \" />"
      ],
      "text/plain": [
       "<IPython.core.display.HTML object>"
      ]
     },
     "metadata": {},
     "output_type": "display_data"
    },
    {
     "name": "stdout",
     "output_type": "stream",
     "text": [
      "Compositie met geel, rood, zwart, blauw en grijs\n",
      "\n"
     ]
    },
    {
     "data": {
      "text/html": [
       "<img src=\"http://commons.wikimedia.org/wiki/Special:FilePath/Piet%20Mondriaan%20-%20Composition%20with%20yellow%2C%20red%2C%20black%2C%20blue%20and%20gray%20-%20A%209864%20-%20Stedelijk%20Museum%20Amsterdam.jpg\" style=\"width: 200px; \" />"
      ],
      "text/plain": [
       "<IPython.core.display.HTML object>"
      ]
     },
     "metadata": {},
     "output_type": "display_data"
    },
    {
     "name": "stdout",
     "output_type": "stream",
     "text": [
      "kaka\n",
      "\n"
     ]
    },
    {
     "data": {
      "text/html": [
       "<img src=\"http://commons.wikimedia.org/wiki/Special:FilePath/Piet%20Mondriaan%2C%20composition%20No.%20IV%2C%20with%20Red%2C%20Blue%20and%20Yellow%2C%201929.jpg\" style=\"width: 200px; \" />"
      ],
      "text/plain": [
       "<IPython.core.display.HTML object>"
      ]
     },
     "metadata": {},
     "output_type": "display_data"
    },
    {
     "name": "stdout",
     "output_type": "stream",
     "text": [
      "Composition No.IV, with Red, Blue, and Yellow\n",
      "\n"
     ]
    },
    {
     "data": {
      "text/html": [
       "<img src=\"http://commons.wikimedia.org/wiki/Special:FilePath/Piet%20Mondriaan%2C%20composition%20No.%20IV%2C%20with%20Red%2C%20Blue%20and%20Yellow%2C%201929.jpg\" style=\"width: 200px; \" />"
      ],
      "text/plain": [
       "<IPython.core.display.HTML object>"
      ]
     },
     "metadata": {},
     "output_type": "display_data"
    },
    {
     "name": "stdout",
     "output_type": "stream",
     "text": [
      "Farm Setting, Four Tall Trees in the Foreground I\n",
      "\n"
     ]
    },
    {
     "data": {
      "text/html": [
       "<img src=\"http://commons.wikimedia.org/wiki/Special:FilePath/Boerderij%20met%20vier%20hoge%20bomen%20in%20de%20voorgrond%20I%2C%20Piet%20Mondrian%2C%201907.jpg\" style=\"width: 200px; \" />"
      ],
      "text/plain": [
       "<IPython.core.display.HTML object>"
      ]
     },
     "metadata": {},
     "output_type": "display_data"
    },
    {
     "name": "stdout",
     "output_type": "stream",
     "text": [
      "Boerderij met vier hoge bomen in de voorgrond I\n",
      "\n"
     ]
    },
    {
     "data": {
      "text/html": [
       "<img src=\"http://commons.wikimedia.org/wiki/Special:FilePath/Boerderij%20met%20vier%20hoge%20bomen%20in%20de%20voorgrond%20I%2C%20Piet%20Mondrian%2C%201907.jpg\" style=\"width: 200px; \" />"
      ],
      "text/plain": [
       "<IPython.core.display.HTML object>"
      ]
     },
     "metadata": {},
     "output_type": "display_data"
    },
    {
     "name": "stdout",
     "output_type": "stream",
     "text": [
      "Composition with Blue, Yellow, Red, Black, and Gray\n",
      "\n"
     ]
    },
    {
     "data": {
      "text/html": [
       "<img src=\"http://commons.wikimedia.org/wiki/Special:FilePath/Composition%20with%20blue%2C%20yellow%2C%20red%2C%20black%2C%20and%20gray%20by%20Piet%20Mondrian%20Stedelijk%20Museum%20Amsterdam%20A%201996.jpg\" style=\"width: 200px; \" />"
      ],
      "text/plain": [
       "<IPython.core.display.HTML object>"
      ]
     },
     "metadata": {},
     "output_type": "display_data"
    },
    {
     "name": "stdout",
     "output_type": "stream",
     "text": [
      "Compositie met blauw, geel, rood, zwart en grijs\n",
      "\n"
     ]
    },
    {
     "data": {
      "text/html": [
       "<img src=\"http://commons.wikimedia.org/wiki/Special:FilePath/Composition%20with%20blue%2C%20yellow%2C%20red%2C%20black%2C%20and%20gray%20by%20Piet%20Mondrian%20Stedelijk%20Museum%20Amsterdam%20A%201996.jpg\" style=\"width: 200px; \" />"
      ],
      "text/plain": [
       "<IPython.core.display.HTML object>"
      ]
     },
     "metadata": {},
     "output_type": "display_data"
    },
    {
     "name": "stdout",
     "output_type": "stream",
     "text": [
      "Lozenge Composition with Two Lines\n",
      "\n"
     ]
    },
    {
     "data": {
      "text/html": [
       "<img src=\"http://commons.wikimedia.org/wiki/Special:FilePath/Ruitvormige%20compositie%20met%20twee%20lijnen%2C%201931.jpg\" style=\"width: 200px; \" />"
      ],
      "text/plain": [
       "<IPython.core.display.HTML object>"
      ]
     },
     "metadata": {},
     "output_type": "display_data"
    },
    {
     "name": "stdout",
     "output_type": "stream",
     "text": [
      "Ruitvormige compositie met twee lijnen\n",
      "\n"
     ]
    },
    {
     "data": {
      "text/html": [
       "<img src=\"http://commons.wikimedia.org/wiki/Special:FilePath/Ruitvormige%20compositie%20met%20twee%20lijnen%2C%201931.jpg\" style=\"width: 200px; \" />"
      ],
      "text/plain": [
       "<IPython.core.display.HTML object>"
      ]
     },
     "metadata": {},
     "output_type": "display_data"
    },
    {
     "name": "stdout",
     "output_type": "stream",
     "text": [
      "Willow grove, trunks leaning left I\n",
      "\n"
     ]
    },
    {
     "data": {
      "text/html": [
       "<img src=\"http://commons.wikimedia.org/wiki/Special:FilePath/Landschap%20met%20wilgen%20aan%20het%20Gein.jpg\" style=\"width: 200px; \" />"
      ],
      "text/plain": [
       "<IPython.core.display.HTML object>"
      ]
     },
     "metadata": {},
     "output_type": "display_data"
    },
    {
     "name": "stdout",
     "output_type": "stream",
     "text": [
      "Still life with a plaster bust\n",
      "\n"
     ]
    },
    {
     "data": {
      "text/html": [
       "<img src=\"http://commons.wikimedia.org/wiki/Special:FilePath/Piet%20Mondriaan%20-%20Still%20life%20with%20a%20plaster%20bust%20-%201919.0225%20-%20Groninger%20Museum.jpg\" style=\"width: 200px; \" />"
      ],
      "text/plain": [
       "<IPython.core.display.HTML object>"
      ]
     },
     "metadata": {},
     "output_type": "display_data"
    },
    {
     "name": "stdout",
     "output_type": "stream",
     "text": [
      "Mannelijk naakt\n",
      "\n"
     ]
    },
    {
     "data": {
      "text/html": [
       "<img src=\"http://commons.wikimedia.org/wiki/Special:FilePath/P.C.%20Mondriaan%20-%20Mannelijk%20naakt%20-%20R472%20-%20Instituut%20Collectie%20Nederland.jpg\" style=\"width: 200px; \" />"
      ],
      "text/plain": [
       "<IPython.core.display.HTML object>"
      ]
     },
     "metadata": {},
     "output_type": "display_data"
    },
    {
     "name": "stdout",
     "output_type": "stream",
     "text": [
      "Willow grove with prominent trunk at center\n",
      "\n"
     ]
    },
    {
     "data": {
      "text/html": [
       "<img src=\"http://commons.wikimedia.org/wiki/Special:FilePath/Wilgenbomen%20aan%20het%20Gein%2C%20Piet%20Mondriaan%2C%201903.jpg\" style=\"width: 200px; \" />"
      ],
      "text/plain": [
       "<IPython.core.display.HTML object>"
      ]
     },
     "metadata": {},
     "output_type": "display_data"
    },
    {
     "name": "stdout",
     "output_type": "stream",
     "text": [
      "Sun, Church in Zeeland; Zoutelande Church Facade\n",
      "\n"
     ]
    },
    {
     "data": {
      "text/html": [
       "<img src=\"http://commons.wikimedia.org/wiki/Special:FilePath/Sun%2C%20Church%20in%20Zeeland%3B%20Zoutelande%20Church%20Facade.jpg\" style=\"width: 200px; \" />"
      ],
      "text/plain": [
       "<IPython.core.display.HTML object>"
      ]
     },
     "metadata": {},
     "output_type": "display_data"
    },
    {
     "name": "stdout",
     "output_type": "stream",
     "text": [
      "Composition B (No.II) with Red\n",
      "\n"
     ]
    },
    {
     "data": {
      "text/html": [
       "<img src=\"http://commons.wikimedia.org/wiki/Special:FilePath/Mondrian%20-%20Composition%20B%20%28No.II%29%20with%20Red%2C%201935.jpg\" style=\"width: 200px; \" />"
      ],
      "text/plain": [
       "<IPython.core.display.HTML object>"
      ]
     },
     "metadata": {},
     "output_type": "display_data"
    },
    {
     "name": "stdout",
     "output_type": "stream",
     "text": [
      "No. VI / Composition No.II\n",
      "\n"
     ]
    },
    {
     "data": {
      "text/html": [
       "<img src=\"http://commons.wikimedia.org/wiki/Special:FilePath/Piet%20Mondriaan%20-%20No.%20VI%20-%20T00915%20-%20Tate.jpg\" style=\"width: 200px; \" />"
      ],
      "text/plain": [
       "<IPython.core.display.HTML object>"
      ]
     },
     "metadata": {},
     "output_type": "display_data"
    },
    {
     "name": "stdout",
     "output_type": "stream",
     "text": [
      "Composition no. II\n",
      "\n"
     ]
    },
    {
     "data": {
      "text/html": [
       "<img src=\"http://commons.wikimedia.org/wiki/Special:FilePath/Mondrian%20-%20Composition%20no%20II%2C%201929.jpg\" style=\"width: 200px; \" />"
      ],
      "text/plain": [
       "<IPython.core.display.HTML object>"
      ]
     },
     "metadata": {},
     "output_type": "display_data"
    },
    {
     "name": "stdout",
     "output_type": "stream",
     "text": [
      "The trees\n",
      "\n"
     ]
    },
    {
     "data": {
      "text/html": [
       "<img src=\"http://commons.wikimedia.org/wiki/Special:FilePath/Trees%2C%201912%2C%20Mondrian.jpg\" style=\"width: 200px; \" />"
      ],
      "text/plain": [
       "<IPython.core.display.HTML object>"
      ]
     },
     "metadata": {},
     "output_type": "display_data"
    },
    {
     "name": "stdout",
     "output_type": "stream",
     "text": [
      "Farmstead under oak trees II\n",
      "\n"
     ]
    },
    {
     "data": {
      "text/html": [
       "<img src=\"http://commons.wikimedia.org/wiki/Special:FilePath/Piet%20Mondriaan%20-%20Farmstead%20under%20oak%20trees%20II%20-%20A539%20-%20Piet%20Mondrian%2C%20catalogue%20raisonn%C3%A9.jpg\" style=\"width: 200px; \" />"
      ],
      "text/plain": [
       "<IPython.core.display.HTML object>"
      ]
     },
     "metadata": {},
     "output_type": "display_data"
    },
    {
     "name": "stdout",
     "output_type": "stream",
     "text": [
      "Fox Trot B, with Black, Red, Blue, and Yellow\n",
      "\n"
     ]
    },
    {
     "data": {
      "text/html": [
       "<img src=\"http://commons.wikimedia.org/wiki/Special:FilePath/Mondrian%20-%20Fox%20Trot%20B%2C%20with%20Black%2C%20Red%2C%20Blue%2C%20and%20Yellow%2C%201929.jpg\" style=\"width: 200px; \" />"
      ],
      "text/plain": [
       "<IPython.core.display.HTML object>"
      ]
     },
     "metadata": {},
     "output_type": "display_data"
    },
    {
     "name": "stdout",
     "output_type": "stream",
     "text": [
      "Post mill at Heeswijk, side view\n",
      "\n"
     ]
    },
    {
     "data": {
      "text/html": [
       "<img src=\"http://commons.wikimedia.org/wiki/Special:FilePath/Piet%20Mondriaan%20-%20Post%20mill%20at%20Heeswijk%2C%20side%20view%20-%20A369%20-%20Piet%20Mondrian%2C%20catalogue%20raisonn%C3%A9.jpg\" style=\"width: 200px; \" />"
      ],
      "text/plain": [
       "<IPython.core.display.HTML object>"
      ]
     },
     "metadata": {},
     "output_type": "display_data"
    },
    {
     "name": "stdout",
     "output_type": "stream",
     "text": [
      "Landscape with three reclining cows\n",
      "\n"
     ]
    },
    {
     "data": {
      "text/html": [
       "<img src=\"http://commons.wikimedia.org/wiki/Special:FilePath/Piet%20Mondriaan%20-%20Landscape%20with%20three%20reclining%20cows%20-%20A372%20-%20Piet%20Mondrian%2C%20catalogue%20raisonn%C3%A9.jpg\" style=\"width: 200px; \" />"
      ],
      "text/plain": [
       "<IPython.core.display.HTML object>"
      ]
     },
     "metadata": {},
     "output_type": "display_data"
    },
    {
     "name": "stdout",
     "output_type": "stream",
     "text": [
      "Landschap bij Uden\n",
      "\n"
     ]
    },
    {
     "data": {
      "text/html": [
       "<img src=\"http://commons.wikimedia.org/wiki/Special:FilePath/Piet%20Mondriaan%20-%20Landschap%20bij%20Uden%20-%20A378%20-%20Piet%20Mondrian%2C%20catalogue%20raisonn%C3%A9.jpg\" style=\"width: 200px; \" />"
      ],
      "text/plain": [
       "<IPython.core.display.HTML object>"
      ]
     },
     "metadata": {},
     "output_type": "display_data"
    },
    {
     "name": "stdout",
     "output_type": "stream",
     "text": [
      "Portrait of Cornelis Bergman (c. 1903-...)\n",
      "\n"
     ]
    },
    {
     "data": {
      "text/html": [
       "<img src=\"http://commons.wikimedia.org/wiki/Special:FilePath/Piet%20Mondriaan%20-%20Portret%20van%20Cornelis%20Bergman%20%28c.%201903...%29%20-%20A386%20-%20Piet%20Mondrian%2C%20catalogue%20raisonn%C3%A9.jpg\" style=\"width: 200px; \" />"
      ],
      "text/plain": [
       "<IPython.core.display.HTML object>"
      ]
     },
     "metadata": {},
     "output_type": "display_data"
    },
    {
     "name": "stdout",
     "output_type": "stream",
     "text": [
      "Portret van Cornelis Bergman (c. 1903-...)\n",
      "\n"
     ]
    },
    {
     "data": {
      "text/html": [
       "<img src=\"http://commons.wikimedia.org/wiki/Special:FilePath/Piet%20Mondriaan%20-%20Portret%20van%20Cornelis%20Bergman%20%28c.%201903...%29%20-%20A386%20-%20Piet%20Mondrian%2C%20catalogue%20raisonn%C3%A9.jpg\" style=\"width: 200px; \" />"
      ],
      "text/plain": [
       "<IPython.core.display.HTML object>"
      ]
     },
     "metadata": {},
     "output_type": "display_data"
    },
    {
     "name": "stdout",
     "output_type": "stream",
     "text": [
      "Stammer mill with summer house\n",
      "\n"
     ]
    },
    {
     "data": {
      "text/html": [
       "<img src=\"http://commons.wikimedia.org/wiki/Special:FilePath/Piet%20Mondriaan%20-%20Stammer%20mill%20with%20summer%20house%20-%202691%20-%20National%20Gallery%20of%20Athens.jpg\" style=\"width: 200px; \" />"
      ],
      "text/plain": [
       "<IPython.core.display.HTML object>"
      ]
     },
     "metadata": {},
     "output_type": "display_data"
    },
    {
     "name": "stdout",
     "output_type": "stream",
     "text": [
      "Broekzijder mill in the evening\n",
      "\n"
     ]
    },
    {
     "data": {
      "text/html": [
       "<img src=\"http://commons.wikimedia.org/wiki/Special:FilePath/Piet%20Mondriaan%20-%20Broekzijder%20mill%20in%20the%20evening%20-%20A401%20-%20Piet%20Mondrian%2C%20catalogue%20raisonn%C3%A9.jpg\" style=\"width: 200px; \" />"
      ],
      "text/plain": [
       "<IPython.core.display.HTML object>"
      ]
     },
     "metadata": {},
     "output_type": "display_data"
    },
    {
     "name": "stdout",
     "output_type": "stream",
     "text": [
      "Oostzijdse mill viewed from downstream with streaked pinkish-blue sky\n",
      "\n"
     ]
    },
    {
     "data": {
      "text/html": [
       "<img src=\"http://commons.wikimedia.org/wiki/Special:FilePath/Piet%20Mondriaan%20-%20Oostzijdse%20mill%20viewed%20from%20downstream%20with%20streaked%20pinkish-blue%20sky%20-%20A404%20-%20Piet%20Mondrian%2C%20catalogue%20raisonn%C3%A9.jpg\" style=\"width: 200px; \" />"
      ],
      "text/plain": [
       "<IPython.core.display.HTML object>"
      ]
     },
     "metadata": {},
     "output_type": "display_data"
    },
    {
     "name": "stdout",
     "output_type": "stream",
     "text": [
      "Oostzijdse mill from downstream with evenly streaked sky\n",
      "\n"
     ]
    },
    {
     "data": {
      "text/html": [
       "<img src=\"http://commons.wikimedia.org/wiki/Special:FilePath/Piet%20Mondriaan%20-%20Oostzijdse%20mill%20from%20downstream%20with%20evenly%20streaked%20sky%20-%20A406%20-%20Piet%20Mondrian%2C%20catalogue%20raisonn%C3%A9.jpg\" style=\"width: 200px; \" />"
      ],
      "text/plain": [
       "<IPython.core.display.HTML object>"
      ]
     },
     "metadata": {},
     "output_type": "display_data"
    },
    {
     "name": "stdout",
     "output_type": "stream",
     "text": [
      "Oostzijdse mill with streaked reddish sky\n",
      "\n"
     ]
    },
    {
     "data": {
      "text/html": [
       "<img src=\"http://commons.wikimedia.org/wiki/Special:FilePath/Piet%20Mondriaan%20-%20Oostzijdse%20mill%20with%20streaked%20reddish%20sky%20-%20A407%20-%20Piet%20Mondrian%2C%20catalogue%20raisonn%C3%A9.jpg\" style=\"width: 200px; \" />"
      ],
      "text/plain": [
       "<IPython.core.display.HTML object>"
      ]
     },
     "metadata": {},
     "output_type": "display_data"
    },
    {
     "name": "stdout",
     "output_type": "stream",
     "text": [
      "Oostzijdse mill with extended light blue, yellow and violet sky\n",
      "\n"
     ]
    },
    {
     "data": {
      "text/html": [
       "<img src=\"http://commons.wikimedia.org/wiki/Special:FilePath/Piet%20Mondriaan%20-%20Oostzijdse%20mill%20with%20extended%20light%20blue%2C%20yellow%20and%20violet%20sky%20-%20A410%20-%20Piet%20Mondrian%2C%20catalogue%20raisonn%C3%A9.jpg\" style=\"width: 200px; \" />"
      ],
      "text/plain": [
       "<IPython.core.display.HTML object>"
      ]
     },
     "metadata": {},
     "output_type": "display_data"
    },
    {
     "name": "stdout",
     "output_type": "stream",
     "text": [
      "Oostzijdse mill, vertical oil sketch with blue sky\n",
      "\n"
     ]
    },
    {
     "data": {
      "text/html": [
       "<img src=\"http://commons.wikimedia.org/wiki/Special:FilePath/Piet%20Mondriaan%20-%20Oostzijdse%20mill%2C%20vertical%20oil%20sketch%20with%20blue%20sky%20-%20A414%20-%20Piet%20Mondrian%2C%20catalogue%20raisonn%C3%A9.jpg\" style=\"width: 200px; \" />"
      ],
      "text/plain": [
       "<IPython.core.display.HTML object>"
      ]
     },
     "metadata": {},
     "output_type": "display_data"
    },
    {
     "name": "stdout",
     "output_type": "stream",
     "text": [
      "Oostzijdse mill with cropped wings\n",
      "\n"
     ]
    },
    {
     "data": {
      "text/html": [
       "<img src=\"http://commons.wikimedia.org/wiki/Special:FilePath/Piet%20Mondriaan%20-%20Oostzijdse%20mill%20with%20cropped%20wings%20-%20A415%20-%20Piet%20Mondrian%2C%20catalogue%20raisonn%C3%A9.jpg\" style=\"width: 200px; \" />"
      ],
      "text/plain": [
       "<IPython.core.display.HTML object>"
      ]
     },
     "metadata": {},
     "output_type": "display_data"
    },
    {
     "name": "stdout",
     "output_type": "stream",
     "text": [
      "Oostzijdse mill with panoramic sunset, mill at center\n",
      "\n"
     ]
    },
    {
     "data": {
      "text/html": [
       "<img src=\"http://commons.wikimedia.org/wiki/Special:FilePath/Piet%20Mondriaan%20-%20Oostzijdse%20mill%20with%20panoramic%20sunset%2C%20mill%20at%20center%20-%20A416%20-%20Piet%20Mondrian%2C%20catalogue%20raisonn%C3%A9.jpg\" style=\"width: 200px; \" />"
      ],
      "text/plain": [
       "<IPython.core.display.HTML object>"
      ]
     },
     "metadata": {},
     "output_type": "display_data"
    },
    {
     "name": "stdout",
     "output_type": "stream",
     "text": [
      "Oostzijdse mill with panoramic sunset, mill at right\n",
      "\n"
     ]
    },
    {
     "data": {
      "text/html": [
       "<img src=\"http://commons.wikimedia.org/wiki/Special:FilePath/Piet%20Mondriaan%20-%20Oostzijdse%20mill%20with%20panoramic%20sunset%2C%20mill%20at%20right%20-%20A417%20-%20Piet%20Mondrian%2C%20catalogue%20raisonn%C3%A9.jpg\" style=\"width: 200px; \" />"
      ],
      "text/plain": [
       "<IPython.core.display.HTML object>"
      ]
     },
     "metadata": {},
     "output_type": "display_data"
    },
    {
     "name": "stdout",
     "output_type": "stream",
     "text": [
      "Panoramic sunset with two windmills\n",
      "\n"
     ]
    },
    {
     "data": {
      "text/html": [
       "<img src=\"http://commons.wikimedia.org/wiki/Special:FilePath/Piet%20Mondriaan%20-%20Panoramic%20sunset%20with%20two%20windmills%20-%20A421%20-%20Piet%20Mondrian%2C%20catalogue%20raisonn%C3%A9.jpg\" style=\"width: 200px; \" />"
      ],
      "text/plain": [
       "<IPython.core.display.HTML object>"
      ]
     },
     "metadata": {},
     "output_type": "display_data"
    },
    {
     "name": "stdout",
     "output_type": "stream",
     "text": [
      "Windmill near tall trees, other trees at right\n",
      "\n"
     ]
    },
    {
     "data": {
      "text/html": [
       "<img src=\"http://commons.wikimedia.org/wiki/Special:FilePath/Piet%20Mondriaan%20-%20Windmill%20near%20tall%20trees%2C%20other%20trees%20at%20right%20-%20A422%20-%20Piet%20Mondrian%2C%20catalogue%20raisonn%C3%A9.jpg\" style=\"width: 200px; \" />"
      ],
      "text/plain": [
       "<IPython.core.display.HTML object>"
      ]
     },
     "metadata": {},
     "output_type": "display_data"
    },
    {
     "name": "stdout",
     "output_type": "stream",
     "text": [
      "Windmill near tall trees with woman at the wash stoop\n",
      "\n"
     ]
    },
    {
     "data": {
      "text/html": [
       "<img src=\"http://commons.wikimedia.org/wiki/Special:FilePath/Piet%20Mondriaan%20-%20Windmill%20near%20tall%20trees%20with%20woman%20at%20the%20wash%20stoop%20-%20A423%20-%20Piet%20Mondrian%2C%20catalogue%20raisonn%C3%A9.jpg\" style=\"width: 200px; \" />"
      ],
      "text/plain": [
       "<IPython.core.display.HTML object>"
      ]
     },
     "metadata": {},
     "output_type": "display_data"
    },
    {
     "name": "stdout",
     "output_type": "stream",
     "text": [
      "Windmill with tall trees and moored barges\n",
      "\n"
     ]
    },
    {
     "data": {
      "text/html": [
       "<img src=\"http://commons.wikimedia.org/wiki/Special:FilePath/Piet%20Mondriaan%20-%20Windmill%20with%20tall%20trees%20and%20moored%20barges%20-%20A425%20-%20Piet%20Mondrian%2C%20catalogue%20raisonn%C3%A9.jpg\" style=\"width: 200px; \" />"
      ],
      "text/plain": [
       "<IPython.core.display.HTML object>"
      ]
     },
     "metadata": {},
     "output_type": "display_data"
    },
    {
     "name": "stdout",
     "output_type": "stream",
     "text": [
      "Landzicht farm under light blue sky\n",
      "\n"
     ]
    },
    {
     "data": {
      "text/html": [
       "<img src=\"http://commons.wikimedia.org/wiki/Special:FilePath/Piet%20Mondriaan%20-%20Landzicht%20farm%20under%20light%20blue%20sky%20-%20A439%20-%20Piet%20Mondrian%2C%20catalogue%20raisonn%C3%A9.jpg\" style=\"width: 200px; \" />"
      ],
      "text/plain": [
       "<IPython.core.display.HTML object>"
      ]
     },
     "metadata": {},
     "output_type": "display_data"
    },
    {
     "name": "stdout",
     "output_type": "stream",
     "text": [
      "Haystacks III\n",
      "\n"
     ]
    },
    {
     "data": {
      "text/html": [
       "<img src=\"http://commons.wikimedia.org/wiki/Special:FilePath/Piet%20Mondriaan%20-%20Haystacks%20III%20-%20RF%20MO%20P%202018%206%20-%20Mus%C3%A9e%20d%27Orsay.jpg\" style=\"width: 200px; \" />"
      ],
      "text/plain": [
       "<IPython.core.display.HTML object>"
      ]
     },
     "metadata": {},
     "output_type": "display_data"
    },
    {
     "name": "stdout",
     "output_type": "stream",
     "text": [
      "Mand met appelen\n",
      "\n"
     ]
    },
    {
     "data": {
      "text/html": [
       "<img src=\"http://commons.wikimedia.org/wiki/Special:FilePath/Piet%20Mondriaan%20-%20Mand%20met%20appels%20%28authentiek%29%20-%20A8%20-%20Piet%20Mondrian%2C%20catalogue%20raisonn%C3%A9.jpg\" style=\"width: 200px; \" />"
      ],
      "text/plain": [
       "<IPython.core.display.HTML object>"
      ]
     },
     "metadata": {},
     "output_type": "display_data"
    },
    {
     "name": "stdout",
     "output_type": "stream",
     "text": [
      "Still Life with Sunflower\n",
      "\n"
     ]
    },
    {
     "data": {
      "text/html": [
       "<img src=\"http://commons.wikimedia.org/wiki/Special:FilePath/Piet%20Mondriaan%20-%20Sunflower%20in%20a%20vase%20-%201991.214%20-%20Detroit%20Institute%20of%20Arts.jpg\" style=\"width: 200px; \" />"
      ],
      "text/plain": [
       "<IPython.core.display.HTML object>"
      ]
     },
     "metadata": {},
     "output_type": "display_data"
    },
    {
     "name": "stdout",
     "output_type": "stream",
     "text": [
      "Composition with Red, Blue, Yellow, Black, and Gray\n",
      "\n"
     ]
    },
    {
     "data": {
      "text/html": [
       "<img src=\"http://commons.wikimedia.org/wiki/Special:FilePath/Piet%20Mondriaan%20-%20Composition%20with%20red%2C%20blue%2C%20yellow%2C%20black%20and%20gray%20-%20B137%20-%20Piet%20Mondrian%2C%20catalogue%20raisonn%C3%A9.jpg\" style=\"width: 200px; \" />"
      ],
      "text/plain": [
       "<IPython.core.display.HTML object>"
      ]
     },
     "metadata": {},
     "output_type": "display_data"
    },
    {
     "name": "stdout",
     "output_type": "stream",
     "text": [
      "Het Zeeuws meisje\n",
      "\n"
     ]
    },
    {
     "data": {
      "text/html": [
       "<img src=\"http://commons.wikimedia.org/wiki/Special:FilePath/Het%20Zeeuws%20meisje.jpg\" style=\"width: 200px; \" />"
      ],
      "text/plain": [
       "<IPython.core.display.HTML object>"
      ]
     },
     "metadata": {},
     "output_type": "display_data"
    },
    {
     "name": "stdout",
     "output_type": "stream",
     "text": [
      "Ships in the moonlight\n",
      "\n"
     ]
    },
    {
     "data": {
      "text/html": [
       "<img src=\"http://commons.wikimedia.org/wiki/Special:FilePath/Mondrian%20-%20Ships%20in%20the%20moonlight%20%28Q102227357%29.jpg\" style=\"width: 200px; \" />"
      ],
      "text/plain": [
       "<IPython.core.display.HTML object>"
      ]
     },
     "metadata": {},
     "output_type": "display_data"
    },
    {
     "name": "stdout",
     "output_type": "stream",
     "text": [
      "Schepen in het maanlicht\n",
      "\n"
     ]
    },
    {
     "data": {
      "text/html": [
       "<img src=\"http://commons.wikimedia.org/wiki/Special:FilePath/Mondrian%20-%20Ships%20in%20the%20moonlight%20%28Q102227357%29.jpg\" style=\"width: 200px; \" />"
      ],
      "text/plain": [
       "<IPython.core.display.HTML object>"
      ]
     },
     "metadata": {},
     "output_type": "display_data"
    },
    {
     "name": "stdout",
     "output_type": "stream",
     "text": [
      "Church seen from the rear\n",
      "\n"
     ]
    },
    {
     "data": {
      "text/html": [
       "<img src=\"http://commons.wikimedia.org/wiki/Special:FilePath/Piet%20Mondriaan%20-%20Gezicht%20op%20de%20achterzijde%20van%20een%20kerk%20-%20A5%20-%20Piet%20Mondrian%2C%20catalogue%20raisonn%C3%A9.jpg\" style=\"width: 200px; \" />"
      ],
      "text/plain": [
       "<IPython.core.display.HTML object>"
      ]
     },
     "metadata": {},
     "output_type": "display_data"
    },
    {
     "name": "stdout",
     "output_type": "stream",
     "text": [
      "Gezicht op de achterzijde van een kerk\n",
      "\n"
     ]
    },
    {
     "data": {
      "text/html": [
       "<img src=\"http://commons.wikimedia.org/wiki/Special:FilePath/Piet%20Mondriaan%20-%20Gezicht%20op%20de%20achterzijde%20van%20een%20kerk%20-%20A5%20-%20Piet%20Mondrian%2C%20catalogue%20raisonn%C3%A9.jpg\" style=\"width: 200px; \" />"
      ],
      "text/plain": [
       "<IPython.core.display.HTML object>"
      ]
     },
     "metadata": {},
     "output_type": "display_data"
    },
    {
     "name": "stdout",
     "output_type": "stream",
     "text": [
      "Pitcher with onions\n",
      "\n"
     ]
    },
    {
     "data": {
      "text/html": [
       "<img src=\"http://commons.wikimedia.org/wiki/Special:FilePath/Piet%20Mondriaan%20-%20Kan%20met%20uijen%20%28authentiek%29%20-%20A9%20-%20Piet%20Mondrian%2C%20catalogue%20raisonn%C3%A9.jpg\" style=\"width: 200px; \" />"
      ],
      "text/plain": [
       "<IPython.core.display.HTML object>"
      ]
     },
     "metadata": {},
     "output_type": "display_data"
    },
    {
     "name": "stdout",
     "output_type": "stream",
     "text": [
      "Kan met uijen (authentiek)\n",
      "\n"
     ]
    },
    {
     "data": {
      "text/html": [
       "<img src=\"http://commons.wikimedia.org/wiki/Special:FilePath/Piet%20Mondriaan%20-%20Kan%20met%20uijen%20%28authentiek%29%20-%20A9%20-%20Piet%20Mondrian%2C%20catalogue%20raisonn%C3%A9.jpg\" style=\"width: 200px; \" />"
      ],
      "text/plain": [
       "<IPython.core.display.HTML object>"
      ]
     },
     "metadata": {},
     "output_type": "display_data"
    },
    {
     "name": "stdout",
     "output_type": "stream",
     "text": [
      "Thy word is the truth\n",
      "\n"
     ]
    },
    {
     "data": {
      "text/html": [
       "<img src=\"http://commons.wikimedia.org/wiki/Special:FilePath/Piet%20Mondriaan%20-%20Uw%20woord%20is%20de%20waarheid%20%28authentiek%29%20-%20A11%20-%20Piet%20Mondrian%2C%20catalogue%20raisonn%C3%A9.jpg\" style=\"width: 200px; \" />"
      ],
      "text/plain": [
       "<IPython.core.display.HTML object>"
      ]
     },
     "metadata": {},
     "output_type": "display_data"
    },
    {
     "name": "stdout",
     "output_type": "stream",
     "text": [
      "Uw woord is de waarheid (authentiek)\n",
      "\n"
     ]
    },
    {
     "data": {
      "text/html": [
       "<img src=\"http://commons.wikimedia.org/wiki/Special:FilePath/Piet%20Mondriaan%20-%20Uw%20woord%20is%20de%20waarheid%20%28authentiek%29%20-%20A11%20-%20Piet%20Mondrian%2C%20catalogue%20raisonn%C3%A9.jpg\" style=\"width: 200px; \" />"
      ],
      "text/plain": [
       "<IPython.core.display.HTML object>"
      ]
     },
     "metadata": {},
     "output_type": "display_data"
    },
    {
     "name": "stdout",
     "output_type": "stream",
     "text": [
      "Puppy\n",
      "\n"
     ]
    },
    {
     "data": {
      "text/html": [
       "<img src=\"http://commons.wikimedia.org/wiki/Special:FilePath/Piet%20Mondriaan%20-%20Puppy%20-%20A12%20-%20Piet%20Mondrian%2C%20catalogue%20raisonn%C3%A9.jpg\" style=\"width: 200px; \" />"
      ],
      "text/plain": [
       "<IPython.core.display.HTML object>"
      ]
     },
     "metadata": {},
     "output_type": "display_data"
    },
    {
     "name": "stdout",
     "output_type": "stream",
     "text": [
      "Farm interior with hearth in the Achterhoek\n",
      "\n"
     ]
    },
    {
     "data": {
      "text/html": [
       "<img src=\"http://commons.wikimedia.org/wiki/Special:FilePath/Piet%20Mondriaan%20-%20Boereninterieur%20met%20haard%20in%20de%20Achterhoek%20-%20A13%20-%20Piet%20Mondrian%2C%20catalogue%20raisonn%C3%A9.jpg\" style=\"width: 200px; \" />"
      ],
      "text/plain": [
       "<IPython.core.display.HTML object>"
      ]
     },
     "metadata": {},
     "output_type": "display_data"
    },
    {
     "name": "stdout",
     "output_type": "stream",
     "text": [
      "Boereninterieur met haard in de Achterhoek\n",
      "\n"
     ]
    },
    {
     "data": {
      "text/html": [
       "<img src=\"http://commons.wikimedia.org/wiki/Special:FilePath/Piet%20Mondriaan%20-%20Boereninterieur%20met%20haard%20in%20de%20Achterhoek%20-%20A13%20-%20Piet%20Mondrian%2C%20catalogue%20raisonn%C3%A9.jpg\" style=\"width: 200px; \" />"
      ],
      "text/plain": [
       "<IPython.core.display.HTML object>"
      ]
     },
     "metadata": {},
     "output_type": "display_data"
    },
    {
     "name": "stdout",
     "output_type": "stream",
     "text": [
      "Aardappelschillende vrouw\n",
      "\n"
     ]
    },
    {
     "data": {
      "text/html": [
       "<img src=\"http://commons.wikimedia.org/wiki/Special:FilePath/Piet%20Mondriaan%20-%20Aardappelschillende%20vrouw%20-%20A14%20-%20Piet%20Mondrian%2C%20catalogue%20raisonn%C3%A9.jpg\" style=\"width: 200px; \" />"
      ],
      "text/plain": [
       "<IPython.core.display.HTML object>"
      ]
     },
     "metadata": {},
     "output_type": "display_data"
    },
    {
     "name": "stdout",
     "output_type": "stream",
     "text": [
      "Woman peeling potatoes\n",
      "\n"
     ]
    },
    {
     "data": {
      "text/html": [
       "<img src=\"http://commons.wikimedia.org/wiki/Special:FilePath/Piet%20Mondriaan%20-%20Aardappelschillende%20vrouw%20-%20A14%20-%20Piet%20Mondrian%2C%20catalogue%20raisonn%C3%A9.jpg\" style=\"width: 200px; \" />"
      ],
      "text/plain": [
       "<IPython.core.display.HTML object>"
      ]
     },
     "metadata": {},
     "output_type": "display_data"
    },
    {
     "name": "stdout",
     "output_type": "stream",
     "text": [
      "Woman with spindle\n",
      "\n"
     ]
    },
    {
     "data": {
      "text/html": [
       "<img src=\"http://commons.wikimedia.org/wiki/Special:FilePath/Piet%20Mondriaan%20-%20Vrouw%20met%20spindel%20-%20A15%20-%20Piet%20Mondrian%2C%20catalogue%20raisonn%C3%A9.jpg\" style=\"width: 200px; \" />"
      ],
      "text/plain": [
       "<IPython.core.display.HTML object>"
      ]
     },
     "metadata": {},
     "output_type": "display_data"
    },
    {
     "name": "stdout",
     "output_type": "stream",
     "text": [
      "Vrouw met spindel\n",
      "\n"
     ]
    },
    {
     "data": {
      "text/html": [
       "<img src=\"http://commons.wikimedia.org/wiki/Special:FilePath/Piet%20Mondriaan%20-%20Vrouw%20met%20spindel%20-%20A15%20-%20Piet%20Mondrian%2C%20catalogue%20raisonn%C3%A9.jpg\" style=\"width: 200px; \" />"
      ],
      "text/plain": [
       "<IPython.core.display.HTML object>"
      ]
     },
     "metadata": {},
     "output_type": "display_data"
    },
    {
     "name": "stdout",
     "output_type": "stream",
     "text": [
      "Lane with sheaves of rye\n",
      "\n"
     ]
    },
    {
     "data": {
      "text/html": [
       "<img src=\"http://commons.wikimedia.org/wiki/Special:FilePath/Piet%20Mondriaan%20-%20Laan%20met%20roggeschoven%20-%20A16%20-%20Piet%20Mondrian%2C%20catalogue%20raisonn%C3%A9.jpg\" style=\"width: 200px; \" />"
      ],
      "text/plain": [
       "<IPython.core.display.HTML object>"
      ]
     },
     "metadata": {},
     "output_type": "display_data"
    },
    {
     "name": "stdout",
     "output_type": "stream",
     "text": [
      "Laan met roggeschoven\n",
      "\n"
     ]
    },
    {
     "data": {
      "text/html": [
       "<img src=\"http://commons.wikimedia.org/wiki/Special:FilePath/Piet%20Mondriaan%20-%20Laan%20met%20roggeschoven%20-%20A16%20-%20Piet%20Mondrian%2C%20catalogue%20raisonn%C3%A9.jpg\" style=\"width: 200px; \" />"
      ],
      "text/plain": [
       "<IPython.core.display.HTML object>"
      ]
     },
     "metadata": {},
     "output_type": "display_data"
    },
    {
     "name": "stdout",
     "output_type": "stream",
     "text": [
      "D\n",
      "\n"
     ]
    },
    {
     "data": {
      "text/html": [
       "<img src=\"http://commons.wikimedia.org/wiki/Special:FilePath/Piet%20Mondriaan%20-%20Schemering%20-%20A18%20-%20Piet%20Mondrian%2C%20catalogue%20raisonn%C3%A9.jpg\" style=\"width: 200px; \" />"
      ],
      "text/plain": [
       "<IPython.core.display.HTML object>"
      ]
     },
     "metadata": {},
     "output_type": "display_data"
    },
    {
     "name": "stdout",
     "output_type": "stream",
     "text": [
      "Schemering\n",
      "\n"
     ]
    },
    {
     "data": {
      "text/html": [
       "<img src=\"http://commons.wikimedia.org/wiki/Special:FilePath/Piet%20Mondriaan%20-%20Schemering%20-%20A18%20-%20Piet%20Mondrian%2C%20catalogue%20raisonn%C3%A9.jpg\" style=\"width: 200px; \" />"
      ],
      "text/plain": [
       "<IPython.core.display.HTML object>"
      ]
     },
     "metadata": {},
     "output_type": "display_data"
    },
    {
     "name": "stdout",
     "output_type": "stream",
     "text": [
      "Brook with sluice near Winterswijk\n",
      "\n"
     ]
    },
    {
     "data": {
      "text/html": [
       "<img src=\"http://commons.wikimedia.org/wiki/Special:FilePath/Piet%20Mondriaan%20-%20Beek%20met%20sluis%20bij%20Winterswijk%20-%20A19%20-%20Piet%20Mondrian%2C%20catalogue%20raisonn%C3%A9.jpg\" style=\"width: 200px; \" />"
      ],
      "text/plain": [
       "<IPython.core.display.HTML object>"
      ]
     },
     "metadata": {},
     "output_type": "display_data"
    },
    {
     "name": "stdout",
     "output_type": "stream",
     "text": [
      "Beek met sluis bij Winterswijk\n",
      "\n"
     ]
    },
    {
     "data": {
      "text/html": [
       "<img src=\"http://commons.wikimedia.org/wiki/Special:FilePath/Piet%20Mondriaan%20-%20Beek%20met%20sluis%20bij%20Winterswijk%20-%20A19%20-%20Piet%20Mondrian%2C%20catalogue%20raisonn%C3%A9.jpg\" style=\"width: 200px; \" />"
      ],
      "text/plain": [
       "<IPython.core.display.HTML object>"
      ]
     },
     "metadata": {},
     "output_type": "display_data"
    },
    {
     "name": "stdout",
     "output_type": "stream",
     "text": [
      "Warmth\n",
      "\n"
     ]
    },
    {
     "data": {
      "text/html": [
       "<img src=\"http://commons.wikimedia.org/wiki/Special:FilePath/Piet%20Mondriaan%20-%20Warmte%20%28authentiek%29%20-%20A20%20-%20Piet%20Mondrian%2C%20catalogue%20raisonn%C3%A9.jpg\" style=\"width: 200px; \" />"
      ],
      "text/plain": [
       "<IPython.core.display.HTML object>"
      ]
     },
     "metadata": {},
     "output_type": "display_data"
    },
    {
     "name": "stdout",
     "output_type": "stream",
     "text": [
      "Warmte (authentiek)\n",
      "\n"
     ]
    },
    {
     "data": {
      "text/html": [
       "<img src=\"http://commons.wikimedia.org/wiki/Special:FilePath/Piet%20Mondriaan%20-%20Warmte%20%28authentiek%29%20-%20A20%20-%20Piet%20Mondrian%2C%20catalogue%20raisonn%C3%A9.jpg\" style=\"width: 200px; \" />"
      ],
      "text/plain": [
       "<IPython.core.display.HTML object>"
      ]
     },
     "metadata": {},
     "output_type": "display_data"
    },
    {
     "name": "stdout",
     "output_type": "stream",
     "text": [
      "Stream bordered by wooded landscape\n",
      "\n"
     ]
    },
    {
     "data": {
      "text/html": [
       "<img src=\"http://commons.wikimedia.org/wiki/Special:FilePath/Piet%20Mondriaan%20-%20Boslandschap%20met%20beek%20-%20A21%20-%20Piet%20Mondrian%2C%20catalogue%20raisonn%C3%A9.jpg\" style=\"width: 200px; \" />"
      ],
      "text/plain": [
       "<IPython.core.display.HTML object>"
      ]
     },
     "metadata": {},
     "output_type": "display_data"
    },
    {
     "name": "stdout",
     "output_type": "stream",
     "text": [
      "Boslandschap met beek\n",
      "\n"
     ]
    },
    {
     "data": {
      "text/html": [
       "<img src=\"http://commons.wikimedia.org/wiki/Special:FilePath/Piet%20Mondriaan%20-%20Boslandschap%20met%20beek%20-%20A21%20-%20Piet%20Mondrian%2C%20catalogue%20raisonn%C3%A9.jpg\" style=\"width: 200px; \" />"
      ],
      "text/plain": [
       "<IPython.core.display.HTML object>"
      ]
     },
     "metadata": {},
     "output_type": "display_data"
    },
    {
     "name": "stdout",
     "output_type": "stream",
     "text": [
      "Achterhoek farmhouse with haystack\n",
      "\n"
     ]
    },
    {
     "data": {
      "text/html": [
       "<img src=\"http://commons.wikimedia.org/wiki/Special:FilePath/Piet%20Mondriaan%20-%20Boerderij%20met%20hooimijt%20in%20de%20Achterhoek%20-%20A22%20-%20Piet%20Mondrian%2C%20catalogue%20raisonn%C3%A9.jpg\" style=\"width: 200px; \" />"
      ],
      "text/plain": [
       "<IPython.core.display.HTML object>"
      ]
     },
     "metadata": {},
     "output_type": "display_data"
    },
    {
     "name": "stdout",
     "output_type": "stream",
     "text": [
      "Boerderij met hooimijt in de Achterhoek\n",
      "\n"
     ]
    },
    {
     "data": {
      "text/html": [
       "<img src=\"http://commons.wikimedia.org/wiki/Special:FilePath/Piet%20Mondriaan%20-%20Boerderij%20met%20hooimijt%20in%20de%20Achterhoek%20-%20A22%20-%20Piet%20Mondrian%2C%20catalogue%20raisonn%C3%A9.jpg\" style=\"width: 200px; \" />"
      ],
      "text/plain": [
       "<IPython.core.display.HTML object>"
      ]
     },
     "metadata": {},
     "output_type": "display_data"
    },
    {
     "name": "stdout",
     "output_type": "stream",
     "text": [
      "Portrait of Dorothy Gretchen Biersteker (1891-1978)\n",
      "\n"
     ]
    },
    {
     "data": {
      "text/html": [
       "<img src=\"http://commons.wikimedia.org/wiki/Special:FilePath/Piet%20Mondriaan%20-%20Portret%20van%20Dorothy%20Gretchen%20Biersteker%20%281891-1978%29%20-%20A25%20-%20Piet%20Mondrian%2C%20catalogue%20raisonn%C3%A9.jpg\" style=\"width: 200px; \" />"
      ],
      "text/plain": [
       "<IPython.core.display.HTML object>"
      ]
     },
     "metadata": {},
     "output_type": "display_data"
    },
    {
     "name": "stdout",
     "output_type": "stream",
     "text": [
      "Portret van Dorothy Gretchen Biersteker (1891-1978)\n",
      "\n"
     ]
    },
    {
     "data": {
      "text/html": [
       "<img src=\"http://commons.wikimedia.org/wiki/Special:FilePath/Piet%20Mondriaan%20-%20Portret%20van%20Dorothy%20Gretchen%20Biersteker%20%281891-1978%29%20-%20A25%20-%20Piet%20Mondrian%2C%20catalogue%20raisonn%C3%A9.jpg\" style=\"width: 200px; \" />"
      ],
      "text/plain": [
       "<IPython.core.display.HTML object>"
      ]
     },
     "metadata": {},
     "output_type": "display_data"
    },
    {
     "name": "stdout",
     "output_type": "stream",
     "text": [
      "Portrait of Queen Wilhelmina (1880-1962) as a princes\n",
      "\n"
     ]
    },
    {
     "data": {
      "text/html": [
       "<img src=\"http://commons.wikimedia.org/wiki/Special:FilePath/Piet%20Mondriaan%20-%20Princesje%20%28authentiek%29%20-%20A28%20-%20Piet%20Mondrian%2C%20catalogue%20raisonn%C3%A9.jpg\" style=\"width: 200px; \" />"
      ],
      "text/plain": [
       "<IPython.core.display.HTML object>"
      ]
     },
     "metadata": {},
     "output_type": "display_data"
    },
    {
     "name": "stdout",
     "output_type": "stream",
     "text": [
      "Princesje (authentiek)\n",
      "\n"
     ]
    },
    {
     "data": {
      "text/html": [
       "<img src=\"http://commons.wikimedia.org/wiki/Special:FilePath/Piet%20Mondriaan%20-%20Princesje%20%28authentiek%29%20-%20A28%20-%20Piet%20Mondrian%2C%20catalogue%20raisonn%C3%A9.jpg\" style=\"width: 200px; \" />"
      ],
      "text/plain": [
       "<IPython.core.display.HTML object>"
      ]
     },
     "metadata": {},
     "output_type": "display_data"
    },
    {
     "name": "stdout",
     "output_type": "stream",
     "text": [
      "Women doing the wash\n",
      "\n"
     ]
    },
    {
     "data": {
      "text/html": [
       "<img src=\"http://commons.wikimedia.org/wiki/Special:FilePath/Piet%20Mondriaan%20-%20Vrouwen%20aan%20de%20was%20-%20A29%20-%20Piet%20Mondrian%2C%20catalogue%20raisonn%C3%A9.jpg\" style=\"width: 200px; \" />"
      ],
      "text/plain": [
       "<IPython.core.display.HTML object>"
      ]
     },
     "metadata": {},
     "output_type": "display_data"
    },
    {
     "name": "stdout",
     "output_type": "stream",
     "text": [
      "Vrouwen aan de was\n",
      "\n"
     ]
    },
    {
     "data": {
      "text/html": [
       "<img src=\"http://commons.wikimedia.org/wiki/Special:FilePath/Piet%20Mondriaan%20-%20Vrouwen%20aan%20de%20was%20-%20A29%20-%20Piet%20Mondrian%2C%20catalogue%20raisonn%C3%A9.jpg\" style=\"width: 200px; \" />"
      ],
      "text/plain": [
       "<IPython.core.display.HTML object>"
      ]
     },
     "metadata": {},
     "output_type": "display_data"
    },
    {
     "name": "stdout",
     "output_type": "stream",
     "text": [
      "Field with church tower and haystack\n",
      "\n"
     ]
    },
    {
     "data": {
      "text/html": [
       "<img src=\"http://commons.wikimedia.org/wiki/Special:FilePath/Piet%20Mondriaan%20-%20Landschap%20met%20kerktoren%20en%20hooiberg%20-%20A35%20-%20Piet%20Mondrian%2C%20catalogue%20raisonn%C3%A9.jpg\" style=\"width: 200px; \" />"
      ],
      "text/plain": [
       "<IPython.core.display.HTML object>"
      ]
     },
     "metadata": {},
     "output_type": "display_data"
    },
    {
     "name": "stdout",
     "output_type": "stream",
     "text": [
      "Landschap met kerktoren en hooiberg\n",
      "\n"
     ]
    },
    {
     "data": {
      "text/html": [
       "<img src=\"http://commons.wikimedia.org/wiki/Special:FilePath/Piet%20Mondriaan%20-%20Landschap%20met%20kerktoren%20en%20hooiberg%20-%20A35%20-%20Piet%20Mondrian%2C%20catalogue%20raisonn%C3%A9.jpg\" style=\"width: 200px; \" />"
      ],
      "text/plain": [
       "<IPython.core.display.HTML object>"
      ]
     },
     "metadata": {},
     "output_type": "display_data"
    },
    {
     "name": "stdout",
     "output_type": "stream",
     "text": [
      "Irrigation ditch with wood gate at left\n",
      "\n"
     ]
    },
    {
     "data": {
      "text/html": [
       "<img src=\"http://commons.wikimedia.org/wiki/Special:FilePath/Piet%20Mondriaan%20-%20Polderlandschap%20met%20sloot%20en%20houten%20hek%20-%20A36%20-%20Piet%20Mondrian%2C%20catalogue%20raisonn%C3%A9.jpg\" style=\"width: 200px; \" />"
      ],
      "text/plain": [
       "<IPython.core.display.HTML object>"
      ]
     },
     "metadata": {},
     "output_type": "display_data"
    },
    {
     "name": "stdout",
     "output_type": "stream",
     "text": [
      "Polderlandschap met sloot en houten hek\n",
      "\n"
     ]
    },
    {
     "data": {
      "text/html": [
       "<img src=\"http://commons.wikimedia.org/wiki/Special:FilePath/Piet%20Mondriaan%20-%20Polderlandschap%20met%20sloot%20en%20houten%20hek%20-%20A36%20-%20Piet%20Mondrian%2C%20catalogue%20raisonn%C3%A9.jpg\" style=\"width: 200px; \" />"
      ],
      "text/plain": [
       "<IPython.core.display.HTML object>"
      ]
     },
     "metadata": {},
     "output_type": "display_data"
    },
    {
     "name": "stdout",
     "output_type": "stream",
     "text": [
      "Irrigation ditch, bridge and goat, sketch\n",
      "\n"
     ]
    },
    {
     "data": {
      "text/html": [
       "<img src=\"http://commons.wikimedia.org/wiki/Special:FilePath/Piet%20Mondriaan%20-%20Polderlandschap%20met%20brug%20en%20geit%2C%20schets%20-%20A38%20-%20Piet%20Mondrian%2C%20catalogue%20raisonn%C3%A9.jpg\" style=\"width: 200px; \" />"
      ],
      "text/plain": [
       "<IPython.core.display.HTML object>"
      ]
     },
     "metadata": {},
     "output_type": "display_data"
    },
    {
     "name": "stdout",
     "output_type": "stream",
     "text": [
      "Polderlandschap met brug en geit, schets\n",
      "\n"
     ]
    },
    {
     "data": {
      "text/html": [
       "<img src=\"http://commons.wikimedia.org/wiki/Special:FilePath/Piet%20Mondriaan%20-%20Polderlandschap%20met%20brug%20en%20geit%2C%20schets%20-%20A38%20-%20Piet%20Mondrian%2C%20catalogue%20raisonn%C3%A9.jpg\" style=\"width: 200px; \" />"
      ],
      "text/plain": [
       "<IPython.core.display.HTML object>"
      ]
     },
     "metadata": {},
     "output_type": "display_data"
    },
    {
     "name": "stdout",
     "output_type": "stream",
     "text": [
      "Waalseilandsgracht with bridge and moored tjalk barges\n",
      "\n"
     ]
    },
    {
     "data": {
      "text/html": [
       "<img src=\"http://commons.wikimedia.org/wiki/Special:FilePath/Piet%20Mondriaan%20-%20Waalseilandsgracht%20met%20brug%20en%20afgemeerde%20tjalken%20-%20A40%20-%20Piet%20Mondrian%2C%20catalogue%20raisonn%C3%A9.jpg\" style=\"width: 200px; \" />"
      ],
      "text/plain": [
       "<IPython.core.display.HTML object>"
      ]
     },
     "metadata": {},
     "output_type": "display_data"
    },
    {
     "name": "stdout",
     "output_type": "stream",
     "text": [
      "Waalseilandsgracht met brug en afgemeerde tjalken\n",
      "\n"
     ]
    },
    {
     "data": {
      "text/html": [
       "<img src=\"http://commons.wikimedia.org/wiki/Special:FilePath/Piet%20Mondriaan%20-%20Waalseilandsgracht%20met%20brug%20en%20afgemeerde%20tjalken%20-%20A40%20-%20Piet%20Mondrian%2C%20catalogue%20raisonn%C3%A9.jpg\" style=\"width: 200px; \" />"
      ],
      "text/plain": [
       "<IPython.core.display.HTML object>"
      ]
     },
     "metadata": {},
     "output_type": "display_data"
    },
    {
     "name": "stdout",
     "output_type": "stream",
     "text": [
      "Waalseilandgracht with bridge and flat barges\n",
      "\n"
     ]
    },
    {
     "data": {
      "text/html": [
       "<img src=\"http://commons.wikimedia.org/wiki/Special:FilePath/Piet%20Mondriaan%20-%20Waalseilandgracht%20met%20brug%20en%20platbodems%20-%20A41%20-%20Piet%20Mondrian%2C%20catalogue%20raisonn%C3%A9.jpg\" style=\"width: 200px; \" />"
      ],
      "text/plain": [
       "<IPython.core.display.HTML object>"
      ]
     },
     "metadata": {},
     "output_type": "display_data"
    },
    {
     "name": "stdout",
     "output_type": "stream",
     "text": [
      "Waalseilandgracht met brug en platbodems\n",
      "\n"
     ]
    },
    {
     "data": {
      "text/html": [
       "<img src=\"http://commons.wikimedia.org/wiki/Special:FilePath/Piet%20Mondriaan%20-%20Waalseilandgracht%20met%20brug%20en%20platbodems%20-%20A41%20-%20Piet%20Mondrian%2C%20catalogue%20raisonn%C3%A9.jpg\" style=\"width: 200px; \" />"
      ],
      "text/plain": [
       "<IPython.core.display.HTML object>"
      ]
     },
     "metadata": {},
     "output_type": "display_data"
    },
    {
     "name": "stdout",
     "output_type": "stream",
     "text": [
      "Farm buildings with trees and water ditch\n",
      "\n"
     ]
    },
    {
     "data": {
      "text/html": [
       "<img src=\"http://commons.wikimedia.org/wiki/Special:FilePath/Piet%20Mondriaan%20-%20Boerderijen%20met%20bomen%20en%20sloot%20-%20A42%20-%20Piet%20Mondrian%2C%20catalogue%20raisonn%C3%A9.jpg\" style=\"width: 200px; \" />"
      ],
      "text/plain": [
       "<IPython.core.display.HTML object>"
      ]
     },
     "metadata": {},
     "output_type": "display_data"
    },
    {
     "name": "stdout",
     "output_type": "stream",
     "text": [
      "Boerderijen met bomen en sloot\n",
      "\n"
     ]
    },
    {
     "data": {
      "text/html": [
       "<img src=\"http://commons.wikimedia.org/wiki/Special:FilePath/Piet%20Mondriaan%20-%20Boerderijen%20met%20bomen%20en%20sloot%20-%20A42%20-%20Piet%20Mondrian%2C%20catalogue%20raisonn%C3%A9.jpg\" style=\"width: 200px; \" />"
      ],
      "text/plain": [
       "<IPython.core.display.HTML object>"
      ]
     },
     "metadata": {},
     "output_type": "display_data"
    },
    {
     "name": "stdout",
     "output_type": "stream",
     "text": [
      "Scattered trees on sloping land\n",
      "\n"
     ]
    },
    {
     "data": {
      "text/html": [
       "<img src=\"http://commons.wikimedia.org/wiki/Special:FilePath/Piet%20Mondriaan%20-%20Glooiend%20landschap%20met%20bomen%20-%20A44%20-%20Piet%20Mondrian%2C%20catalogue%20raisonn%C3%A9.jpg\" style=\"width: 200px; \" />"
      ],
      "text/plain": [
       "<IPython.core.display.HTML object>"
      ]
     },
     "metadata": {},
     "output_type": "display_data"
    },
    {
     "name": "stdout",
     "output_type": "stream",
     "text": [
      "Glooiend landschap met bomen\n",
      "\n"
     ]
    },
    {
     "data": {
      "text/html": [
       "<img src=\"http://commons.wikimedia.org/wiki/Special:FilePath/Piet%20Mondriaan%20-%20Glooiend%20landschap%20met%20bomen%20-%20A44%20-%20Piet%20Mondrian%2C%20catalogue%20raisonn%C3%A9.jpg\" style=\"width: 200px; \" />"
      ],
      "text/plain": [
       "<IPython.core.display.HTML object>"
      ]
     },
     "metadata": {},
     "output_type": "display_data"
    },
    {
     "name": "stdout",
     "output_type": "stream",
     "text": [
      "Trees and cows along a stream\n",
      "\n"
     ]
    },
    {
     "data": {
      "text/html": [
       "<img src=\"http://commons.wikimedia.org/wiki/Special:FilePath/Piet%20Mondriaan%20-%20Trees%20and%20cows%20along%20a%20stream%20-%20A46%20-%20Piet%20Mondrian%2C%20catalogue%20raisonn%C3%A9.jpg\" style=\"width: 200px; \" />"
      ],
      "text/plain": [
       "<IPython.core.display.HTML object>"
      ]
     },
     "metadata": {},
     "output_type": "display_data"
    },
    {
     "name": "stdout",
     "output_type": "stream",
     "text": [
      "Trees and cows in a field\n",
      "\n"
     ]
    },
    {
     "data": {
      "text/html": [
       "<img src=\"http://commons.wikimedia.org/wiki/Special:FilePath/Piet%20Mondriaan%20-%20Trees%20and%20cows%20in%20a%20field%20-%20A47%20-%20Piet%20Mondrian%2C%20catalogue%20raisonn%C3%A9.jpg\" style=\"width: 200px; \" />"
      ],
      "text/plain": [
       "<IPython.core.display.HTML object>"
      ]
     },
     "metadata": {},
     "output_type": "display_data"
    },
    {
     "name": "stdout",
     "output_type": "stream",
     "text": [
      "Wood near Driebergen\n",
      "\n"
     ]
    },
    {
     "data": {
      "text/html": [
       "<img src=\"http://commons.wikimedia.org/wiki/Special:FilePath/Piet%20Mondriaan%20-%20Wood%20near%20Driebergen%20-%20A48%20-%20Piet%20Mondrian%2C%20catalogue%20raisonn%C3%A9.jpg\" style=\"width: 200px; \" />"
      ],
      "text/plain": [
       "<IPython.core.display.HTML object>"
      ]
     },
     "metadata": {},
     "output_type": "display_data"
    },
    {
     "name": "stdout",
     "output_type": "stream",
     "text": [
      "T\n",
      "\n"
     ]
    },
    {
     "data": {
      "text/html": [
       "<img src=\"http://commons.wikimedia.org/wiki/Special:FilePath/Piet%20Mondriaan%20-%20Three%20farm%20workers%20near%20a%20gateway%20-%20A49%20-%20Piet%20Mondrian%2C%20catalogue%20raisonn%C3%A9.jpg\" style=\"width: 200px; \" />"
      ],
      "text/plain": [
       "<IPython.core.display.HTML object>"
      ]
     },
     "metadata": {},
     "output_type": "display_data"
    },
    {
     "name": "stdout",
     "output_type": "stream",
     "text": [
      "Three farm workers near a gateway\n",
      "\n"
     ]
    },
    {
     "data": {
      "text/html": [
       "<img src=\"http://commons.wikimedia.org/wiki/Special:FilePath/Piet%20Mondriaan%20-%20Three%20farm%20workers%20near%20a%20gateway%20-%20A49%20-%20Piet%20Mondrian%2C%20catalogue%20raisonn%C3%A9.jpg\" style=\"width: 200px; \" />"
      ],
      "text/plain": [
       "<IPython.core.display.HTML object>"
      ]
     },
     "metadata": {},
     "output_type": "display_data"
    },
    {
     "name": "stdout",
     "output_type": "stream",
     "text": [
      "Spring idyll\n",
      "\n"
     ]
    },
    {
     "data": {
      "text/html": [
       "<img src=\"http://commons.wikimedia.org/wiki/Special:FilePath/Piet%20Mondriaan%20-%20Lente%20idylle%20%28authentiek%29%20-%20A64%20-%20Piet%20Mondrian%2C%20catalogue%20raisonn%C3%A9.jpg\" style=\"width: 200px; \" />"
      ],
      "text/plain": [
       "<IPython.core.display.HTML object>"
      ]
     },
     "metadata": {},
     "output_type": "display_data"
    },
    {
     "name": "stdout",
     "output_type": "stream",
     "text": [
      "Lente idylle (authentiek)\n",
      "\n"
     ]
    },
    {
     "data": {
      "text/html": [
       "<img src=\"http://commons.wikimedia.org/wiki/Special:FilePath/Piet%20Mondriaan%20-%20Lente%20idylle%20%28authentiek%29%20-%20A64%20-%20Piet%20Mondrian%2C%20catalogue%20raisonn%C3%A9.jpg\" style=\"width: 200px; \" />"
      ],
      "text/plain": [
       "<IPython.core.display.HTML object>"
      ]
     },
     "metadata": {},
     "output_type": "display_data"
    },
    {
     "name": "stdout",
     "output_type": "stream",
     "text": [
      "The Lappenbrink, view toward the Nieuwstraat, oil sketch\n",
      "\n"
     ]
    },
    {
     "data": {
      "text/html": [
       "<img src=\"http://commons.wikimedia.org/wiki/Special:FilePath/Piet%20Mondriaan%20-%20The%20Lappenbrink%2C%20view%20toward%20the%20Nieuwstraat%2C%20oil%20sketch%20-%20A67%20-%20Piet%20Mondrian%2C%20catalogue%20raisonn%C3%A9.jpg\" style=\"width: 200px; \" />"
      ],
      "text/plain": [
       "<IPython.core.display.HTML object>"
      ]
     },
     "metadata": {},
     "output_type": "display_data"
    },
    {
     "name": "stdout",
     "output_type": "stream",
     "text": [
      "Near the Lappenbrink\n",
      "\n"
     ]
    },
    {
     "data": {
      "text/html": [
       "<img src=\"http://commons.wikimedia.org/wiki/Special:FilePath/Piet%20Mondriaan%20-%20Near%20the%20Lappenbrink%20-%20A69%20-%20Piet%20Mondrian%2C%20catalogue%20raisonn%C3%A9.jpg\" style=\"width: 200px; \" />"
      ],
      "text/plain": [
       "<IPython.core.display.HTML object>"
      ]
     },
     "metadata": {},
     "output_type": "display_data"
    },
    {
     "name": "stdout",
     "output_type": "stream",
     "text": [
      "Farm buildings in Winterswijk\n",
      "\n"
     ]
    },
    {
     "data": {
      "text/html": [
       "<img src=\"http://commons.wikimedia.org/wiki/Special:FilePath/Piet%20Mondriaan%20-%20Farm%20buildings%20in%20Winterswijk%20-%20A70%20-%20Piet%20Mondrian%2C%20catalogue%20raisonn%C3%A9.jpg\" style=\"width: 200px; \" />"
      ],
      "text/plain": [
       "<IPython.core.display.HTML object>"
      ]
     },
     "metadata": {},
     "output_type": "display_data"
    },
    {
     "name": "stdout",
     "output_type": "stream",
     "text": [
      "Farmyard in the Achterhoek\n",
      "\n"
     ]
    },
    {
     "data": {
      "text/html": [
       "<img src=\"http://commons.wikimedia.org/wiki/Special:FilePath/Piet%20Mondriaan%20-%20Farmyard%20in%20the%20Achterhoek%20-%20A73%20-%20Piet%20Mondrian%2C%20catalogue%20raisonn%C3%A9.jpg\" style=\"width: 200px; \" />"
      ],
      "text/plain": [
       "<IPython.core.display.HTML object>"
      ]
     },
     "metadata": {},
     "output_type": "display_data"
    },
    {
     "name": "stdout",
     "output_type": "stream",
     "text": [
      "Farm buildings with bridge\n",
      "\n"
     ]
    },
    {
     "data": {
      "text/html": [
       "<img src=\"http://commons.wikimedia.org/wiki/Special:FilePath/Piet%20Mondriaan%20-%20Farm%20buildings%20with%20bridge%20-%20A75%20-%20Piet%20Mondrian%2C%20catalogue%20raisonn%C3%A9.jpg\" style=\"width: 200px; \" />"
      ],
      "text/plain": [
       "<IPython.core.display.HTML object>"
      ]
     },
     "metadata": {},
     "output_type": "display_data"
    },
    {
     "name": "stdout",
     "output_type": "stream",
     "text": [
      "Farmyard with carriage barn in the Achterhoek\n",
      "\n"
     ]
    },
    {
     "data": {
      "text/html": [
       "<img src=\"http://commons.wikimedia.org/wiki/Special:FilePath/Piet%20Mondriaan%20-%20Farmyard%20with%20carriage%20barn%20in%20the%20Achterhoek%20-%20A77%20-%20Piet%20Mondrian%2C%20catalogue%20raisonn%C3%A9.jpg\" style=\"width: 200px; \" />"
      ],
      "text/plain": [
       "<IPython.core.display.HTML object>"
      ]
     },
     "metadata": {},
     "output_type": "display_data"
    },
    {
     "name": "stdout",
     "output_type": "stream",
     "text": [
      "Winter landscape with three farm buildings\n",
      "\n"
     ]
    },
    {
     "data": {
      "text/html": [
       "<img src=\"http://commons.wikimedia.org/wiki/Special:FilePath/Piet%20Mondriaan%20-%20Winter%20landscape%20with%20three%20farm%20buildings%20-%20A80%20-%20Piet%20Mondrian%2C%20catalogue%20raisonn%C3%A9.jpg\" style=\"width: 200px; \" />"
      ],
      "text/plain": [
       "<IPython.core.display.HTML object>"
      ]
     },
     "metadata": {},
     "output_type": "display_data"
    },
    {
     "name": "stdout",
     "output_type": "stream",
     "text": [
      "Fields with stacked sheaves of rye\n",
      "\n"
     ]
    },
    {
     "data": {
      "text/html": [
       "<img src=\"http://commons.wikimedia.org/wiki/Special:FilePath/Piet%20Mondriaan%20-%20Fields%20with%20stacked%20sheaves%20of%20rye%20-%20A86%20-%20Piet%20Mondrian%2C%20catalogue%20raisonn%C3%A9.jpg\" style=\"width: 200px; \" />"
      ],
      "text/plain": [
       "<IPython.core.display.HTML object>"
      ]
     },
     "metadata": {},
     "output_type": "display_data"
    },
    {
     "name": "stdout",
     "output_type": "stream",
     "text": [
      "Two girls in a wood\n",
      "\n"
     ]
    },
    {
     "data": {
      "text/html": [
       "<img src=\"http://commons.wikimedia.org/wiki/Special:FilePath/Piet%20Mondriaan%20-%20Two%20girls%20in%20a%20wood%20-%20A91%20-%20Piet%20Mondrian%2C%20catalogue%20raisonn%C3%A9.jpg\" style=\"width: 200px; \" />"
      ],
      "text/plain": [
       "<IPython.core.display.HTML object>"
      ]
     },
     "metadata": {},
     "output_type": "display_data"
    },
    {
     "name": "stdout",
     "output_type": "stream",
     "text": [
      "Study of apples\n",
      "\n"
     ]
    },
    {
     "data": {
      "text/html": [
       "<img src=\"http://commons.wikimedia.org/wiki/Special:FilePath/Piet%20Mondriaan%20-%20Appelstudie%20%28authentiek%29%20-%20A93%20-%20Piet%20Mondrian%2C%20catalogue%20raisonn%C3%A9.jpg\" style=\"width: 200px; \" />"
      ],
      "text/plain": [
       "<IPython.core.display.HTML object>"
      ]
     },
     "metadata": {},
     "output_type": "display_data"
    },
    {
     "name": "stdout",
     "output_type": "stream",
     "text": [
      "Appelstudie (authentiek)\n",
      "\n"
     ]
    },
    {
     "data": {
      "text/html": [
       "<img src=\"http://commons.wikimedia.org/wiki/Special:FilePath/Piet%20Mondriaan%20-%20Appelstudie%20%28authentiek%29%20-%20A93%20-%20Piet%20Mondrian%2C%20catalogue%20raisonn%C3%A9.jpg\" style=\"width: 200px; \" />"
      ],
      "text/plain": [
       "<IPython.core.display.HTML object>"
      ]
     },
     "metadata": {},
     "output_type": "display_data"
    },
    {
     "name": "stdout",
     "output_type": "stream",
     "text": [
      "Apples, coffee pot and large copper pan\n",
      "\n"
     ]
    },
    {
     "data": {
      "text/html": [
       "<img src=\"http://commons.wikimedia.org/wiki/Special:FilePath/Piet%20Mondriaan%20-%20Apples%2C%20coffee%20pot%20and%20large%20copper%20pan%20-%20A95%20-%20Piet%20Mondrian%2C%20catalogue%20raisonn%C3%A9.jpg\" style=\"width: 200px; \" />"
      ],
      "text/plain": [
       "<IPython.core.display.HTML object>"
      ]
     },
     "metadata": {},
     "output_type": "display_data"
    },
    {
     "name": "stdout",
     "output_type": "stream",
     "text": [
      "Still life: apples, pot with flowers and metal pan\n",
      "\n"
     ]
    },
    {
     "data": {
      "text/html": [
       "<img src=\"http://commons.wikimedia.org/wiki/Special:FilePath/Piet%20Mondriaan%20-%20Stilleven%20%28authentiek%29%20-%20A96%20-%20Piet%20Mondrian%2C%20catalogue%20raisonn%C3%A9.jpg\" style=\"width: 200px; \" />"
      ],
      "text/plain": [
       "<IPython.core.display.HTML object>"
      ]
     },
     "metadata": {},
     "output_type": "display_data"
    },
    {
     "name": "stdout",
     "output_type": "stream",
     "text": [
      "Stilleven (authentiek)\n",
      "\n"
     ]
    },
    {
     "data": {
      "text/html": [
       "<img src=\"http://commons.wikimedia.org/wiki/Special:FilePath/Piet%20Mondriaan%20-%20Stilleven%20%28authentiek%29%20-%20A96%20-%20Piet%20Mondrian%2C%20catalogue%20raisonn%C3%A9.jpg\" style=\"width: 200px; \" />"
      ],
      "text/plain": [
       "<IPython.core.display.HTML object>"
      ]
     },
     "metadata": {},
     "output_type": "display_data"
    },
    {
     "name": "stdout",
     "output_type": "stream",
     "text": [
      "Oranges and decorated plate\n",
      "\n"
     ]
    },
    {
     "data": {
      "text/html": [
       "<img src=\"http://commons.wikimedia.org/wiki/Special:FilePath/Piet%20Mondriaan%20-%20Sinaasappelen%20%28authentiek%29%20-%20A97%20-%20Piet%20Mondrian%2C%20catalogue%20raisonn%C3%A9.jpg\" style=\"width: 200px; \" />"
      ],
      "text/plain": [
       "<IPython.core.display.HTML object>"
      ]
     },
     "metadata": {},
     "output_type": "display_data"
    },
    {
     "name": "stdout",
     "output_type": "stream",
     "text": [
      "Sinaasappelen (authentiek)\n",
      "\n"
     ]
    },
    {
     "data": {
      "text/html": [
       "<img src=\"http://commons.wikimedia.org/wiki/Special:FilePath/Piet%20Mondriaan%20-%20Sinaasappelen%20%28authentiek%29%20-%20A97%20-%20Piet%20Mondrian%2C%20catalogue%20raisonn%C3%A9.jpg\" style=\"width: 200px; \" />"
      ],
      "text/plain": [
       "<IPython.core.display.HTML object>"
      ]
     },
     "metadata": {},
     "output_type": "display_data"
    },
    {
     "name": "stdout",
     "output_type": "stream",
     "text": [
      "White phloxes\n",
      "\n"
     ]
    },
    {
     "data": {
      "text/html": [
       "<img src=\"http://commons.wikimedia.org/wiki/Special:FilePath/Piet%20Mondriaan%20-%20Witte%20floxen%20-%20A100%20-%20Piet%20Mondrian%2C%20catalogue%20raisonn%C3%A9.jpg\" style=\"width: 200px; \" />"
      ],
      "text/plain": [
       "<IPython.core.display.HTML object>"
      ]
     },
     "metadata": {},
     "output_type": "display_data"
    },
    {
     "name": "stdout",
     "output_type": "stream",
     "text": [
      "Witte floxen\n",
      "\n"
     ]
    },
    {
     "data": {
      "text/html": [
       "<img src=\"http://commons.wikimedia.org/wiki/Special:FilePath/Piet%20Mondriaan%20-%20Witte%20floxen%20-%20A100%20-%20Piet%20Mondrian%2C%20catalogue%20raisonn%C3%A9.jpg\" style=\"width: 200px; \" />"
      ],
      "text/plain": [
       "<IPython.core.display.HTML object>"
      ]
     },
     "metadata": {},
     "output_type": "display_data"
    },
    {
     "name": "stdout",
     "output_type": "stream",
     "text": [
      "Yellow chrysanthemums in a ginger pot\n",
      "\n"
     ]
    },
    {
     "data": {
      "text/html": [
       "<img src=\"http://commons.wikimedia.org/wiki/Special:FilePath/Piet%20Mondriaan%20-%20Yellow%20chrysanthemums%20in%20a%20ginger%20pot%20-%20A101%20-%20Piet%20Mondrian%2C%20catalogue%20raisonn%C3%A9.jpg\" style=\"width: 200px; \" />"
      ],
      "text/plain": [
       "<IPython.core.display.HTML object>"
      ]
     },
     "metadata": {},
     "output_type": "display_data"
    },
    {
     "name": "stdout",
     "output_type": "stream",
     "text": [
      "Three chrysanthemum blossoms in a round pot\n",
      "\n"
     ]
    },
    {
     "data": {
      "text/html": [
       "<img src=\"http://commons.wikimedia.org/wiki/Special:FilePath/Piet%20Mondriaan%20-%20Three%20chrysanthemum%20blossoms%20in%20a%20round%20pot%20-%20A102%20-%20Piet%20Mondrian%2C%20catalogue%20raisonn%C3%A9.jpg\" style=\"width: 200px; \" />"
      ],
      "text/plain": [
       "<IPython.core.display.HTML object>"
      ]
     },
     "metadata": {},
     "output_type": "display_data"
    },
    {
     "name": "stdout",
     "output_type": "stream",
     "text": [
      "Polder landscape with group of five cows\n",
      "\n"
     ]
    },
    {
     "data": {
      "text/html": [
       "<img src=\"http://commons.wikimedia.org/wiki/Special:FilePath/Piet%20Mondriaan%20-%20Polder%20landscape%20with%20group%20of%20five%20cows%20-%20A225%20-%20Piet%20Mondrian%2C%20catalogue%20raisonn%C3%A9.jpg\" style=\"width: 200px; \" />"
      ],
      "text/plain": [
       "<IPython.core.display.HTML object>"
      ]
     },
     "metadata": {},
     "output_type": "display_data"
    },
    {
     "name": "stdout",
     "output_type": "stream",
     "text": [
      "Two trees silhouetted behind a water course\n",
      "\n"
     ]
    },
    {
     "data": {
      "text/html": [
       "<img src=\"http://commons.wikimedia.org/wiki/Special:FilePath/Piet%20Mondriaan%20-%20Two%20trees%20silhouetted%20behind%20a%20water%20course%20-%20A229%20-%20Piet%20Mondrian%2C%20catalogue%20raisonn%C3%A9.jpg\" style=\"width: 200px; \" />"
      ],
      "text/plain": [
       "<IPython.core.display.HTML object>"
      ]
     },
     "metadata": {},
     "output_type": "display_data"
    },
    {
     "name": "stdout",
     "output_type": "stream",
     "text": [
      "Farm setting with foreground tree and irrigation ditch\n",
      "\n"
     ]
    },
    {
     "data": {
      "text/html": [
       "<img src=\"http://commons.wikimedia.org/wiki/Special:FilePath/Piet%20Mondriaan%20-%20Farm%20setting%20with%20foreground%20tree%20and%20irrigation%20ditch%20-%20A231%20-%20Piet%20Mondrian%2C%20catalogue%20raisonn%C3%A9.jpg\" style=\"width: 200px; \" />"
      ],
      "text/plain": [
       "<IPython.core.display.HTML object>"
      ]
     },
     "metadata": {},
     "output_type": "display_data"
    },
    {
     "name": "stdout",
     "output_type": "stream",
     "text": [
      "Free impression of a polder landscape\n",
      "\n"
     ]
    },
    {
     "data": {
      "text/html": [
       "<img src=\"http://commons.wikimedia.org/wiki/Special:FilePath/Piet%20Mondriaan%20-%20Free%20impression%20of%20a%20polder%20landscape%20-%20A232%20-%20Piet%20Mondrian%2C%20catalogue%20raisonn%C3%A9.jpg\" style=\"width: 200px; \" />"
      ],
      "text/plain": [
       "<IPython.core.display.HTML object>"
      ]
     },
     "metadata": {},
     "output_type": "display_data"
    },
    {
     "name": "stdout",
     "output_type": "stream",
     "text": [
      "Polder with moored boat near Amsterdam I\n",
      "\n"
     ]
    },
    {
     "data": {
      "text/html": [
       "<img src=\"http://commons.wikimedia.org/wiki/Special:FilePath/Piet%20Mondriaan%20-%20Polder%20with%20moored%20boat%20near%20Amsterdam%20I%20-%20A233%20-%20Piet%20Mondrian%2C%20catalogue%20raisonn%C3%A9.jpg\" style=\"width: 200px; \" />"
      ],
      "text/plain": [
       "<IPython.core.display.HTML object>"
      ]
     },
     "metadata": {},
     "output_type": "display_data"
    },
    {
     "name": "stdout",
     "output_type": "stream",
     "text": [
      "Polder with moored boat near Amsterdam II\n",
      "\n"
     ]
    },
    {
     "data": {
      "text/html": [
       "<img src=\"http://commons.wikimedia.org/wiki/Special:FilePath/Piet%20Mondriaan%20-%20Polder%20with%20moored%20boat%20near%20Amsterdam%20II%20-%20A234%20-%20Piet%20Mondrian%2C%20catalogue%20raisonn%C3%A9.jpg\" style=\"width: 200px; \" />"
      ],
      "text/plain": [
       "<IPython.core.display.HTML object>"
      ]
     },
     "metadata": {},
     "output_type": "display_data"
    },
    {
     "name": "stdout",
     "output_type": "stream",
     "text": [
      "Polder landscape, smoke rising in background\n",
      "\n"
     ]
    },
    {
     "data": {
      "text/html": [
       "<img src=\"http://commons.wikimedia.org/wiki/Special:FilePath/Piet%20Mondriaan%20-%20Polder%20landscape%2C%20smoke%20rising%20in%20background%20-%20A235%20-%20Piet%20Mondrian%2C%20catalogue%20raisonn%C3%A9.jpg\" style=\"width: 200px; \" />"
      ],
      "text/plain": [
       "<IPython.core.display.HTML object>"
      ]
     },
     "metadata": {},
     "output_type": "display_data"
    },
    {
     "name": "stdout",
     "output_type": "stream",
     "text": [
      "Fragment of an irrigation ditch\n",
      "\n"
     ]
    },
    {
     "data": {
      "text/html": [
       "<img src=\"http://commons.wikimedia.org/wiki/Special:FilePath/Piet%20Mondriaan%20-%20Fragment%20of%20an%20irrigation%20ditch%20-%20A236%20-%20Piet%20Mondrian%2C%20catalogue%20raisonn%C3%A9.jpg\" style=\"width: 200px; \" />"
      ],
      "text/plain": [
       "<IPython.core.display.HTML object>"
      ]
     },
     "metadata": {},
     "output_type": "display_data"
    },
    {
     "name": "stdout",
     "output_type": "stream",
     "text": [
      "Irrigation ditch with pollarded willows\n",
      "\n"
     ]
    },
    {
     "data": {
      "text/html": [
       "<img src=\"http://commons.wikimedia.org/wiki/Special:FilePath/Piet%20Mondriaan%20-%20Irrigation%20ditch%20with%20pollarded%20willows%20-%20A238%20-%20Piet%20Mondrian%2C%20catalogue%20raisonn%C3%A9.jpg\" style=\"width: 200px; \" />"
      ],
      "text/plain": [
       "<IPython.core.display.HTML object>"
      ]
     },
     "metadata": {},
     "output_type": "display_data"
    },
    {
     "name": "stdout",
     "output_type": "stream",
     "text": [
      "Beach scene\n",
      "\n"
     ]
    },
    {
     "data": {
      "text/html": [
       "<img src=\"http://commons.wikimedia.org/wiki/Special:FilePath/Piet%20Mondriaan%20-%20Beach%20scene%20-%20A240%20-%20Piet%20Mondrian%2C%20catalogue%20raisonn%C3%A9.jpg\" style=\"width: 200px; \" />"
      ],
      "text/plain": [
       "<IPython.core.display.HTML object>"
      ]
     },
     "metadata": {},
     "output_type": "display_data"
    },
    {
     "name": "stdout",
     "output_type": "stream",
     "text": [
      "Rocky coast in England\n",
      "\n"
     ]
    },
    {
     "data": {
      "text/html": [
       "<img src=\"http://commons.wikimedia.org/wiki/Special:FilePath/Piet%20Mondriaan%20-%20Rocky%20coast%20in%20England%20-%20A241%20-%20Piet%20Mondrian%2C%20catalogue%20raisonn%C3%A9.jpg\" style=\"width: 200px; \" />"
      ],
      "text/plain": [
       "<IPython.core.display.HTML object>"
      ]
     },
     "metadata": {},
     "output_type": "display_data"
    },
    {
     "name": "stdout",
     "output_type": "stream",
     "text": [
      "House on the Gein, 1741\n",
      "\n"
     ]
    },
    {
     "data": {
      "text/html": [
       "<img src=\"http://commons.wikimedia.org/wiki/Special:FilePath/Piet%20Mondriaan%20-%20House%20on%20the%20Gein%2C%201741%20-%20A244%20-%20Piet%20Mondrian%2C%20catalogue%20raisonn%C3%A9.jpg\" style=\"width: 200px; \" />"
      ],
      "text/plain": [
       "<IPython.core.display.HTML object>"
      ]
     },
     "metadata": {},
     "output_type": "display_data"
    },
    {
     "name": "stdout",
     "output_type": "stream",
     "text": [
      "House on the Gein, 1741, reversed sketch\n",
      "\n"
     ]
    },
    {
     "data": {
      "text/html": [
       "<img src=\"http://commons.wikimedia.org/wiki/Special:FilePath/Piet%20Mondriaan%20-%20House%20on%20the%20Gein%2C%201741%2C%20reversed%20sketch%20-%20A244a%20-%20Piet%20Mondrian%2C%20catalogue%20raisonn%C3%A9.jpg\" style=\"width: 200px; \" />"
      ],
      "text/plain": [
       "<IPython.core.display.HTML object>"
      ]
     },
     "metadata": {},
     "output_type": "display_data"
    },
    {
     "name": "stdout",
     "output_type": "stream",
     "text": [
      "Façade of Maria's Hoeve farm building on the Gein\n",
      "\n"
     ]
    },
    {
     "data": {
      "text/html": [
       "<img src=\"http://commons.wikimedia.org/wiki/Special:FilePath/Piet%20Mondriaan%20-%20Fa%C3%A7ade%20of%20Maria%27s%20Hoeve%20farm%20building%20on%20the%20Gein%20-%20A248%20-%20Piet%20Mondrian%2C%20catalogue%20raisonn%C3%A9.jpg\" style=\"width: 200px; \" />"
      ],
      "text/plain": [
       "<IPython.core.display.HTML object>"
      ]
     },
     "metadata": {},
     "output_type": "display_data"
    },
    {
     "name": "stdout",
     "output_type": "stream",
     "text": [
      "Gabled farmhouse façade in white\n",
      "\n"
     ]
    },
    {
     "data": {
      "text/html": [
       "<img src=\"http://commons.wikimedia.org/wiki/Special:FilePath/Piet%20Mondriaan%20-%20Gabled%20farmhouse%20fa%C3%A7ade%20in%20white%20-%20A249%20-%20Piet%20Mondrian%2C%20catalogue%20raisonn%C3%A9.jpg\" style=\"width: 200px; \" />"
      ],
      "text/plain": [
       "<IPython.core.display.HTML object>"
      ]
     },
     "metadata": {},
     "output_type": "display_data"
    },
    {
     "name": "stdout",
     "output_type": "stream",
     "text": [
      "Gabled farmhouse façade with large gateposts\n",
      "\n"
     ]
    },
    {
     "data": {
      "text/html": [
       "<img src=\"http://commons.wikimedia.org/wiki/Special:FilePath/Piet%20Mondriaan%20-%20Gabled%20farmhouse%20fa%C3%A7ade%20with%20large%20gateposts%20-%20A250%20-%20Piet%20Mondrian%2C%20catalogue%20raisonn%C3%A9.jpg\" style=\"width: 200px; \" />"
      ],
      "text/plain": [
       "<IPython.core.display.HTML object>"
      ]
     },
     "metadata": {},
     "output_type": "display_data"
    },
    {
     "name": "stdout",
     "output_type": "stream",
     "text": [
      "Two gabled house façades along a canal\n",
      "\n"
     ]
    },
    {
     "data": {
      "text/html": [
       "<img src=\"http://commons.wikimedia.org/wiki/Special:FilePath/Piet%20Mondriaan%20-%20Two%20gabled%20house%20fa%C3%A7ades%20along%20a%20canal%20-%20A251%20-%20Piet%20Mondrian%2C%20catalogue%20raisonn%C3%A9.jpg\" style=\"width: 200px; \" />"
      ],
      "text/plain": [
       "<IPython.core.display.HTML object>"
      ]
     },
     "metadata": {},
     "output_type": "display_data"
    },
    {
     "name": "stdout",
     "output_type": "stream",
     "text": [
      "Truncated view of a gabled house façade on a canal\n",
      "\n"
     ]
    },
    {
     "data": {
      "text/html": [
       "<img src=\"http://commons.wikimedia.org/wiki/Special:FilePath/Piet%20Mondriaan%20-%20Truncated%20view%20of%20a%20gabled%20house%20fa%C3%A7ade%20on%20a%20canal%20-%20None%20-%20Piet%20Mondrian%2C%20catalogue%20raisonn%C3%A9.jpg\" style=\"width: 200px; \" />"
      ],
      "text/plain": [
       "<IPython.core.display.HTML object>"
      ]
     },
     "metadata": {},
     "output_type": "display_data"
    },
    {
     "name": "stdout",
     "output_type": "stream",
     "text": [
      "Farmhouse with garden\n",
      "\n"
     ]
    },
    {
     "data": {
      "text/html": [
       "<img src=\"http://commons.wikimedia.org/wiki/Special:FilePath/Piet%20Mondriaan%20-%20Farmhouse%20with%20garden%20-%20None%20-%20Piet%20Mondrian%2C%20catalogue%20raisonn%C3%A9.jpg\" style=\"width: 200px; \" />"
      ],
      "text/plain": [
       "<IPython.core.display.HTML object>"
      ]
     },
     "metadata": {},
     "output_type": "display_data"
    },
    {
     "name": "stdout",
     "output_type": "stream",
     "text": [
      "Farm buildings near a canal with small boat\n",
      "\n"
     ]
    },
    {
     "data": {
      "text/html": [
       "<img src=\"http://commons.wikimedia.org/wiki/Special:FilePath/Piet%20Mondriaan%20-%20Farm%20buildings%20near%20a%20canal%20with%20small%20boat%20-%20A255%20-%20Piet%20Mondrian%2C%20catalogue%20raisonn%C3%A9.jpg\" style=\"width: 200px; \" />"
      ],
      "text/plain": [
       "<IPython.core.display.HTML object>"
      ]
     },
     "metadata": {},
     "output_type": "display_data"
    },
    {
     "name": "stdout",
     "output_type": "stream",
     "text": [
      "Truncated view of tjalk and house façade\n",
      "\n"
     ]
    },
    {
     "data": {
      "text/html": [
       "<img src=\"http://commons.wikimedia.org/wiki/Special:FilePath/Piet%20Mondriaan%20-%20Truncated%20view%20of%20tjalk%20and%20house%20fa%C3%A7ade%20-%20A257%20-%20Piet%20Mondrian%2C%20catalogue%20raisonn%C3%A9.jpg\" style=\"width: 200px; \" />"
      ],
      "text/plain": [
       "<IPython.core.display.HTML object>"
      ]
     },
     "metadata": {},
     "output_type": "display_data"
    },
    {
     "name": "stdout",
     "output_type": "stream",
     "text": [
      "Still life with mirror, containers, honesty and fruit\n",
      "\n"
     ]
    },
    {
     "data": {
      "text/html": [
       "<img src=\"http://commons.wikimedia.org/wiki/Special:FilePath/Piet%20Mondriaan%20-%20Still%20life%20with%20mirror%2C%20containers%2C%20honesty%20and%20fruit%20-%20A264%20-%20Piet%20Mondrian%2C%20catalogue%20raisonn%C3%A9.jpg\" style=\"width: 200px; \" />"
      ],
      "text/plain": [
       "<IPython.core.display.HTML object>"
      ]
     },
     "metadata": {},
     "output_type": "display_data"
    },
    {
     "name": "stdout",
     "output_type": "stream",
     "text": [
      "Portrait of Louise Charlotte Mathilde van den Bosch (1843-1907)\n",
      "\n"
     ]
    },
    {
     "data": {
      "text/html": [
       "<img src=\"http://commons.wikimedia.org/wiki/Special:FilePath/Piet%20Mondriaan%20-%20Portret%20van%20Louise%20Charlotte%20Mathilde%20van%20den%20Bosch%20%281843-1907%29%20-%20A272%20-%20Piet%20Mondrian%2C%20catalogue%20raisonn%C3%A9.jpg\" style=\"width: 200px; \" />"
      ],
      "text/plain": [
       "<IPython.core.display.HTML object>"
      ]
     },
     "metadata": {},
     "output_type": "display_data"
    },
    {
     "name": "stdout",
     "output_type": "stream",
     "text": [
      "Portret van Louise Charlotte Mathilde van den Bosch (1843-1907)\n",
      "\n"
     ]
    },
    {
     "data": {
      "text/html": [
       "<img src=\"http://commons.wikimedia.org/wiki/Special:FilePath/Piet%20Mondriaan%20-%20Portret%20van%20Louise%20Charlotte%20Mathilde%20van%20den%20Bosch%20%281843-1907%29%20-%20A272%20-%20Piet%20Mondrian%2C%20catalogue%20raisonn%C3%A9.jpg\" style=\"width: 200px; \" />"
      ],
      "text/plain": [
       "<IPython.core.display.HTML object>"
      ]
     },
     "metadata": {},
     "output_type": "display_data"
    },
    {
     "name": "stdout",
     "output_type": "stream",
     "text": [
      "Windmill with church towers in the distance\n",
      "\n"
     ]
    },
    {
     "data": {
      "text/html": [
       "<img src=\"http://commons.wikimedia.org/wiki/Special:FilePath/Piet%20Mondriaan%20-%20Windmill%20with%20church%20towers%20in%20the%20distance%20-%20A280%20-%20Piet%20Mondrian%2C%20catalogue%20raisonn%C3%A9.jpg\" style=\"width: 200px; \" />"
      ],
      "text/plain": [
       "<IPython.core.display.HTML object>"
      ]
     },
     "metadata": {},
     "output_type": "display_data"
    },
    {
     "name": "stdout",
     "output_type": "stream",
     "text": [
      "Vinkenbrug te Diemen\n",
      "\n"
     ]
    },
    {
     "data": {
      "text/html": [
       "<img src=\"http://commons.wikimedia.org/wiki/Special:FilePath/Piet%20Mondriaan%20-%20Vinkenbrug%20te%20Diemen%20-%20A281%20-%20Piet%20Mondrian%2C%20catalogue%20raisonn%C3%A9.jpg\" style=\"width: 200px; \" />"
      ],
      "text/plain": [
       "<IPython.core.display.HTML object>"
      ]
     },
     "metadata": {},
     "output_type": "display_data"
    },
    {
     "name": "stdout",
     "output_type": "stream",
     "text": [
      "Curved irrigation ditch bordering farmyard with flowering trees\n",
      "\n"
     ]
    },
    {
     "data": {
      "text/html": [
       "<img src=\"http://commons.wikimedia.org/wiki/Special:FilePath/Piet%20Mondriaan%20-%20Curved%20irrigation%20ditch%20bordering%20farmyard%20with%20flowering%20trees%20-%20A283%20-%20Piet%20Mondrian%2C%20catalogue%20raisonn%C3%A9.jpg\" style=\"width: 200px; \" />"
      ],
      "text/plain": [
       "<IPython.core.display.HTML object>"
      ]
     },
     "metadata": {},
     "output_type": "display_data"
    },
    {
     "name": "stdout",
     "output_type": "stream",
     "text": [
      "Fields overlooking Arnhem from the north\n",
      "\n"
     ]
    },
    {
     "data": {
      "text/html": [
       "<img src=\"http://commons.wikimedia.org/wiki/Special:FilePath/Piet%20Mondriaan%20-%20Fields%20overlooking%20Arnhem%20from%20the%20north%20-%20A284%20-%20Piet%20Mondrian%2C%20catalogue%20raisonn%C3%A9.jpg\" style=\"width: 200px; \" />"
      ],
      "text/plain": [
       "<IPython.core.display.HTML object>"
      ]
     },
     "metadata": {},
     "output_type": "display_data"
    },
    {
     "name": "stdout",
     "output_type": "stream",
     "text": [
      "Roadway and farm building near Arnhem\n",
      "\n"
     ]
    },
    {
     "data": {
      "text/html": [
       "<img src=\"http://commons.wikimedia.org/wiki/Special:FilePath/Piet%20Mondriaan%20-%20Roadway%20and%20farm%20building%20near%20Arnhem%20-%20A286%20-%20Piet%20Mondrian%2C%20catalogue%20raisonn%C3%A9.jpg\" style=\"width: 200px; \" />"
      ],
      "text/plain": [
       "<IPython.core.display.HTML object>"
      ]
     },
     "metadata": {},
     "output_type": "display_data"
    },
    {
     "name": "stdout",
     "output_type": "stream",
     "text": [
      "Six young birch trees in a field\n",
      "\n"
     ]
    },
    {
     "data": {
      "text/html": [
       "<img src=\"http://commons.wikimedia.org/wiki/Special:FilePath/Piet%20Mondriaan%20-%20Six%20young%20birch%20trees%20in%20a%20field%20-%20A288%20-%20Piet%20Mondrian%2C%20catalogue%20raisonn%C3%A9.jpg\" style=\"width: 200px; \" />"
      ],
      "text/plain": [
       "<IPython.core.display.HTML object>"
      ]
     },
     "metadata": {},
     "output_type": "display_data"
    },
    {
     "name": "stdout",
     "output_type": "stream",
     "text": [
      "On the Ringdijk, Watergraafsmeer\n",
      "\n"
     ]
    },
    {
     "data": {
      "text/html": [
       "<img src=\"http://commons.wikimedia.org/wiki/Special:FilePath/Piet%20mondrian%20op%20de%20ringdijk%20watergraafsmeer033846%29.jpg\" style=\"width: 200px; \" />"
      ],
      "text/plain": [
       "<IPython.core.display.HTML object>"
      ]
     },
     "metadata": {},
     "output_type": "display_data"
    },
    {
     "name": "stdout",
     "output_type": "stream",
     "text": [
      "Op de Ringdijk, Watergraafsmeer (authentiek)\n",
      "\n"
     ]
    },
    {
     "data": {
      "text/html": [
       "<img src=\"http://commons.wikimedia.org/wiki/Special:FilePath/Piet%20mondrian%20op%20de%20ringdijk%20watergraafsmeer033846%29.jpg\" style=\"width: 200px; \" />"
      ],
      "text/plain": [
       "<IPython.core.display.HTML object>"
      ]
     },
     "metadata": {},
     "output_type": "display_data"
    },
    {
     "name": "stdout",
     "output_type": "stream",
     "text": [
      "Farm building with white side façade\n",
      "\n"
     ]
    },
    {
     "data": {
      "text/html": [
       "<img src=\"http://commons.wikimedia.org/wiki/Special:FilePath/Piet%20Mondriaan%20-%20Farm%20building%20with%20white%20side%20fa%C3%A7ade%20-%20A297%20-%20Piet%20Mondrian%2C%20catalogue%20raisonn%C3%A9.jpg\" style=\"width: 200px; \" />"
      ],
      "text/plain": [
       "<IPython.core.display.HTML object>"
      ]
     },
     "metadata": {},
     "output_type": "display_data"
    },
    {
     "name": "stdout",
     "output_type": "stream",
     "text": [
      "Farmhouse façade with curb roof\n",
      "\n"
     ]
    },
    {
     "data": {
      "text/html": [
       "<img src=\"http://commons.wikimedia.org/wiki/Special:FilePath/Piet%20Mondriaan%20-%20Farmhouse%20fa%C3%A7ade%20with%20curb%20roof%20-%20A300%20-%20Piet%20Mondrian%2C%20catalogue%20raisonn%C3%A9.jpg\" style=\"width: 200px; \" />"
      ],
      "text/plain": [
       "<IPython.core.display.HTML object>"
      ]
     },
     "metadata": {},
     "output_type": "display_data"
    },
    {
     "name": "stdout",
     "output_type": "stream",
     "text": [
      "Gabled farmhouse façade with tree, fence and gateposts in front\n",
      "\n"
     ]
    },
    {
     "data": {
      "text/html": [
       "<img src=\"http://commons.wikimedia.org/wiki/Special:FilePath/Piet%20Mondriaan%20-%20Gabled%20farmhouse%20fa%C3%A7ade%20with%20tree%2C%20fence%20and%20gateposts%20in%20front%20-%20A301%20-%20Piet%20Mondrian%2C%20catalogue%20raisonn%C3%A9.jpg\" style=\"width: 200px; \" />"
      ],
      "text/plain": [
       "<IPython.core.display.HTML object>"
      ]
     },
     "metadata": {},
     "output_type": "display_data"
    },
    {
     "name": "stdout",
     "output_type": "stream",
     "text": [
      "Gabled farmhouse with row of trees and blue sky\n",
      "\n"
     ]
    },
    {
     "data": {
      "text/html": [
       "<img src=\"http://commons.wikimedia.org/wiki/Special:FilePath/Piet%20Mondriaan%20-%20Gabled%20farmhouse%20with%20row%20of%20trees%20and%20blue%20sky%20-%20A302%20-%20Piet%20Mondrian%2C%20catalogue%20raisonn%C3%A9.jpg\" style=\"width: 200px; \" />"
      ],
      "text/plain": [
       "<IPython.core.display.HTML object>"
      ]
     },
     "metadata": {},
     "output_type": "display_data"
    },
    {
     "name": "stdout",
     "output_type": "stream",
     "text": [
      "Buildings along the water with a wash stoop\n",
      "\n"
     ]
    },
    {
     "data": {
      "text/html": [
       "<img src=\"http://commons.wikimedia.org/wiki/Special:FilePath/Piet%20Mondriaan%20-%20Buildings%20along%20the%20water%20with%20a%20wash%20stoop%20-%20A304%20-%20Piet%20Mondrian%2C%20catalogue%20raisonn%C3%A9.jpg\" style=\"width: 200px; \" />"
      ],
      "text/plain": [
       "<IPython.core.display.HTML object>"
      ]
     },
     "metadata": {},
     "output_type": "display_data"
    },
    {
     "name": "stdout",
     "output_type": "stream",
     "text": [
      "Irrigation ditch with cows and sheltered farm complex\n",
      "\n"
     ]
    },
    {
     "data": {
      "text/html": [
       "<img src=\"http://commons.wikimedia.org/wiki/Special:FilePath/Piet%20Mondriaan%20-%20Irrigation%20ditch%20with%20cows%20and%20sheltered%20farm%20complex%20-%20A305%20-%20Piet%20Mondrian%2C%20catalogue%20raisonn%C3%A9.jpg\" style=\"width: 200px; \" />"
      ],
      "text/plain": [
       "<IPython.core.display.HTML object>"
      ]
     },
     "metadata": {},
     "output_type": "display_data"
    },
    {
     "name": "stdout",
     "output_type": "stream",
     "text": [
      "Farmyard with sheep\n",
      "\n"
     ]
    },
    {
     "data": {
      "text/html": [
       "<img src=\"http://commons.wikimedia.org/wiki/Special:FilePath/Piet%20Mondriaan%20-%20Farmyard%20with%20sheep%20-%20A318%20-%20Piet%20Mondrian%2C%20catalogue%20raisonn%C3%A9.jpg\" style=\"width: 200px; \" />"
      ],
      "text/plain": [
       "<IPython.core.display.HTML object>"
      ]
     },
     "metadata": {},
     "output_type": "display_data"
    },
    {
     "name": "stdout",
     "output_type": "stream",
     "text": [
      "Barn and haystack behind row of willows\n",
      "\n"
     ]
    },
    {
     "data": {
      "text/html": [
       "<img src=\"http://commons.wikimedia.org/wiki/Special:FilePath/Piet%20Mondriaan%20-%20Barn%20and%20haystack%20behind%20row%20of%20willows%20-%20A320%20-%20Piet%20Mondrian%2C%20catalogue%20raisonn%C3%A9.jpg\" style=\"width: 200px; \" />"
      ],
      "text/plain": [
       "<IPython.core.display.HTML object>"
      ]
     },
     "metadata": {},
     "output_type": "display_data"
    },
    {
     "name": "stdout",
     "output_type": "stream",
     "text": [
      "Farmyard sketch with pollarded willow at left\n",
      "\n"
     ]
    },
    {
     "data": {
      "text/html": [
       "<img src=\"http://commons.wikimedia.org/wiki/Special:FilePath/Piet%20Mondriaan%20-%20Farmyard%20sketch%20with%20pollarded%20willow%20at%20left%20-%20A321%20-%20Piet%20Mondrian%2C%20catalogue%20raisonn%C3%A9.jpg\" style=\"width: 200px; \" />"
      ],
      "text/plain": [
       "<IPython.core.display.HTML object>"
      ]
     },
     "metadata": {},
     "output_type": "display_data"
    },
    {
     "name": "stdout",
     "output_type": "stream",
     "text": [
      "Farmyard sketch with two cows grazing\n",
      "\n"
     ]
    },
    {
     "data": {
      "text/html": [
       "<img src=\"http://commons.wikimedia.org/wiki/Special:FilePath/Piet%20Mondriaan%20-%20Farmyard%20sketch%20with%20two%20cows%20grazing%20-%20A322%20-%20Piet%20Mondrian%2C%20catalogue%20raisonn%C3%A9.jpg\" style=\"width: 200px; \" />"
      ],
      "text/plain": [
       "<IPython.core.display.HTML object>"
      ]
     },
     "metadata": {},
     "output_type": "display_data"
    },
    {
     "name": "stdout",
     "output_type": "stream",
     "text": [
      "Willows bordering a watercourse, buildings left and right\n",
      "\n"
     ]
    },
    {
     "data": {
      "text/html": [
       "<img src=\"http://commons.wikimedia.org/wiki/Special:FilePath/Piet%20Mondriaan%20-%20Willows%20bordering%20a%20watercourse%2C%20buildings%20left%20and%20right%20-%20A324%20-%20Piet%20Mondrian%2C%20catalogue%20raisonn%C3%A9.jpg\" style=\"width: 200px; \" />"
      ],
      "text/plain": [
       "<IPython.core.display.HTML object>"
      ]
     },
     "metadata": {},
     "output_type": "display_data"
    },
    {
     "name": "stdout",
     "output_type": "stream",
     "text": [
      "Willows bordering an irrigation ditch near a haystack\n",
      "\n"
     ]
    },
    {
     "data": {
      "text/html": [
       "<img src=\"http://commons.wikimedia.org/wiki/Special:FilePath/Piet%20Mondriaan%20-%20Willows%20bordering%20an%20irrigation%20ditch%20near%20a%20haystack%20-%20A325%20-%20Piet%20Mondrian%2C%20catalogue%20raisonn%C3%A9.jpg\" style=\"width: 200px; \" />"
      ],
      "text/plain": [
       "<IPython.core.display.HTML object>"
      ]
     },
     "metadata": {},
     "output_type": "display_data"
    },
    {
     "name": "stdout",
     "output_type": "stream",
     "text": [
      "The white bull calf\n",
      "\n"
     ]
    },
    {
     "data": {
      "text/html": [
       "<img src=\"http://commons.wikimedia.org/wiki/Special:FilePath/Piet%20Mondriaan%20-%20The%20white%20bull%20calf%20-%20A338%20-%20Piet%20Mondrian%2C%20catalogue%20raisonn%C3%A9.jpg\" style=\"width: 200px; \" />"
      ],
      "text/plain": [
       "<IPython.core.display.HTML object>"
      ]
     },
     "metadata": {},
     "output_type": "display_data"
    },
    {
     "name": "stdout",
     "output_type": "stream",
     "text": [
      "Oostzijdse mill viewed from dock at Landzicht farm\n",
      "\n"
     ]
    },
    {
     "data": {
      "text/html": [
       "<img src=\"http://commons.wikimedia.org/wiki/Special:FilePath/Piet%20Mondriaan%20-%20Oostzijdse%20mill%20viewed%20from%20dock%20at%20Landzicht%20farm%20-%20A343%20-%20Piet%20Mondrian%2C%20catalogue%20raisonn%C3%A9.jpg\" style=\"width: 200px; \" />"
      ],
      "text/plain": [
       "<IPython.core.display.HTML object>"
      ]
     },
     "metadata": {},
     "output_type": "display_data"
    },
    {
     "name": "stdout",
     "output_type": "stream",
     "text": [
      "Oostzijdse mill, oil sketch in square format\n",
      "\n"
     ]
    },
    {
     "data": {
      "text/html": [
       "<img src=\"http://commons.wikimedia.org/wiki/Special:FilePath/Piet%20Mondriaan%20-%20Oostzijdse%20mill%2C%20oil%20sketch%20in%20square%20format%20-%20A344%20-%20Piet%20Mondrian%2C%20catalogue%20raisonn%C3%A9.jpg\" style=\"width: 200px; \" />"
      ],
      "text/plain": [
       "<IPython.core.display.HTML object>"
      ]
     },
     "metadata": {},
     "output_type": "display_data"
    },
    {
     "name": "stdout",
     "output_type": "stream",
     "text": [
      "Farmhouse along the water shielded by arch of trees II\n",
      "\n"
     ]
    },
    {
     "data": {
      "text/html": [
       "<img src=\"http://commons.wikimedia.org/wiki/Special:FilePath/Piet%20Mondriaan%20-%20Farmhouse%20along%20the%20water%20shielded%20by%20arch%20of%20trees%20II%20-%20A349%20-%20Piet%20Mondrian%2C%20catalogue%20raisonn%C3%A9.jpg\" style=\"width: 200px; \" />"
      ],
      "text/plain": [
       "<IPython.core.display.HTML object>"
      ]
     },
     "metadata": {},
     "output_type": "display_data"
    },
    {
     "name": "stdout",
     "output_type": "stream",
     "text": [
      "Willow grove, trunks leaning left II\n",
      "\n"
     ]
    },
    {
     "data": {
      "text/html": [
       "<img src=\"http://commons.wikimedia.org/wiki/Special:FilePath/Piet%20Mondriaan%20-%20Willow%20grove%2C%20trunks%20leaning%20left%20II%20-%20A351%20-%20Piet%20Mondrian%2C%20catalogue%20raisonn%C3%A9.jpg\" style=\"width: 200px; \" />"
      ],
      "text/plain": [
       "<IPython.core.display.HTML object>"
      ]
     },
     "metadata": {},
     "output_type": "display_data"
    },
    {
     "name": "stdout",
     "output_type": "stream",
     "text": [
      "The home: Hannes van Nistelrode at his pot stove\n",
      "\n"
     ]
    },
    {
     "data": {
      "text/html": [
       "<img src=\"http://commons.wikimedia.org/wiki/Special:FilePath/Piet%20Mondriaan%20-%20De%20Herd%20%28authentiek%29%20-%20A355%20-%20Piet%20Mondrian%2C%20catalogue%20raisonn%C3%A9.jpg\" style=\"width: 200px; \" />"
      ],
      "text/plain": [
       "<IPython.core.display.HTML object>"
      ]
     },
     "metadata": {},
     "output_type": "display_data"
    },
    {
     "name": "stdout",
     "output_type": "stream",
     "text": [
      "De Herd (authentiek)\n",
      "\n"
     ]
    },
    {
     "data": {
      "text/html": [
       "<img src=\"http://commons.wikimedia.org/wiki/Special:FilePath/Piet%20Mondriaan%20-%20De%20Herd%20%28authentiek%29%20-%20A355%20-%20Piet%20Mondrian%2C%20catalogue%20raisonn%C3%A9.jpg\" style=\"width: 200px; \" />"
      ],
      "text/plain": [
       "<IPython.core.display.HTML object>"
      ]
     },
     "metadata": {},
     "output_type": "display_data"
    },
    {
     "name": "stdout",
     "output_type": "stream",
     "text": [
      "Brabant farm building with pump\n",
      "\n"
     ]
    },
    {
     "data": {
      "text/html": [
       "<img src=\"http://commons.wikimedia.org/wiki/Special:FilePath/Piet%20Mondriaan%20-%20Brabant%20farm%20building%20with%20pump%20-%20A361%20-%20Piet%20Mondrian%2C%20catalogue%20raisonn%C3%A9.jpg\" style=\"width: 200px; \" />"
      ],
      "text/plain": [
       "<IPython.core.display.HTML object>"
      ]
     },
     "metadata": {},
     "output_type": "display_data"
    },
    {
     "name": "stdout",
     "output_type": "stream",
     "text": [
      "White irises against a light blue background II\n",
      "\n"
     ]
    },
    {
     "data": {
      "text/html": [
       "<img src=\"http://commons.wikimedia.org/wiki/Special:FilePath/Piet%20Mondriaan%20-%20White%20irises%20against%20a%20light%20blue%20background%20II%20-%20A629%20-%20Piet%20Mondrian%2C%20catalogue%20raisonn%C3%A9.jpg\" style=\"width: 200px; \" />"
      ],
      "text/plain": [
       "<IPython.core.display.HTML object>"
      ]
     },
     "metadata": {},
     "output_type": "display_data"
    },
    {
     "name": "stdout",
     "output_type": "stream",
     "text": [
      "Haystacks I\n",
      "\n"
     ]
    },
    {
     "data": {
      "text/html": [
       "<img src=\"http://commons.wikimedia.org/wiki/Special:FilePath/Piet%20Mondriaan%20-%20Haystacks%20I%20-%20A655%20-%20Piet%20Mondrian%2C%20catalogue%20raisonn%C3%A9.jpg\" style=\"width: 200px; \" />"
      ],
      "text/plain": [
       "<IPython.core.display.HTML object>"
      ]
     },
     "metadata": {},
     "output_type": "display_data"
    },
    {
     "name": "stdout",
     "output_type": "stream",
     "text": [
      "Haystacks II\n",
      "\n"
     ]
    },
    {
     "data": {
      "text/html": [
       "<img src=\"http://commons.wikimedia.org/wiki/Special:FilePath/Piet%20Mondriaan%20-%20Haystacks%20II%20-%20A656%20-%20Piet%20Mondrian%2C%20catalogue%20raisonn%C3%A9.jpg\" style=\"width: 200px; \" />"
      ],
      "text/plain": [
       "<IPython.core.display.HTML object>"
      ]
     },
     "metadata": {},
     "output_type": "display_data"
    },
    {
     "name": "stdout",
     "output_type": "stream",
     "text": [
      "Row of eleven poplars in red, yellow, blue and green\n",
      "\n"
     ]
    },
    {
     "data": {
      "text/html": [
       "<img src=\"http://commons.wikimedia.org/wiki/Special:FilePath/Piet%20Mondriaan%20-%20Row%20of%20eleven%20poplars%20in%20red%2C%20yellow%2C%20blue%20and%20green%20-%20A658%20-%20Piet%20Mondrian%2C%20catalogue%20raisonn%C3%A9.jpg\" style=\"width: 200px; \" />"
      ],
      "text/plain": [
       "<IPython.core.display.HTML object>"
      ]
     },
     "metadata": {},
     "output_type": "display_data"
    },
    {
     "name": "stdout",
     "output_type": "stream",
     "text": [
      "Two trees with orange foliage against blue sky\n",
      "\n"
     ]
    },
    {
     "data": {
      "text/html": [
       "<img src=\"http://commons.wikimedia.org/wiki/Special:FilePath/Piet%20Mondriaan%20-%20Two%20trees%20with%20orange%20foliage%20against%20blue%20sky%20-%20A662%20-%20Piet%20Mondrian%2C%20catalogue%20raisonn%C3%A9.jpg\" style=\"width: 200px; \" />"
      ],
      "text/plain": [
       "<IPython.core.display.HTML object>"
      ]
     },
     "metadata": {},
     "output_type": "display_data"
    },
    {
     "name": "stdout",
     "output_type": "stream",
     "text": [
      "Blue willow tree I\n",
      "\n"
     ]
    },
    {
     "data": {
      "text/html": [
       "<img src=\"http://commons.wikimedia.org/wiki/Special:FilePath/Piet%20Mondriaan%20-%20Blue%20willow%20tree%20I%20-%20A663%20-%20Piet%20Mondrian%2C%20catalogue%20raisonn%C3%A9.jpg\" style=\"width: 200px; \" />"
      ],
      "text/plain": [
       "<IPython.core.display.HTML object>"
      ]
     },
     "metadata": {},
     "output_type": "display_data"
    },
    {
     "name": "stdout",
     "output_type": "stream",
     "text": [
      "Blue willow tree II\n",
      "\n"
     ]
    },
    {
     "data": {
      "text/html": [
       "<img src=\"http://commons.wikimedia.org/wiki/Special:FilePath/Piet%20Mondriaan%20-%20Blue%20willow%20tree%20II%20-%20A664%20-%20Piet%20Mondrian%2C%20catalogue%20raisonn%C3%A9.jpg\" style=\"width: 200px; \" />"
      ],
      "text/plain": [
       "<IPython.core.display.HTML object>"
      ]
     },
     "metadata": {},
     "output_type": "display_data"
    },
    {
     "name": "stdout",
     "output_type": "stream",
     "text": [
      "Apple tree in blue with wavy lines I\n",
      "\n"
     ]
    },
    {
     "data": {
      "text/html": [
       "<img src=\"http://commons.wikimedia.org/wiki/Special:FilePath/Piet%20Mondriaan%20-%20Apple%20tree%20in%20blue%20with%20wavy%20lines%20I%20-%20A666%20-%20Piet%20Mondrian%2C%20catalogue%20raisonn%C3%A9.jpg\" style=\"width: 200px; \" />"
      ],
      "text/plain": [
       "<IPython.core.display.HTML object>"
      ]
     },
     "metadata": {},
     "output_type": "display_data"
    },
    {
     "name": "stdout",
     "output_type": "stream",
     "text": [
      "Apple tree in blue with wavy lines II\n",
      "\n"
     ]
    },
    {
     "data": {
      "text/html": [
       "<img src=\"http://commons.wikimedia.org/wiki/Special:FilePath/Piet%20Mondriaan%20-%20Apple%20tree%20in%20blue%20with%20wavy%20lines%20II%20-%20A667%20-%20Piet%20Mondrian%2C%20catalogue%20raisonn%C3%A9.jpg\" style=\"width: 200px; \" />"
      ],
      "text/plain": [
       "<IPython.core.display.HTML object>"
      ]
     },
     "metadata": {},
     "output_type": "display_data"
    },
    {
     "name": "stdout",
     "output_type": "stream",
     "text": [
      "Oil sketch for blue apple tree series\n",
      "\n"
     ]
    },
    {
     "data": {
      "text/html": [
       "<img src=\"http://commons.wikimedia.org/wiki/Special:FilePath/Piet%20Mondriaan%20-%20Oil%20sketch%20for%20blue%20apple%20tree%20series%20-%20A668%20-%20Piet%20Mondrian%2C%20catalogue%20raisonn%C3%A9.jpg\" style=\"width: 200px; \" />"
      ],
      "text/plain": [
       "<IPython.core.display.HTML object>"
      ]
     },
     "metadata": {},
     "output_type": "display_data"
    },
    {
     "name": "stdout",
     "output_type": "stream",
     "text": [
      "Apple tree in blue\n",
      "\n"
     ]
    },
    {
     "data": {
      "text/html": [
       "<img src=\"http://commons.wikimedia.org/wiki/Special:FilePath/Piet%20Mondriaan%20-%20Apple%20tree%20in%20blue%20-%20A672%20-%20Piet%20Mondrian%2C%20catalogue%20raisonn%C3%A9.jpg\" style=\"width: 200px; \" />"
      ],
      "text/plain": [
       "<IPython.core.display.HTML object>"
      ]
     },
     "metadata": {},
     "output_type": "display_data"
    },
    {
     "name": "stdout",
     "output_type": "stream",
     "text": [
      "House façade with green trimmed shutters\n",
      "\n"
     ]
    },
    {
     "data": {
      "text/html": [
       "<img src=\"http://commons.wikimedia.org/wiki/Special:FilePath/Piet%20Mondriaan%20-%20House%20fa%C3%A7ade%20with%20green%20trimmed%20shutters%20-%20A678%20-%20Piet%20Mondrian%2C%20catalogue%20raisonn%C3%A9.jpg\" style=\"width: 200px; \" />"
      ],
      "text/plain": [
       "<IPython.core.display.HTML object>"
      ]
     },
     "metadata": {},
     "output_type": "display_data"
    },
    {
     "name": "stdout",
     "output_type": "stream",
     "text": [
      "Beach with one pier at Domburg\n",
      "\n"
     ]
    },
    {
     "data": {
      "text/html": [
       "<img src=\"http://commons.wikimedia.org/wiki/Special:FilePath/Piet%20Mondriaan%20-%20Beach%20with%20one%20pier%20at%20Domburg%20-%20A699%20-%20Piet%20Mondrian%2C%20catalogue%20raisonn%C3%A9.jpg\" style=\"width: 200px; \" />"
      ],
      "text/plain": [
       "<IPython.core.display.HTML object>"
      ]
     },
     "metadata": {},
     "output_type": "display_data"
    },
    {
     "name": "stdout",
     "output_type": "stream",
     "text": [
      "Pointillist dune study, crest at left\n",
      "\n"
     ]
    },
    {
     "data": {
      "text/html": [
       "<img src=\"http://commons.wikimedia.org/wiki/Special:FilePath/Piet%20Mondriaan%20-%20Pointillist%20dune%20study%2C%20crest%20at%20left%20-%20A703%20-%20Piet%20Mondrian%2C%20catalogue%20raisonn%C3%A9.jpg\" style=\"width: 200px; \" />"
      ],
      "text/plain": [
       "<IPython.core.display.HTML object>"
      ]
     },
     "metadata": {},
     "output_type": "display_data"
    },
    {
     "name": "stdout",
     "output_type": "stream",
     "text": [
      "Pointillist study with dunes and sea\n",
      "\n"
     ]
    },
    {
     "data": {
      "text/html": [
       "<img src=\"http://commons.wikimedia.org/wiki/Special:FilePath/Piet%20Mondriaan%20-%20Pointillist%20study%20with%20dunes%20and%20sea%20-%20A706%20-%20Piet%20Mondrian%2C%20catalogue%20raisonn%C3%A9.jpg\" style=\"width: 200px; \" />"
      ],
      "text/plain": [
       "<IPython.core.display.HTML object>"
      ]
     },
     "metadata": {},
     "output_type": "display_data"
    },
    {
     "name": "stdout",
     "output_type": "stream",
     "text": [
      "New York City 3 (unfinished)\n",
      "\n"
     ]
    },
    {
     "data": {
      "text/html": [
       "<img src=\"http://commons.wikimedia.org/wiki/Special:FilePath/Mondrian%20-%20New%20York%20City%2C%203%20%28unfinished%29%2C%201941.jpg\" style=\"width: 200px; \" />"
      ],
      "text/plain": [
       "<IPython.core.display.HTML object>"
      ]
     },
     "metadata": {},
     "output_type": "display_data"
    },
    {
     "name": "stdout",
     "output_type": "stream",
     "text": [
      "Zwartbonte vaars in de weide\n",
      "\n"
     ]
    },
    {
     "data": {
      "text/html": [
       "<img src=\"http://commons.wikimedia.org/wiki/Special:FilePath/%27Black%20and%20White%20Heifer%27%20by%20Piet%20Mondrian%2C%20c.%201904.jpg\" style=\"width: 200px; \" />"
      ],
      "text/plain": [
       "<IPython.core.display.HTML object>"
      ]
     },
     "metadata": {},
     "output_type": "display_data"
    },
    {
     "name": "stdout",
     "output_type": "stream",
     "text": [
      "Bloeiende appelboom\n",
      "\n"
     ]
    },
    {
     "data": {
      "text/html": [
       "<img src=\"http://commons.wikimedia.org/wiki/Special:FilePath/Blossoming%20apple%20tree%2C%20by%20Piet%20Mondriaan.jpg\" style=\"width: 200px; \" />"
      ],
      "text/plain": [
       "<IPython.core.display.HTML object>"
      ]
     },
     "metadata": {},
     "output_type": "display_data"
    },
    {
     "name": "stdout",
     "output_type": "stream",
     "text": [
      "Apple Tree in Bloom\n",
      "\n"
     ]
    },
    {
     "data": {
      "text/html": [
       "<img src=\"http://commons.wikimedia.org/wiki/Special:FilePath/Blossoming%20apple%20tree%2C%20by%20Piet%20Mondriaan.jpg\" style=\"width: 200px; \" />"
      ],
      "text/plain": [
       "<IPython.core.display.HTML object>"
      ]
     },
     "metadata": {},
     "output_type": "display_data"
    },
    {
     "name": "stdout",
     "output_type": "stream",
     "text": [
      "Boerderij met wasgoed aan de lijn\n",
      "\n"
     ]
    },
    {
     "data": {
      "text/html": [
       "<img src=\"http://commons.wikimedia.org/wiki/Special:FilePath/Boerderij%20met%20wasgoed%20aan%20de%20lijn%20by%20Piet%20Mondriaan.jpg\" style=\"width: 200px; \" />"
      ],
      "text/plain": [
       "<IPython.core.display.HTML object>"
      ]
     },
     "metadata": {},
     "output_type": "display_data"
    },
    {
     "name": "stdout",
     "output_type": "stream",
     "text": [
      "Chrysanthemum\n",
      "\n"
     ]
    },
    {
     "data": {
      "text/html": [
       "<img src=\"http://commons.wikimedia.org/wiki/Special:FilePath/Chrysanthemum%20by%20Piet%20Mondrian%20%28Cleveland%29.jpg\" style=\"width: 200px; \" />"
      ],
      "text/plain": [
       "<IPython.core.display.HTML object>"
      ]
     },
     "metadata": {},
     "output_type": "display_data"
    },
    {
     "name": "stdout",
     "output_type": "stream",
     "text": [
      "Tableau 3\n",
      "\n"
     ]
    },
    {
     "data": {
      "text/html": [
       "<img src=\"http://commons.wikimedia.org/wiki/Special:FilePath/Mondrian%2C%20Compositie%201921.jpg\" style=\"width: 200px; \" />"
      ],
      "text/plain": [
       "<IPython.core.display.HTML object>"
      ]
     },
     "metadata": {},
     "output_type": "display_data"
    },
    {
     "name": "stdout",
     "output_type": "stream",
     "text": [
      "Composition with grid 5: lozenge composition with colors\n",
      "\n"
     ]
    },
    {
     "data": {
      "text/html": [
       "<img src=\"http://commons.wikimedia.org/wiki/Special:FilePath/Compositie%20met%20raster%205%20-%20ruit%2C%20compositie%20met%20kleuren%2C%20Piet%20Mondriaan%2C%201919%2001.jpg\" style=\"width: 200px; \" />"
      ],
      "text/plain": [
       "<IPython.core.display.HTML object>"
      ]
     },
     "metadata": {},
     "output_type": "display_data"
    },
    {
     "name": "stdout",
     "output_type": "stream",
     "text": [
      "Rastercompositie 8: dambordcompositie donkere kleuren\n",
      "\n"
     ]
    },
    {
     "data": {
      "text/html": [
       "<img src=\"http://commons.wikimedia.org/wiki/Special:FilePath/Mondrian%20Compositie%20Dambord%2C%20donkere%20Kleuren.jpg\" style=\"width: 200px; \" />"
      ],
      "text/plain": [
       "<IPython.core.display.HTML object>"
      ]
     },
     "metadata": {},
     "output_type": "display_data"
    },
    {
     "name": "stdout",
     "output_type": "stream",
     "text": [
      "Composition B\n",
      "\n"
     ]
    },
    {
     "data": {
      "text/html": [
       "<img src=\"http://commons.wikimedia.org/wiki/Special:FilePath/Mondrian%2C%20Compositie%20B.jpg\" style=\"width: 200px; \" />"
      ],
      "text/plain": [
       "<IPython.core.display.HTML object>"
      ]
     },
     "metadata": {},
     "output_type": "display_data"
    },
    {
     "name": "stdout",
     "output_type": "stream",
     "text": [
      "Composition en blanc et noir II\n",
      "\n"
     ]
    },
    {
     "data": {
      "text/html": [
       "<img src=\"http://commons.wikimedia.org/wiki/Special:FilePath/Mondrian%2C%20Compositie%20nr.2%20met%20swarte%20lijnen.jpg\" style=\"width: 200px; \" />"
      ],
      "text/plain": [
       "<IPython.core.display.HTML object>"
      ]
     },
     "metadata": {},
     "output_type": "display_data"
    },
    {
     "name": "stdout",
     "output_type": "stream",
     "text": [
      "Composition no.II\n",
      "\n"
     ]
    },
    {
     "data": {
      "text/html": [
       "<img src=\"http://commons.wikimedia.org/wiki/Special:FilePath/Mondriaan%20-%20No.%2011.jpg\" style=\"width: 200px; \" />"
      ],
      "text/plain": [
       "<IPython.core.display.HTML object>"
      ]
     },
     "metadata": {},
     "output_type": "display_data"
    },
    {
     "name": "stdout",
     "output_type": "stream",
     "text": [
      "Composition no.VI\n",
      "\n"
     ]
    },
    {
     "data": {
      "text/html": [
       "<img src=\"http://commons.wikimedia.org/wiki/Special:FilePath/Compositie%20nr.9%20Blue%20Fa%C3%A7ade.jpg\" style=\"width: 200px; \" />"
      ],
      "text/plain": [
       "<IPython.core.display.HTML object>"
      ]
     },
     "metadata": {},
     "output_type": "display_data"
    },
    {
     "name": "stdout",
     "output_type": "stream",
     "text": [
      "Composition No. IV (Compositie No. IV) / Compositie 6\n",
      "\n"
     ]
    },
    {
     "data": {
      "text/html": [
       "<img src=\"http://commons.wikimedia.org/wiki/Special:FilePath/Composition%20No%20IV%2C%20by%20Piet%20Mondriaan.jpg\" style=\"width: 200px; \" />"
      ],
      "text/plain": [
       "<IPython.core.display.HTML object>"
      ]
     },
     "metadata": {},
     "output_type": "display_data"
    },
    {
     "name": "stdout",
     "output_type": "stream",
     "text": [
      "Compositie bomen 2\n",
      "\n"
     ]
    },
    {
     "data": {
      "text/html": [
       "<img src=\"http://commons.wikimedia.org/wiki/Special:FilePath/Mondrian%20Compositie%20bomen%20II.jpg\" style=\"width: 200px; \" />"
      ],
      "text/plain": [
       "<IPython.core.display.HTML object>"
      ]
     },
     "metadata": {},
     "output_type": "display_data"
    },
    {
     "name": "stdout",
     "output_type": "stream",
     "text": [
      "Composition de lignes et couleur: III (Compositie met lijnen en met kleur: III)\n",
      "\n"
     ]
    },
    {
     "data": {
      "text/html": [
       "<img src=\"http://commons.wikimedia.org/wiki/Special:FilePath/Mondrian%2C%20Compositie%20met%20blauw.jpg\" style=\"width: 200px; \" />"
      ],
      "text/plain": [
       "<IPython.core.display.HTML object>"
      ]
     },
     "metadata": {},
     "output_type": "display_data"
    },
    {
     "name": "stdout",
     "output_type": "stream",
     "text": [
      "Compositie in kleur B\n",
      "\n"
     ]
    },
    {
     "data": {
      "text/html": [
       "<img src=\"http://commons.wikimedia.org/wiki/Special:FilePath/Compositie%20in%20kleur%20B%20-%20Mondriaan.jpg\" style=\"width: 200px; \" />"
      ],
      "text/plain": [
       "<IPython.core.display.HTML object>"
      ]
     },
     "metadata": {},
     "output_type": "display_data"
    },
    {
     "name": "stdout",
     "output_type": "stream",
     "text": [
      "Composition with grid 6\n",
      "\n"
     ]
    },
    {
     "data": {
      "text/html": [
       "<img src=\"http://commons.wikimedia.org/wiki/Special:FilePath/Compositie%20met%20raster%206%20Mondriaan.jpg\" style=\"width: 200px; \" />"
      ],
      "text/plain": [
       "<IPython.core.display.HTML object>"
      ]
     },
     "metadata": {},
     "output_type": "display_data"
    },
    {
     "name": "stdout",
     "output_type": "stream",
     "text": [
      "Composition no. 9\n",
      "\n"
     ]
    },
    {
     "data": {
      "text/html": [
       "<img src=\"http://commons.wikimedia.org/wiki/Special:FilePath/Mondrian%2C%20Compositie%20met%20zwart%2C%20wit%2C%20geel%20en%20rood.jpg\" style=\"width: 200px; \" />"
      ],
      "text/plain": [
       "<IPython.core.display.HTML object>"
      ]
     },
     "metadata": {},
     "output_type": "display_data"
    },
    {
     "name": "stdout",
     "output_type": "stream",
     "text": [
      "Composition en blanc, rouge et bleu\n",
      "\n"
     ]
    },
    {
     "data": {
      "text/html": [
       "<img src=\"http://commons.wikimedia.org/wiki/Special:FilePath/Mondrian%2C%20Compositie%20met%20rood%20en%20blauw.jpg\" style=\"width: 200px; \" />"
      ],
      "text/plain": [
       "<IPython.core.display.HTML object>"
      ]
     },
     "metadata": {},
     "output_type": "display_data"
    },
    {
     "name": "stdout",
     "output_type": "stream",
     "text": [
      "Composition with grid 7\n",
      "\n"
     ]
    },
    {
     "data": {
      "text/html": [
       "<img src=\"http://commons.wikimedia.org/wiki/Special:FilePath/Mondrian%20Light%20Color%20Planes%20with%20Grey%20Contours.jpg\" style=\"width: 200px; \" />"
      ],
      "text/plain": [
       "<IPython.core.display.HTML object>"
      ]
     },
     "metadata": {},
     "output_type": "display_data"
    },
    {
     "name": "stdout",
     "output_type": "stream",
     "text": [
      "Duin I\n",
      "\n"
     ]
    },
    {
     "data": {
      "text/html": [
       "<img src=\"http://commons.wikimedia.org/wiki/Special:FilePath/Mondriaan%2C%20Duin%20I.jpg\" style=\"width: 200px; \" />"
      ],
      "text/plain": [
       "<IPython.core.display.HTML object>"
      ]
     },
     "metadata": {},
     "output_type": "display_data"
    },
    {
     "name": "stdout",
     "output_type": "stream",
     "text": [
      "Boerderij met hooiberg\n",
      "\n"
     ]
    },
    {
     "data": {
      "text/html": [
       "<img src=\"http://commons.wikimedia.org/wiki/Special:FilePath/Piet%20Mondriaan%20-%20Farm%20building%20with%20haystack%20viewed%20along%20the%20horizon%20-%20A159%20-%20Piet%20Mondrian%2C%20catalogue%20raisonn%C3%A9.jpg\" style=\"width: 200px; \" />"
      ],
      "text/plain": [
       "<IPython.core.display.HTML object>"
      ]
     },
     "metadata": {},
     "output_type": "display_data"
    },
    {
     "name": "stdout",
     "output_type": "stream",
     "text": [
      "Tree\n",
      "\n"
     ]
    },
    {
     "data": {
      "text/html": [
       "<img src=\"http://commons.wikimedia.org/wiki/Special:FilePath/Piet%20Mondriaan%20-%20Arbre.jpg\" style=\"width: 200px; \" />"
      ],
      "text/plain": [
       "<IPython.core.display.HTML object>"
      ]
     },
     "metadata": {},
     "output_type": "display_data"
    },
    {
     "name": "stdout",
     "output_type": "stream",
     "text": [
      "Compositie met grijze lijnen\n",
      "\n"
     ]
    },
    {
     "data": {
      "text/html": [
       "<img src=\"http://commons.wikimedia.org/wiki/Special:FilePath/Mondrian%20Losangique%20met%20grijze%20lijnen.jpg\" style=\"width: 200px; \" />"
      ],
      "text/plain": [
       "<IPython.core.display.HTML object>"
      ]
     },
     "metadata": {},
     "output_type": "display_data"
    },
    {
     "name": "stdout",
     "output_type": "stream",
     "text": [
      "New York City 1 (unfinished)\n",
      "\n"
     ]
    },
    {
     "data": {
      "text/html": [
       "<img src=\"http://commons.wikimedia.org/wiki/Special:FilePath/New%20York%20City%20I.jpg\" style=\"width: 200px; \" />"
      ],
      "text/plain": [
       "<IPython.core.display.HTML object>"
      ]
     },
     "metadata": {},
     "output_type": "display_data"
    },
    {
     "name": "stdout",
     "output_type": "stream",
     "text": [
      "New York\n",
      "\n"
     ]
    },
    {
     "data": {
      "text/html": [
       "<img src=\"http://commons.wikimedia.org/wiki/Special:FilePath/Mondrian%2C%20New%20York%2C%20New%20York.jpg\" style=\"width: 200px; \" />"
      ],
      "text/plain": [
       "<IPython.core.display.HTML object>"
      ]
     },
     "metadata": {},
     "output_type": "display_data"
    },
    {
     "name": "stdout",
     "output_type": "stream",
     "text": [
      "Kindje\n",
      "\n"
     ]
    },
    {
     "data": {
      "text/html": [
       "<img src=\"http://commons.wikimedia.org/wiki/Special:FilePath/Mondrian%20Meisjesportret%20met%20bloemen.jpg\" style=\"width: 200px; \" />"
      ],
      "text/plain": [
       "<IPython.core.display.HTML object>"
      ]
     },
     "metadata": {},
     "output_type": "display_data"
    },
    {
     "name": "stdout",
     "output_type": "stream",
     "text": [
      "Spring Sun (Lentezon): Castle Ruin: Brederode\n",
      "\n"
     ]
    },
    {
     "data": {
      "text/html": [
       "<img src=\"http://commons.wikimedia.org/wiki/Special:FilePath/Piet%20Mondrian%20-%20Spring%20Sun%20%28Lentezon%29%2C%20Castle%20Ruin%2C%20Brederode%20-%201982.24.FA%20-%20Dallas%20Museum%20of%20Art.jpg\" style=\"width: 200px; \" />"
      ],
      "text/plain": [
       "<IPython.core.display.HTML object>"
      ]
     },
     "metadata": {},
     "output_type": "display_data"
    },
    {
     "name": "stdout",
     "output_type": "stream",
     "text": [
      "Tableau III: Composition in Oval\n",
      "\n"
     ]
    },
    {
     "data": {
      "text/html": [
       "<img src=\"http://commons.wikimedia.org/wiki/Special:FilePath/Mondrian%20Tableau%20III.jpg\" style=\"width: 200px; \" />"
      ],
      "text/plain": [
       "<IPython.core.display.HTML object>"
      ]
     },
     "metadata": {},
     "output_type": "display_data"
    },
    {
     "name": "stdout",
     "output_type": "stream",
     "text": [
      "Tableau III: compositie in ovaal\n",
      "\n"
     ]
    },
    {
     "data": {
      "text/html": [
       "<img src=\"http://commons.wikimedia.org/wiki/Special:FilePath/Mondrian%20Tableau%20III.jpg\" style=\"width: 200px; \" />"
      ],
      "text/plain": [
       "<IPython.core.display.HTML object>"
      ]
     },
     "metadata": {},
     "output_type": "display_data"
    },
    {
     "name": "stdout",
     "output_type": "stream",
     "text": [
      ":0\n",
      "\n"
     ]
    },
    {
     "data": {
      "text/html": [
       "<img src=\"http://commons.wikimedia.org/wiki/Special:FilePath/Oostzijde%20windmill%20at%20night%2C%20by%20Piet%20Mondriaan.jpg\" style=\"width: 200px; \" />"
      ],
      "text/plain": [
       "<IPython.core.display.HTML object>"
      ]
     },
     "metadata": {},
     "output_type": "display_data"
    },
    {
     "name": "stdout",
     "output_type": "stream",
     "text": [
      "Arbre\n",
      "\n"
     ]
    },
    {
     "data": {
      "text/html": [
       "<img src=\"http://commons.wikimedia.org/wiki/Special:FilePath/Piet%20Mondrian%20-%20Boom%20A.jpg\" style=\"width: 200px; \" />"
      ],
      "text/plain": [
       "<IPython.core.display.HTML object>"
      ]
     },
     "metadata": {},
     "output_type": "display_data"
    },
    {
     "name": "stdout",
     "output_type": "stream",
     "text": [
      "The Tree A\n",
      "\n"
     ]
    },
    {
     "data": {
      "text/html": [
       "<img src=\"http://commons.wikimedia.org/wiki/Special:FilePath/Piet%20Mondrian%20-%20Boom%20A.jpg\" style=\"width: 200px; \" />"
      ],
      "text/plain": [
       "<IPython.core.display.HTML object>"
      ]
     },
     "metadata": {},
     "output_type": "display_data"
    },
    {
     "name": "stdout",
     "output_type": "stream",
     "text": [
      "The Winkel Mill, Pointillist Version\n",
      "\n"
     ]
    },
    {
     "data": {
      "text/html": [
       "<img src=\"http://commons.wikimedia.org/wiki/Special:FilePath/Piet%20Mondrian%20-%20The%20Winkel%20Mill%2C%20Pointillist%20Version%20-%201982.25.FA%20-%20Dallas%20Museum%20of%20Art.jpg\" style=\"width: 200px; \" />"
      ],
      "text/plain": [
       "<IPython.core.display.HTML object>"
      ]
     },
     "metadata": {},
     "output_type": "display_data"
    },
    {
     "name": "stdout",
     "output_type": "stream",
     "text": [
      "Rose in a glass\n",
      "\n"
     ]
    },
    {
     "data": {
      "text/html": [
       "<img src=\"http://commons.wikimedia.org/wiki/Special:FilePath/Witte%20roos%20in%20glas.jpg\" style=\"width: 200px; \" />"
      ],
      "text/plain": [
       "<IPython.core.display.HTML object>"
      ]
     },
     "metadata": {},
     "output_type": "display_data"
    },
    {
     "name": "stdout",
     "output_type": "stream",
     "text": [
      "Willow Grove: Impression of Light and Shadow\n",
      "\n"
     ]
    },
    {
     "data": {
      "text/html": [
       "<img src=\"http://commons.wikimedia.org/wiki/Special:FilePath/20%20sep%2013%20klee%20around%20the%20core.jpg\" style=\"width: 200px; \" />"
      ],
      "text/plain": [
       "<IPython.core.display.HTML object>"
      ]
     },
     "metadata": {},
     "output_type": "display_data"
    },
    {
     "name": "stdout",
     "output_type": "stream",
     "text": [
      "Tableau no. III\n",
      "\n"
     ]
    },
    {
     "data": {
      "text/html": [
       "<img src=\"http://commons.wikimedia.org/wiki/Special:FilePath/Piet%20Mondriaan%20-%20Tableau%20no.%20III%20-%201376%20-%20The%20Phillips%20Collection.jpg\" style=\"width: 200px; \" />"
      ],
      "text/plain": [
       "<IPython.core.display.HTML object>"
      ]
     },
     "metadata": {},
     "output_type": "display_data"
    },
    {
     "name": "stdout",
     "output_type": "stream",
     "text": [
      "Tableau no. 1\n",
      "\n"
     ]
    },
    {
     "data": {
      "text/html": [
       "<img src=\"http://commons.wikimedia.org/wiki/Special:FilePath/Tableau%20no%201%2C%20Piet%20Mondrian%2C%201913.jpg\" style=\"width: 200px; \" />"
      ],
      "text/plain": [
       "<IPython.core.display.HTML object>"
      ]
     },
     "metadata": {},
     "output_type": "display_data"
    },
    {
     "name": "stdout",
     "output_type": "stream",
     "text": [
      "Beach with three or four piers at Domburg\n",
      "\n"
     ]
    },
    {
     "data": {
      "text/html": [
       "<img src=\"http://commons.wikimedia.org/wiki/Special:FilePath/Strand%20met%20drie%20of%20vier%20pieren%20bij%20Domburg%2C%20Piet%20Mondrian%2C%201909.jpg\" style=\"width: 200px; \" />"
      ],
      "text/plain": [
       "<IPython.core.display.HTML object>"
      ]
     },
     "metadata": {},
     "output_type": "display_data"
    },
    {
     "name": "stdout",
     "output_type": "stream",
     "text": [
      "Compositie in kleur A\n",
      "\n"
     ]
    },
    {
     "data": {
      "text/html": [
       "<img src=\"http://commons.wikimedia.org/wiki/Special:FilePath/Otterloo%20kroller%20muller%20mondrian%20composition%20couleur%20A.jpg\" style=\"width: 200px; \" />"
      ],
      "text/plain": [
       "<IPython.core.display.HTML object>"
      ]
     },
     "metadata": {},
     "output_type": "display_data"
    },
    {
     "name": "stdout",
     "output_type": "stream",
     "text": [
      "Farm near Duivendrecht, in the evening\n",
      "\n"
     ]
    },
    {
     "data": {
      "text/html": [
       "<img src=\"http://commons.wikimedia.org/wiki/Special:FilePath/Boerderij%20in%20Duivendrecht%20bij%20avond%2C%20Piet%20Mondriaan%2C%20circa%201916.jpg\" style=\"width: 200px; \" />"
      ],
      "text/plain": [
       "<IPython.core.display.HTML object>"
      ]
     },
     "metadata": {},
     "output_type": "display_data"
    },
    {
     "name": "stdout",
     "output_type": "stream",
     "text": [
      "Composition no.XI (authentic)\n",
      "\n"
     ]
    },
    {
     "data": {
      "text/html": [
       "<img src=\"http://commons.wikimedia.org/wiki/Special:FilePath/Piet%20Mondriaan%20-%20Composition%20no.XI%20%28authentiek%29%20-%20KM%20103.263%20-%20Kr%C3%B6ller-M%C3%BCller%20Museum.jpg\" style=\"width: 200px; \" />"
      ],
      "text/plain": [
       "<IPython.core.display.HTML object>"
      ]
     },
     "metadata": {},
     "output_type": "display_data"
    },
    {
     "name": "stdout",
     "output_type": "stream",
     "text": [
      "Composition no.XI (authentiek)\n",
      "\n"
     ]
    },
    {
     "data": {
      "text/html": [
       "<img src=\"http://commons.wikimedia.org/wiki/Special:FilePath/Piet%20Mondriaan%20-%20Composition%20no.XI%20%28authentiek%29%20-%20KM%20103.263%20-%20Kr%C3%B6ller-M%C3%BCller%20Museum.jpg\" style=\"width: 200px; \" />"
      ],
      "text/plain": [
       "<IPython.core.display.HTML object>"
      ]
     },
     "metadata": {},
     "output_type": "display_data"
    },
    {
     "name": "stdout",
     "output_type": "stream",
     "text": [
      "Landzicht farm\n",
      "\n"
     ]
    },
    {
     "data": {
      "text/html": [
       "<img src=\"http://commons.wikimedia.org/wiki/Special:FilePath/Piet%20Mondriaan%20-%20Landzicht%20farm%20-%200334240%20-%20Kunstmuseum%20Den%20Haag.jpg\" style=\"width: 200px; \" />"
      ],
      "text/plain": [
       "<IPython.core.display.HTML object>"
      ]
     },
     "metadata": {},
     "output_type": "display_data"
    },
    {
     "name": "stdout",
     "output_type": "stream",
     "text": [
      "Wilgen met zon (studie olieverf)\n",
      "\n"
     ]
    },
    {
     "data": {
      "text/html": [
       "<img src=\"http://commons.wikimedia.org/wiki/Special:FilePath/Piet%20Mondriaan%20-%20Row%20of%20eight%20young%20willows%20reflected%20in%20the%20water%20-%200333466%20-%20Kunstmuseum%20Den%20Haag.jpg\" style=\"width: 200px; \" />"
      ],
      "text/plain": [
       "<IPython.core.display.HTML object>"
      ]
     },
     "metadata": {},
     "output_type": "display_data"
    },
    {
     "name": "stdout",
     "output_type": "stream",
     "text": [
      "Koeien in de wei\n",
      "\n"
     ]
    },
    {
     "data": {
      "text/html": [
       "<img src=\"http://commons.wikimedia.org/wiki/Special:FilePath/Piet%20Mondriaan%20-%20Cows%20in%20a%20meadow%20with%20tree%20-%200334236%20-%20Kunstmuseum%20Den%20Haag.jpg\" style=\"width: 200px; \" />"
      ],
      "text/plain": [
       "<IPython.core.display.HTML object>"
      ]
     },
     "metadata": {},
     "output_type": "display_data"
    },
    {
     "name": "stdout",
     "output_type": "stream",
     "text": [
      "Landschap bij maanlicht\n",
      "\n"
     ]
    },
    {
     "data": {
      "text/html": [
       "<img src=\"http://commons.wikimedia.org/wiki/Special:FilePath/Piet%20Mondriaan%20-%20Evening%20sky%20with%20moon%20-%200334238%20-%20Kunstmuseum%20Den%20Haag.jpg\" style=\"width: 200px; \" />"
      ],
      "text/plain": [
       "<IPython.core.display.HTML object>"
      ]
     },
     "metadata": {},
     "output_type": "display_data"
    },
    {
     "name": "stdout",
     "output_type": "stream",
     "text": [
      "Ven bij Saasveld\n",
      "\n"
     ]
    },
    {
     "data": {
      "text/html": [
       "<img src=\"http://commons.wikimedia.org/wiki/Special:FilePath/Piet%20Mondriaan%20-%20Fen%20near%20Saasveld%20-%200334239%20-%20Kunstmuseum%20Den%20Haag.jpg\" style=\"width: 200px; \" />"
      ],
      "text/plain": [
       "<IPython.core.display.HTML object>"
      ]
     },
     "metadata": {},
     "output_type": "display_data"
    },
    {
     "name": "stdout",
     "output_type": "stream",
     "text": [
      "Korenschoven in het veld\n",
      "\n"
     ]
    },
    {
     "data": {
      "text/html": [
       "<img src=\"http://commons.wikimedia.org/wiki/Special:FilePath/Korenschoven%20in%20het%20veld.jpg\" style=\"width: 200px; \" />"
      ],
      "text/plain": [
       "<IPython.core.display.HTML object>"
      ]
     },
     "metadata": {},
     "output_type": "display_data"
    },
    {
     "name": "stdout",
     "output_type": "stream",
     "text": [
      "Boerderij bij Duivendrecht\n",
      "\n"
     ]
    },
    {
     "data": {
      "text/html": [
       "<img src=\"http://commons.wikimedia.org/wiki/Special:FilePath/Piet%20Mondriaan%20-%20Farm%20at%20Duivendrecht%20-%200334249%20-%20Kunstmuseum%20Den%20Haag.jpg\" style=\"width: 200px; \" />"
      ],
      "text/plain": [
       "<IPython.core.display.HTML object>"
      ]
     },
     "metadata": {},
     "output_type": "display_data"
    },
    {
     "name": "stdout",
     "output_type": "stream",
     "text": [
      "Boerderij in de avond\n",
      "\n"
     ]
    },
    {
     "data": {
      "text/html": [
       "<img src=\"http://commons.wikimedia.org/wiki/Special:FilePath/Piet%20Mondriaan%20-%20Gabled%20farm%20hut%20in%20the%20evening%20-%200334253%20-%20Kunstmuseum%20Den%20Haag.jpg\" style=\"width: 200px; \" />"
      ],
      "text/plain": [
       "<IPython.core.display.HTML object>"
      ]
     },
     "metadata": {},
     "output_type": "display_data"
    },
    {
     "name": "stdout",
     "output_type": "stream",
     "text": [
      "Isar Harlemia\n",
      "\n"
     ]
    },
    {
     "data": {
      "text/html": [
       "<img src=\"http://commons.wikimedia.org/wiki/Special:FilePath/Piet%20Mondriaan%20-%20Isar%20Harlemia%20%28authentiek%29%20-%200334254%20-%20Kunstmuseum%20Den%20Haag.jpg\" style=\"width: 200px; \" />"
      ],
      "text/plain": [
       "<IPython.core.display.HTML object>"
      ]
     },
     "metadata": {},
     "output_type": "display_data"
    },
    {
     "name": "stdout",
     "output_type": "stream",
     "text": [
      "Veld met bomen bij avond\n",
      "\n"
     ]
    },
    {
     "data": {
      "text/html": [
       "<img src=\"http://commons.wikimedia.org/wiki/Special:FilePath/Piet%20Mondriaan%20-%20Field%20with%20tree%20silhouette%20at%20right%20-%200334255%20-%20Kunstmuseum%20Den%20Haag.jpg\" style=\"width: 200px; \" />"
      ],
      "text/plain": [
       "<IPython.core.display.HTML object>"
      ]
     },
     "metadata": {},
     "output_type": "display_data"
    },
    {
     "name": "stdout",
     "output_type": "stream",
     "text": [
      "Het Singel, Amsterdam\n",
      "\n"
     ]
    },
    {
     "data": {
      "text/html": [
       "<img src=\"http://commons.wikimedia.org/wiki/Special:FilePath/Het%20Singel%2C%20Amsterdam.jpg\" style=\"width: 200px; \" />"
      ],
      "text/plain": [
       "<IPython.core.display.HTML object>"
      ]
     },
     "metadata": {},
     "output_type": "display_data"
    },
    {
     "name": "stdout",
     "output_type": "stream",
     "text": [
      "Onderschildering voor land en lucht\n",
      "\n"
     ]
    },
    {
     "data": {
      "text/html": [
       "<img src=\"http://commons.wikimedia.org/wiki/Special:FilePath/Piet%20Mondriaan%20-%20Underpainting%20for%20land%20and%20sky%20-%200334257%20-%20Kunstmuseum%20Den%20Haag.jpg\" style=\"width: 200px; \" />"
      ],
      "text/plain": [
       "<IPython.core.display.HTML object>"
      ]
     },
     "metadata": {},
     "output_type": "display_data"
    },
    {
     "name": "stdout",
     "output_type": "stream",
     "text": [
      "Boerderij te Blaricum\n",
      "\n"
     ]
    },
    {
     "data": {
      "text/html": [
       "<img src=\"http://commons.wikimedia.org/wiki/Special:FilePath/Piet%20Mondriaan%20-%20Farmstead%20in%20Het%20Gooi%2C%20viewed%20between%20trees%20and%20over%20fence%20-%200334258%20-%20Kunstmuseum%20Den%20Haag.jpg\" style=\"width: 200px; \" />"
      ],
      "text/plain": [
       "<IPython.core.display.HTML object>"
      ]
     },
     "metadata": {},
     "output_type": "display_data"
    },
    {
     "name": "stdout",
     "output_type": "stream",
     "text": [
      "Werf te Durgerdam\n",
      "\n"
     ]
    },
    {
     "data": {
      "text/html": [
       "<img src=\"http://commons.wikimedia.org/wiki/Special:FilePath/Piet%20Mondriaan%20-%20Drydock%20at%20Durgerdam%2C%20oil%20sketch%20-%200334262%20-%20Kunstmuseum%20Den%20Haag.jpg\" style=\"width: 200px; \" />"
      ],
      "text/plain": [
       "<IPython.core.display.HTML object>"
      ]
     },
     "metadata": {},
     "output_type": "display_data"
    },
    {
     "name": "stdout",
     "output_type": "stream",
     "text": [
      "Bomen langs het Gein\n",
      "\n"
     ]
    },
    {
     "data": {
      "text/html": [
       "<img src=\"http://commons.wikimedia.org/wiki/Special:FilePath/Piet%20Mondriaan%20-%20Bend%20in%20the%20Gein%20with%20poplars%2C%20three%20isolated%20-%200334264%20-%20Kunstmuseum%20Den%20Haag.jpg\" style=\"width: 200px; \" />"
      ],
      "text/plain": [
       "<IPython.core.display.HTML object>"
      ]
     },
     "metadata": {},
     "output_type": "display_data"
    },
    {
     "name": "stdout",
     "output_type": "stream",
     "text": [
      "Avondstemming aan de Amstel (De Omval)\n",
      "\n"
     ]
    },
    {
     "data": {
      "text/html": [
       "<img src=\"http://commons.wikimedia.org/wiki/Special:FilePath/Piet%20Mondriaan%20-%20On%20Ouderkerkerdijk%20near%20the%20Omval%20-%200334270%20-%20Kunstmuseum%20Den%20Haag.jpg\" style=\"width: 200px; \" />"
      ],
      "text/plain": [
       "<IPython.core.display.HTML object>"
      ]
     },
     "metadata": {},
     "output_type": "display_data"
    },
    {
     "name": "stdout",
     "output_type": "stream",
     "text": [
      "Vrouw bij boerderij\n",
      "\n"
     ]
    },
    {
     "data": {
      "text/html": [
       "<img src=\"http://commons.wikimedia.org/wiki/Special:FilePath/Piet%20Mondriaan%20-%20Woman%20and%20farm%20building%20in%20the%20Achterhoek%20-%200334225%20-%20Kunstmuseum%20Den%20Haag.jpg\" style=\"width: 200px; \" />"
      ],
      "text/plain": [
       "<IPython.core.display.HTML object>"
      ]
     },
     "metadata": {},
     "output_type": "display_data"
    },
    {
     "name": "stdout",
     "output_type": "stream",
     "text": [
      "Onderschildering voor avondlandschap\n",
      "\n"
     ]
    },
    {
     "data": {
      "text/html": [
       "<img src=\"http://commons.wikimedia.org/wiki/Special:FilePath/Piet%20Mondriaan%20-%20Evening%20sky%20with%20luminous%20cloud%20-%200334228%20-%20Kunstmuseum%20Den%20Haag.jpg\" style=\"width: 200px; \" />"
      ],
      "text/plain": [
       "<IPython.core.display.HTML object>"
      ]
     },
     "metadata": {},
     "output_type": "display_data"
    },
    {
     "name": "stdout",
     "output_type": "stream",
     "text": [
      "Veld met bomengroep bij avond II\n",
      "\n"
     ]
    },
    {
     "data": {
      "text/html": [
       "<img src=\"http://commons.wikimedia.org/wiki/Special:FilePath/Piet%20Mondriaan%20-%20Field%20with%20two%20tree%20silhouettes%20II%20-%200334229%20-%20Kunstmuseum%20Den%20Haag.jpg\" style=\"width: 200px; \" />"
      ],
      "text/plain": [
       "<IPython.core.display.HTML object>"
      ]
     },
     "metadata": {},
     "output_type": "display_data"
    },
    {
     "name": "stdout",
     "output_type": "stream",
     "text": [
      "Schaapskooi in de avond\n",
      "\n"
     ]
    },
    {
     "data": {
      "text/html": [
       "<img src=\"http://commons.wikimedia.org/wiki/Special:FilePath/Piet%20Mondriaan%20-%20Sheepfold%20with%20tree%20at%20right%20-%200334276%20-%20Kunstmuseum%20Den%20Haag.jpg\" style=\"width: 200px; \" />"
      ],
      "text/plain": [
       "<IPython.core.display.HTML object>"
      ]
     },
     "metadata": {},
     "output_type": "display_data"
    },
    {
     "name": "stdout",
     "output_type": "stream",
     "text": [
      "Veld met bomengroep bij avond I\n",
      "\n"
     ]
    },
    {
     "data": {
      "text/html": [
       "<img src=\"http://commons.wikimedia.org/wiki/Special:FilePath/Piet%20Mondriaan%20-%20Field%20with%20two%20tree%20silhouettes%20I%20-%200334278%20-%20Kunstmuseum%20Den%20Haag.jpg\" style=\"width: 200px; \" />"
      ],
      "text/plain": [
       "<IPython.core.display.HTML object>"
      ]
     },
     "metadata": {},
     "output_type": "display_data"
    },
    {
     "name": "stdout",
     "output_type": "stream",
     "text": [
      "Boerderij Geinrust in de nevel\n",
      "\n"
     ]
    },
    {
     "data": {
      "text/html": [
       "<img src=\"http://commons.wikimedia.org/wiki/Special:FilePath/Piet%20Mondriaan%20-%20Geinrust%20farm%20in%20the%20mist%20-%200334280%20-%20Kunstmuseum%20Den%20Haag.jpg\" style=\"width: 200px; \" />"
      ],
      "text/plain": [
       "<IPython.core.display.HTML object>"
      ]
     },
     "metadata": {},
     "output_type": "display_data"
    },
    {
     "name": "stdout",
     "output_type": "stream",
     "text": [
      "Stervende zonnebloem I\n",
      "\n"
     ]
    },
    {
     "data": {
      "text/html": [
       "<img src=\"http://commons.wikimedia.org/wiki/Special:FilePath/Piet%20Mondriaan%20-%20Dying%20sunflower%20I%20-%200334281%20-%20Kunstmuseum%20Den%20Haag.jpg\" style=\"width: 200px; \" />"
      ],
      "text/plain": [
       "<IPython.core.display.HTML object>"
      ]
     },
     "metadata": {},
     "output_type": "display_data"
    },
    {
     "name": "stdout",
     "output_type": "stream",
     "text": [
      "Stervende zonnebloem II\n",
      "\n"
     ]
    },
    {
     "data": {
      "text/html": [
       "<img src=\"http://commons.wikimedia.org/wiki/Special:FilePath/Piet%20Mondriaan%20-%20Dying%20sunflower%20II%20-%200334282%20-%20Kunstmuseum%20Den%20Haag.jpg\" style=\"width: 200px; \" />"
      ],
      "text/plain": [
       "<IPython.core.display.HTML object>"
      ]
     },
     "metadata": {},
     "output_type": "display_data"
    },
    {
     "name": "stdout",
     "output_type": "stream",
     "text": [
      "Zeegezicht\n",
      "\n"
     ]
    },
    {
     "data": {
      "text/html": [
       "<img src=\"http://commons.wikimedia.org/wiki/Special:FilePath/Zeegezicht%2C%20Piet%20Mondriaan%2C%201909.jpg\" style=\"width: 200px; \" />"
      ],
      "text/plain": [
       "<IPython.core.display.HTML object>"
      ]
     },
     "metadata": {},
     "output_type": "display_data"
    },
    {
     "name": "stdout",
     "output_type": "stream",
     "text": [
      "Duin II\n",
      "\n"
     ]
    },
    {
     "data": {
      "text/html": [
       "<img src=\"http://commons.wikimedia.org/wiki/Special:FilePath/Piet%20Mondriaan%20-%20Pointillist%20dune%20study%2C%20crest%20at%20right%20-%200334292%20-%20Kunstmuseum%20Den%20Haag.jpg\" style=\"width: 200px; \" />"
      ],
      "text/plain": [
       "<IPython.core.display.HTML object>"
      ]
     },
     "metadata": {},
     "output_type": "display_data"
    },
    {
     "name": "stdout",
     "output_type": "stream",
     "text": [
      "Aäronskelk; Blauwe bloem\n",
      "\n"
     ]
    },
    {
     "data": {
      "text/html": [
       "<img src=\"http://commons.wikimedia.org/wiki/Special:FilePath/Piet%20Mondriaan%20-%20A%C3%A4ronskelk%20%28authentiek%29%20-%200334296%20-%20Kunstmuseum%20Den%20Haag.jpg\" style=\"width: 200px; \" />"
      ],
      "text/plain": [
       "<IPython.core.display.HTML object>"
      ]
     },
     "metadata": {},
     "output_type": "display_data"
    },
    {
     "name": "stdout",
     "output_type": "stream",
     "text": [
      "Aäronskelken\n",
      "\n"
     ]
    },
    {
     "data": {
      "text/html": [
       "<img src=\"http://commons.wikimedia.org/wiki/Special:FilePath/Piet%20Mondriaan%20-%20A%C3%A4ronskelken%20%28authentiek%29%20-%200334297%20-%20Kunstmuseum%20Den%20Haag.jpg\" style=\"width: 200px; \" />"
      ],
      "text/plain": [
       "<IPython.core.display.HTML object>"
      ]
     },
     "metadata": {},
     "output_type": "display_data"
    },
    {
     "name": "stdout",
     "output_type": "stream",
     "text": [
      "Zeeuwsche boer\n",
      "\n"
     ]
    },
    {
     "data": {
      "text/html": [
       "<img src=\"http://commons.wikimedia.org/wiki/Special:FilePath/Piet%20Mondriaan%20-%20Zeeuws%28ch%29e%20boer%20%28authentiek%29%20-%200334298%20-%20Kunstmuseum%20Den%20Haag.jpg\" style=\"width: 200px; \" />"
      ],
      "text/plain": [
       "<IPython.core.display.HTML object>"
      ]
     },
     "metadata": {},
     "output_type": "display_data"
    },
    {
     "name": "stdout",
     "output_type": "stream",
     "text": [
      "Kerk te Oostkapelle\n",
      "\n"
     ]
    },
    {
     "data": {
      "text/html": [
       "<img src=\"http://commons.wikimedia.org/wiki/Special:FilePath/Piet%20Mondriaan%20-%20Church%20at%20Oostkapelle%2C%20nave%20and%20tower%20-%200334299%20-%20Kunstmuseum%20Den%20Haag.jpg\" style=\"width: 200px; \" />"
      ],
      "text/plain": [
       "<IPython.core.display.HTML object>"
      ]
     },
     "metadata": {},
     "output_type": "display_data"
    },
    {
     "name": "stdout",
     "output_type": "stream",
     "text": [
      "Duinlandschap\n",
      "\n"
     ]
    },
    {
     "data": {
      "text/html": [
       "<img src=\"http://commons.wikimedia.org/wiki/Special:FilePath/Duinlandschap%20bij%20Domburg%2C%20Piet%20Mondriaan%2C%201911.jpg\" style=\"width: 200px; \" />"
      ],
      "text/plain": [
       "<IPython.core.display.HTML object>"
      ]
     },
     "metadata": {},
     "output_type": "display_data"
    },
    {
     "name": "stdout",
     "output_type": "stream",
     "text": [
      "Paysage (Landschap)\n",
      "\n"
     ]
    },
    {
     "data": {
      "text/html": [
       "<img src=\"http://commons.wikimedia.org/wiki/Special:FilePath/Piet%20Mondriaan%20-%20Paysage%20-%200334308%20-%20Kunstmuseum%20Den%20Haag.jpg\" style=\"width: 200px; \" />"
      ],
      "text/plain": [
       "<IPython.core.display.HTML object>"
      ]
     },
     "metadata": {},
     "output_type": "display_data"
    },
    {
     "name": "stdout",
     "output_type": "stream",
     "text": [
      "Landschap met bomen\n",
      "\n"
     ]
    },
    {
     "data": {
      "text/html": [
       "<img src=\"http://commons.wikimedia.org/wiki/Special:FilePath/Piet%20Mondriaan%20-%20Landscape%20with%20trees%20-%200334309%20-%20Kunstmuseum%20Den%20Haag.jpg\" style=\"width: 200px; \" />"
      ],
      "text/plain": [
       "<IPython.core.display.HTML object>"
      ]
     },
     "metadata": {},
     "output_type": "display_data"
    },
    {
     "name": "stdout",
     "output_type": "stream",
     "text": [
      "Portret van een dame\n",
      "\n"
     ]
    },
    {
     "data": {
      "text/html": [
       "<img src=\"http://commons.wikimedia.org/wiki/Special:FilePath/Piet%20Mondriaan%20-%20Portrait%20of%20a%20lady%20-%200334310%20-%20Kunstmuseum%20Den%20Haag.jpg\" style=\"width: 200px; \" />"
      ],
      "text/plain": [
       "<IPython.core.display.HTML object>"
      ]
     },
     "metadata": {},
     "output_type": "display_data"
    },
    {
     "name": "stdout",
     "output_type": "stream",
     "text": [
      "Het grote naakt\n",
      "\n"
     ]
    },
    {
     "data": {
      "text/html": [
       "<img src=\"http://commons.wikimedia.org/wiki/Special:FilePath/Piet%20Mondriaan%20-%20The%20large%20nude%20-%200334311%20-%20Kunstmuseum%20Den%20Haag.jpg\" style=\"width: 200px; \" />"
      ],
      "text/plain": [
       "<IPython.core.display.HTML object>"
      ]
     },
     "metadata": {},
     "output_type": "display_data"
    },
    {
     "name": "stdout",
     "output_type": "stream",
     "text": [
      "Compositie bomen 1\n",
      "\n"
     ]
    },
    {
     "data": {
      "text/html": [
       "<img src=\"http://commons.wikimedia.org/wiki/Special:FilePath/Piet%20Mondriaan%20-%20Composition%20trees%201%20%28unfinished%29%20-%200334315%20-%20Kunstmuseum%20Den%20Haag.jpg\" style=\"width: 200px; \" />"
      ],
      "text/plain": [
       "<IPython.core.display.HTML object>"
      ]
     },
     "metadata": {},
     "output_type": "display_data"
    },
    {
     "name": "stdout",
     "output_type": "stream",
     "text": [
      "Tableau No. 4 (Schilderij No. 4) / Composition No.VIII / Compositie 3\n",
      "\n"
     ]
    },
    {
     "data": {
      "text/html": [
       "<img src=\"http://commons.wikimedia.org/wiki/Special:FilePath/Piet%20mondrian%2C%20tableau%20n.%204%2C%201913%2C%2001.jpg\" style=\"width: 200px; \" />"
      ],
      "text/plain": [
       "<IPython.core.display.HTML object>"
      ]
     },
     "metadata": {},
     "output_type": "display_data"
    },
    {
     "name": "stdout",
     "output_type": "stream",
     "text": [
      "Compositie in ovaal met kleurvlakken 2\n",
      "\n"
     ]
    },
    {
     "data": {
      "text/html": [
       "<img src=\"http://commons.wikimedia.org/wiki/Special:FilePath/Compositie%20in%20ovaal%20met%20kleurvlakken%202%2C%201914.jpg\" style=\"width: 200px; \" />"
      ],
      "text/plain": [
       "<IPython.core.display.HTML object>"
      ]
     },
     "metadata": {},
     "output_type": "display_data"
    },
    {
     "name": "stdout",
     "output_type": "stream",
     "text": [
      "Molen bij avond\n",
      "\n"
     ]
    },
    {
     "data": {
      "text/html": [
       "<img src=\"http://commons.wikimedia.org/wiki/Special:FilePath/Piet%20mondrian%2C%20mulino%20di%20sera%2C%201917%20ca.jpg\" style=\"width: 200px; \" />"
      ],
      "text/plain": [
       "<IPython.core.display.HTML object>"
      ]
     },
     "metadata": {},
     "output_type": "display_data"
    },
    {
     "name": "stdout",
     "output_type": "stream",
     "text": [
      "Polder landscape with irrigation ditch and two cows\n",
      "\n"
     ]
    },
    {
     "data": {
      "text/html": [
       "<img src=\"http://commons.wikimedia.org/wiki/Special:FilePath/Piet%20Mondriaan%20-%20Polder%20landscape%20with%20irrigation%20ditch%20and%20two%20cows%20-%200334209%20-%20Kunstmuseum%20Den%20Haag.jpg\" style=\"width: 200px; \" />"
      ],
      "text/plain": [
       "<IPython.core.display.HTML object>"
      ]
     },
     "metadata": {},
     "output_type": "display_data"
    },
    {
     "name": "stdout",
     "output_type": "stream",
     "text": [
      "Brabant barn interior\n",
      "\n"
     ]
    },
    {
     "data": {
      "text/html": [
       "<img src=\"http://commons.wikimedia.org/wiki/Special:FilePath/Piet%20Mondriaan%20-%20Brabant%20barn%20interior%20-%200334210%20-%20Kunstmuseum%20Den%20Haag.jpg\" style=\"width: 200px; \" />"
      ],
      "text/plain": [
       "<IPython.core.display.HTML object>"
      ]
     },
     "metadata": {},
     "output_type": "display_data"
    },
    {
     "name": "stdout",
     "output_type": "stream",
     "text": [
      "Stier\n",
      "\n"
     ]
    },
    {
     "data": {
      "text/html": [
       "<img src=\"http://commons.wikimedia.org/wiki/Special:FilePath/Piet%20Mondriaan%20-%20Brown%20and%20white%20ox%20steer%20-%200334214%20-%20Kunstmuseum%20Den%20Haag.jpg\" style=\"width: 200px; \" />"
      ],
      "text/plain": [
       "<IPython.core.display.HTML object>"
      ]
     },
     "metadata": {},
     "output_type": "display_data"
    },
    {
     "name": "stdout",
     "output_type": "stream",
     "text": [
      "Gezicht op een rij huizen met een landweg\n",
      "\n"
     ]
    },
    {
     "data": {
      "text/html": [
       "<img src=\"http://commons.wikimedia.org/wiki/Special:FilePath/Piet%20Mondriaan%20-%20Country%20lane%20with%20row%20of%20workers%27%20houses%20-%200334215%20-%20Kunstmuseum%20Den%20Haag.jpg\" style=\"width: 200px; \" />"
      ],
      "text/plain": [
       "<IPython.core.display.HTML object>"
      ]
     },
     "metadata": {},
     "output_type": "display_data"
    },
    {
     "name": "stdout",
     "output_type": "stream",
     "text": [
      "Sloot met brug\n",
      "\n"
     ]
    },
    {
     "data": {
      "text/html": [
       "<img src=\"http://commons.wikimedia.org/wiki/Special:FilePath/Piet%20Mondriaan%20-%20Polderlandschp%20met%20sloot%20en%20brug%2C%20schets%20-%200334216%20-%20Kunstmuseum%20Den%20Haag.jpg\" style=\"width: 200px; \" />"
      ],
      "text/plain": [
       "<IPython.core.display.HTML object>"
      ]
     },
     "metadata": {},
     "output_type": "display_data"
    },
    {
     "name": "stdout",
     "output_type": "stream",
     "text": [
      "Knotwilgen\n",
      "\n"
     ]
    },
    {
     "data": {
      "text/html": [
       "<img src=\"http://commons.wikimedia.org/wiki/Special:FilePath/Piet%20Mondriaan%20-%20Willow%20grove%20with%20two%20prominent%20trees%20-%200334218%20-%20Kunstmuseum%20Den%20Haag.jpg\" style=\"width: 200px; \" />"
      ],
      "text/plain": [
       "<IPython.core.display.HTML object>"
      ]
     },
     "metadata": {},
     "output_type": "display_data"
    },
    {
     "name": "stdout",
     "output_type": "stream",
     "text": [
      "Boom\n",
      "\n"
     ]
    },
    {
     "data": {
      "text/html": [
       "<img src=\"http://commons.wikimedia.org/wiki/Special:FilePath/Piet%20Mondriaan%20-%20Single%20tree%20silhouette%20-%200334219%20-%20Kunstmuseum%20Den%20Haag.jpg\" style=\"width: 200px; \" />"
      ],
      "text/plain": [
       "<IPython.core.display.HTML object>"
      ]
     },
     "metadata": {},
     "output_type": "display_data"
    },
    {
     "name": "stdout",
     "output_type": "stream",
     "text": [
      "Twee aronskelken\n",
      "\n"
     ]
    },
    {
     "data": {
      "text/html": [
       "<img src=\"http://commons.wikimedia.org/wiki/Special:FilePath/Piet%20Mondriaan%20-%20Two%20arum%20lilies%20-%200334322%20-%20Kunstmuseum%20Den%20Haag.jpg\" style=\"width: 200px; \" />"
      ],
      "text/plain": [
       "<IPython.core.display.HTML object>"
      ]
     },
     "metadata": {},
     "output_type": "display_data"
    },
    {
     "name": "stdout",
     "output_type": "stream",
     "text": [
      "Geinrust farm with three small trees at left\n",
      "\n"
     ]
    },
    {
     "data": {
      "text/html": [
       "<img src=\"http://commons.wikimedia.org/wiki/Special:FilePath/Piet%20Mondriaan%20-%20Geinrust%20farm%20with%20three%20small%20trees%20at%20left%20-%20A442%20-%20Piet%20Mondrian%2C%20catalogue%20raisonn%C3%A9.jpg\" style=\"width: 200px; \" />"
      ],
      "text/plain": [
       "<IPython.core.display.HTML object>"
      ]
     },
     "metadata": {},
     "output_type": "display_data"
    },
    {
     "name": "stdout",
     "output_type": "stream",
     "text": [
      "Geinrust farm with truncated tall trees and saplings\n",
      "\n"
     ]
    },
    {
     "data": {
      "text/html": [
       "<img src=\"http://commons.wikimedia.org/wiki/Special:FilePath/Piet%20Mondriaan%20-%20Geinrust%20farm%20with%20truncated%20tall%20trees%20and%20saplings%20-%20A445%20-%20Piet%20Mondrian%2C%20catalogue%20raisonn%C3%A9.jpg\" style=\"width: 200px; \" />"
      ],
      "text/plain": [
       "<IPython.core.display.HTML object>"
      ]
     },
     "metadata": {},
     "output_type": "display_data"
    },
    {
     "name": "stdout",
     "output_type": "stream",
     "text": [
      "Geinrust farm surrounded by dense foliage\n",
      "\n"
     ]
    },
    {
     "data": {
      "text/html": [
       "<img src=\"http://commons.wikimedia.org/wiki/Special:FilePath/Piet%20Mondriaan%20-%20Geinrust%20farm%20surrounded%20by%20dense%20foliage%20-%20A449%20-%20Piet%20Mondrian%2C%20catalogue%20raisonn%C3%A9.jpg\" style=\"width: 200px; \" />"
      ],
      "text/plain": [
       "<IPython.core.display.HTML object>"
      ]
     },
     "metadata": {},
     "output_type": "display_data"
    },
    {
     "name": "stdout",
     "output_type": "stream",
     "text": [
      "Geinrust farm with isolated tree at left\n",
      "\n"
     ]
    },
    {
     "data": {
      "text/html": [
       "<img src=\"http://commons.wikimedia.org/wiki/Special:FilePath/Piet%20Mondriaan%20-%20Geinrust%20farm%20with%20isolated%20tree%20at%20left%20-%20A450%20-%20Piet%20Mondrian%2C%20catalogue%20raisonn%C3%A9.jpg\" style=\"width: 200px; \" />"
      ],
      "text/plain": [
       "<IPython.core.display.HTML object>"
      ]
     },
     "metadata": {},
     "output_type": "display_data"
    },
    {
     "name": "stdout",
     "output_type": "stream",
     "text": [
      "Isolated tree on the Gein with yellow-orange sky\n",
      "\n"
     ]
    },
    {
     "data": {
      "text/html": [
       "<img src=\"http://commons.wikimedia.org/wiki/Special:FilePath/Piet%20Mondriaan%20-%20Isolated%20tree%20on%20the%20Gein%20with%20yellow-orange%20sky%20-%20A456%20-%20Piet%20Mondrian%2C%20catalogue%20raisonn%C3%A9.jpg\" style=\"width: 200px; \" />"
      ],
      "text/plain": [
       "<IPython.core.display.HTML object>"
      ]
     },
     "metadata": {},
     "output_type": "display_data"
    },
    {
     "name": "stdout",
     "output_type": "stream",
     "text": [
      "Isolated tree on the Gein with gray sky\n",
      "\n"
     ]
    },
    {
     "data": {
      "text/html": [
       "<img src=\"http://commons.wikimedia.org/wiki/Special:FilePath/Piet%20Mondriaan%20-%20Isolated%20tree%20on%20the%20Gein%20with%20gray%20sky%20-%20A457%20-%20Piet%20Mondrian%2C%20catalogue%20raisonn%C3%A9.jpg\" style=\"width: 200px; \" />"
      ],
      "text/plain": [
       "<IPython.core.display.HTML object>"
      ]
     },
     "metadata": {},
     "output_type": "display_data"
    },
    {
     "name": "stdout",
     "output_type": "stream",
     "text": [
      "Isolated tree on the Gein: detail study\n",
      "\n"
     ]
    },
    {
     "data": {
      "text/html": [
       "<img src=\"http://commons.wikimedia.org/wiki/Special:FilePath/Piet%20Mondriaan%20-%20Isolated%20tree%20on%20the%20Gein%2C%20detail%20study%20-%20A462%20-%20Piet%20Mondrian%2C%20catalogue%20raisonn%C3%A9.jpg\" style=\"width: 200px; \" />"
      ],
      "text/plain": [
       "<IPython.core.display.HTML object>"
      ]
     },
     "metadata": {},
     "output_type": "display_data"
    },
    {
     "name": "stdout",
     "output_type": "stream",
     "text": [
      "Willow grove near the water with chickens\n",
      "\n"
     ]
    },
    {
     "data": {
      "text/html": [
       "<img src=\"http://commons.wikimedia.org/wiki/Special:FilePath/Piet%20Mondriaan%20-%20Willow%20grove%20near%20the%20water%20with%20chickens%20-%20A469%20-%20Piet%20Mondrian%2C%20catalogue%20raisonn%C3%A9.jpg\" style=\"width: 200px; \" />"
      ],
      "text/plain": [
       "<IPython.core.display.HTML object>"
      ]
     },
     "metadata": {},
     "output_type": "display_data"
    },
    {
     "name": "stdout",
     "output_type": "stream",
     "text": [
      "Bend in the Gein with poplars II\n",
      "\n"
     ]
    },
    {
     "data": {
      "text/html": [
       "<img src=\"http://commons.wikimedia.org/wiki/Special:FilePath/Piet%20Mondriaan%20-%20Bend%20in%20the%20Gein%20with%20poplars%20II%20-%20A474%20-%20Piet%20Mondrian%2C%20catalogue%20raisonn%C3%A9.jpg\" style=\"width: 200px; \" />"
      ],
      "text/plain": [
       "<IPython.core.display.HTML object>"
      ]
     },
     "metadata": {},
     "output_type": "display_data"
    },
    {
     "name": "stdout",
     "output_type": "stream",
     "text": [
      "Bend in the Gein with poplars, three isolated\n",
      "\n"
     ]
    },
    {
     "data": {
      "text/html": [
       "<img src=\"http://commons.wikimedia.org/wiki/Special:FilePath/Piet%20Mondriaan%20-%20Bend%20in%20the%20Gein%20with%20poplars%2C%20three%20isolated%20-%20A478%20-%20Piet%20Mondrian%2C%20catalogue%20raisonn%C3%A9.jpg\" style=\"width: 200px; \" />"
      ],
      "text/plain": [
       "<IPython.core.display.HTML object>"
      ]
     },
     "metadata": {},
     "output_type": "display_data"
    },
    {
     "name": "stdout",
     "output_type": "stream",
     "text": [
      "Bend in the Gein with poplars\n",
      "\n"
     ]
    },
    {
     "data": {
      "text/html": [
       "<img src=\"http://commons.wikimedia.org/wiki/Special:FilePath/Piet%20Mondriaan%20-%20Bend%20in%20the%20Gein%20with%20poplars%20-%20A479%20-%20Piet%20Mondrian%2C%20catalogue%20raisonn%C3%A9.jpg\" style=\"width: 200px; \" />"
      ],
      "text/plain": [
       "<IPython.core.display.HTML object>"
      ]
     },
     "metadata": {},
     "output_type": "display_data"
    },
    {
     "name": "stdout",
     "output_type": "stream",
     "text": [
      "Bend in the Gein with row of eleven poplars I\n",
      "\n"
     ]
    },
    {
     "data": {
      "text/html": [
       "<img src=\"http://commons.wikimedia.org/wiki/Special:FilePath/Piet%20Mondriaan%20-%20Bend%20in%20the%20Gein%20with%20row%20of%20eleven%20poplars%20I%20-%20A485%20-%20Piet%20Mondrian%2C%20catalogue%20raisonn%C3%A9.jpg\" style=\"width: 200px; \" />"
      ],
      "text/plain": [
       "<IPython.core.display.HTML object>"
      ]
     },
     "metadata": {},
     "output_type": "display_data"
    },
    {
     "name": "stdout",
     "output_type": "stream",
     "text": [
      "Bend in the Gein with row of eleven poplars III\n",
      "\n"
     ]
    },
    {
     "data": {
      "text/html": [
       "<img src=\"http://commons.wikimedia.org/wiki/Special:FilePath/Piet%20Mondriaan%20-%20Bend%20in%20the%20Gein%20with%20row%20of%20eleven%20poplars%20III%20-%20A487%20-%20Piet%20Mondrian%2C%20catalogue%20raisonn%C3%A9.jpg\" style=\"width: 200px; \" />"
      ],
      "text/plain": [
       "<IPython.core.display.HTML object>"
      ]
     },
     "metadata": {},
     "output_type": "display_data"
    },
    {
     "name": "stdout",
     "output_type": "stream",
     "text": [
      "Farmstead with long row of trees on the Gein\n",
      "\n"
     ]
    },
    {
     "data": {
      "text/html": [
       "<img src=\"http://commons.wikimedia.org/wiki/Special:FilePath/Piet%20Mondriaan%20-%20Farmstead%20with%20long%20row%20of%20trees%20on%20the%20Gein%20-%20A489%20-%20Piet%20Mondrian%2C%20catalogue%20raisonn%C3%A9.jpg\" style=\"width: 200px; \" />"
      ],
      "text/plain": [
       "<IPython.core.display.HTML object>"
      ]
     },
     "metadata": {},
     "output_type": "display_data"
    },
    {
     "name": "stdout",
     "output_type": "stream",
     "text": [
      "Farmstead on the Gein screened by tall trees with streaked sky\n",
      "\n"
     ]
    },
    {
     "data": {
      "text/html": [
       "<img src=\"http://commons.wikimedia.org/wiki/Special:FilePath/Piet%20Mondriaan%20-%20Farmstead%20on%20the%20Gein%20screened%20by%20tall%20trees%20with%20streaked%20sky%20-%20A494%20-%20Piet%20Mondrian%2C%20catalogue%20raisonn%C3%A9.jpg\" style=\"width: 200px; \" />"
      ],
      "text/plain": [
       "<IPython.core.display.HTML object>"
      ]
     },
     "metadata": {},
     "output_type": "display_data"
    },
    {
     "name": "stdout",
     "output_type": "stream",
     "text": [
      "Farmstead on the Gein screened by tall trees: ultramarine sky with yellow ray of sunset\n",
      "\n"
     ]
    },
    {
     "data": {
      "text/html": [
       "<img src=\"http://commons.wikimedia.org/wiki/Special:FilePath/Piet%20Mondriaan%20-%20Farmstead%20on%20the%20Gein%20screened%20by%20tall%20trees%2C%20ultramarine%20sky%20with%20yellow%20ray%20of%20sunset%20-%20A495%20-%20Piet%20Mondrian%2C%20catalogue%20raisonn%C3%A9.jpg\" style=\"width: 200px; \" />"
      ],
      "text/plain": [
       "<IPython.core.display.HTML object>"
      ]
     },
     "metadata": {},
     "output_type": "display_data"
    },
    {
     "name": "stdout",
     "output_type": "stream",
     "text": [
      "Landscape with appel tree at left\n",
      "\n"
     ]
    },
    {
     "data": {
      "text/html": [
       "<img src=\"http://commons.wikimedia.org/wiki/Special:FilePath/Piet%20Mondriaan%20-%20Landscape%20with%20appel%20tree%20at%20left%20-%20A498%20-%20Piet%20Mondrian%2C%20catalogue%20raisonn%C3%A9.jpg\" style=\"width: 200px; \" />"
      ],
      "text/plain": [
       "<IPython.core.display.HTML object>"
      ]
     },
     "metadata": {},
     "output_type": "display_data"
    },
    {
     "name": "stdout",
     "output_type": "stream",
     "text": [
      "Landscape with apple tree at left: winter landscape\n",
      "\n"
     ]
    },
    {
     "data": {
      "text/html": [
       "<img src=\"http://commons.wikimedia.org/wiki/Special:FilePath/Piet%20Mondriaan%20-%20Landscape%20with%20apple%20tree%20at%20left%2C%20winter%20landscape%20-%20A499%20-%20Piet%20Mondrian%2C%20catalogue%20raisonn%C3%A9.jpg\" style=\"width: 200px; \" />"
      ],
      "text/plain": [
       "<IPython.core.display.HTML object>"
      ]
     },
     "metadata": {},
     "output_type": "display_data"
    },
    {
     "name": "stdout",
     "output_type": "stream",
     "text": [
      "Meandering river, windmill in the distance\n",
      "\n"
     ]
    },
    {
     "data": {
      "text/html": [
       "<img src=\"http://commons.wikimedia.org/wiki/Special:FilePath/Piet%20Mondriaan%20-%20Meandering%20river%2C%20windmill%20in%20the%20distance%20-%20A501%20-%20Piet%20Mondrian%2C%20catalogue%20raisonn%C3%A9.jpg\" style=\"width: 200px; \" />"
      ],
      "text/plain": [
       "<IPython.core.display.HTML object>"
      ]
     },
     "metadata": {},
     "output_type": "display_data"
    },
    {
     "name": "stdout",
     "output_type": "stream",
     "text": [
      "Sailboat moored in a river\n",
      "\n"
     ]
    },
    {
     "data": {
      "text/html": [
       "<img src=\"http://commons.wikimedia.org/wiki/Special:FilePath/Piet%20Mondriaan%20-%20Sailboat%20moored%20in%20a%20river%20-%20A502%20%28Welsh%29%20-%20C10a%20%28Joosten%29%20-%20Piet%20Mondrian%2C%20catalogue%20raisonn%C3%A9.jpg\" style=\"width: 200px; \" />"
      ],
      "text/plain": [
       "<IPython.core.display.HTML object>"
      ]
     },
     "metadata": {},
     "output_type": "display_data"
    },
    {
     "name": "stdout",
     "output_type": "stream",
     "text": [
      "Landscape with pink cloud\n",
      "\n"
     ]
    },
    {
     "data": {
      "text/html": [
       "<img src=\"http://commons.wikimedia.org/wiki/Special:FilePath/Piet%20Mondriaan%20-%20Landscape%20with%20pink%20cloud%20-%20A512%20-%20Piet%20Mondrian%2C%20catalogue%20raisonn%C3%A9.jpg\" style=\"width: 200px; \" />"
      ],
      "text/plain": [
       "<IPython.core.display.HTML object>"
      ]
     },
     "metadata": {},
     "output_type": "display_data"
    },
    {
     "name": "stdout",
     "output_type": "stream",
     "text": [
      "Farm buildings in white and red near a green field\n",
      "\n"
     ]
    },
    {
     "data": {
      "text/html": [
       "<img src=\"http://commons.wikimedia.org/wiki/Special:FilePath/Piet%20Mondriaan%20-%20Farm%20buildings%20in%20white%20and%20red%20near%20a%20green%20field%20-%20A516%20-%20Piet%20Mondrian%2C%20catalogue%20raisonn%C3%A9.jpg\" style=\"width: 200px; \" />"
      ],
      "text/plain": [
       "<IPython.core.display.HTML object>"
      ]
     },
     "metadata": {},
     "output_type": "display_data"
    },
    {
     "name": "stdout",
     "output_type": "stream",
     "text": [
      "Farm setting, four tall trees in the foreground II\n",
      "\n"
     ]
    },
    {
     "data": {
      "text/html": [
       "<img src=\"http://commons.wikimedia.org/wiki/Special:FilePath/Piet%20Mondriaan%20-%20Farm%20setting%2C%20four%20tall%20trees%20in%20the%20foreground%20II%20-%20A519%20-%20Piet%20Mondrian%2C%20catalogue%20raisonn%C3%A9.jpg\" style=\"width: 200px; \" />"
      ],
      "text/plain": [
       "<IPython.core.display.HTML object>"
      ]
     },
     "metadata": {},
     "output_type": "display_data"
    },
    {
     "name": "stdout",
     "output_type": "stream",
     "text": [
      "Summer night: preliminary study in oil\n",
      "\n"
     ]
    },
    {
     "data": {
      "text/html": [
       "<img src=\"http://commons.wikimedia.org/wiki/Special:FilePath/Piet%20Mondriaan%20-%20Summer%20night%2C%20preliminary%20study%20in%20oil%20-%20A521%20-%20Piet%20Mondrian%2C%20catalogue%20raisonn%C3%A9.jpg\" style=\"width: 200px; \" />"
      ],
      "text/plain": [
       "<IPython.core.display.HTML object>"
      ]
     },
     "metadata": {},
     "output_type": "display_data"
    },
    {
     "name": "stdout",
     "output_type": "stream",
     "text": [
      "Moored tjalk and other barges\n",
      "\n"
     ]
    },
    {
     "data": {
      "text/html": [
       "<img src=\"http://commons.wikimedia.org/wiki/Special:FilePath/Piet%20Mondriaan%20-%20Moored%20tjalk%20and%20other%20barges%20-%20A524%20-%20Piet%20Mondrian%2C%20catalogue%20raisonn%C3%A9.jpg\" style=\"width: 200px; \" />"
      ],
      "text/plain": [
       "<IPython.core.display.HTML object>"
      ]
     },
     "metadata": {},
     "output_type": "display_data"
    },
    {
     "name": "stdout",
     "output_type": "stream",
     "text": [
      "Moored tjalk in purple\n",
      "\n"
     ]
    },
    {
     "data": {
      "text/html": [
       "<img src=\"http://commons.wikimedia.org/wiki/Special:FilePath/Piet%20Mondriaan%20-%20Moored%20tjalk%20in%20purple%20-%20A525%20-%20Piet%20Mondrian%2C%20catalogue%20raisonn%C3%A9.jpg\" style=\"width: 200px; \" />"
      ],
      "text/plain": [
       "<IPython.core.display.HTML object>"
      ]
     },
     "metadata": {},
     "output_type": "display_data"
    },
    {
     "name": "stdout",
     "output_type": "stream",
     "text": [
      "Moored tjalk\n",
      "\n"
     ]
    },
    {
     "data": {
      "text/html": [
       "<img src=\"http://commons.wikimedia.org/wiki/Special:FilePath/Piet%20Mondriaan%20-%20Moored%20tjalk%20-%20A526%20-%20Piet%20Mondrian%2C%20catalogue%20raisonn%C3%A9.jpg\" style=\"width: 200px; \" />"
      ],
      "text/plain": [
       "<IPython.core.display.HTML object>"
      ]
     },
     "metadata": {},
     "output_type": "display_data"
    },
    {
     "name": "stdout",
     "output_type": "stream",
     "text": [
      "On Ouderkerkerdijk near the Omval in the evening II\n",
      "\n"
     ]
    },
    {
     "data": {
      "text/html": [
       "<img src=\"http://commons.wikimedia.org/wiki/Special:FilePath/Piet%20Mondriaan%20-%20On%20Ouderkerkerdijk%20near%20the%20Omval%20in%20the%20evening%20II%20-%20A529%20-%20Piet%20Mondrian%2C%20catalogue%20raisonn%C3%A9.jpg\" style=\"width: 200px; \" />"
      ],
      "text/plain": [
       "<IPython.core.display.HTML object>"
      ]
     },
     "metadata": {},
     "output_type": "display_data"
    },
    {
     "name": "stdout",
     "output_type": "stream",
     "text": [
      "Mooring docks near the Omval\n",
      "\n"
     ]
    },
    {
     "data": {
      "text/html": [
       "<img src=\"http://commons.wikimedia.org/wiki/Special:FilePath/Piet%20Mondriaan%20-%20Mooring%20docks%20near%20the%20Omval%20-%20A530%20-%20Piet%20Mondrian%2C%20catalogue%20raisonn%C3%A9.jpg\" style=\"width: 200px; \" />"
      ],
      "text/plain": [
       "<IPython.core.display.HTML object>"
      ]
     },
     "metadata": {},
     "output_type": "display_data"
    },
    {
     "name": "stdout",
     "output_type": "stream",
     "text": [
      "Dredge III\n",
      "\n"
     ]
    },
    {
     "data": {
      "text/html": [
       "<img src=\"http://commons.wikimedia.org/wiki/Special:FilePath/Piet%20Mondriaan%20-%20Dredge%20III%20-%20A533%20-%20Piet%20Mondrian%2C%20catalogue%20raisonn%C3%A9.jpg\" style=\"width: 200px; \" />"
      ],
      "text/plain": [
       "<IPython.core.display.HTML object>"
      ]
     },
     "metadata": {},
     "output_type": "display_data"
    },
    {
     "name": "stdout",
     "output_type": "stream",
     "text": [
      "Farmstead under oak trees III\n",
      "\n"
     ]
    },
    {
     "data": {
      "text/html": [
       "<img src=\"http://commons.wikimedia.org/wiki/Special:FilePath/Piet%20Mondriaan%20-%20Farmstead%20under%20oak%20trees%20III%20-%20A540%20-%20Piet%20Mondrian%2C%20catalogue%20raisonn%C3%A9.jpg\" style=\"width: 200px; \" />"
      ],
      "text/plain": [
       "<IPython.core.display.HTML object>"
      ]
     },
     "metadata": {},
     "output_type": "display_data"
    },
    {
     "name": "stdout",
     "output_type": "stream",
     "text": [
      "Farmstead façade with leafless oak\n",
      "\n"
     ]
    },
    {
     "data": {
      "text/html": [
       "<img src=\"http://commons.wikimedia.org/wiki/Special:FilePath/Piet%20Mondriaan%20-%20Farmstead%20fa%C3%A7ade%20with%20leafless%20oak%20-%20A542%20-%20Piet%20Mondrian%2C%20catalogue%20raisonn%C3%A9.jpg\" style=\"width: 200px; \" />"
      ],
      "text/plain": [
       "<IPython.core.display.HTML object>"
      ]
     },
     "metadata": {},
     "output_type": "display_data"
    },
    {
     "name": "stdout",
     "output_type": "stream",
     "text": [
      "Farmhouse façade with well boom at left\n",
      "\n"
     ]
    },
    {
     "data": {
      "text/html": [
       "<img src=\"http://commons.wikimedia.org/wiki/Special:FilePath/Piet%20Mondriaan%20-%20Farmhouse%20fa%C3%A7ade%20with%20well%20boom%20at%20left%20-%20A543%20-%20Piet%20Mondrian%2C%20catalogue%20raisonn%C3%A9.jpg\" style=\"width: 200px; \" />"
      ],
      "text/plain": [
       "<IPython.core.display.HTML object>"
      ]
     },
     "metadata": {},
     "output_type": "display_data"
    },
    {
     "name": "stdout",
     "output_type": "stream",
     "text": [
      "Farm building and well\n",
      "\n"
     ]
    },
    {
     "data": {
      "text/html": [
       "<img src=\"http://commons.wikimedia.org/wiki/Special:FilePath/Piet%20Mondriaan%20-%20Farm%20building%20and%20well%20-%20A544%20-%20Piet%20Mondrian%2C%20catalogue%20raisonn%C3%A9.jpg\" style=\"width: 200px; \" />"
      ],
      "text/plain": [
       "<IPython.core.display.HTML object>"
      ]
     },
     "metadata": {},
     "output_type": "display_data"
    },
    {
     "name": "stdout",
     "output_type": "stream",
     "text": [
      "Sheepfold with flock of sheep\n",
      "\n"
     ]
    },
    {
     "data": {
      "text/html": [
       "<img src=\"http://commons.wikimedia.org/wiki/Special:FilePath/Piet%20Mondriaan%20-%20Sheepfold%20with%20flock%20of%20sheep%20-%20A548%20-%20Piet%20Mondrian%2C%20catalogue%20raisonn%C3%A9.jpg\" style=\"width: 200px; \" />"
      ],
      "text/plain": [
       "<IPython.core.display.HTML object>"
      ]
     },
     "metadata": {},
     "output_type": "display_data"
    },
    {
     "name": "stdout",
     "output_type": "stream",
     "text": [
      "Farm building with well in daylight\n",
      "\n"
     ]
    },
    {
     "data": {
      "text/html": [
       "<img src=\"http://commons.wikimedia.org/wiki/Special:FilePath/Piet%20Mondriaan%20-%20Farm%20building%20with%20well%20in%20daylight%20-%20A551%20-%20Piet%20Mondrian%2C%20catalogue%20raisonn%C3%A9.jpg\" style=\"width: 200px; \" />"
      ],
      "text/plain": [
       "<IPython.core.display.HTML object>"
      ]
     },
     "metadata": {},
     "output_type": "display_data"
    },
    {
     "name": "stdout",
     "output_type": "stream",
     "text": [
      "Fen near Saasveld\n",
      "\n"
     ]
    },
    {
     "data": {
      "text/html": [
       "<img src=\"http://commons.wikimedia.org/wiki/Special:FilePath/Piet%20Mondriaan%20-%20Fen%20near%20Saasveld%20-%20A555%20-%20Piet%20Mondrian%2C%20catalogue%20raisonn%C3%A9.jpg\" style=\"width: 200px; \" />"
      ],
      "text/plain": [
       "<IPython.core.display.HTML object>"
      ]
     },
     "metadata": {},
     "output_type": "display_data"
    },
    {
     "name": "stdout",
     "output_type": "stream",
     "text": [
      "Two haystacks in a field I\n",
      "\n"
     ]
    },
    {
     "data": {
      "text/html": [
       "<img src=\"http://commons.wikimedia.org/wiki/Special:FilePath/Piet%20Mondriaan%20-%20Two%20haystacks%20in%20a%20field%20I%20-%20A559%20-%20Piet%20Mondrian%2C%20catalogue%20raisonn%C3%A9.jpg\" style=\"width: 200px; \" />"
      ],
      "text/plain": [
       "<IPython.core.display.HTML object>"
      ]
     },
     "metadata": {},
     "output_type": "display_data"
    },
    {
     "name": "stdout",
     "output_type": "stream",
     "text": [
      "Evening\n",
      "\n"
     ]
    },
    {
     "data": {
      "text/html": [
       "<img src=\"http://commons.wikimedia.org/wiki/Special:FilePath/Piet%20Mondriaan%20-%20Avond%20%28authentiek%29%20-%20A561%20-%20Piet%20Mondrian%2C%20catalogue%20raisonn%C3%A9.jpg\" style=\"width: 200px; \" />"
      ],
      "text/plain": [
       "<IPython.core.display.HTML object>"
      ]
     },
     "metadata": {},
     "output_type": "display_data"
    },
    {
     "name": "stdout",
     "output_type": "stream",
     "text": [
      "Avond (authentiek)\n",
      "\n"
     ]
    },
    {
     "data": {
      "text/html": [
       "<img src=\"http://commons.wikimedia.org/wiki/Special:FilePath/Piet%20Mondriaan%20-%20Avond%20%28authentiek%29%20-%20A561%20-%20Piet%20Mondrian%2C%20catalogue%20raisonn%C3%A9.jpg\" style=\"width: 200px; \" />"
      ],
      "text/plain": [
       "<IPython.core.display.HTML object>"
      ]
     },
     "metadata": {},
     "output_type": "display_data"
    },
    {
     "name": "stdout",
     "output_type": "stream",
     "text": [
      "Evening sky with luminous cloud streaks\n",
      "\n"
     ]
    },
    {
     "data": {
      "text/html": [
       "<img src=\"http://commons.wikimedia.org/wiki/Special:FilePath/Piet%20Mondriaan%20-%20Evening%20sky%20with%20luminous%20cloud%20streaks%20-%20A571%20-%20Piet%20Mondrian%2C%20catalogue%20raisonn%C3%A9.jpg\" style=\"width: 200px; \" />"
      ],
      "text/plain": [
       "<IPython.core.display.HTML object>"
      ]
     },
     "metadata": {},
     "output_type": "display_data"
    },
    {
     "name": "stdout",
     "output_type": "stream",
     "text": [
      "Field with row of trees at left\n",
      "\n"
     ]
    },
    {
     "data": {
      "text/html": [
       "<img src=\"http://commons.wikimedia.org/wiki/Special:FilePath/Piet%20Mondriaan%20-%20Field%20with%20row%20of%20trees%20at%20left%20-%20A580%20-%20Piet%20Mondrian%2C%20catalogue%20raisonn%C3%A9.jpg\" style=\"width: 200px; \" />"
      ],
      "text/plain": [
       "<IPython.core.display.HTML object>"
      ]
     },
     "metadata": {},
     "output_type": "display_data"
    },
    {
     "name": "stdout",
     "output_type": "stream",
     "text": [
      "Field with gate and trees at right\n",
      "\n"
     ]
    },
    {
     "data": {
      "text/html": [
       "<img src=\"http://commons.wikimedia.org/wiki/Special:FilePath/Piet%20Mondriaan%20-%20Field%20with%20gate%20and%20trees%20at%20right%20-%20A582%20-%20Piet%20Mondrian%2C%20catalogue%20raisonn%C3%A9.jpg\" style=\"width: 200px; \" />"
      ],
      "text/plain": [
       "<IPython.core.display.HTML object>"
      ]
     },
     "metadata": {},
     "output_type": "display_data"
    },
    {
     "name": "stdout",
     "output_type": "stream",
     "text": [
      "Silhouette of a spreading tree\n",
      "\n"
     ]
    },
    {
     "data": {
      "text/html": [
       "<img src=\"http://commons.wikimedia.org/wiki/Special:FilePath/Piet%20Mondriaan%20-%20Silhouette%20of%20a%20spreading%20tree%20-%20A585%20-%20Piet%20Mondrian%2C%20catalogue%20raisonn%C3%A9.jpg\" style=\"width: 200px; \" />"
      ],
      "text/plain": [
       "<IPython.core.display.HTML object>"
      ]
     },
     "metadata": {},
     "output_type": "display_data"
    },
    {
     "name": "stdout",
     "output_type": "stream",
     "text": [
      "Magnolia\n",
      "\n"
     ]
    },
    {
     "data": {
      "text/html": [
       "<img src=\"http://commons.wikimedia.org/wiki/Special:FilePath/Piet%20Mondriaan%20-%20Magnolia%20-%20A594%20-%20Piet%20Mondrian%2C%20catalogue%20raisonn%C3%A9.jpg\" style=\"width: 200px; \" />"
      ],
      "text/plain": [
       "<IPython.core.display.HTML object>"
      ]
     },
     "metadata": {},
     "output_type": "display_data"
    },
    {
     "name": "stdout",
     "output_type": "stream",
     "text": [
      "Anemones in a vase\n",
      "\n"
     ]
    },
    {
     "data": {
      "text/html": [
       "<img src=\"http://commons.wikimedia.org/wiki/Special:FilePath/Piet%20Mondriaan%20-%20Anemones%20in%20a%20vase%20-%20A595%20-%20Piet%20Mondrian%2C%20catalogue%20raisonn%C3%A9.jpg\" style=\"width: 200px; \" />"
      ],
      "text/plain": [
       "<IPython.core.display.HTML object>"
      ]
     },
     "metadata": {},
     "output_type": "display_data"
    },
    {
     "name": "stdout",
     "output_type": "stream",
     "text": [
      "Red chryanthemum on blue background\n",
      "\n"
     ]
    },
    {
     "data": {
      "text/html": [
       "<img src=\"http://commons.wikimedia.org/wiki/Special:FilePath/Piet%20Mondriaan%20-%20Red%20chryanthemum%20on%20blue%20background%20-%20A609%20-%20Piet%20Mondrian%2C%20catalogue%20raisonn%C3%A9.jpg\" style=\"width: 200px; \" />"
      ],
      "text/plain": [
       "<IPython.core.display.HTML object>"
      ]
     },
     "metadata": {},
     "output_type": "display_data"
    },
    {
     "name": "stdout",
     "output_type": "stream",
     "text": [
      "Foxtail lily\n",
      "\n"
     ]
    },
    {
     "data": {
      "text/html": [
       "<img src=\"http://commons.wikimedia.org/wiki/Special:FilePath/Piet%20Mondriaan%20-%20Foxtail%20lily%20-%20A615%20-%20Piet%20Mondrian%2C%20catalogue%20raisonn%C3%A9.jpg\" style=\"width: 200px; \" />"
      ],
      "text/plain": [
       "<IPython.core.display.HTML object>"
      ]
     },
     "metadata": {},
     "output_type": "display_data"
    },
    {
     "name": "stdout",
     "output_type": "stream",
     "text": [
      "Flower arrangement with rhodondendrons and irises\n",
      "\n"
     ]
    },
    {
     "data": {
      "text/html": [
       "<img src=\"http://commons.wikimedia.org/wiki/Special:FilePath/Piet%20Mondriaan%20-%20Flower%20arrangement%20with%20rhodondendrons%20and%20irises%20-%20A616%20-%20Piet%20Mondrian%2C%20catalogue%20raisonn%C3%A9.jpg\" style=\"width: 200px; \" />"
      ],
      "text/plain": [
       "<IPython.core.display.HTML object>"
      ]
     },
     "metadata": {},
     "output_type": "display_data"
    },
    {
     "name": "stdout",
     "output_type": "stream",
     "text": [
      "White irises against a light blue background I\n",
      "\n"
     ]
    },
    {
     "data": {
      "text/html": [
       "<img src=\"http://commons.wikimedia.org/wiki/Special:FilePath/Piet%20Mondriaan%20-%20White%20irises%20against%20a%20light%20blue%20background%20I%20-%20A628%20-%20Piet%20Mondrian%2C%20catalogue%20raisonn%C3%A9.jpg\" style=\"width: 200px; \" />"
      ],
      "text/plain": [
       "<IPython.core.display.HTML object>"
      ]
     },
     "metadata": {},
     "output_type": "display_data"
    },
    {
     "name": "stdout",
     "output_type": "stream",
     "text": [
      "Eucalyptus (authentic)\n",
      "\n"
     ]
    },
    {
     "data": {
      "text/html": [
       "<img src=\"http://commons.wikimedia.org/wiki/Special:FilePath/Piet%20Mondriaan%20-%20Eucalyptus%20%28authentic%29%20-%20B13%20-%20Piet%20Mondrian%2C%20catalogue%20raisonn%C3%A9.jpg\" style=\"width: 200px; \" />"
      ],
      "text/plain": [
       "<IPython.core.display.HTML object>"
      ]
     },
     "metadata": {},
     "output_type": "display_data"
    },
    {
     "name": "stdout",
     "output_type": "stream",
     "text": [
      "The sea\n",
      "\n"
     ]
    },
    {
     "data": {
      "text/html": [
       "<img src=\"http://commons.wikimedia.org/wiki/Special:FilePath/Piet%20Mondriaan%20-%20The%20sea%20-%20B17%20-%20Piet%20Mondrian%2C%20catalogue%20raisonn%C3%A9.jpg\" style=\"width: 200px; \" />"
      ],
      "text/plain": [
       "<IPython.core.display.HTML object>"
      ]
     },
     "metadata": {},
     "output_type": "display_data"
    },
    {
     "name": "stdout",
     "output_type": "stream",
     "text": [
      "Flowering trees\n",
      "\n"
     ]
    },
    {
     "data": {
      "text/html": [
       "<img src=\"http://commons.wikimedia.org/wiki/Special:FilePath/Piet%20Mondriaan%20-%20Bloeiende%20bomen%20%28authentiek%29%20-%20B20%20-%20Piet%20Mondrian%2C%20catalogue%20raisonn%C3%A9.jpg\" style=\"width: 200px; \" />"
      ],
      "text/plain": [
       "<IPython.core.display.HTML object>"
      ]
     },
     "metadata": {},
     "output_type": "display_data"
    },
    {
     "name": "stdout",
     "output_type": "stream",
     "text": [
      "Bloeiende bomen (authentiek)\n",
      "\n"
     ]
    },
    {
     "data": {
      "text/html": [
       "<img src=\"http://commons.wikimedia.org/wiki/Special:FilePath/Piet%20Mondriaan%20-%20Bloeiende%20bomen%20%28authentiek%29%20-%20B20%20-%20Piet%20Mondrian%2C%20catalogue%20raisonn%C3%A9.jpg\" style=\"width: 200px; \" />"
      ],
      "text/plain": [
       "<IPython.core.display.HTML object>"
      ]
     },
     "metadata": {},
     "output_type": "display_data"
    },
    {
     "name": "stdout",
     "output_type": "stream",
     "text": [
      "Eucalyptus\n",
      "\n"
     ]
    },
    {
     "data": {
      "text/html": [
       "<img src=\"http://commons.wikimedia.org/wiki/Special:FilePath/Piet%20Mondriaan%20-%20Eucalyptus%20%28authentiek%29%20-%20B22%20-%20Piet%20Mondrian%2C%20catalogue%20raisonn%C3%A9.jpg\" style=\"width: 200px; \" />"
      ],
      "text/plain": [
       "<IPython.core.display.HTML object>"
      ]
     },
     "metadata": {},
     "output_type": "display_data"
    },
    {
     "name": "stdout",
     "output_type": "stream",
     "text": [
      "Eucalyptus (authentiek)\n",
      "\n"
     ]
    },
    {
     "data": {
      "text/html": [
       "<img src=\"http://commons.wikimedia.org/wiki/Special:FilePath/Piet%20Mondriaan%20-%20Eucalyptus%20%28authentiek%29%20-%20B22%20-%20Piet%20Mondrian%2C%20catalogue%20raisonn%C3%A9.jpg\" style=\"width: 200px; \" />"
      ],
      "text/plain": [
       "<IPython.core.display.HTML object>"
      ]
     },
     "metadata": {},
     "output_type": "display_data"
    },
    {
     "name": "stdout",
     "output_type": "stream",
     "text": [
      "Composition no. X (authentic)\n",
      "\n"
     ]
    },
    {
     "data": {
      "text/html": [
       "<img src=\"http://commons.wikimedia.org/wiki/Special:FilePath/Piet%20Mondriaan%20-%20Composition%20no.%20X%20%28authentic%29%20-%20B25%20-%20Piet%20Mondrian%2C%20catalogue%20raisonn%C3%A9.jpg\" style=\"width: 200px; \" />"
      ],
      "text/plain": [
       "<IPython.core.display.HTML object>"
      ]
     },
     "metadata": {},
     "output_type": "display_data"
    },
    {
     "name": "stdout",
     "output_type": "stream",
     "text": [
      "Tableau no.I\n",
      "\n"
     ]
    },
    {
     "data": {
      "text/html": [
       "<img src=\"http://commons.wikimedia.org/wiki/Special:FilePath/Piet%20Mondriaan%20-%20Tableau%20no.I%20-%20B44%20-%20Piet%20Mondrian%2C%20catalogue%20raisonn%C3%A9.jpg\" style=\"width: 200px; \" />"
      ],
      "text/plain": [
       "<IPython.core.display.HTML object>"
      ]
     },
     "metadata": {},
     "output_type": "display_data"
    },
    {
     "name": "stdout",
     "output_type": "stream",
     "text": [
      "Composition with color planes: façade\n",
      "\n"
     ]
    },
    {
     "data": {
      "text/html": [
       "<img src=\"http://commons.wikimedia.org/wiki/Special:FilePath/Piet%20Mondriaan%20-%20Composition%20with%20color%20planes%2C%20fa%C3%A7ade%20-%20B51%20-%20Piet%20Mondrian%2C%20catalogue%20raisonn%C3%A9.jpg\" style=\"width: 200px; \" />"
      ],
      "text/plain": [
       "<IPython.core.display.HTML object>"
      ]
     },
     "metadata": {},
     "output_type": "display_data"
    },
    {
     "name": "stdout",
     "output_type": "stream",
     "text": [
      "Color study with pink, blue, yellow and white\n",
      "\n"
     ]
    },
    {
     "data": {
      "text/html": [
       "<img src=\"http://commons.wikimedia.org/wiki/Special:FilePath/Piet%20Mondriaan%20-%20Color%20study%20with%20pink%2C%20blue%2C%20yellow%20and%20white%20-%20B56%20-%20Piet%20Mondrian%2C%20catalogue%20raisonn%C3%A9.jpg\" style=\"width: 200px; \" />"
      ],
      "text/plain": [
       "<IPython.core.display.HTML object>"
      ]
     },
     "metadata": {},
     "output_type": "display_data"
    },
    {
     "name": "stdout",
     "output_type": "stream",
     "text": [
      "Composition with color planes 4\n",
      "\n"
     ]
    },
    {
     "data": {
      "text/html": [
       "<img src=\"http://commons.wikimedia.org/wiki/Special:FilePath/Piet%20Mondriaan%20-%20Composition%20with%20color%20planes%204%20-%20B90%20-%20Piet%20Mondrian%2C%20catalogue%20raisonn%C3%A9.jpg\" style=\"width: 200px; \" />"
      ],
      "text/plain": [
       "<IPython.core.display.HTML object>"
      ]
     },
     "metadata": {},
     "output_type": "display_data"
    },
    {
     "name": "stdout",
     "output_type": "stream",
     "text": [
      "Composition with color planes and gray lines 2\n",
      "\n"
     ]
    },
    {
     "data": {
      "text/html": [
       "<img src=\"http://commons.wikimedia.org/wiki/Special:FilePath/Piet%20Mondriaan%20-%20Composition%20with%20color%20planes%20and%20gray%20lines%202%20-%20B93%20-%20Piet%20Mondrian%2C%20catalogue%20raisonn%C3%A9.jpg\" style=\"width: 200px; \" />"
      ],
      "text/plain": [
       "<IPython.core.display.HTML object>"
      ]
     },
     "metadata": {},
     "output_type": "display_data"
    },
    {
     "name": "stdout",
     "output_type": "stream",
     "text": [
      "Composition with color planes and gray lines 3\n",
      "\n"
     ]
    },
    {
     "data": {
      "text/html": [
       "<img src=\"http://commons.wikimedia.org/wiki/Special:FilePath/Piet%20Mondriaan%20-%20Composition%20with%20color%20planes%20and%20gray%20lines%203%20-%20B94%20-%20Piet%20Mondrian%2C%20catalogue%20raisonn%C3%A9.jpg\" style=\"width: 200px; \" />"
      ],
      "text/plain": [
       "<IPython.core.display.HTML object>"
      ]
     },
     "metadata": {},
     "output_type": "display_data"
    },
    {
     "name": "stdout",
     "output_type": "stream",
     "text": [
      "Composition no. 15\n",
      "\n"
     ]
    },
    {
     "data": {
      "text/html": [
       "<img src=\"http://commons.wikimedia.org/wiki/Special:FilePath/Piet%20Mondriaan%20-%20Composition%20no.%2015%20-%20B96.305%20%28first%20state%29%20-%20Piet%20Mondrian%2C%20catalogue%20raisonn%C3%A9.jpg\" style=\"width: 200px; \" />"
      ],
      "text/plain": [
       "<IPython.core.display.HTML object>"
      ]
     },
     "metadata": {},
     "output_type": "display_data"
    },
    {
     "name": "stdout",
     "output_type": "stream",
     "text": [
      "Composition I\n",
      "\n"
     ]
    },
    {
     "data": {
      "text/html": [
       "<img src=\"http://commons.wikimedia.org/wiki/Special:FilePath/Piet%20Mondriaan%20-%20Composition%20I%20-%20B108%20-%20Piet%20Mondrian%2C%20catalogue%20raisonn%C3%A9.jpg\" style=\"width: 200px; \" />"
      ],
      "text/plain": [
       "<IPython.core.display.HTML object>"
      ]
     },
     "metadata": {},
     "output_type": "display_data"
    },
    {
     "name": "stdout",
     "output_type": "stream",
     "text": [
      "Composition II\n",
      "\n"
     ]
    },
    {
     "data": {
      "text/html": [
       "<img src=\"http://commons.wikimedia.org/wiki/Special:FilePath/Piet%20Mondriaan%20-%20Composition%20II%20-%20B109%20-%20Piet%20Mondrian%2C%20catalogue%20raisonn%C3%A9.jpg\" style=\"width: 200px; \" />"
      ],
      "text/plain": [
       "<IPython.core.display.HTML object>"
      ]
     },
     "metadata": {},
     "output_type": "display_data"
    },
    {
     "name": "stdout",
     "output_type": "stream",
     "text": [
      "Composition III\n",
      "\n"
     ]
    },
    {
     "data": {
      "text/html": [
       "<img src=\"http://commons.wikimedia.org/wiki/Special:FilePath/Piet%20Mondriaan%20-%20Composition%20III%20-%20B110%20-%20Piet%20Mondrian%2C%20catalogue%20raisonn%C3%A9.jpg\" style=\"width: 200px; \" />"
      ],
      "text/plain": [
       "<IPython.core.display.HTML object>"
      ]
     },
     "metadata": {},
     "output_type": "display_data"
    },
    {
     "name": "stdout",
     "output_type": "stream",
     "text": [
      "Unfinished composition\n",
      "\n"
     ]
    },
    {
     "data": {
      "text/html": [
       "<img src=\"http://commons.wikimedia.org/wiki/Special:FilePath/Piet%20Mondriaan%20-%20Unfinished%20composition%20-%20B112%20-%20Piet%20Mondrian%2C%20catalogue%20raisonn%C3%A9.jpg\" style=\"width: 200px; \" />"
      ],
      "text/plain": [
       "<IPython.core.display.HTML object>"
      ]
     },
     "metadata": {},
     "output_type": "display_data"
    },
    {
     "name": "stdout",
     "output_type": "stream",
     "text": [
      "Tableau no. I\n",
      "\n"
     ]
    },
    {
     "data": {
      "text/html": [
       "<img src=\"http://commons.wikimedia.org/wiki/Special:FilePath/Piet%20Mondriaan%20-%20Tableau%20no.%20I%20-%20B113.153%20%28first%20state%29%20-%20Piet%20Mondrian%2C%20catalogue%20raisonn%C3%A9.jpg\" style=\"width: 200px; \" />"
      ],
      "text/plain": [
       "<IPython.core.display.HTML object>"
      ]
     },
     "metadata": {},
     "output_type": "display_data"
    },
    {
     "name": "stdout",
     "output_type": "stream",
     "text": [
      "Composition with yellow, blue, black, red, and gray\n",
      "\n"
     ]
    },
    {
     "data": {
      "text/html": [
       "<img src=\"http://commons.wikimedia.org/wiki/Special:FilePath/Piet%20Mondriaan%20-%20Composition%20with%20yellow%2C%20blue%2C%20black%2C%20red%2C%20and%20gray%20-%20B116%20-%20Piet%20Mondrian%2C%20catalogue%20raisonn%C3%A9.jpg\" style=\"width: 200px; \" />"
      ],
      "text/plain": [
       "<IPython.core.display.HTML object>"
      ]
     },
     "metadata": {},
     "output_type": "display_data"
    },
    {
     "name": "stdout",
     "output_type": "stream",
     "text": [
      "Composition with large yellow plane\n",
      "\n"
     ]
    },
    {
     "data": {
      "text/html": [
       "<img src=\"http://commons.wikimedia.org/wiki/Special:FilePath/Piet%20Mondriaan%20-%20Composition%20with%20large%20yellow%20plane%20-%20B118%20-%20Piet%20Mondrian%2C%20catalogue%20raisonn%C3%A9.jpg\" style=\"width: 200px; \" />"
      ],
      "text/plain": [
       "<IPython.core.display.HTML object>"
      ]
     },
     "metadata": {},
     "output_type": "display_data"
    },
    {
     "name": "stdout",
     "output_type": "stream",
     "text": [
      "Composition with large red plane\n",
      "\n"
     ]
    },
    {
     "data": {
      "text/html": [
       "<img src=\"http://commons.wikimedia.org/wiki/Special:FilePath/Piet%20Mondriaan%20-%20Composition%20with%20large%20red%20plane%20-%20B119%20-%20Piet%20Mondrian%2C%20catalogue%20raisonn%C3%A9.jpg\" style=\"width: 200px; \" />"
      ],
      "text/plain": [
       "<IPython.core.display.HTML object>"
      ]
     },
     "metadata": {},
     "output_type": "display_data"
    },
    {
     "name": "stdout",
     "output_type": "stream",
     "text": [
      "Composition with large red plane, black, blue, yellow and gray\n",
      "\n"
     ]
    },
    {
     "data": {
      "text/html": [
       "<img src=\"http://commons.wikimedia.org/wiki/Special:FilePath/Piet%20Mondriaan%20-%20Composition%20with%20large%20red%20plane%2C%20black%2C%20blue%2C%20yellow%20and%20gray%20-%20B120%20-%20Piet%20Mondrian%2C%20catalogue%20raisonn%C3%A9.jpg\" style=\"width: 200px; \" />"
      ],
      "text/plain": [
       "<IPython.core.display.HTML object>"
      ]
     },
     "metadata": {},
     "output_type": "display_data"
    },
    {
     "name": "stdout",
     "output_type": "stream",
     "text": [
      "Tableau no. II\n",
      "\n"
     ]
    },
    {
     "data": {
      "text/html": [
       "<img src=\"http://commons.wikimedia.org/wiki/Special:FilePath/Piet%20Mondriaan%20-%20Tableau%20no.%20II%20-%20B121.154%20%28first%20state%29%20-%20Piet%20Mondrian%2C%20catalogue%20raisonn%C3%A9.jpg\" style=\"width: 200px; \" />"
      ],
      "text/plain": [
       "<IPython.core.display.HTML object>"
      ]
     },
     "metadata": {},
     "output_type": "display_data"
    },
    {
     "name": "stdout",
     "output_type": "stream",
     "text": [
      "Composition with large red plane, blue, gray, black and yellow\n",
      "\n"
     ]
    },
    {
     "data": {
      "text/html": [
       "<img src=\"http://commons.wikimedia.org/wiki/Special:FilePath/Piet%20Mondriaan%20-%20Composition%20with%20large%20red%20plane%2C%20blue%2C%20gray%2C%20black%20and%20yellow%20-%20B124%20-%20Piet%20Mondrian%2C%20catalogue%20raisonn%C3%A9.jpg\" style=\"width: 200px; \" />"
      ],
      "text/plain": [
       "<IPython.core.display.HTML object>"
      ]
     },
     "metadata": {},
     "output_type": "display_data"
    },
    {
     "name": "stdout",
     "output_type": "stream",
     "text": [
      "Tableau II\n",
      "\n"
     ]
    },
    {
     "data": {
      "text/html": [
       "<img src=\"http://commons.wikimedia.org/wiki/Special:FilePath/Piet%20Mondriaan%20-%20Tableau%20II%20-%20B129%20-%20Piet%20Mondrian%2C%20catalogue%20raisonn%C3%A9.jpg\" style=\"width: 200px; \" />"
      ],
      "text/plain": [
       "<IPython.core.display.HTML object>"
      ]
     },
     "metadata": {},
     "output_type": "display_data"
    },
    {
     "name": "stdout",
     "output_type": "stream",
     "text": [
      "Composition with blue, yellow, red and gray\n",
      "\n"
     ]
    },
    {
     "data": {
      "text/html": [
       "<img src=\"http://commons.wikimedia.org/wiki/Special:FilePath/Piet%20Mondriaan%20-%20Composition%20with%20blue%2C%20yellow%2C%20red%20and%20gray%20-%20B134%20-%20Piet%20Mondrian%2C%20catalogue%20raisonn%C3%A9.jpg\" style=\"width: 200px; \" />"
      ],
      "text/plain": [
       "<IPython.core.display.HTML object>"
      ]
     },
     "metadata": {},
     "output_type": "display_data"
    },
    {
     "name": "stdout",
     "output_type": "stream",
     "text": [
      "Composition with Blue, Black, Yellow, and Red\n",
      "\n"
     ]
    },
    {
     "data": {
      "text/html": [
       "<img src=\"http://commons.wikimedia.org/wiki/Special:FilePath/Piet%20Mondriaan%20-%20Composition%20with%20blue%2C%20black%2C%20yellow%20and%20red%20-%20B135%20-%20Piet%20Mondrian%2C%20catalogue%20raisonn%C3%A9.jpg\" style=\"width: 200px; \" />"
      ],
      "text/plain": [
       "<IPython.core.display.HTML object>"
      ]
     },
     "metadata": {},
     "output_type": "display_data"
    },
    {
     "name": "stdout",
     "output_type": "stream",
     "text": [
      "Tableau no. V\n",
      "\n"
     ]
    },
    {
     "data": {
      "text/html": [
       "<img src=\"http://commons.wikimedia.org/wiki/Special:FilePath/Piet%20Mondriaan%20-%20Tableau%20no.%20V%20-%20B140.157%20%28first%20state%29%20-%20Piet%20Mondrian%2C%20catalogue%20raisonn%C3%A9.jpg\" style=\"width: 200px; \" />"
      ],
      "text/plain": [
       "<IPython.core.display.HTML object>"
      ]
     },
     "metadata": {},
     "output_type": "display_data"
    },
    {
     "name": "stdout",
     "output_type": "stream",
     "text": [
      "Composition with blue, red, yellow, and black\n",
      "\n"
     ]
    },
    {
     "data": {
      "text/html": [
       "<img src=\"http://commons.wikimedia.org/wiki/Special:FilePath/Piet%20Mondriaan%20-%20Composition%20with%20blue%2C%20red%2C%20yellow%2C%20and%20black%20-%20B142%20-%20Piet%20Mondrian%2C%20catalogue%20raisonn%C3%A9.jpg\" style=\"width: 200px; \" />"
      ],
      "text/plain": [
       "<IPython.core.display.HTML object>"
      ]
     },
     "metadata": {},
     "output_type": "display_data"
    },
    {
     "name": "stdout",
     "output_type": "stream",
     "text": [
      "Composition with yellow, blue, and blue-white\n",
      "\n"
     ]
    },
    {
     "data": {
      "text/html": [
       "<img src=\"http://commons.wikimedia.org/wiki/Special:FilePath/Piet%20Mondriaan%20-%20Composition%20with%20yellow%2C%20blue%2C%20and%20blue-white%20-%20B143%20-%20Piet%20Mondrian%2C%20catalogue%20raisonn%C3%A9.jpg\" style=\"width: 200px; \" />"
      ],
      "text/plain": [
       "<IPython.core.display.HTML object>"
      ]
     },
     "metadata": {},
     "output_type": "display_data"
    },
    {
     "name": "stdout",
     "output_type": "stream",
     "text": [
      "Composition with large red plane, bluish gray, yellow, black, and blue\n",
      "\n"
     ]
    },
    {
     "data": {
      "text/html": [
       "<img src=\"http://commons.wikimedia.org/wiki/Special:FilePath/Piet%20Mondriaan%20-%20Composition%20with%20large%20red%20plane%2C%20bluish%20gray%2C%20yellow%2C%20black%2C%20and%20blue%20-%20B144%20-%20Piet%20Mondrian%2C%20catalogue%20raisonn%C3%A9.jpg\" style=\"width: 200px; \" />"
      ],
      "text/plain": [
       "<IPython.core.display.HTML object>"
      ]
     },
     "metadata": {},
     "output_type": "display_data"
    },
    {
     "name": "stdout",
     "output_type": "stream",
     "text": [
      "Composition with blue, yellow, black, and red\n",
      "\n"
     ]
    },
    {
     "data": {
      "text/html": [
       "<img src=\"http://commons.wikimedia.org/wiki/Special:FilePath/Piet%20Mondriaan%20-%20Composition%20with%20blue%2C%20yellow%2C%20black%2C%20and%20red%20-%20B145%20-%20Piet%20Mondrian%2C%20catalogue%20raisonn%C3%A9.jpg\" style=\"width: 200px; \" />"
      ],
      "text/plain": [
       "<IPython.core.display.HTML object>"
      ]
     },
     "metadata": {},
     "output_type": "display_data"
    },
    {
     "name": "stdout",
     "output_type": "stream",
     "text": [
      "Compostion with red, black, yellow, blue, and gray\n",
      "\n"
     ]
    },
    {
     "data": {
      "text/html": [
       "<img src=\"http://commons.wikimedia.org/wiki/Special:FilePath/Piet%20Mondriaan%20-%20Compostion%20with%20red%2C%20black%2C%20yellow%2C%20blue%2C%20and%20gray%20-%20B147%20-%20Piet%20Mondrian%2C%20catalogue%20raisonn%C3%A9.jpg\" style=\"width: 200px; \" />"
      ],
      "text/plain": [
       "<IPython.core.display.HTML object>"
      ]
     },
     "metadata": {},
     "output_type": "display_data"
    },
    {
     "name": "stdout",
     "output_type": "stream",
     "text": [
      "Composition 1922\n",
      "\n"
     ]
    },
    {
     "data": {
      "text/html": [
       "<img src=\"http://commons.wikimedia.org/wiki/Special:FilePath/Piet%20Mondriaan%20-%20Composition%201922%20-%20B148%20-%20Piet%20Mondrian%2C%20catalogue%20raisonn%C3%A9.jpg\" style=\"width: 200px; \" />"
      ],
      "text/plain": [
       "<IPython.core.display.HTML object>"
      ]
     },
     "metadata": {},
     "output_type": "display_data"
    },
    {
     "name": "stdout",
     "output_type": "stream",
     "text": [
      "Tableau\n",
      "\n"
     ]
    },
    {
     "data": {
      "text/html": [
       "<img src=\"http://commons.wikimedia.org/wiki/Special:FilePath/Piet%20Mondriaan%20-%20Tableau%20-%20B150%20-%20Piet%20Mondrian%2C%20catalogue%20raisonn%C3%A9.jpg\" style=\"width: 200px; \" />"
      ],
      "text/plain": [
       "<IPython.core.display.HTML object>"
      ]
     },
     "metadata": {},
     "output_type": "display_data"
    },
    {
     "name": "stdout",
     "output_type": "stream",
     "text": [
      "Tableau no. IV\n",
      "\n"
     ]
    },
    {
     "data": {
      "text/html": [
       "<img src=\"http://commons.wikimedia.org/wiki/Special:FilePath/Piet%20Mondriaan%20-%20Tableau%20no.%20IV%20-%20B151.156%20%28first%20state%29%20-%20Piet%20Mondrian%2C%20catalogue%20raisonn%C3%A9.jpg\" style=\"width: 200px; \" />"
      ],
      "text/plain": [
       "<IPython.core.display.HTML object>"
      ]
     },
     "metadata": {},
     "output_type": "display_data"
    },
    {
     "name": "stdout",
     "output_type": "stream",
     "text": [
      "Tableau no. VIII\n",
      "\n"
     ]
    },
    {
     "data": {
      "text/html": [
       "<img src=\"http://commons.wikimedia.org/wiki/Special:FilePath/%27Tableau%20No.%20VIII%27%20by%20Piet%20Mondrian%2C%201925.jpg\" style=\"width: 200px; \" />"
      ],
      "text/plain": [
       "<IPython.core.display.HTML object>"
      ]
     },
     "metadata": {},
     "output_type": "display_data"
    },
    {
     "name": "stdout",
     "output_type": "stream",
     "text": [
      "Tableau no. XI\n",
      "\n"
     ]
    },
    {
     "data": {
      "text/html": [
       "<img src=\"http://commons.wikimedia.org/wiki/Special:FilePath/Piet%20Mondriaan%20-%20Tableau%20no.%20XI%20-%20B163%20-%20Piet%20Mondrian%2C%20catalogue%20raisonn%C3%A9.jpg\" style=\"width: 200px; \" />"
      ],
      "text/plain": [
       "<IPython.core.display.HTML object>"
      ]
     },
     "metadata": {},
     "output_type": "display_data"
    },
    {
     "name": "stdout",
     "output_type": "stream",
     "text": [
      "Composition with red, black, blue, and yellow\n",
      "\n"
     ]
    },
    {
     "data": {
      "text/html": [
       "<img src=\"http://commons.wikimedia.org/wiki/Special:FilePath/Mondrian%2C%20Compositie%20met%20rood%2C%20geel%20en%20blauw.jpg\" style=\"width: 200px; \" />"
      ],
      "text/plain": [
       "<IPython.core.display.HTML object>"
      ]
     },
     "metadata": {},
     "output_type": "display_data"
    },
    {
     "name": "stdout",
     "output_type": "stream",
     "text": [
      "Rythme de lignes droites (et couleur?)\n",
      "\n"
     ]
    },
    {
     "data": {
      "text/html": [
       "<img src=\"http://commons.wikimedia.org/wiki/Special:FilePath/Mondrian%20Piet%20-%20Rhythmus%20aus%20geraden%20Linien%2C%20Kunstsammlung%20NRW%201024.jpg\" style=\"width: 200px; \" />"
      ],
      "text/plain": [
       "<IPython.core.display.HTML object>"
      ]
     },
     "metadata": {},
     "output_type": "display_data"
    },
    {
     "name": "stdout",
     "output_type": "stream",
     "text": [
      "Composition no. 7\n",
      "\n"
     ]
    },
    {
     "data": {
      "text/html": [
       "<img src=\"http://commons.wikimedia.org/wiki/Special:FilePath/Mondrian%20-%20No.%207%2C%201937-1942.jpg\" style=\"width: 200px; \" />"
      ],
      "text/plain": [
       "<IPython.core.display.HTML object>"
      ]
     },
     "metadata": {},
     "output_type": "display_data"
    },
    {
     "name": "stdout",
     "output_type": "stream",
     "text": [
      "Composition no. 11\n",
      "\n"
     ]
    },
    {
     "data": {
      "text/html": [
       "<img src=\"http://commons.wikimedia.org/wiki/Special:FilePath/Piet%20mondrian%2C%20composizione%20no.%2011%2C%201940-42-london%20con%20blu%2C%20rosso%20e%20giallo%2C%201940-42%2C%2001.jpg\" style=\"width: 200px; \" />"
      ],
      "text/plain": [
       "<IPython.core.display.HTML object>"
      ]
     },
     "metadata": {},
     "output_type": "display_data"
    },
    {
     "name": "stdout",
     "output_type": "stream",
     "text": [
      "On a river bank\n",
      "\n"
     ]
    },
    {
     "data": {
      "text/html": [
       "<img src=\"http://commons.wikimedia.org/wiki/Special:FilePath/Piet%20Mondriaan%20-%20Aan%20de%20oever%20-%20C17%20-%20Piet%20Mondrian%2C%20catalogue%20raisonn%C3%A9.jpg\" style=\"width: 200px; \" />"
      ],
      "text/plain": [
       "<IPython.core.display.HTML object>"
      ]
     },
     "metadata": {},
     "output_type": "display_data"
    },
    {
     "name": "stdout",
     "output_type": "stream",
     "text": [
      "Aan de oever\n",
      "\n"
     ]
    },
    {
     "data": {
      "text/html": [
       "<img src=\"http://commons.wikimedia.org/wiki/Special:FilePath/Piet%20Mondriaan%20-%20Aan%20de%20oever%20-%20C17%20-%20Piet%20Mondrian%2C%20catalogue%20raisonn%C3%A9.jpg\" style=\"width: 200px; \" />"
      ],
      "text/plain": [
       "<IPython.core.display.HTML object>"
      ]
     },
     "metadata": {},
     "output_type": "display_data"
    },
    {
     "name": "stdout",
     "output_type": "stream",
     "text": [
      "Portrait of Martha Frieda de Fries (1893-...)\n",
      "\n"
     ]
    },
    {
     "data": {
      "text/html": [
       "<img src=\"http://commons.wikimedia.org/wiki/Special:FilePath/Piet%20Mondriaan%20-%20Portret%20van%20Martha%20Frieda%20de%20Fries%20%281893...%29%20-%20C30%20-%20Piet%20Mondrian%2C%20catalogue%20raisonn%C3%A9.jpg\" style=\"width: 200px; \" />"
      ],
      "text/plain": [
       "<IPython.core.display.HTML object>"
      ]
     },
     "metadata": {},
     "output_type": "display_data"
    },
    {
     "name": "stdout",
     "output_type": "stream",
     "text": [
      "Portret van Martha Frieda de Fries (1893-...)\n",
      "\n"
     ]
    },
    {
     "data": {
      "text/html": [
       "<img src=\"http://commons.wikimedia.org/wiki/Special:FilePath/Piet%20Mondriaan%20-%20Portret%20van%20Martha%20Frieda%20de%20Fries%20%281893...%29%20-%20C30%20-%20Piet%20Mondrian%2C%20catalogue%20raisonn%C3%A9.jpg\" style=\"width: 200px; \" />"
      ],
      "text/plain": [
       "<IPython.core.display.HTML object>"
      ]
     },
     "metadata": {},
     "output_type": "display_data"
    },
    {
     "name": "stdout",
     "output_type": "stream",
     "text": [
      "Portrait of a woman in a yellow hat\n",
      "\n"
     ]
    },
    {
     "data": {
      "text/html": [
       "<img src=\"http://commons.wikimedia.org/wiki/Special:FilePath/Piet%20Mondriaan%20-%20Meisje%20met%20geel%20hoedje%20-%20C32%20-%20Piet%20Mondrian%2C%20catalogue%20raisonn%C3%A9.jpg\" style=\"width: 200px; \" />"
      ],
      "text/plain": [
       "<IPython.core.display.HTML object>"
      ]
     },
     "metadata": {},
     "output_type": "display_data"
    },
    {
     "name": "stdout",
     "output_type": "stream",
     "text": [
      "Meisje met geel hoedje\n",
      "\n"
     ]
    },
    {
     "data": {
      "text/html": [
       "<img src=\"http://commons.wikimedia.org/wiki/Special:FilePath/Piet%20Mondriaan%20-%20Meisje%20met%20geel%20hoedje%20-%20C32%20-%20Piet%20Mondrian%2C%20catalogue%20raisonn%C3%A9.jpg\" style=\"width: 200px; \" />"
      ],
      "text/plain": [
       "<IPython.core.display.HTML object>"
      ]
     },
     "metadata": {},
     "output_type": "display_data"
    },
    {
     "name": "stdout",
     "output_type": "stream",
     "text": [
      "Landweg met boerderij\n",
      "\n"
     ]
    },
    {
     "data": {
      "text/html": [
       "<img src=\"http://commons.wikimedia.org/wiki/Special:FilePath/Piet%20Mondriaan%20-%20Landweg%20met%20boerderij%20-%20A17a%20%28addition%202002%29%20-%20Piet%20Mondrian%2C%20catalogue%20raisonn%C3%A9.jpg\" style=\"width: 200px; \" />"
      ],
      "text/plain": [
       "<IPython.core.display.HTML object>"
      ]
     },
     "metadata": {},
     "output_type": "display_data"
    },
    {
     "name": "stdout",
     "output_type": "stream",
     "text": [
      "Country road and farm\n",
      "\n"
     ]
    },
    {
     "data": {
      "text/html": [
       "<img src=\"http://commons.wikimedia.org/wiki/Special:FilePath/Piet%20Mondriaan%20-%20Landweg%20met%20boerderij%20-%20A17a%20%28addition%202002%29%20-%20Piet%20Mondrian%2C%20catalogue%20raisonn%C3%A9.jpg\" style=\"width: 200px; \" />"
      ],
      "text/plain": [
       "<IPython.core.display.HTML object>"
      ]
     },
     "metadata": {},
     "output_type": "display_data"
    },
    {
     "name": "stdout",
     "output_type": "stream",
     "text": [
      "Landweg\n",
      "\n"
     ]
    },
    {
     "data": {
      "text/html": [
       "<img src=\"http://commons.wikimedia.org/wiki/Special:FilePath/Piet%20Mondriaan%20-%20Landweg%20-%20A17b%20%28addition%202002%29%20-%20Piet%20Mondrian%2C%20catalogue%20raisonn%C3%A9.jpg\" style=\"width: 200px; \" />"
      ],
      "text/plain": [
       "<IPython.core.display.HTML object>"
      ]
     },
     "metadata": {},
     "output_type": "display_data"
    },
    {
     "name": "stdout",
     "output_type": "stream",
     "text": [
      "Country road\n",
      "\n"
     ]
    },
    {
     "data": {
      "text/html": [
       "<img src=\"http://commons.wikimedia.org/wiki/Special:FilePath/Piet%20Mondriaan%20-%20Landweg%20-%20A17b%20%28addition%202002%29%20-%20Piet%20Mondrian%2C%20catalogue%20raisonn%C3%A9.jpg\" style=\"width: 200px; \" />"
      ],
      "text/plain": [
       "<IPython.core.display.HTML object>"
      ]
     },
     "metadata": {},
     "output_type": "display_data"
    },
    {
     "name": "stdout",
     "output_type": "stream",
     "text": [
      "Portrait of a little boy\n",
      "\n"
     ]
    },
    {
     "data": {
      "text/html": [
       "<img src=\"http://commons.wikimedia.org/wiki/Special:FilePath/Mondriaan%20-%20Klein%20Jantje%20%28Q102260329%29.jpg\" style=\"width: 200px; \" />"
      ],
      "text/plain": [
       "<IPython.core.display.HTML object>"
      ]
     },
     "metadata": {},
     "output_type": "display_data"
    },
    {
     "name": "stdout",
     "output_type": "stream",
     "text": [
      "Klein Jantje\n",
      "\n"
     ]
    },
    {
     "data": {
      "text/html": [
       "<img src=\"http://commons.wikimedia.org/wiki/Special:FilePath/Mondriaan%20-%20Klein%20Jantje%20%28Q102260329%29.jpg\" style=\"width: 200px; \" />"
      ],
      "text/plain": [
       "<IPython.core.display.HTML object>"
      ]
     },
     "metadata": {},
     "output_type": "display_data"
    },
    {
     "name": "stdout",
     "output_type": "stream",
     "text": [
      "Ceiling decoration of putti and birds\n",
      "\n"
     ]
    },
    {
     "data": {
      "text/html": [
       "<img src=\"http://commons.wikimedia.org/wiki/Special:FilePath/Piet%20Mondriaan%20-%20Plafondschildering%20met%20putti%20en%20vogels%20-%20A133a%20%28addition%202000%29%20-%20Piet%20Mondrian%2C%20catalogue%20raisonn%C3%A9.jpg\" style=\"width: 200px; \" />"
      ],
      "text/plain": [
       "<IPython.core.display.HTML object>"
      ]
     },
     "metadata": {},
     "output_type": "display_data"
    },
    {
     "name": "stdout",
     "output_type": "stream",
     "text": [
      "Plafondschildering met putti en vogels\n",
      "\n"
     ]
    },
    {
     "data": {
      "text/html": [
       "<img src=\"http://commons.wikimedia.org/wiki/Special:FilePath/Piet%20Mondriaan%20-%20Plafondschildering%20met%20putti%20en%20vogels%20-%20A133a%20%28addition%202000%29%20-%20Piet%20Mondrian%2C%20catalogue%20raisonn%C3%A9.jpg\" style=\"width: 200px; \" />"
      ],
      "text/plain": [
       "<IPython.core.display.HTML object>"
      ]
     },
     "metadata": {},
     "output_type": "display_data"
    },
    {
     "name": "stdout",
     "output_type": "stream",
     "text": [
      "Haystack behind trees\n",
      "\n"
     ]
    },
    {
     "data": {
      "text/html": [
       "<img src=\"http://commons.wikimedia.org/wiki/Special:FilePath/Piet%20Mondriaan%20-%20Hooimijt%20achter%20een%20rij%20bomen%20-%20A322a%20%28addition%202007%29%20-%20Piet%20Mondrian%2C%20catalogue%20raisonn%C3%A9.jpg\" style=\"width: 200px; \" />"
      ],
      "text/plain": [
       "<IPython.core.display.HTML object>"
      ]
     },
     "metadata": {},
     "output_type": "display_data"
    },
    {
     "name": "stdout",
     "output_type": "stream",
     "text": [
      "Hooimijt achter een rij bomen\n",
      "\n"
     ]
    },
    {
     "data": {
      "text/html": [
       "<img src=\"http://commons.wikimedia.org/wiki/Special:FilePath/Piet%20Mondriaan%20-%20Hooimijt%20achter%20een%20rij%20bomen%20-%20A322a%20%28addition%202007%29%20-%20Piet%20Mondrian%2C%20catalogue%20raisonn%C3%A9.jpg\" style=\"width: 200px; \" />"
      ],
      "text/plain": [
       "<IPython.core.display.HTML object>"
      ]
     },
     "metadata": {},
     "output_type": "display_data"
    },
    {
     "name": "stdout",
     "output_type": "stream",
     "text": [
      "Farmstead with willows on the water\n",
      "\n"
     ]
    },
    {
     "data": {
      "text/html": [
       "<img src=\"http://commons.wikimedia.org/wiki/Special:FilePath/Piet%20Mondriaan%20-%20Boerderij%20met%20wilgen%20aan%20het%20water%20-%20A329a%20%28addition%202001%29%20-%20Piet%20Mondrian%2C%20catalogue%20raisonn%C3%A9.jpg\" style=\"width: 200px; \" />"
      ],
      "text/plain": [
       "<IPython.core.display.HTML object>"
      ]
     },
     "metadata": {},
     "output_type": "display_data"
    },
    {
     "name": "stdout",
     "output_type": "stream",
     "text": [
      "Boerderij met wilgen aan het water\n",
      "\n"
     ]
    },
    {
     "data": {
      "text/html": [
       "<img src=\"http://commons.wikimedia.org/wiki/Special:FilePath/Piet%20Mondriaan%20-%20Boerderij%20met%20wilgen%20aan%20het%20water%20-%20A329a%20%28addition%202001%29%20-%20Piet%20Mondrian%2C%20catalogue%20raisonn%C3%A9.jpg\" style=\"width: 200px; \" />"
      ],
      "text/plain": [
       "<IPython.core.display.HTML object>"
      ]
     },
     "metadata": {},
     "output_type": "display_data"
    },
    {
     "name": "stdout",
     "output_type": "stream",
     "text": [
      "Farm along the river Gein\n",
      "\n"
     ]
    },
    {
     "data": {
      "text/html": [
       "<img src=\"http://commons.wikimedia.org/wiki/Special:FilePath/Piet%20Mondriaan%20-%20Boerderij%20langs%20%27t%20Gein%20-%20A332a%20%28addition%201998%29%20-%20Piet%20Mondrian%2C%20catalogue%20raisonn%C3%A9.jpg\" style=\"width: 200px; \" />"
      ],
      "text/plain": [
       "<IPython.core.display.HTML object>"
      ]
     },
     "metadata": {},
     "output_type": "display_data"
    },
    {
     "name": "stdout",
     "output_type": "stream",
     "text": [
      "Boerderij langs 't Gein\n",
      "\n"
     ]
    },
    {
     "data": {
      "text/html": [
       "<img src=\"http://commons.wikimedia.org/wiki/Special:FilePath/Piet%20Mondriaan%20-%20Boerderij%20langs%20%27t%20Gein%20-%20A332a%20%28addition%201998%29%20-%20Piet%20Mondrian%2C%20catalogue%20raisonn%C3%A9.jpg\" style=\"width: 200px; \" />"
      ],
      "text/plain": [
       "<IPython.core.display.HTML object>"
      ]
     },
     "metadata": {},
     "output_type": "display_data"
    },
    {
     "name": "stdout",
     "output_type": "stream",
     "text": [
      "Oostzijdse mill\n",
      "\n"
     ]
    },
    {
     "data": {
      "text/html": [
       "<img src=\"http://commons.wikimedia.org/wiki/Special:FilePath/Piet%20Mondriaan%20-%20Oostzijdse%20molen%20-%20A344a%20%28addition%202002%29%20-%20Piet%20Mondrian%2C%20catalogue%20raisonn%C3%A9.jpg\" style=\"width: 200px; \" />"
      ],
      "text/plain": [
       "<IPython.core.display.HTML object>"
      ]
     },
     "metadata": {},
     "output_type": "display_data"
    },
    {
     "name": "stdout",
     "output_type": "stream",
     "text": [
      "A farmhouse behind a fence\n",
      "\n"
     ]
    },
    {
     "data": {
      "text/html": [
       "<img src=\"http://commons.wikimedia.org/wiki/Special:FilePath/Piet%20Mondriaan%20-%20A%20farmhouse%20behind%20a%20fence%20-%20A361a%20%28addition%202015%29%20-%20Piet%20Mondrian%2C%20catalogue%20raisonn%C3%A9.jpg\" style=\"width: 200px; \" />"
      ],
      "text/plain": [
       "<IPython.core.display.HTML object>"
      ]
     },
     "metadata": {},
     "output_type": "display_data"
    },
    {
     "name": "stdout",
     "output_type": "stream",
     "text": [
      "Willow grove with boats near the river Gein\n",
      "\n"
     ]
    },
    {
     "data": {
      "text/html": [
       "<img src=\"http://commons.wikimedia.org/wiki/Special:FilePath/Piet%20Mondriaan%20-%20Willow%20grove%20with%20boats%20near%20the%20river%20Gein%20-%20A470a%20%28addition%201999%29%20-%20Piet%20Mondrian%2C%20catalogue%20raisonn%C3%A9.jpg\" style=\"width: 200px; \" />"
      ],
      "text/plain": [
       "<IPython.core.display.HTML object>"
      ]
     },
     "metadata": {},
     "output_type": "display_data"
    },
    {
     "name": "stdout",
     "output_type": "stream",
     "text": [
      "Cows beside the water (copy after Stortenbeker)\n",
      "\n"
     ]
    },
    {
     "data": {
      "text/html": [
       "<img src=\"http://commons.wikimedia.org/wiki/Special:FilePath/Piet%20Mondriaan%20-%20Koeien%20bij%20het%20water%20%28kopie%20naar%20Stortenbeker%29%20-%20C154a%20%28addition%202002%29%20-%20Piet%20Mondrian%2C%20catalogue%20raisonn%C3%A9.jpg\" style=\"width: 200px; \" />"
      ],
      "text/plain": [
       "<IPython.core.display.HTML object>"
      ]
     },
     "metadata": {},
     "output_type": "display_data"
    },
    {
     "name": "stdout",
     "output_type": "stream",
     "text": [
      "Koeien bij het water (kopie naar Stortenbeker)\n",
      "\n"
     ]
    },
    {
     "data": {
      "text/html": [
       "<img src=\"http://commons.wikimedia.org/wiki/Special:FilePath/Piet%20Mondriaan%20-%20Koeien%20bij%20het%20water%20%28kopie%20naar%20Stortenbeker%29%20-%20C154a%20%28addition%202002%29%20-%20Piet%20Mondrian%2C%20catalogue%20raisonn%C3%A9.jpg\" style=\"width: 200px; \" />"
      ],
      "text/plain": [
       "<IPython.core.display.HTML object>"
      ]
     },
     "metadata": {},
     "output_type": "display_data"
    }
   ],
   "source": [
    "import pandas as pd\n",
    "import numpy as np \n",
    "\n",
    "\n",
    "first = df.iloc[0]\n",
    "print( f\"Name: {first['name.value']}\" )\n",
    "print( f\"https://rkd.nl/nl/explore/artists/{first['id.value']}\" )\n",
    "\n",
    "print( f\"\\nGender: {first['gender.value'][first['gender.value'].rindex('/')+1:]}\" )\n",
    "print( f\"Date of birth: {first['birth_date.value']}\" )\n",
    "print( f\"Date of death: {first['death_date.value']}\" )\n",
    "\n",
    "print('\\nAlternative names:')\n",
    "names = df['alternate.value']\n",
    "for name in names.drop_duplicates().values:\n",
    "    print(name)\n",
    "    \n",
    "print('\\nEducation:')\n",
    "edu = df['edu_name.value']\n",
    "for education in edu.drop_duplicates().values:\n",
    "    print(education)\n",
    "    \n",
    "\n",
    "print('\\nEvents:')\n",
    "df['event_duplicated'] = df.duplicated(subset='event_desc.value', keep='first')\n",
    "\n",
    "events = df[ df['event_duplicated'] == False ]\n",
    "events = events.sort_values('event_date.value')\n",
    "for i,row in events.iterrows():\n",
    "    print( f\"{row['event_date.value']}\\n{row['event_desc.value']} \")\n",
    "    \n",
    "\n",
    "print('\\nWorks:')\n",
    "df['works_duplicated'] = df.duplicated(subset='title.value', keep='first')\n",
    "\n",
    "works = df[ df['works_duplicated'] == False ]\n",
    "for i,row in works.iterrows():\n",
    "    print( f\"{row['title.value']}\\n\")\n",
    "    display(HTML(f'<img src=\"{row[\"image.value\"]}\" style=\"width: 200px; \" />'))\n",
    "\n",
    "\n",
    "    "
   ]
  },
  {
   "cell_type": "markdown",
   "metadata": {},
   "source": [
    "The query below selects all artists from the 19th century."
   ]
  },
  {
   "cell_type": "code",
   "execution_count": 7,
   "metadata": {},
   "outputs": [],
   "source": [
    "query = \"\"\"\n",
    "PREFIX rdf: <http://www.w3.org/1999/02/22-rdf-syntax-ns#>\n",
    "PREFIX rdfs: <http://www.w3.org/2000/01/rdf-schema#>\n",
    "PREFIX rkdo: <http://data.rkd.nl/def#>\n",
    "PREFIX schema: <http://schema.org/>\n",
    "PREFIX xsd: <http://www.w3.org/2001/XMLSchema#>\n",
    "\n",
    "SELECT ?id ?name ?gender ?date_birth ?date_death\n",
    "\n",
    "WHERE {\n",
    "?id a schema:Person .\n",
    "?id schema:name ?name .\n",
    "?id rkdo:Birth ?birth .\n",
    "?id schema:gender ?gender .\n",
    "OPTIONAL {\n",
    "    ?birth schema:startDate ?date_birth . } .\n",
    "?id rkdo:Death ?death .\n",
    "OPTIONAL {\n",
    "    ?death schema:startDate ?date_death . } .\n",
    "    \n",
    "FILTER ( ?date_birth >= \"1800-01-01\"^^xsd:date && ?date_birth < \"1900-01-01\"^^xsd:date)\n",
    "\n",
    "}\n",
    "ORDER BY ?name\n",
    "\"\"\"\n",
    "\n",
    "df = run_query(query)"
   ]
  },
  {
   "cell_type": "markdown",
   "metadata": {},
   "source": [
    "The query returns the names of 31623 artists. "
   ]
  },
  {
   "cell_type": "code",
   "execution_count": 8,
   "metadata": {},
   "outputs": [
    {
     "name": "stdout",
     "output_type": "stream",
     "text": [
      "31623\n"
     ]
    }
   ],
   "source": [
    "df = df.drop_duplicates(subset=['id.value'])\n",
    "print( df.shape[0] )"
   ]
  },
  {
   "cell_type": "code",
   "execution_count": 9,
   "metadata": {},
   "outputs": [],
   "source": [
    "query = \"\"\"\n",
    "PREFIX rdf: <http://www.w3.org/1999/02/22-rdf-syntax-ns#>\n",
    "PREFIX rdfs: <http://www.w3.org/2000/01/rdf-schema#>\n",
    "PREFIX rkdo: <http://data.rkd.nl/def#>\n",
    "PREFIX schema: <http://schema.org/>\n",
    "PREFIX xsd: <http://www.w3.org/2001/XMLSchema#>\n",
    "\n",
    "SELECT ?id ?name ?gender ?date_birth ?date_death\n",
    "\n",
    "WHERE {\n",
    "?id a schema:Person .\n",
    "?id schema:name ?name .\n",
    "?id schema:gender ?gender .\n",
    "?id rkdo:Birth ?birth .\n",
    "OPTIONAL {\n",
    "    ?birth schema:startDate ?date_birth . } .\n",
    "?id rkdo:Death ?death .\n",
    "OPTIONAL {\n",
    "    ?death schema:startDate ?date_death . } .\n",
    "    \n",
    "FILTER ( ?date_birth >= \"1700-01-01\"^^xsd:date && ?date_birth < \"1800-01-01\"^^xsd:date)\n",
    "\n",
    "}\n",
    "ORDER BY ?name\n",
    "\"\"\"\n",
    "\n",
    "df = run_query(query)"
   ]
  },
  {
   "cell_type": "markdown",
   "metadata": {},
   "source": [
    "The RKD database 4857 artists who were born in the 18th century."
   ]
  },
  {
   "cell_type": "code",
   "execution_count": 10,
   "metadata": {},
   "outputs": [
    {
     "name": "stdout",
     "output_type": "stream",
     "text": [
      "4857\n"
     ]
    }
   ],
   "source": [
    "df = df.drop_duplicates(subset=['id.value'])\n",
    "print( df.shape[0] )"
   ]
  },
  {
   "cell_type": "code",
   "execution_count": 11,
   "metadata": {},
   "outputs": [
    {
     "data": {
      "text/plain": [
       "4857"
      ]
     },
     "execution_count": 11,
     "metadata": {},
     "output_type": "execute_result"
    }
   ],
   "source": [
    "df.shape[0]"
   ]
  },
  {
   "cell_type": "code",
   "execution_count": 12,
   "metadata": {},
   "outputs": [
    {
     "name": "stdout",
     "output_type": "stream",
     "text": [
      "Out of the 4857 artists born in the 18th century, 280 are female and 4577 are male.\n"
     ]
    }
   ],
   "source": [
    "import pandas as pd\n",
    "import numpy as np \n",
    "\n",
    "female = df[ df['gender.value'] == 'http://schema.org/Female']\n",
    "male = df[ df['gender.value'] == 'http://schema.org/Male']\n",
    "\n",
    "print( f'Out of the {df.shape[0]} artists born in the 18th century, {female.shape[0]} are female and {male.shape[0]} are male.' )\n",
    "\n",
    "\n"
   ]
  },
  {
   "cell_type": "markdown",
   "metadata": {},
   "source": [
    "The names of the female artists from the 18th century are as follows:"
   ]
  },
  {
   "cell_type": "code",
   "execution_count": 13,
   "metadata": {},
   "outputs": [
    {
     "name": "stdout",
     "output_type": "stream",
     "text": [
      "Anna Pavlovna of Russia\n",
      "https://data.rkd.nl/artists/60896\n",
      "\n",
      "Catherine the Great\n",
      "https://data.rkd.nl/artists/440104\n",
      "\n",
      "Charlotte of Mecklenburg-Strelitz (Queen of Great-Britain and Hanover)\n",
      "https://data.rkd.nl/artists/487057\n",
      "\n",
      "Czartoryska (née Fleming), Izabela Dorota (Princess)\n",
      "https://data.rkd.nl/artists/457810\n",
      "\n",
      "Maria Theresa of Austria\n",
      "https://data.rkd.nl/artists/52596\n",
      "\n",
      "Wilhelmina of Pruissia (Queen of the Netherlands)\n",
      "https://data.rkd.nl/artists/368338\n",
      "\n",
      "Abesch, Anna Barbara\n",
      "https://data.rkd.nl/artists/204\n",
      "\n",
      "Aerssen, Josina Anna Petronella van\n",
      "https://data.rkd.nl/artists/359913\n",
      "\n",
      "Alberda van Ekenstein, Anna Josina Petronella\n",
      "https://data.rkd.nl/artists/471535\n",
      "\n",
      "Alderwerelt, Sara Maria Helena van\n",
      "https://data.rkd.nl/artists/427702\n",
      "\n",
      "Alphen, Petronella Cornelia van\n",
      "https://data.rkd.nl/artists/353886\n",
      "\n",
      "Ancelot, Marguerite Virginie\n",
      "https://data.rkd.nl/artists/1602\n",
      "\n",
      "Anhalt-Dessau, Henriette Amalie von\n",
      "https://data.rkd.nl/artists/440391\n",
      "\n",
      "Anna Amalia van Brunswijk (hertogin van Saksen-Weimar-Eisenach)\n",
      "https://data.rkd.nl/artists/431734\n",
      "\n",
      "Anna van Hannover\n",
      "https://data.rkd.nl/artists/267120\n",
      "\n",
      "Apell, Amalie\n",
      "https://data.rkd.nl/artists/77621\n",
      "\n",
      "Augusta (Princess of Prussia)\n",
      "https://data.rkd.nl/artists/2948\n",
      "\n",
      "Auzou-Desmarquets, Pauline\n",
      "https://data.rkd.nl/artists/3040\n",
      "\n",
      "Bansi, Barbara\n",
      "https://data.rkd.nl/artists/483753\n",
      "\n",
      "Bardua, Caroline\n",
      "https://data.rkd.nl/artists/4404\n",
      "\n",
      "Barkhaus-Wieshütten, Charlotte von\n",
      "https://data.rkd.nl/artists/487911\n",
      "\n",
      "Barnard, Anne (Lady)\n",
      "https://data.rkd.nl/artists/368813\n",
      "\n",
      "Barry, Jeanne du (comtesse)\n",
      "https://data.rkd.nl/artists/440850\n",
      "\n",
      "Bartholomew, Valentine\n",
      "https://data.rkd.nl/artists/4758\n",
      "\n",
      "Basseporte, Madeleine Françoise\n",
      "https://data.rkd.nl/artists/98397\n",
      "\n",
      "Beauclerk, Lady Diana\n",
      "https://data.rkd.nl/artists/5337\n",
      "\n",
      "Beauharnais, Joséphine de\n",
      "https://data.rkd.nl/artists/459191\n",
      "\n",
      "Beelaerts, Petronella Maria Elisabeth\n",
      "https://data.rkd.nl/artists/361619\n",
      "\n",
      "Behr, Theodora Hermina\n",
      "https://data.rkd.nl/artists/361421\n",
      "\n",
      "Benoist, Marie-Guilhelmine\n",
      "https://data.rkd.nl/artists/6584\n",
      "\n",
      "Berg, Agatha Catharina\n",
      "https://data.rkd.nl/artists/339405\n",
      "\n",
      "Bichelberger, Maria Catharina Sophia\n",
      "https://data.rkd.nl/artists/301883\n",
      "\n",
      "Bisi Legnani, Ernesta\n",
      "https://data.rkd.nl/artists/8623\n",
      "\n",
      "Blarenberghe, Diane-Hélène\n",
      "https://data.rkd.nl/artists/325067\n",
      "\n",
      "Blijdenstein, Johanna\n",
      "https://data.rkd.nl/artists/362330\n",
      "\n",
      "Blommestein, Anna Jacoba van\n",
      "https://data.rkd.nl/artists/362323\n",
      "\n",
      "Boellaard, Margaretha Cornelia\n",
      "https://data.rkd.nl/artists/9661\n",
      "\n",
      "Boizot, Marie-Louise Adélaïde\n",
      "https://data.rkd.nl/artists/374764\n",
      "\n",
      "Bonvoisin, Catherine Hélie\n",
      "https://data.rkd.nl/artists/10471\n",
      "\n",
      "Boucher, Marie-Jeanne\n",
      "https://data.rkd.nl/artists/11329\n",
      "\n",
      "Bourbon, Maria Isabella van\n",
      "https://data.rkd.nl/artists/422194\n",
      "\n",
      "Bourbon-Sicilië, Maria Caroline de (Duchesse de Berry)\n",
      "https://data.rkd.nl/artists/7569\n",
      "\n",
      "Box, Magdalena\n",
      "https://data.rkd.nl/artists/362961\n",
      "\n",
      "Boze, Marie-Claudine-Ursule\n",
      "https://data.rkd.nl/artists/11801\n",
      "\n",
      "Brakel, Cornelia van\n",
      "https://data.rkd.nl/artists/437753\n",
      "\n",
      "Braun, Adelheid Friederike\n",
      "https://data.rkd.nl/artists/486701\n",
      "\n",
      "Brentano-Birckenstock, Antonia\n",
      "https://data.rkd.nl/artists/452096\n",
      "\n",
      "Brossard de Beaulieu, Marie-Renée-Geneviève\n",
      "https://data.rkd.nl/artists/13008\n",
      "\n",
      "Burger, Elizabeth Geertruida\n",
      "https://data.rkd.nl/artists/366738\n",
      "\n",
      "Burger, Johanna Elizabeth\n",
      "https://data.rkd.nl/artists/366737\n",
      "\n",
      "Bury, Priscilla Susan\n",
      "https://data.rkd.nl/artists/430451\n",
      "\n",
      "Byrne, Letitia\n",
      "https://data.rkd.nl/artists/492725\n",
      "\n",
      "Bärens, Magdalene Margrethe\n",
      "https://data.rkd.nl/artists/488347\n",
      "\n",
      "Capet, Marie Gabrielle\n",
      "https://data.rkd.nl/artists/15198\n",
      "\n",
      "Carlevaris, Marianna\n",
      "https://data.rkd.nl/artists/122203\n",
      "\n",
      "Cerres, Caroline\n",
      "https://data.rkd.nl/artists/16157\n",
      "\n",
      "Clercq, Maria de\n",
      "https://data.rkd.nl/artists/357127\n",
      "\n",
      "Coclers, Maria Lambertine\n",
      "https://data.rkd.nl/artists/90614\n",
      "\n",
      "Cogniet, Marie-Amélie\n",
      "https://data.rkd.nl/artists/17544\n",
      "\n",
      "Corcelles, Louise de\n",
      "https://data.rkd.nl/artists/357466\n",
      "\n",
      "Daniche, Ursule\n",
      "https://data.rkd.nl/artists/116700\n",
      "\n",
      "Daniëls, Johanna Maria\n",
      "https://data.rkd.nl/artists/90902\n",
      "\n",
      "Davin, Césarine Henriette Flore\n",
      "https://data.rkd.nl/artists/20209\n",
      "\n",
      "De Steenhault, Augustine- Suzanne\n",
      "https://data.rkd.nl/artists/312713\n",
      "\n",
      "Deggeler, Ursula\n",
      "https://data.rkd.nl/artists/216613\n",
      "\n",
      "Delany, Mary\n",
      "https://data.rkd.nl/artists/341221\n",
      "\n",
      "Delcourt, Johanna Margaretha Nicolasia\n",
      "https://data.rkd.nl/artists/364289\n",
      "\n",
      "Didier de Boncour, Anna Charlotte\n",
      "https://data.rkd.nl/artists/357472\n",
      "\n",
      "Dielen, Helena Margaretha van\n",
      "https://data.rkd.nl/artists/303848\n",
      "\n",
      "Dietzsch, Margareta Barbara\n",
      "https://data.rkd.nl/artists/22755\n",
      "\n",
      "Dighton, Phoebe\n",
      "https://data.rkd.nl/artists/487285\n",
      "\n",
      "Drölling, Louise Adéone\n",
      "https://data.rkd.nl/artists/24280\n",
      "\n",
      "Ducreux, Rose Adelaïde\n",
      "https://data.rkd.nl/artists/307769\n",
      "\n",
      "Dufresne, Augustine\n",
      "https://data.rkd.nl/artists/117965\n",
      "\n",
      "Duparc, Françoise\n",
      "https://data.rkd.nl/artists/24906\n",
      "\n",
      "Dutilh, Jeanne Judith\n",
      "https://data.rkd.nl/artists/435717\n",
      "\n",
      "Dutilh, Madelaine Marie\n",
      "https://data.rkd.nl/artists/365788\n",
      "\n",
      "Dutilh, Marie Anne\n",
      "https://data.rkd.nl/artists/435839\n",
      "\n",
      "Dutilh, Marie Elisabeth\n",
      "https://data.rkd.nl/artists/435840\n",
      "\n",
      "Duttenhofer, Christiane Luise\n",
      "https://data.rkd.nl/artists/270509\n",
      "\n",
      "Duyn, Frederica Wilhelmina van der\n",
      "https://data.rkd.nl/artists/365790\n",
      "\n",
      "Ebeling, Anna Maria\n",
      "https://data.rkd.nl/artists/420649\n",
      "\n",
      "Egloffstein, Julie Gräfin von\n",
      "https://data.rkd.nl/artists/217086\n",
      "\n",
      "Elizabeth of the United Kingdom\n",
      "https://data.rkd.nl/artists/25988\n",
      "\n",
      "Enschedé, Christina Gerarda\n",
      "https://data.rkd.nl/artists/26388\n",
      "\n",
      "Enschedé, Sandrina Christina Elizabeth\n",
      "https://data.rkd.nl/artists/26390\n",
      "\n",
      "Es, Heiltje Wilhelmina van\n",
      "https://data.rkd.nl/artists/365968\n",
      "\n",
      "Evrard, Adele Agnès\n",
      "https://data.rkd.nl/artists/26903\n",
      "\n",
      "Fabius, Maria\n",
      "https://data.rkd.nl/artists/127869\n",
      "\n",
      "Fioroni-Voigt, Teresa\n",
      "https://data.rkd.nl/artists/81628\n",
      "\n",
      "Fitzwilliam (7th Viscount Fitzwilliam), Richard\n",
      "https://data.rkd.nl/artists/485760\n",
      "\n",
      "Fosie, Johanne Marie\n",
      "https://data.rkd.nl/artists/500608\n",
      "\n",
      "Freyberg, Electrina von\n",
      "https://data.rkd.nl/artists/29441\n",
      "\n",
      "Freystein, Johanna Marianne\n",
      "https://data.rkd.nl/artists/270319\n",
      "\n",
      "Friedrich, Caroline Friederike\n",
      "https://data.rkd.nl/artists/29497\n",
      "\n",
      "Geiger, Margarete\n",
      "https://data.rkd.nl/artists/30717\n",
      "\n",
      "Godefroid, Marie Eléonores\n",
      "https://data.rkd.nl/artists/32245\n",
      "\n",
      "Goodridge, Sarah\n",
      "https://data.rkd.nl/artists/32659\n",
      "\n",
      "Grollier, Marquise de (née de Fuligny Damas)\n",
      "https://data.rkd.nl/artists/34071\n",
      "\n",
      "Gérard, Marguerite\n",
      "https://data.rkd.nl/artists/31012\n",
      "\n",
      "Haakman, Cornelia Maria\n",
      "https://data.rkd.nl/artists/108580\n",
      "\n",
      "Hadik von Futak, Maria von (Gräfin)\n",
      "https://data.rkd.nl/artists/348715\n",
      "\n",
      "Hall, Adélaïde Victorine\n",
      "https://data.rkd.nl/artists/35440\n",
      "\n",
      "Harvey, Elizabeth (Elisabeth)\n",
      "https://data.rkd.nl/artists/36329\n",
      "\n",
      "Haudebourt-Lescot, Antoinette Cécile Hortense\n",
      "https://data.rkd.nl/artists/36468\n",
      "\n",
      "Hay, Charlotte\n",
      "https://data.rkd.nl/artists/204403\n",
      "\n",
      "Heeckeren, Charlotte Elisabeth Jeanette Walburg van\n",
      "https://data.rkd.nl/artists/367200\n",
      "\n",
      "Heurn, Anna Antonia Emilia van\n",
      "https://data.rkd.nl/artists/366159\n",
      "\n",
      "Heurn, Anna van\n",
      "https://data.rkd.nl/artists/367514\n",
      "\n",
      "Hirschmann, Margaretha\n",
      "https://data.rkd.nl/artists/335294\n",
      "\n",
      "Hirschmann, Maria Anna\n",
      "https://data.rkd.nl/artists/335296\n",
      "\n",
      "Hirschmann, Maria Barbara\n",
      "https://data.rkd.nl/artists/335274\n",
      "\n",
      "Hirschmann, Rosine Therese\n",
      "https://data.rkd.nl/artists/335289\n",
      "\n",
      "Hirschmann, Ursula\n",
      "https://data.rkd.nl/artists/335297\n",
      "\n",
      "Hogenkamp, Nel\n",
      "https://data.rkd.nl/artists/367818\n",
      "\n",
      "Hoofman, Maria\n",
      "https://data.rkd.nl/artists/328306\n",
      "\n",
      "Hoopstad, Elisabeth Iosetta\n",
      "https://data.rkd.nl/artists/39616\n",
      "\n",
      "Hulst, Cornelia Aletta van\n",
      "https://data.rkd.nl/artists/370470\n",
      "\n",
      "Iddekinge, Anna Wilhelmina van\n",
      "https://data.rkd.nl/artists/371102\n",
      "\n",
      "Idsinga, Wilhelmina Geertruida van\n",
      "https://data.rkd.nl/artists/40904\n",
      "\n",
      "Ingemann, Lucie Marie\n",
      "https://data.rkd.nl/artists/463757\n",
      "\n",
      "Jacquelart, Virginie\n",
      "https://data.rkd.nl/artists/371133\n",
      "\n",
      "Janin, Louise\n",
      "https://data.rkd.nl/artists/41667\n",
      "\n",
      "Jansen, Johanna Hendrica Francisca\n",
      "https://data.rkd.nl/artists/41763\n",
      "\n",
      "Jaquotot, Marie Victoire\n",
      "https://data.rkd.nl/artists/41993\n",
      "\n",
      "Jolle, Sara Agatha le\n",
      "https://data.rkd.nl/artists/370834\n",
      "\n",
      "Jullens, Geertruida Johanna Elisabeth\n",
      "https://data.rkd.nl/artists/371256\n",
      "\n",
      "Kampheuve, Trijntje\n",
      "https://data.rkd.nl/artists/420701\n",
      "\n",
      "Karoline Luise von Baden (Landgräfin von Hessen-Darmstadt-Marktgräfin von Baden Durlach)\n",
      "https://data.rkd.nl/artists/472850\n",
      "\n",
      "Kauffmann, Angelica\n",
      "https://data.rkd.nl/artists/43630\n",
      "\n",
      "Kemper, Agneta Sara Femmina\n",
      "https://data.rkd.nl/artists/420663\n",
      "\n",
      "Kemper, Elisabeth\n",
      "https://data.rkd.nl/artists/43900\n",
      "\n",
      "Kiere, Elisabeth Maria\n",
      "https://data.rkd.nl/artists/371020\n",
      "\n",
      "Kleynhoff van Enspyck, Huberta Johanna Catharina Constantia\n",
      "https://data.rkd.nl/artists/371437\n",
      "\n",
      "Kluppel, Aleida\n",
      "https://data.rkd.nl/artists/420659\n",
      "\n",
      "Kluppel, Wijnanda Cornelia\n",
      "https://data.rkd.nl/artists/498124\n",
      "\n",
      "Knip, Henriëtte\n",
      "https://data.rkd.nl/artists/45073\n",
      "\n",
      "Kobell, Anna\n",
      "https://data.rkd.nl/artists/371518\n",
      "\n",
      "Kuyper, Anna Sara\n",
      "https://data.rkd.nl/artists/420653\n",
      "\n",
      "König, Margarethe Elisabeth\n",
      "https://data.rkd.nl/artists/433353\n",
      "\n",
      "Körner, Emma Sophie\n",
      "https://data.rkd.nl/artists/45925\n",
      "\n",
      "Labille-Guiard, Adélaïde\n",
      "https://data.rkd.nl/artists/47214\n",
      "\n",
      "Laer, Hermanna Aleida toe\n",
      "https://data.rkd.nl/artists/47339\n",
      "\n",
      "Lannoy, Juliana Cornelia de\n",
      "https://data.rkd.nl/artists/414001\n",
      "\n",
      "Leeuw, mevr. de\n",
      "https://data.rkd.nl/artists/420705\n",
      "\n",
      "Leisching, Friederike\n",
      "https://data.rkd.nl/artists/49173\n",
      "\n",
      "Lenige, Nijnke Cynthia\n",
      "https://data.rkd.nl/artists/414408\n",
      "\n",
      "Lezay-Marnésia de Nettancourt-Vaubécourt, Marie Claudine (Marquise de)\n",
      "https://data.rkd.nl/artists/49867\n",
      "\n",
      "Limburg Stirum, Wilhelmina Frederica Sophia van\n",
      "https://data.rkd.nl/artists/366744\n",
      "\n",
      "Linder, Emilie\n",
      "https://data.rkd.nl/artists/127411\n",
      "\n",
      "Lisiewska, Anna Rosina von\n",
      "https://data.rkd.nl/artists/132726\n",
      "\n",
      "Long, Amelia\n",
      "https://data.rkd.nl/artists/50714\n",
      "\n",
      "Louise (prinses van Oranje-Nassau)\n",
      "https://data.rkd.nl/artists/235127\n",
      "\n",
      "Louise Elisabeth van Frankrijk\n",
      "https://data.rkd.nl/artists/11476\n",
      "\n",
      "Madame de France\n",
      "https://data.rkd.nl/artists/98359\n",
      "\n",
      "Malenchini, Matilde\n",
      "https://data.rkd.nl/artists/52140\n",
      "\n",
      "Maria Anna Josepha Antonia\n",
      "https://data.rkd.nl/artists/476360\n",
      "\n",
      "Maria Antonia (Kurfürstin von Sachsen)\n",
      "https://data.rkd.nl/artists/491465\n",
      "\n",
      "Maria Carolina (groothertogin van Oostenrijk)\n",
      "https://data.rkd.nl/artists/374719\n",
      "\n",
      "Marie-Louise Empress of France\n",
      "https://data.rkd.nl/artists/52613\n",
      "\n",
      "Matthieu, Rosina Christiana Ludovica\n",
      "https://data.rkd.nl/artists/54047\n",
      "\n",
      "Mengs, Theresa Concordia\n",
      "https://data.rkd.nl/artists/55233\n",
      "\n",
      "Methorst, Anna Susanna\n",
      "https://data.rkd.nl/artists/372829\n",
      "\n",
      "Meyer, Louise\n",
      "https://data.rkd.nl/artists/226628\n",
      "\n",
      "Milesi, Bianca\n",
      "https://data.rkd.nl/artists/56120\n",
      "\n",
      "Mirbel, Lizinka Aimée Zoé de\n",
      "https://data.rkd.nl/artists/56365\n",
      "\n",
      "Mogalli, Teresa\n",
      "https://data.rkd.nl/artists/234665\n",
      "\n",
      "Mongez, Angélique\n",
      "https://data.rkd.nl/artists/56870\n",
      "\n",
      "Morin, Eulalie\n",
      "https://data.rkd.nl/artists/57764\n",
      "\n",
      "Moser, Anna Maria\n",
      "https://data.rkd.nl/artists/476500\n",
      "\n",
      "Moser, Mary\n",
      "https://data.rkd.nl/artists/57941\n",
      "\n",
      "Muelen, Sophia Constantia van der\n",
      "https://data.rkd.nl/artists/372932\n",
      "\n",
      "Muijsken, Clara Elisabeth\n",
      "https://data.rkd.nl/artists/420661\n",
      "\n",
      "Munnikhuijsen, Gesina\n",
      "https://data.rkd.nl/artists/420655\n",
      "\n",
      "Neergaard, Hermania Sigvardine\n",
      "https://data.rkd.nl/artists/275543\n",
      "\n",
      "Neufville, Margaretha Jacoba de\n",
      "https://data.rkd.nl/artists/357429\n",
      "\n",
      "Nijmegen, Barbara van\n",
      "https://data.rkd.nl/artists/227280\n",
      "\n",
      "Ommeganck, Anna-Maria-Petronilla\n",
      "https://data.rkd.nl/artists/455032\n",
      "\n",
      "Oosterdijk, Johanna Alethea\n",
      "https://data.rkd.nl/artists/227281\n",
      "\n",
      "Os, Maria Margaretha van\n",
      "https://data.rkd.nl/artists/61025\n",
      "\n",
      "Oudermeulen, Henriëtta van der\n",
      "https://data.rkd.nl/artists/373236\n",
      "\n",
      "Oudry, Marie Marguerite\n",
      "https://data.rkd.nl/artists/491003\n",
      "\n",
      "Outheusden, Johanna Maria van\n",
      "https://data.rkd.nl/artists/362752\n",
      "\n",
      "Pabst van Bingerden, Geertruijd Sara Agatha van\n",
      "https://data.rkd.nl/artists/362133\n",
      "\n",
      "Paine, Susannah\n",
      "https://data.rkd.nl/artists/96181\n",
      "\n",
      "Pallandt, Aemilia van\n",
      "https://data.rkd.nl/artists/360841\n",
      "\n",
      "Panhuys, Louise von\n",
      "https://data.rkd.nl/artists/462426\n",
      "\n",
      "Pasch, Ulrika\n",
      "https://data.rkd.nl/artists/61967\n",
      "\n",
      "Peale, Anna Claypole\n",
      "https://data.rkd.nl/artists/62235\n",
      "\n",
      "Peale, Margaretta Angelica\n",
      "https://data.rkd.nl/artists/62240\n",
      "\n",
      "Pineau, Dominique\n",
      "https://data.rkd.nl/artists/255918\n",
      "\n",
      "Plagemann, Augusta\n",
      "https://data.rkd.nl/artists/465966\n",
      "\n",
      "Pompadour, Jeanne Antoinette d'Etioles\n",
      "https://data.rkd.nl/artists/64174\n",
      "\n",
      "Prestel, Ursula Magdalena\n",
      "https://data.rkd.nl/artists/64755\n",
      "\n",
      "Puggaard, Bolette Catharine Frederikke\n",
      "https://data.rkd.nl/artists/466182\n",
      "\n",
      "Read, Catherine\n",
      "https://data.rkd.nl/artists/65815\n",
      "\n",
      "Renaud, Natalie-Elma\n",
      "https://data.rkd.nl/artists/423089\n",
      "\n",
      "Reynolds, Frances\n",
      "https://data.rkd.nl/artists/66477\n",
      "\n",
      "Reysschoot, Anna Maria van\n",
      "https://data.rkd.nl/artists/241338\n",
      "\n",
      "Rhemen, Charlotta Jacoba van\n",
      "https://data.rkd.nl/artists/373452\n",
      "\n",
      "Richter, Therese\n",
      "https://data.rkd.nl/artists/434079\n",
      "\n",
      "Ridderbosch, Françoise Jeanne\n",
      "https://data.rkd.nl/artists/66750\n",
      "\n",
      "Rifer de Courcelles, Pauline\n",
      "https://data.rkd.nl/artists/18746\n",
      "\n",
      "Romany, Adèle\n",
      "https://data.rkd.nl/artists/67867\n",
      "\n",
      "Roslin, Marie Suzanne\n",
      "https://data.rkd.nl/artists/68307\n",
      "\n",
      "Rossum, Maria Catharina van\n",
      "https://data.rkd.nl/artists/323578\n",
      "\n",
      "Rouillard, Francoise Julie Aldovrandine\n",
      "https://data.rkd.nl/artists/68529\n",
      "\n",
      "Rovere van Breugel, Anna Maria de\n",
      "https://data.rkd.nl/artists/363136\n",
      "\n",
      "Royen, Jacoba Elizabeth van\n",
      "https://data.rkd.nl/artists/432402\n",
      "\n",
      "Royen, Johanna Aletta van\n",
      "https://data.rkd.nl/artists/373624\n",
      "\n",
      "Rude, Sophie\n",
      "https://data.rkd.nl/artists/68762\n",
      "\n",
      "Rutgers van Rozenburg, Justine Jeannette Gertrude (jonkvrouw)\n",
      "https://data.rkd.nl/artists/458571\n",
      "\n",
      "Récamier, Juliette\n",
      "https://data.rkd.nl/artists/419694\n",
      "\n",
      "Sarazine de Belmont, Louise Joséphine\n",
      "https://data.rkd.nl/artists/6309\n",
      "\n",
      "Scheffer-Lamme, Cornelia\n",
      "https://data.rkd.nl/artists/70250\n",
      "\n",
      "Schilperoort, Anna Barbara\n",
      "https://data.rkd.nl/artists/373785\n",
      "\n",
      "Schmerfeld, Johanna Elisabeth von\n",
      "https://data.rkd.nl/artists/485750\n",
      "\n",
      "Schmetterling, Christina Josepha\n",
      "https://data.rkd.nl/artists/110404\n",
      "\n",
      "Schmetterling, Joanna Charlotte\n",
      "https://data.rkd.nl/artists/373788\n",
      "\n",
      "Schweickhardt, Katharina Wilhelmina\n",
      "https://data.rkd.nl/artists/71524\n",
      "\n",
      "Seidler, Louise Caroline Sophie\n",
      "https://data.rkd.nl/artists/71832\n",
      "\n",
      "Seng, Regina Catharina\n",
      "https://data.rkd.nl/artists/479906\n",
      "\n",
      "Serres, Olivia Wilmot\n",
      "https://data.rkd.nl/artists/72047\n",
      "\n",
      "Sharples, Ellen\n",
      "https://data.rkd.nl/artists/72216\n",
      "\n",
      "Sibinga, Hillegonda Adriana\n",
      "https://data.rkd.nl/artists/114405\n",
      "\n",
      "Simanowitz, Ludovika\n",
      "https://data.rkd.nl/artists/72617\n",
      "\n",
      "Siries, Violante Beatrice\n",
      "https://data.rkd.nl/artists/72854\n",
      "\n",
      "Sirtema van Grovestins, Catharina M.\n",
      "https://data.rkd.nl/artists/427464\n",
      "\n",
      "Snabilie, Maria Geertruida\n",
      "https://data.rkd.nl/artists/73628\n",
      "\n",
      "Snellen, Margaretha Cornelia\n",
      "https://data.rkd.nl/artists/460711\n",
      "\n",
      "Sollewijn, Hendrina Alida\n",
      "https://data.rkd.nl/artists/73829\n",
      "\n",
      "Solms-Laubach, Christiane Louise von\n",
      "https://data.rkd.nl/artists/485743\n",
      "\n",
      "Spilsbury, Maria\n",
      "https://data.rkd.nl/artists/74347\n",
      "\n",
      "Staats Boonen-Borski, Anna Catharina Jacoba\n",
      "https://data.rkd.nl/artists/498349\n",
      "\n",
      "Stam, Rachel van de\n",
      "https://data.rkd.nl/artists/374481\n",
      "\n",
      "Starkenburg, Maria Petronella van\n",
      "https://data.rkd.nl/artists/374489\n",
      "\n",
      "Stinstra, Baudine\n",
      "https://data.rkd.nl/artists/227329\n",
      "\n",
      "Stipriaan Luïscius, Hermina Agatha Theodora van\n",
      "https://data.rkd.nl/artists/75297\n",
      "\n",
      "Stock, Dorothea\n",
      "https://data.rkd.nl/artists/75316\n",
      "\n",
      "Sypesteyn, Maria Machteld van\n",
      "https://data.rkd.nl/artists/76314\n",
      "\n",
      "Tarnowska, Waleria\n",
      "https://data.rkd.nl/artists/460859\n",
      "\n",
      "Tassaert, Henriette Félicité\n",
      "https://data.rkd.nl/artists/76552\n",
      "\n",
      "Teixeira d'Andrade, Rachel\n",
      "https://data.rkd.nl/artists/128967\n",
      "\n",
      "Tengnagell, Anna Elisabeth Louisa van\n",
      "https://data.rkd.nl/artists/373703\n",
      "\n",
      "Therbusch, Anna Dorothea\n",
      "https://data.rkd.nl/artists/50361\n",
      "\n",
      "Thienpont, Anna-Francisca\n",
      "https://data.rkd.nl/artists/492826\n",
      "\n",
      "Thürheim, Ludovica Francesca Maria von (Gräfin)\n",
      "https://data.rkd.nl/artists/336027\n",
      "\n",
      "Tischbein, Caroline\n",
      "https://data.rkd.nl/artists/485731\n",
      "\n",
      "Tischbein, Elisabeth\n",
      "https://data.rkd.nl/artists/485734\n",
      "\n",
      "Tischbein, Magdalena Margaretha\n",
      "https://data.rkd.nl/artists/485737\n",
      "\n",
      "Tollius, Bartha Hermina\n",
      "https://data.rkd.nl/artists/373747\n",
      "\n",
      "Toulon, Martina Adriana Maria van\n",
      "https://data.rkd.nl/artists/77999\n",
      "\n",
      "Treu, Catharina\n",
      "https://data.rkd.nl/artists/78164\n",
      "\n",
      "Tridon, Caroline\n",
      "https://data.rkd.nl/artists/78196\n",
      "\n",
      "Tuyll van Serooskerken van Zuylen, Isabella van\n",
      "https://data.rkd.nl/artists/96238\n",
      "\n",
      "Ugglas, Sofia Theresia af\n",
      "https://data.rkd.nl/artists/78677\n",
      "\n",
      "Umbgrove, Elisabeth Louisa Maria Lucretia\n",
      "https://data.rkd.nl/artists/374593\n",
      "\n",
      "Urlaub, Henriette\n",
      "https://data.rkd.nl/artists/435192\n",
      "\n",
      "Vallayer-Coster, Anne\n",
      "https://data.rkd.nl/artists/79081\n",
      "\n",
      "Van Assche, Isabelle Cathérine\n",
      "https://data.rkd.nl/artists/79145\n",
      "\n",
      "Ver Huell-de Vaynes van Brakell, Louise\n",
      "https://data.rkd.nl/artists/331919\n",
      "\n",
      "Vien, Marie Thérèse\n",
      "https://data.rkd.nl/artists/80927\n",
      "\n",
      "Vigée-Le Brun, Elisabeth\n",
      "https://data.rkd.nl/artists/80953\n",
      "\n",
      "Vincent, Henriette Antoinette\n",
      "https://data.rkd.nl/artists/81101\n",
      "\n",
      "Vincentius, Catharina\n",
      "https://data.rkd.nl/artists/369090\n",
      "\n",
      "Vinkeles, Cecilia\n",
      "https://data.rkd.nl/artists/374983\n",
      "\n",
      "Wagner, Maria Dorothea\n",
      "https://data.rkd.nl/artists/82459\n",
      "\n",
      "Wassenaer Obdam, Marie Cornélie van\n",
      "https://data.rkd.nl/artists/374603\n",
      "\n",
      "Wattier, Johanna Cornelia\n",
      "https://data.rkd.nl/artists/420703\n",
      "\n",
      "Wauthier, Alexandrine Otteline Victorine\n",
      "https://data.rkd.nl/artists/375027\n",
      "\n",
      "Wijck, Carolina Cornelia van der\n",
      "https://data.rkd.nl/artists/375251\n",
      "\n",
      "Wilhelmina van Pruisen (prinses van Oranje-Nassau)\n",
      "https://data.rkd.nl/artists/332022\n",
      "\n",
      "Winter, Lucretia Johanna van\n",
      "https://data.rkd.nl/artists/435438\n",
      "\n",
      "Wiselius, Clara Eugenia\n",
      "https://data.rkd.nl/artists/375233\n",
      "\n",
      "Wiselius, Cornelia Rebecca\n",
      "https://data.rkd.nl/artists/375234\n",
      "\n",
      "Woensel, Petronella van\n",
      "https://data.rkd.nl/artists/85275\n",
      "\n",
      "Wolf, Louise (1798-1859)\n",
      "https://data.rkd.nl/artists/85357\n",
      "\n",
      "Ziesenis, Elisabeth\n",
      "https://data.rkd.nl/artists/331346\n",
      "\n",
      "Zimmermann, Catharina\n",
      "https://data.rkd.nl/artists/86433\n",
      "\n",
      "Zweerisz, Anna Catharina\n",
      "https://data.rkd.nl/artists/375284\n",
      "\n"
     ]
    }
   ],
   "source": [
    "max = 20\n",
    "\n",
    "female.reset_index(drop=True)\n",
    "\n",
    "for index,row in female.iterrows():\n",
    "    print(row['name.value'])\n",
    "    print(row['id.value'] , end='\\n\\n')\n",
    "    if index == max:\n",
    "        break"
   ]
  },
  {
   "cell_type": "markdown",
   "metadata": {},
   "source": [
    "We can see that, during the 18th century, the number of female artists increases quite quickly. "
   ]
  },
  {
   "cell_type": "code",
   "execution_count": 14,
   "metadata": {},
   "outputs": [
    {
     "name": "stderr",
     "output_type": "stream",
     "text": [
      "/Library/Frameworks/Python.framework/Versions/3.7/lib/python3.7/site-packages/pandas/core/frame.py:3607: SettingWithCopyWarning: \n",
      "A value is trying to be set on a copy of a slice from a DataFrame.\n",
      "Try using .loc[row_indexer,col_indexer] = value instead\n",
      "\n",
      "See the caveats in the documentation: https://pandas.pydata.org/pandas-docs/stable/user_guide/indexing.html#returning-a-view-versus-a-copy\n",
      "  self._set_item(key, value)\n"
     ]
    },
    {
     "data": {
      "image/png": "[encoded data removed]",
      "text/plain": [
       "<Figure size 720x360 with 1 Axes>"
      ]
     },
     "metadata": {},
     "output_type": "display_data"
    }
   ],
   "source": [
    "## add column 'decade'\n",
    "female['year'] = pd.DatetimeIndex(female['date_birth.value']).year\n",
    "female['decade'] = female['year'] / 10\n",
    "female['decade'] = np.floor(female['decade']).astype(int) * 10\n",
    "\n",
    "\n",
    "counts = female.groupby('decade').size()\n",
    "counts = counts.to_frame()\n",
    "\n",
    "%matplotlib inline\n",
    "\n",
    "import matplotlib.pyplot as plt\n",
    "\n",
    "plt.style.use('ggplot')\n",
    "\n",
    "fig = plt.figure( figsize = ( 10, 5))\n",
    "ax = plt.axes()\n",
    "\n",
    "ax.plot( counts.index , counts.values , color = '#930d08' , linestyle = 'dashdot')\n",
    "\n",
    "ax.set_xlabel('Years', size = 16)\n",
    "ax.set_ylabel('Number of female artists', size = 16 )\n",
    "\n",
    "\n",
    "ax.set_title( 'RKD artists', size = 18)\n",
    "plt.xticks(counts.index)\n",
    "\n",
    "plt.show()"
   ]
  },
  {
   "cell_type": "code",
   "execution_count": 15,
   "metadata": {},
   "outputs": [],
   "source": [
    "query = \"\"\"\n",
    "PREFIX rdf: <http://www.w3.org/1999/02/22-rdf-syntax-ns#>\n",
    "PREFIX rdfs: <http://www.w3.org/2000/01/rdf-schema#>\n",
    "PREFIX rkdo: <http://data.rkd.nl/def#>\n",
    "PREFIX schema: <http://schema.org/>\n",
    "PREFIX xsd: <http://www.w3.org/2001/XMLSchema#>\n",
    "\n",
    "SELECT ?id ?name ?gender ?date_birth ?date_death\n",
    "\n",
    "WHERE {\n",
    "?id a schema:Person .\n",
    "?id schema:name ?name .\n",
    "?id schema:gender schema:Female .\n",
    "?id rkdo:Birth ?birth .\n",
    "OPTIONAL {\n",
    "    ?birth schema:startDate ?date_birth . } .\n",
    "?id rkdo:Death ?death .\n",
    "OPTIONAL {\n",
    "    ?death schema:startDate ?date_death . } .\n",
    "    \n",
    "FILTER ( ?date_birth >= \"1800-01-01\"^^xsd:date && ?date_birth < \"1900-01-01\"^^xsd:date)\n",
    "\n",
    "}\n",
    "ORDER BY ?name\n",
    "\"\"\"\n",
    "\n",
    "df = run_query(query)"
   ]
  },
  {
   "cell_type": "markdown",
   "metadata": {},
   "source": [
    "The increase continues during the 19th century. "
   ]
  },
  {
   "cell_type": "code",
   "execution_count": 16,
   "metadata": {},
   "outputs": [
    {
     "data": {
      "image/png": "[encoded data removed]",
      "text/plain": [
       "<Figure size 720x360 with 1 Axes>"
      ]
     },
     "metadata": {},
     "output_type": "display_data"
    }
   ],
   "source": [
    "## add column 'decade'\n",
    "df['year'] = pd.DatetimeIndex(df['date_birth.value']).year\n",
    "df['decade'] = df['year'] / 10\n",
    "df['decade'] = np.floor(df['decade']).astype(int) * 10\n",
    "counts = df.groupby('decade').size()\n",
    "counts = counts.to_frame()\n",
    "\n",
    "%matplotlib inline\n",
    "\n",
    "import matplotlib.pyplot as plt\n",
    "\n",
    "plt.style.use('ggplot')\n",
    "\n",
    "fig = plt.figure( figsize = ( 10, 5))\n",
    "ax = plt.axes()\n",
    "\n",
    "ax.plot( counts.index , counts.values , color = '#930d08' , linestyle = 'dashdot')\n",
    "\n",
    "ax.set_xlabel('Years', size = 16)\n",
    "ax.set_ylabel('Number of female artists', size = 16 )\n",
    "\n",
    "\n",
    "ax.set_title( 'RKD artists', size = 18)\n",
    "plt.xticks(counts.index)\n",
    "\n",
    "plt.show()"
   ]
  }
 ],
 "metadata": {
  "kernelspec": {
   "display_name": "Python 3 (ipykernel)",
   "language": "python",
   "name": "python3"
  },
  "language_info": {
   "codemirror_mode": {
    "name": "ipython",
    "version": 3
   },
   "file_extension": ".py",
   "mimetype": "text/x-python",
   "name": "python",
   "nbconvert_exporter": "python",
   "pygments_lexer": "ipython3",
   "version": "3.7.9"
  }
 },
 "nbformat": 4,
 "nbformat_minor": 4
}
