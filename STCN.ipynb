{
 "cells": [
  {
   "cell_type": "markdown",
   "id": "4d66e8cc",
   "metadata": {},
   "source": [
    "# Bookhistorical research using the STCN"
   ]
  },
  {
   "cell_type": "code",
   "execution_count": null,
   "id": "e977d095",
   "metadata": {},
   "outputs": [],
   "source": [
    "\n",
    "from SPARQLWrapper import SPARQLWrapper, JSON\n",
    "from IPython.core.display import display, HTML\n",
    "import pandas as pd\n",
    "import re\n",
    "import ssl\n",
    "\n",
    "try:\n",
    "    _create_unverified_https_context = ssl._create_unverified_context\n",
    "except AttributeError:\n",
    "    pass\n",
    "else:\n",
    "    ssl._create_default_https_context = _create_unverified_https_context\n"
   ]
  },
  {
   "cell_type": "code",
   "execution_count": null,
   "id": "11e43e26",
   "metadata": {},
   "outputs": [],
   "source": []
  },
  {
   "cell_type": "code",
   "execution_count": null,
   "id": "4b6a3f7d",
   "metadata": {},
   "outputs": [],
   "source": [
    "endpoint = 'http://data.bibliotheken.nl/sparql'\n",
    "sparql = SPARQLWrapper(endpoint)\n",
    "\n",
    "def run_query(sparql_query):\n",
    "    sparql.setQuery(sparql_query)\n",
    "    sparql.setReturnFormat(JSON)\n",
    "    data = sparql.query().convert()\n",
    "    df = pd.json_normalize(data['results']['bindings'])  \n",
    "    return df\n",
    "    \n",
    "def show_results(df):\n",
    "    for i,row in df.iterrows():\n",
    "        for column in df.columns:\n",
    "            if re.search('value$' , column):\n",
    "                print( f'{column} => {row[column]}' )\n",
    "        print('-------')\n",
    "    return df"
   ]
  },
  {
   "cell_type": "markdown",
   "id": "89290039",
   "metadata": {},
   "source": [
    "## Find all available data about an individual work"
   ]
  },
  {
   "cell_type": "markdown",
   "id": "cc7a49b1",
   "metadata": {},
   "source": [
    "The book entitled \"De medicyn-winckel, of ervaren huys-houder: zijnde het III. deel van het vermakelyck landt-leven\" written by Petrus Nylandt and printed by Marcus Willemsz Doornick has ID \"http://data.bibliotheken.nl/id/nbt/p192741446\". We can retrieve data about this specific title using the following query. "
   ]
  },
  {
   "cell_type": "code",
   "execution_count": null,
   "id": "042ab457",
   "metadata": {
    "scrolled": true
   },
   "outputs": [],
   "source": [
    "query = \"\"\"\n",
    "\n",
    "PREFIX xsd: <http://www.w3.org/2001/XMLSchema#>\n",
    "PREFIX schema: <http://schema.org/>\n",
    "PREFIX rdf: <http://www.w3.org/1999/02/22-rdf-syntax-ns#>\n",
    "PREFIX rdfs: <http://www.w3.org/2000/01/rdf-schema#>\n",
    "\n",
    "SELECT ?o ?p WHERE {\n",
    "\n",
    "\n",
    "  \n",
    "<http://data.bibliotheken.nl/id/nbt/p192741446> ?o ?p .\n",
    "\n",
    "}\n",
    "\n",
    "\"\"\"\n",
    "\n",
    "df = run_query(query)\n",
    "show_results(df)"
   ]
  },
  {
   "cell_type": "markdown",
   "id": "c00b22db",
   "metadata": {},
   "source": [
    "The result of this query shows information about the following aspects:\n",
    "\n",
    "* http://www.w3.org/1999/02/22-rdf-syntax-ns#type\n",
    "* http://schema.org/author\n",
    "* http://schema.org/alternateName\n",
    "* http://schema.org/description\n",
    "* http://schema.org/about\n",
    "* http://schema.org/inLanguage\n",
    "* http://schema.org/name\n",
    "* http://schema.org/publication\n",
    "* http://data.bibliotheken.nl/def#statementOfResponsibilityPart\n",
    "* http://data.bibliotheken.nl/def#bibliographicFormat\n",
    "* http://data.bibliotheken.nl/def#stcnFingerprint\n",
    "* http://data.bibliotheken.nl/def#typographicalCharacteristics\n",
    "* http://schema.org/mainEntityOfPage\n",
    "* http://data.bibliotheken.nl/def#stcnCollationalFormula\n"
   ]
  },
  {
   "cell_type": "markdown",
   "id": "55ed3df1",
   "metadata": {},
   "source": [
    "How can we find the IDs of books that have been decsribed in the SCTN? The queries below help us to find the necessary information. \n",
    "\n",
    "To get a sense of the number of titles we are dealing with, we work with a query which counts all of the titles which are part of the STCN dataset. "
   ]
  },
  {
   "cell_type": "code",
   "execution_count": null,
   "id": "aab2a555",
   "metadata": {},
   "outputs": [],
   "source": [
    "query = \"\"\"\n",
    "\n",
    "PREFIX xsd: <http://www.w3.org/2001/XMLSchema#>\n",
    "PREFIX schema: <http://schema.org/>\n",
    "PREFIX rdf: <http://www.w3.org/1999/02/22-rdf-syntax-ns#>\n",
    "PREFIX rdfs: <http://www.w3.org/2000/01/rdf-schema#>\n",
    "\n",
    "SELECT COUNT(?title) WHERE { \n",
    "?title schema:mainEntityOfPage ?mainEntity .\n",
    "?mainEntity schema:isPartOf <http://data.bibliotheken.nl/id/dataset/stcn>  . \n",
    "\n",
    "}\n",
    "\n",
    "\"\"\"\n",
    "\n",
    "df = run_query(query)\n",
    "print( f'The STCN dataset contains {df.iloc[0][\"callret-0.value\"]} records')\n",
    "\n"
   ]
  },
  {
   "cell_type": "markdown",
   "id": "ee750a83",
   "metadata": {},
   "source": [
    "Printing the full list of records would obviously demand an enormous amount of space. The query below only lists the first 50 titles. "
   ]
  },
  {
   "cell_type": "code",
   "execution_count": null,
   "id": "000ea727",
   "metadata": {},
   "outputs": [],
   "source": [
    "query = \"\"\"\n",
    "\n",
    "PREFIX xsd: <http://www.w3.org/2001/XMLSchema#>\n",
    "PREFIX schema: <http://schema.org/>\n",
    "PREFIX rdf: <http://www.w3.org/1999/02/22-rdf-syntax-ns#>\n",
    "PREFIX rdfs: <http://www.w3.org/2000/01/rdf-schema#>\n",
    "\n",
    "SELECT ?title WHERE { \n",
    "?title schema:mainEntityOfPage ?mainEntity .\n",
    "?mainEntity schema:isPartOf <http://data.bibliotheken.nl/id/dataset/stcn>  . \n",
    "}\n",
    "LIMIT 50 \n",
    "\n",
    "\"\"\"\n",
    "\n",
    "show_results( run_query(query) )\n"
   ]
  },
  {
   "cell_type": "markdown",
   "id": "8f6dcc92",
   "metadata": {},
   "source": [
    "We can also zoom in on titles produced by a specific printer. \n",
    "\n",
    "The query below requests information about the books printed by Bonaventura Elzevier, whose ID is\n",
    "http://data.bibliotheken.nl/doc/thes/p075545349\n",
    "\n",
    "More specifically, the query requests the title, author, format, year of publication and the subject headings. "
   ]
  },
  {
   "cell_type": "code",
   "execution_count": null,
   "id": "dbb90757",
   "metadata": {},
   "outputs": [],
   "source": [
    "query = \"\"\"\n",
    "\n",
    "PREFIX xsd: <http://www.w3.org/2001/XMLSchema#>\n",
    "PREFIX schema: <http://schema.org/>\n",
    "PREFIX kb: <http://data.bibliotheken.nl/def#>\n",
    "PREFIX rdf: <http://www.w3.org/1999/02/22-rdf-syntax-ns#>\n",
    "PREFIX rdfs: <http://www.w3.org/2000/01/rdf-schema#>\n",
    "\n",
    "SELECT ?resource ?title ?author_name ?format ?publ_year ?language ?subject_label ?collection WHERE {\n",
    "  \n",
    "?resource schema:publication ?publ .\n",
    "?publ schema:publishedBy <http://data.bibliotheken.nl/id/thes/p075545349> .\n",
    "?resource kb:bibliographicFormat ?format .\n",
    "OPTIONAL {\n",
    "?resource schema:name ?title . }\n",
    "OPTIONAL {\n",
    "?resource schema:author ?author . \n",
    "?author schema:name ?author_name . }\n",
    "OPTIONAL {\n",
    "?publ schema:startDate ?publ_year . }\n",
    "OPTIONAL {\n",
    "?publ schema:startDate ?publ_year . }\n",
    "OPTIONAL { \n",
    "?resource schema:about ?subject .\n",
    "?subject skos:prefLabel ?subject_label .\n",
    "} \n",
    "OPTIONAL { \n",
    "?resource schema:inLanguage ?language .\n",
    "} \n",
    "OPTIONAL {\n",
    "?resource schema:mainEntityOfPage ?part_of . \n",
    "?part_of schema:isPartOf <http://data.bibliotheken.nl/id/dataset/stcn> .\n",
    "}\n",
    "\n",
    "\n",
    "}\n",
    "\"\"\"\n",
    "df = run_query(query)\n",
    "ids = list(df[\"resource.value\"].unique())\n",
    "\n",
    "print( f'The STCN contain {len(ids)} titles printed by Bonaventura Elzevier.')\n"
   ]
  },
  {
   "cell_type": "code",
   "execution_count": null,
   "id": "9ad11c90",
   "metadata": {},
   "outputs": [],
   "source": [
    "df_unique = df.drop_duplicates(subset='resource.value', keep=\"last\")\n",
    "\n",
    "nr = 10\n",
    "print(f'These are the first {nr} titles:\\n')\n",
    "\n",
    "for i,row in df_unique.head(nr).iterrows():\n",
    "    print( row['title.value'])\n",
    "    if not( pd.isna(row['author_name.value'])):\n",
    "        print(row['author_name.value'])\n",
    "    print( row['publ_year.value'])\n",
    "    print( row['resource.value'] , end='\\n\\n')"
   ]
  },
  {
   "cell_type": "markdown",
   "id": "e9aefad3",
   "metadata": {},
   "source": [
    "## Annual productivity"
   ]
  },
  {
   "cell_type": "code",
   "execution_count": null,
   "id": "6191f722",
   "metadata": {},
   "outputs": [],
   "source": [
    "from collections import Counter\n",
    "\n",
    "#nr_books = years['publ_year.value']\n",
    "nr_books = Counter(df_unique['publ_year.value'])"
   ]
  },
  {
   "cell_type": "code",
   "execution_count": null,
   "id": "6cf731e0",
   "metadata": {},
   "outputs": [],
   "source": [
    "import matplotlib.pyplot as plt\n",
    "import seaborn as sns\n",
    "\n",
    "fig = plt.figure( figsize = ( 12, 6))\n",
    "ax = sns.lineplot( x= nr_books.keys() , y= nr_books.values() , \n",
    "                  color= '#AA6799', linestyle='solid',linewidth=2 )\n",
    "plt.xticks(rotation= 80)\n",
    "plt.show()"
   ]
  },
  {
   "cell_type": "markdown",
   "id": "0c16a434",
   "metadata": {},
   "source": [
    "## Formats"
   ]
  },
  {
   "cell_type": "code",
   "execution_count": null,
   "id": "ef96a4ad",
   "metadata": {},
   "outputs": [],
   "source": [
    "nr_books = df_unique.groupby('format.value')['resource.value'].count()"
   ]
  },
  {
   "cell_type": "code",
   "execution_count": null,
   "id": "12020cce",
   "metadata": {},
   "outputs": [],
   "source": [
    "print('The books were printed in the following formats:')\n",
    "for book_format,count in nr_books.iteritems():\n",
    "    word = 'book'\n",
    "    if count>1:\n",
    "        word += 's'\n",
    "    print( f'{book_format} ({count} {word})')\n"
   ]
  },
  {
   "cell_type": "code",
   "execution_count": null,
   "id": "21abf296",
   "metadata": {},
   "outputs": [],
   "source": [
    "nr_books = nr_books.sort_index()\n",
    "\n",
    "fig = plt.figure( figsize=( 10 , 5 ) )\n",
    "\n",
    "\n",
    "graph = sns.barplot( x= nr_books.index, y= nr_books.values,  dodge=False , color = '#202369' )\n",
    "\n",
    "graph.set_title('Formats' , size = 20) \n",
    "graph.set_xlabel('Formats' , size = 14) \n",
    "graph.set_ylabel('Number of books' , size = 14 )\n",
    "\n",
    "plt.show()"
   ]
  },
  {
   "cell_type": "markdown",
   "id": "c615da53",
   "metadata": {},
   "source": [
    "## Subjects"
   ]
  },
  {
   "cell_type": "code",
   "execution_count": null,
   "id": "0e8bd62e",
   "metadata": {},
   "outputs": [],
   "source": [
    "subjects = Counter(df['subject_label.value'])\n",
    "subjects = subjects.most_common()\n",
    "x_axis = []\n",
    "y_axis = []\n",
    "for s,count in subjects:\n",
    "    y_axis.append(s)\n",
    "    x_axis.append(count)"
   ]
  },
  {
   "cell_type": "code",
   "execution_count": null,
   "id": "5cc76d07",
   "metadata": {},
   "outputs": [],
   "source": [
    "nr_books = nr_books.sort_index()\n",
    "\n",
    "fig = plt.figure( figsize=( 7 , 20 ) )\n",
    "\n",
    "\n",
    "graph = sns.barplot( x= x_axis, y= y_axis,  dodge=False , color = '#e63c30' )\n",
    "\n",
    "graph.set_title('Subjects' , size = 20) \n",
    "graph.set_xlabel('Subject' , size = 14) \n",
    "graph.set_ylabel('Number of books' , size = 14 )\n",
    "\n",
    "plt.show()"
   ]
  },
  {
   "cell_type": "markdown",
   "id": "3e2df3a4",
   "metadata": {},
   "source": [
    "## Languages\n"
   ]
  },
  {
   "cell_type": "code",
   "execution_count": null,
   "id": "894356eb",
   "metadata": {},
   "outputs": [],
   "source": [
    "languages = Counter(df['language.value'])\n",
    "languages = languages.most_common()\n",
    "x_axis = []\n",
    "y_axis = []\n",
    "for s,count in languages:\n",
    "    y_axis.append(s)\n",
    "    x_axis.append(count)"
   ]
  },
  {
   "cell_type": "code",
   "execution_count": null,
   "id": "10e86fb4",
   "metadata": {},
   "outputs": [],
   "source": [
    "y_axis"
   ]
  },
  {
   "cell_type": "code",
   "execution_count": null,
   "id": "23938a8c",
   "metadata": {},
   "outputs": [],
   "source": [
    "nr_books = nr_books.sort_index()\n",
    "\n",
    "fig = plt.figure( figsize=( 7 , 0.75*len(y_axis) ) )\n",
    "\n",
    "\n",
    "graph = sns.barplot( x= x_axis, y= y_axis,  dodge=False , color = '#08a327' )\n",
    "\n",
    "graph.set_title('Languages' , size = 20) \n",
    "graph.set_xlabel('Language' , size = 14) \n",
    "graph.set_ylabel('Number of books' , size = 14 )\n",
    "\n",
    "plt.show()"
   ]
  },
  {
   "cell_type": "markdown",
   "id": "71ea30be",
   "metadata": {},
   "source": [
    "## Authors"
   ]
  },
  {
   "cell_type": "code",
   "execution_count": null,
   "id": "50abdc67",
   "metadata": {},
   "outputs": [],
   "source": [
    "df_authors = df.drop_duplicates(subset= ['resource.value','author_name.value'], keep=\"last\")\n",
    "freq = Counter()\n",
    "nodes = []\n",
    "edges = []\n",
    "for i,row in df_authors.iterrows():\n",
    "    if not(pd.isna(row['author_name.value'])):\n",
    "        title = row['title.value']\n",
    "        #title = row['title.value']\n",
    "        nodes.append( ( title , 'Book' ) )\n",
    "        nodes.append( ( row['author_name.value'] , 'Author' ) )\n",
    "        edges.append( ( title , row['author_name.value']) )\n",
    "        freq.update( [ row['author_name.value'] ] )\n",
    "\n",
    "nodes = set(nodes)\n",
    "edges = set(edges)"
   ]
  },
  {
   "cell_type": "code",
   "execution_count": null,
   "id": "49cd443c",
   "metadata": {},
   "outputs": [],
   "source": [
    "from pyvis.network import Network\n",
    "net = Network(notebook=True , height=\"750px\", width=\"100%\" , bgcolor=\"#dce5f2\" )\n",
    "\n",
    "net.force_atlas_2based(\n",
    "        gravity=-60,\n",
    "        central_gravity=0.01,\n",
    "        spring_length=100,\n",
    "        spring_strength=0.08,\n",
    "        damping=0.4,\n",
    "        overlap= 0 )\n",
    "             \n",
    "for node,label in nodes:\n",
    "    node_size = 15\n",
    "    if label == 'Book':\n",
    "        c ='#EE7733'\n",
    "    else:\n",
    "        c = '#007788'\n",
    "        node_size = 15 + freq[node]     \n",
    "    net.add_node( node , title=node , color= c , size = node_size )\n",
    "                \n",
    "\n",
    "for source,target in edges:\n",
    "    net.add_edge( source , target )\n",
    "                              \n",
    "\n",
    "\n",
    "net.show( f'network1.html')"
   ]
  },
  {
   "cell_type": "markdown",
   "id": "fd43d778",
   "metadata": {},
   "source": [
    "## Other printers in the STCN\n",
    "\n",
    "The analyses that were performed for Bonaventura Elzevier can be applied to all the printers who are described in the STCN. The IDs of these printers can be found using the query below."
   ]
  },
  {
   "cell_type": "code",
   "execution_count": null,
   "id": "28b43d10",
   "metadata": {
    "scrolled": true
   },
   "outputs": [],
   "source": [
    "#http://data.bibliotheken.nl/id/thes/p075545349\n",
    "query = \"\"\"\n",
    "\n",
    "PREFIX xsd: <http://www.w3.org/2001/XMLSchema#>\n",
    "PREFIX schema: <http://schema.org/>\n",
    "PREFIX kb: <http://data.bibliotheken.nl/def#>\n",
    "PREFIX rdf: <http://www.w3.org/1999/02/22-rdf-syntax-ns#>\n",
    "PREFIX rdfs: <http://www.w3.org/2000/01/rdf-schema#>\n",
    "\n",
    "SELECT DISTINCT ?publisher ?publisher_name WHERE {\n",
    "  \n",
    "?book schema:mainEntityOfPage ?part_of . \n",
    "?part_of schema:isPartOf <http://data.bibliotheken.nl/id/dataset/stcn> .\n",
    "\n",
    "\n",
    "?book schema:publication ?publ .\n",
    "?publ schema:publishedBy ?publisher .\n",
    "OPTIONAL {\n",
    "?publisher schema:name ?publisher_name .\n",
    "}\n",
    "\n",
    "}\n",
    "ORDER BY ?publisher_name\n",
    "\"\"\"\n",
    "\n",
    "\n",
    "    \n",
    "printers = df.drop_duplicates(subset='publisher.value', keep=\"last\")\n",
    "\n",
    "print( f'The STCN describes books produced by {printers.shape[0]} printers.' )\n",
    "\n",
    "nr = 20\n",
    "print(f'The list below contains the names and IDs of the first {nr} printers that were found.\\n')\n",
    "\n",
    "for i,p in printers.head(15).iterrows():\n",
    "    print( f\"{ p['publisher_name.value'] } ({p['publisher.value']}) \" )"
   ]
  },
  {
   "cell_type": "markdown",
   "id": "d7bedf23",
   "metadata": {},
   "source": [
    "## Prayer Books"
   ]
  },
  {
   "cell_type": "code",
   "execution_count": null,
   "id": "6700d22e",
   "metadata": {},
   "outputs": [],
   "source": [
    "query = \"\"\"\n",
    "\n",
    "PREFIX xsd: <http://www.w3.org/2001/XMLSchema#>\n",
    "PREFIX schema: <http://schema.org/>\n",
    "PREFIX kb: <http://data.bibliotheken.nl/def#>\n",
    "PREFIX rdf: <http://www.w3.org/1999/02/22-rdf-syntax-ns#>\n",
    "PREFIX rdfs: <http://www.w3.org/2000/01/rdf-schema#>\n",
    "\n",
    "SELECT ?book ?title ?publ_year WHERE {  \n",
    "?book schema:genre <http://data.bibliotheken.nl/id/thes/p155444875> .\n",
    "?book schema:name ?title . \n",
    "\n",
    "OPTIONAL {\n",
    "?book schema:publication ?publ .\n",
    "?publ schema:startDate ?publ_year . }\n",
    "\n",
    "}\n",
    "\"\"\"\n",
    "book_of_hours = run_query(query)"
   ]
  },
  {
   "cell_type": "code",
   "execution_count": null,
   "id": "5423ddcc",
   "metadata": {},
   "outputs": [],
   "source": [
    "from collections import Counter\n",
    "\n",
    "df_unique = book_of_hours.drop_duplicates(subset='book.value', keep=\"last\")\n",
    "print(f'There are {df_unique.shape[-0]} books of hours in the KB.')\n",
    "\n",
    "#df_unique = df_unique[ df_unique['publ_year.value'].astype(int,errors = 'ignore') >= 1500 ]\n",
    "#df_unique = df_unique[ df_unique['publ_year.value'].astype(int,errors = 'ignore') < 1600 ]\n",
    "\n",
    "\n",
    "df_unique = df_unique[pd.to_numeric(df_unique['publ_year.value'], errors='coerce').notnull()]\n",
    "\n",
    "freq = Counter(df_unique['publ_year.value'])\n",
    "\n",
    "x_axis = list(freq.keys())\n",
    "y_axis = list(freq.values())\n"
   ]
  },
  {
   "cell_type": "code",
   "execution_count": null,
   "id": "147289ec",
   "metadata": {},
   "outputs": [],
   "source": [
    "for i,row in df_unique.iterrows():\n",
    "    print( f\"{row['book.value']}\\n{row['title.value']} ({row['publ_year.value']})\" )\n"
   ]
  },
  {
   "cell_type": "markdown",
   "id": "001d4912",
   "metadata": {},
   "source": [
    "For more information, see\n",
    "* https://ecritures.medium.com/data-bibliotheken-nl-bevragen-via-de-wikidata-query-service-wdqs-e593a6a36d8c\n",
    "* https://ecritures.medium.com/topstukken-in-de-koninklijke-bibliotheek-b32780f314f8"
   ]
  },
  {
   "cell_type": "code",
   "execution_count": null,
   "id": "ec732ea1",
   "metadata": {},
   "outputs": [],
   "source": []
  }
 ],
 "metadata": {
  "kernelspec": {
   "display_name": "Python 3 (ipykernel)",
   "language": "python",
   "name": "python3"
  },
  "language_info": {
   "codemirror_mode": {
    "name": "ipython",
    "version": 3
   },
   "file_extension": ".py",
   "mimetype": "text/x-python",
   "name": "python",
   "nbconvert_exporter": "python",
   "pygments_lexer": "ipython3",
   "version": "3.7.9"
  }
 },
 "nbformat": 4,
 "nbformat_minor": 5
}
